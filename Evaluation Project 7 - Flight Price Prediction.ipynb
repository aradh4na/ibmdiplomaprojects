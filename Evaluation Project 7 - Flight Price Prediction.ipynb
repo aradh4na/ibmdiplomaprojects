{
 "cells": [
  {
   "cell_type": "markdown",
   "id": "4cb6dd28",
   "metadata": {},
   "source": [
    "# Flight Price Prediction"
   ]
  },
  {
   "cell_type": "markdown",
   "id": "1759e72c",
   "metadata": {},
   "source": [
    "### Problem Statement"
   ]
  },
  {
   "cell_type": "markdown",
   "id": "5ef67f03",
   "metadata": {},
   "source": [
    "Flight ticket prices can be something hard to guess, today we might see a price, check out the price of the same flight tomorrow, it will be a different story. We might have often heard travellers saying that flight ticket prices are so unpredictable. Here you will be provided with prices of flight tickets for various airlines between the months of March and June of 2019 and between various cities.\n",
    "\n",
    "Size of training set: 10683 records\n",
    "\n",
    "Size of test set: 2671 records\n",
    "\n",
    "FEATURES:\n",
    "Airline: The name of the airline.\n",
    "\n",
    "Date_of_Journey: The date of the journey\n",
    "\n",
    "Source: The source from which the service begins.\n",
    "\n",
    "Destination: The destination where the service ends.\n",
    "\n",
    "Route: The route taken by the flight to reach the destination.\n",
    "\n",
    "Dep_Time: The time when the journey starts from the source.\n",
    "\n",
    "Arrival_Time: Time of arrival at the destination.\n",
    "\n",
    "Duration: Total duration of the flight.\n",
    "\n",
    "Total_Stops: Total stops between the source and destination.\n",
    "\n",
    "Additional_Info: Additional information about the flight\n",
    "\n",
    "Price: The price of the ticket"
   ]
  },
  {
   "cell_type": "markdown",
   "id": "c391a09e",
   "metadata": {},
   "source": [
    "### Importing libraries"
   ]
  },
  {
   "cell_type": "code",
   "execution_count": 1,
   "id": "108dc78e",
   "metadata": {},
   "outputs": [],
   "source": [
    "import pandas as pd\n",
    "import numpy as np\n",
    "import matplotlib.pyplot as plt\n",
    "import seaborn as sns\n",
    "\n",
    "from sklearn.model_selection import train_test_split\n",
    "from sklearn.preprocessing import StandardScaler\n",
    "from sklearn.preprocessing import OrdinalEncoder\n",
    "from sklearn.preprocessing import LabelEncoder\n",
    "from sklearn.impute import SimpleImputer\n",
    "import statsmodels.api as sma\n",
    "from scipy.stats import zscore\n",
    "from sklearn.decomposition import PCA\n",
    "from statsmodels.stats.outliers_influence import variance_inflation_factor\n",
    "\n",
    "from sklearn.linear_model import LinearRegression\n",
    "from sklearn.linear_model import Ridge\n",
    "from sklearn.linear_model import Lasso\n",
    "from sklearn.linear_model import ElasticNet\n",
    "from sklearn.svm import SVR\n",
    "from sklearn.neighbors import KNeighborsRegressor\n",
    "from sklearn.tree import DecisionTreeRegressor\n",
    "from sklearn.ensemble import RandomForestRegressor\n",
    "\n",
    "from sklearn.model_selection import GridSearchCV\n",
    "from sklearn.metrics import mean_squared_error\n",
    "from sklearn.metrics import mean_absolute_error\n",
    "from sklearn.metrics import mean_absolute_error\n",
    "from sklearn.metrics import r2_score\n",
    "from sklearn.model_selection import cross_val_score\n",
    "\n",
    "import warnings\n",
    "warnings.filterwarnings('ignore')"
   ]
  },
  {
   "cell_type": "markdown",
   "id": "5bb4a663",
   "metadata": {},
   "source": [
    "### Importing data-set"
   ]
  },
  {
   "cell_type": "code",
   "execution_count": 2,
   "id": "81b8b6f4",
   "metadata": {},
   "outputs": [],
   "source": [
    "df = pd.read_excel('Data_Train.xlsx')"
   ]
  },
  {
   "cell_type": "code",
   "execution_count": 3,
   "id": "67a6418e",
   "metadata": {},
   "outputs": [
    {
     "data": {
      "text/html": [
       "<div>\n",
       "<style scoped>\n",
       "    .dataframe tbody tr th:only-of-type {\n",
       "        vertical-align: middle;\n",
       "    }\n",
       "\n",
       "    .dataframe tbody tr th {\n",
       "        vertical-align: top;\n",
       "    }\n",
       "\n",
       "    .dataframe thead th {\n",
       "        text-align: right;\n",
       "    }\n",
       "</style>\n",
       "<table border=\"1\" class=\"dataframe\">\n",
       "  <thead>\n",
       "    <tr style=\"text-align: right;\">\n",
       "      <th></th>\n",
       "      <th>Airline</th>\n",
       "      <th>Date_of_Journey</th>\n",
       "      <th>Source</th>\n",
       "      <th>Destination</th>\n",
       "      <th>Route</th>\n",
       "      <th>Dep_Time</th>\n",
       "      <th>Arrival_Time</th>\n",
       "      <th>Duration</th>\n",
       "      <th>Total_Stops</th>\n",
       "      <th>Additional_Info</th>\n",
       "      <th>Price</th>\n",
       "    </tr>\n",
       "  </thead>\n",
       "  <tbody>\n",
       "    <tr>\n",
       "      <th>0</th>\n",
       "      <td>IndiGo</td>\n",
       "      <td>24/03/2019</td>\n",
       "      <td>Banglore</td>\n",
       "      <td>New Delhi</td>\n",
       "      <td>BLR → DEL</td>\n",
       "      <td>22:20</td>\n",
       "      <td>01:10 22 Mar</td>\n",
       "      <td>2h 50m</td>\n",
       "      <td>non-stop</td>\n",
       "      <td>No info</td>\n",
       "      <td>3897</td>\n",
       "    </tr>\n",
       "    <tr>\n",
       "      <th>1</th>\n",
       "      <td>Air India</td>\n",
       "      <td>1/05/2019</td>\n",
       "      <td>Kolkata</td>\n",
       "      <td>Banglore</td>\n",
       "      <td>CCU → IXR → BBI → BLR</td>\n",
       "      <td>05:50</td>\n",
       "      <td>13:15</td>\n",
       "      <td>7h 25m</td>\n",
       "      <td>2 stops</td>\n",
       "      <td>No info</td>\n",
       "      <td>7662</td>\n",
       "    </tr>\n",
       "    <tr>\n",
       "      <th>2</th>\n",
       "      <td>Jet Airways</td>\n",
       "      <td>9/06/2019</td>\n",
       "      <td>Delhi</td>\n",
       "      <td>Cochin</td>\n",
       "      <td>DEL → LKO → BOM → COK</td>\n",
       "      <td>09:25</td>\n",
       "      <td>04:25 10 Jun</td>\n",
       "      <td>19h</td>\n",
       "      <td>2 stops</td>\n",
       "      <td>No info</td>\n",
       "      <td>13882</td>\n",
       "    </tr>\n",
       "    <tr>\n",
       "      <th>3</th>\n",
       "      <td>IndiGo</td>\n",
       "      <td>12/05/2019</td>\n",
       "      <td>Kolkata</td>\n",
       "      <td>Banglore</td>\n",
       "      <td>CCU → NAG → BLR</td>\n",
       "      <td>18:05</td>\n",
       "      <td>23:30</td>\n",
       "      <td>5h 25m</td>\n",
       "      <td>1 stop</td>\n",
       "      <td>No info</td>\n",
       "      <td>6218</td>\n",
       "    </tr>\n",
       "    <tr>\n",
       "      <th>4</th>\n",
       "      <td>IndiGo</td>\n",
       "      <td>01/03/2019</td>\n",
       "      <td>Banglore</td>\n",
       "      <td>New Delhi</td>\n",
       "      <td>BLR → NAG → DEL</td>\n",
       "      <td>16:50</td>\n",
       "      <td>21:35</td>\n",
       "      <td>4h 45m</td>\n",
       "      <td>1 stop</td>\n",
       "      <td>No info</td>\n",
       "      <td>13302</td>\n",
       "    </tr>\n",
       "    <tr>\n",
       "      <th>...</th>\n",
       "      <td>...</td>\n",
       "      <td>...</td>\n",
       "      <td>...</td>\n",
       "      <td>...</td>\n",
       "      <td>...</td>\n",
       "      <td>...</td>\n",
       "      <td>...</td>\n",
       "      <td>...</td>\n",
       "      <td>...</td>\n",
       "      <td>...</td>\n",
       "      <td>...</td>\n",
       "    </tr>\n",
       "    <tr>\n",
       "      <th>10678</th>\n",
       "      <td>Air Asia</td>\n",
       "      <td>9/04/2019</td>\n",
       "      <td>Kolkata</td>\n",
       "      <td>Banglore</td>\n",
       "      <td>CCU → BLR</td>\n",
       "      <td>19:55</td>\n",
       "      <td>22:25</td>\n",
       "      <td>2h 30m</td>\n",
       "      <td>non-stop</td>\n",
       "      <td>No info</td>\n",
       "      <td>4107</td>\n",
       "    </tr>\n",
       "    <tr>\n",
       "      <th>10679</th>\n",
       "      <td>Air India</td>\n",
       "      <td>27/04/2019</td>\n",
       "      <td>Kolkata</td>\n",
       "      <td>Banglore</td>\n",
       "      <td>CCU → BLR</td>\n",
       "      <td>20:45</td>\n",
       "      <td>23:20</td>\n",
       "      <td>2h 35m</td>\n",
       "      <td>non-stop</td>\n",
       "      <td>No info</td>\n",
       "      <td>4145</td>\n",
       "    </tr>\n",
       "    <tr>\n",
       "      <th>10680</th>\n",
       "      <td>Jet Airways</td>\n",
       "      <td>27/04/2019</td>\n",
       "      <td>Banglore</td>\n",
       "      <td>Delhi</td>\n",
       "      <td>BLR → DEL</td>\n",
       "      <td>08:20</td>\n",
       "      <td>11:20</td>\n",
       "      <td>3h</td>\n",
       "      <td>non-stop</td>\n",
       "      <td>No info</td>\n",
       "      <td>7229</td>\n",
       "    </tr>\n",
       "    <tr>\n",
       "      <th>10681</th>\n",
       "      <td>Vistara</td>\n",
       "      <td>01/03/2019</td>\n",
       "      <td>Banglore</td>\n",
       "      <td>New Delhi</td>\n",
       "      <td>BLR → DEL</td>\n",
       "      <td>11:30</td>\n",
       "      <td>14:10</td>\n",
       "      <td>2h 40m</td>\n",
       "      <td>non-stop</td>\n",
       "      <td>No info</td>\n",
       "      <td>12648</td>\n",
       "    </tr>\n",
       "    <tr>\n",
       "      <th>10682</th>\n",
       "      <td>Air India</td>\n",
       "      <td>9/05/2019</td>\n",
       "      <td>Delhi</td>\n",
       "      <td>Cochin</td>\n",
       "      <td>DEL → GOI → BOM → COK</td>\n",
       "      <td>10:55</td>\n",
       "      <td>19:15</td>\n",
       "      <td>8h 20m</td>\n",
       "      <td>2 stops</td>\n",
       "      <td>No info</td>\n",
       "      <td>11753</td>\n",
       "    </tr>\n",
       "  </tbody>\n",
       "</table>\n",
       "<p>10683 rows × 11 columns</p>\n",
       "</div>"
      ],
      "text/plain": [
       "           Airline Date_of_Journey    Source Destination  \\\n",
       "0           IndiGo      24/03/2019  Banglore   New Delhi   \n",
       "1        Air India       1/05/2019   Kolkata    Banglore   \n",
       "2      Jet Airways       9/06/2019     Delhi      Cochin   \n",
       "3           IndiGo      12/05/2019   Kolkata    Banglore   \n",
       "4           IndiGo      01/03/2019  Banglore   New Delhi   \n",
       "...            ...             ...       ...         ...   \n",
       "10678     Air Asia       9/04/2019   Kolkata    Banglore   \n",
       "10679    Air India      27/04/2019   Kolkata    Banglore   \n",
       "10680  Jet Airways      27/04/2019  Banglore       Delhi   \n",
       "10681      Vistara      01/03/2019  Banglore   New Delhi   \n",
       "10682    Air India       9/05/2019     Delhi      Cochin   \n",
       "\n",
       "                       Route Dep_Time  Arrival_Time Duration Total_Stops  \\\n",
       "0                  BLR → DEL    22:20  01:10 22 Mar   2h 50m    non-stop   \n",
       "1      CCU → IXR → BBI → BLR    05:50         13:15   7h 25m     2 stops   \n",
       "2      DEL → LKO → BOM → COK    09:25  04:25 10 Jun      19h     2 stops   \n",
       "3            CCU → NAG → BLR    18:05         23:30   5h 25m      1 stop   \n",
       "4            BLR → NAG → DEL    16:50         21:35   4h 45m      1 stop   \n",
       "...                      ...      ...           ...      ...         ...   \n",
       "10678              CCU → BLR    19:55         22:25   2h 30m    non-stop   \n",
       "10679              CCU → BLR    20:45         23:20   2h 35m    non-stop   \n",
       "10680              BLR → DEL    08:20         11:20       3h    non-stop   \n",
       "10681              BLR → DEL    11:30         14:10   2h 40m    non-stop   \n",
       "10682  DEL → GOI → BOM → COK    10:55         19:15   8h 20m     2 stops   \n",
       "\n",
       "      Additional_Info  Price  \n",
       "0             No info   3897  \n",
       "1             No info   7662  \n",
       "2             No info  13882  \n",
       "3             No info   6218  \n",
       "4             No info  13302  \n",
       "...               ...    ...  \n",
       "10678         No info   4107  \n",
       "10679         No info   4145  \n",
       "10680         No info   7229  \n",
       "10681         No info  12648  \n",
       "10682         No info  11753  \n",
       "\n",
       "[10683 rows x 11 columns]"
      ]
     },
     "execution_count": 3,
     "metadata": {},
     "output_type": "execute_result"
    }
   ],
   "source": [
    "df"
   ]
  },
  {
   "cell_type": "code",
   "execution_count": 4,
   "id": "ba4f5a32",
   "metadata": {},
   "outputs": [],
   "source": [
    "df_test = pd.read_excel('Test_set.xlsx')"
   ]
  },
  {
   "cell_type": "code",
   "execution_count": 5,
   "id": "ec603d49",
   "metadata": {},
   "outputs": [
    {
     "data": {
      "text/html": [
       "<div>\n",
       "<style scoped>\n",
       "    .dataframe tbody tr th:only-of-type {\n",
       "        vertical-align: middle;\n",
       "    }\n",
       "\n",
       "    .dataframe tbody tr th {\n",
       "        vertical-align: top;\n",
       "    }\n",
       "\n",
       "    .dataframe thead th {\n",
       "        text-align: right;\n",
       "    }\n",
       "</style>\n",
       "<table border=\"1\" class=\"dataframe\">\n",
       "  <thead>\n",
       "    <tr style=\"text-align: right;\">\n",
       "      <th></th>\n",
       "      <th>Airline</th>\n",
       "      <th>Date_of_Journey</th>\n",
       "      <th>Source</th>\n",
       "      <th>Destination</th>\n",
       "      <th>Route</th>\n",
       "      <th>Dep_Time</th>\n",
       "      <th>Arrival_Time</th>\n",
       "      <th>Duration</th>\n",
       "      <th>Total_Stops</th>\n",
       "      <th>Additional_Info</th>\n",
       "    </tr>\n",
       "  </thead>\n",
       "  <tbody>\n",
       "    <tr>\n",
       "      <th>0</th>\n",
       "      <td>Jet Airways</td>\n",
       "      <td>6/06/2019</td>\n",
       "      <td>Delhi</td>\n",
       "      <td>Cochin</td>\n",
       "      <td>DEL → BOM → COK</td>\n",
       "      <td>17:30</td>\n",
       "      <td>04:25 07 Jun</td>\n",
       "      <td>10h 55m</td>\n",
       "      <td>1 stop</td>\n",
       "      <td>No info</td>\n",
       "    </tr>\n",
       "    <tr>\n",
       "      <th>1</th>\n",
       "      <td>IndiGo</td>\n",
       "      <td>12/05/2019</td>\n",
       "      <td>Kolkata</td>\n",
       "      <td>Banglore</td>\n",
       "      <td>CCU → MAA → BLR</td>\n",
       "      <td>06:20</td>\n",
       "      <td>10:20</td>\n",
       "      <td>4h</td>\n",
       "      <td>1 stop</td>\n",
       "      <td>No info</td>\n",
       "    </tr>\n",
       "    <tr>\n",
       "      <th>2</th>\n",
       "      <td>Jet Airways</td>\n",
       "      <td>21/05/2019</td>\n",
       "      <td>Delhi</td>\n",
       "      <td>Cochin</td>\n",
       "      <td>DEL → BOM → COK</td>\n",
       "      <td>19:15</td>\n",
       "      <td>19:00 22 May</td>\n",
       "      <td>23h 45m</td>\n",
       "      <td>1 stop</td>\n",
       "      <td>In-flight meal not included</td>\n",
       "    </tr>\n",
       "    <tr>\n",
       "      <th>3</th>\n",
       "      <td>Multiple carriers</td>\n",
       "      <td>21/05/2019</td>\n",
       "      <td>Delhi</td>\n",
       "      <td>Cochin</td>\n",
       "      <td>DEL → BOM → COK</td>\n",
       "      <td>08:00</td>\n",
       "      <td>21:00</td>\n",
       "      <td>13h</td>\n",
       "      <td>1 stop</td>\n",
       "      <td>No info</td>\n",
       "    </tr>\n",
       "    <tr>\n",
       "      <th>4</th>\n",
       "      <td>Air Asia</td>\n",
       "      <td>24/06/2019</td>\n",
       "      <td>Banglore</td>\n",
       "      <td>Delhi</td>\n",
       "      <td>BLR → DEL</td>\n",
       "      <td>23:55</td>\n",
       "      <td>02:45 25 Jun</td>\n",
       "      <td>2h 50m</td>\n",
       "      <td>non-stop</td>\n",
       "      <td>No info</td>\n",
       "    </tr>\n",
       "    <tr>\n",
       "      <th>...</th>\n",
       "      <td>...</td>\n",
       "      <td>...</td>\n",
       "      <td>...</td>\n",
       "      <td>...</td>\n",
       "      <td>...</td>\n",
       "      <td>...</td>\n",
       "      <td>...</td>\n",
       "      <td>...</td>\n",
       "      <td>...</td>\n",
       "      <td>...</td>\n",
       "    </tr>\n",
       "    <tr>\n",
       "      <th>2666</th>\n",
       "      <td>Air India</td>\n",
       "      <td>6/06/2019</td>\n",
       "      <td>Kolkata</td>\n",
       "      <td>Banglore</td>\n",
       "      <td>CCU → DEL → BLR</td>\n",
       "      <td>20:30</td>\n",
       "      <td>20:25 07 Jun</td>\n",
       "      <td>23h 55m</td>\n",
       "      <td>1 stop</td>\n",
       "      <td>No info</td>\n",
       "    </tr>\n",
       "    <tr>\n",
       "      <th>2667</th>\n",
       "      <td>IndiGo</td>\n",
       "      <td>27/03/2019</td>\n",
       "      <td>Kolkata</td>\n",
       "      <td>Banglore</td>\n",
       "      <td>CCU → BLR</td>\n",
       "      <td>14:20</td>\n",
       "      <td>16:55</td>\n",
       "      <td>2h 35m</td>\n",
       "      <td>non-stop</td>\n",
       "      <td>No info</td>\n",
       "    </tr>\n",
       "    <tr>\n",
       "      <th>2668</th>\n",
       "      <td>Jet Airways</td>\n",
       "      <td>6/03/2019</td>\n",
       "      <td>Delhi</td>\n",
       "      <td>Cochin</td>\n",
       "      <td>DEL → BOM → COK</td>\n",
       "      <td>21:50</td>\n",
       "      <td>04:25 07 Mar</td>\n",
       "      <td>6h 35m</td>\n",
       "      <td>1 stop</td>\n",
       "      <td>No info</td>\n",
       "    </tr>\n",
       "    <tr>\n",
       "      <th>2669</th>\n",
       "      <td>Air India</td>\n",
       "      <td>6/03/2019</td>\n",
       "      <td>Delhi</td>\n",
       "      <td>Cochin</td>\n",
       "      <td>DEL → BOM → COK</td>\n",
       "      <td>04:00</td>\n",
       "      <td>19:15</td>\n",
       "      <td>15h 15m</td>\n",
       "      <td>1 stop</td>\n",
       "      <td>No info</td>\n",
       "    </tr>\n",
       "    <tr>\n",
       "      <th>2670</th>\n",
       "      <td>Multiple carriers</td>\n",
       "      <td>15/06/2019</td>\n",
       "      <td>Delhi</td>\n",
       "      <td>Cochin</td>\n",
       "      <td>DEL → BOM → COK</td>\n",
       "      <td>04:55</td>\n",
       "      <td>19:15</td>\n",
       "      <td>14h 20m</td>\n",
       "      <td>1 stop</td>\n",
       "      <td>No info</td>\n",
       "    </tr>\n",
       "  </tbody>\n",
       "</table>\n",
       "<p>2671 rows × 10 columns</p>\n",
       "</div>"
      ],
      "text/plain": [
       "                Airline Date_of_Journey    Source Destination  \\\n",
       "0           Jet Airways       6/06/2019     Delhi      Cochin   \n",
       "1                IndiGo      12/05/2019   Kolkata    Banglore   \n",
       "2           Jet Airways      21/05/2019     Delhi      Cochin   \n",
       "3     Multiple carriers      21/05/2019     Delhi      Cochin   \n",
       "4              Air Asia      24/06/2019  Banglore       Delhi   \n",
       "...                 ...             ...       ...         ...   \n",
       "2666          Air India       6/06/2019   Kolkata    Banglore   \n",
       "2667             IndiGo      27/03/2019   Kolkata    Banglore   \n",
       "2668        Jet Airways       6/03/2019     Delhi      Cochin   \n",
       "2669          Air India       6/03/2019     Delhi      Cochin   \n",
       "2670  Multiple carriers      15/06/2019     Delhi      Cochin   \n",
       "\n",
       "                Route Dep_Time  Arrival_Time Duration Total_Stops  \\\n",
       "0     DEL → BOM → COK    17:30  04:25 07 Jun  10h 55m      1 stop   \n",
       "1     CCU → MAA → BLR    06:20         10:20       4h      1 stop   \n",
       "2     DEL → BOM → COK    19:15  19:00 22 May  23h 45m      1 stop   \n",
       "3     DEL → BOM → COK    08:00         21:00      13h      1 stop   \n",
       "4           BLR → DEL    23:55  02:45 25 Jun   2h 50m    non-stop   \n",
       "...               ...      ...           ...      ...         ...   \n",
       "2666  CCU → DEL → BLR    20:30  20:25 07 Jun  23h 55m      1 stop   \n",
       "2667        CCU → BLR    14:20         16:55   2h 35m    non-stop   \n",
       "2668  DEL → BOM → COK    21:50  04:25 07 Mar   6h 35m      1 stop   \n",
       "2669  DEL → BOM → COK    04:00         19:15  15h 15m      1 stop   \n",
       "2670  DEL → BOM → COK    04:55         19:15  14h 20m      1 stop   \n",
       "\n",
       "                  Additional_Info  \n",
       "0                         No info  \n",
       "1                         No info  \n",
       "2     In-flight meal not included  \n",
       "3                         No info  \n",
       "4                         No info  \n",
       "...                           ...  \n",
       "2666                      No info  \n",
       "2667                      No info  \n",
       "2668                      No info  \n",
       "2669                      No info  \n",
       "2670                      No info  \n",
       "\n",
       "[2671 rows x 10 columns]"
      ]
     },
     "execution_count": 5,
     "metadata": {},
     "output_type": "execute_result"
    }
   ],
   "source": [
    "df_test"
   ]
  },
  {
   "cell_type": "code",
   "execution_count": 6,
   "id": "7d24575a",
   "metadata": {},
   "outputs": [],
   "source": [
    "sample = pd.read_excel('Sample_submission.xlsx')"
   ]
  },
  {
   "cell_type": "code",
   "execution_count": 7,
   "id": "e7e24f56",
   "metadata": {},
   "outputs": [
    {
     "data": {
      "text/html": [
       "<div>\n",
       "<style scoped>\n",
       "    .dataframe tbody tr th:only-of-type {\n",
       "        vertical-align: middle;\n",
       "    }\n",
       "\n",
       "    .dataframe tbody tr th {\n",
       "        vertical-align: top;\n",
       "    }\n",
       "\n",
       "    .dataframe thead th {\n",
       "        text-align: right;\n",
       "    }\n",
       "</style>\n",
       "<table border=\"1\" class=\"dataframe\">\n",
       "  <thead>\n",
       "    <tr style=\"text-align: right;\">\n",
       "      <th></th>\n",
       "      <th>Price</th>\n",
       "    </tr>\n",
       "  </thead>\n",
       "  <tbody>\n",
       "    <tr>\n",
       "      <th>0</th>\n",
       "      <td>15998</td>\n",
       "    </tr>\n",
       "    <tr>\n",
       "      <th>1</th>\n",
       "      <td>16612</td>\n",
       "    </tr>\n",
       "    <tr>\n",
       "      <th>2</th>\n",
       "      <td>25572</td>\n",
       "    </tr>\n",
       "    <tr>\n",
       "      <th>3</th>\n",
       "      <td>25778</td>\n",
       "    </tr>\n",
       "    <tr>\n",
       "      <th>4</th>\n",
       "      <td>16934</td>\n",
       "    </tr>\n",
       "    <tr>\n",
       "      <th>...</th>\n",
       "      <td>...</td>\n",
       "    </tr>\n",
       "    <tr>\n",
       "      <th>2666</th>\n",
       "      <td>14046</td>\n",
       "    </tr>\n",
       "    <tr>\n",
       "      <th>2667</th>\n",
       "      <td>14086</td>\n",
       "    </tr>\n",
       "    <tr>\n",
       "      <th>2668</th>\n",
       "      <td>22720</td>\n",
       "    </tr>\n",
       "    <tr>\n",
       "      <th>2669</th>\n",
       "      <td>23544</td>\n",
       "    </tr>\n",
       "    <tr>\n",
       "      <th>2670</th>\n",
       "      <td>27489</td>\n",
       "    </tr>\n",
       "  </tbody>\n",
       "</table>\n",
       "<p>2671 rows × 1 columns</p>\n",
       "</div>"
      ],
      "text/plain": [
       "      Price\n",
       "0     15998\n",
       "1     16612\n",
       "2     25572\n",
       "3     25778\n",
       "4     16934\n",
       "...     ...\n",
       "2666  14046\n",
       "2667  14086\n",
       "2668  22720\n",
       "2669  23544\n",
       "2670  27489\n",
       "\n",
       "[2671 rows x 1 columns]"
      ]
     },
     "execution_count": 7,
     "metadata": {},
     "output_type": "execute_result"
    }
   ],
   "source": [
    "sample"
   ]
  },
  {
   "cell_type": "markdown",
   "id": "4c098144",
   "metadata": {},
   "source": [
    "# Univariate Analysis"
   ]
  },
  {
   "cell_type": "code",
   "execution_count": 8,
   "id": "c1b50379",
   "metadata": {},
   "outputs": [
    {
     "data": {
      "text/plain": [
       "(10683, 11)"
      ]
     },
     "execution_count": 8,
     "metadata": {},
     "output_type": "execute_result"
    }
   ],
   "source": [
    "df.shape"
   ]
  },
  {
   "cell_type": "code",
   "execution_count": 9,
   "id": "5a936b58",
   "metadata": {},
   "outputs": [
    {
     "data": {
      "text/plain": [
       "Index(['Airline', 'Date_of_Journey', 'Source', 'Destination', 'Route',\n",
       "       'Dep_Time', 'Arrival_Time', 'Duration', 'Total_Stops',\n",
       "       'Additional_Info', 'Price'],\n",
       "      dtype='object')"
      ]
     },
     "execution_count": 9,
     "metadata": {},
     "output_type": "execute_result"
    }
   ],
   "source": [
    "df.columns"
   ]
  },
  {
   "cell_type": "code",
   "execution_count": 10,
   "id": "fa1a86e2",
   "metadata": {},
   "outputs": [
    {
     "data": {
      "text/plain": [
       "Airline            object\n",
       "Date_of_Journey    object\n",
       "Source             object\n",
       "Destination        object\n",
       "Route              object\n",
       "Dep_Time           object\n",
       "Arrival_Time       object\n",
       "Duration           object\n",
       "Total_Stops        object\n",
       "Additional_Info    object\n",
       "Price               int64\n",
       "dtype: object"
      ]
     },
     "execution_count": 10,
     "metadata": {},
     "output_type": "execute_result"
    }
   ],
   "source": [
    "df.dtypes"
   ]
  },
  {
   "cell_type": "code",
   "execution_count": 11,
   "id": "2a3366d5",
   "metadata": {},
   "outputs": [
    {
     "data": {
      "text/plain": [
       "Airline            0\n",
       "Date_of_Journey    0\n",
       "Source             0\n",
       "Destination        0\n",
       "Route              1\n",
       "Dep_Time           0\n",
       "Arrival_Time       0\n",
       "Duration           0\n",
       "Total_Stops        1\n",
       "Additional_Info    0\n",
       "Price              0\n",
       "dtype: int64"
      ]
     },
     "execution_count": 11,
     "metadata": {},
     "output_type": "execute_result"
    }
   ],
   "source": [
    "df.isnull().sum()"
   ]
  },
  {
   "cell_type": "code",
   "execution_count": 12,
   "id": "35761c5b",
   "metadata": {},
   "outputs": [
    {
     "data": {
      "text/plain": [
       "<AxesSubplot:>"
      ]
     },
     "execution_count": 12,
     "metadata": {},
     "output_type": "execute_result"
    },
    {
     "data": {
      "image/png": "[encoded data removed]",
      "text/plain": [
       "<Figure size 432x288 with 2 Axes>"
      ]
     },
     "metadata": {
      "needs_background": "light"
     },
     "output_type": "display_data"
    }
   ],
   "source": [
    "sns.heatmap(df.isnull())"
   ]
  },
  {
   "cell_type": "markdown",
   "id": "bbd2b60e",
   "metadata": {},
   "source": [
    "There are only 2 NaN values in the dataset."
   ]
  },
  {
   "cell_type": "code",
   "execution_count": 13,
   "id": "f0fa3efd",
   "metadata": {},
   "outputs": [
    {
     "data": {
      "text/html": [
       "<div>\n",
       "<style scoped>\n",
       "    .dataframe tbody tr th:only-of-type {\n",
       "        vertical-align: middle;\n",
       "    }\n",
       "\n",
       "    .dataframe tbody tr th {\n",
       "        vertical-align: top;\n",
       "    }\n",
       "\n",
       "    .dataframe thead th {\n",
       "        text-align: right;\n",
       "    }\n",
       "</style>\n",
       "<table border=\"1\" class=\"dataframe\">\n",
       "  <thead>\n",
       "    <tr style=\"text-align: right;\">\n",
       "      <th></th>\n",
       "      <th>Price</th>\n",
       "    </tr>\n",
       "  </thead>\n",
       "  <tbody>\n",
       "    <tr>\n",
       "      <th>count</th>\n",
       "      <td>10683.000000</td>\n",
       "    </tr>\n",
       "    <tr>\n",
       "      <th>mean</th>\n",
       "      <td>9087.064121</td>\n",
       "    </tr>\n",
       "    <tr>\n",
       "      <th>std</th>\n",
       "      <td>4611.359167</td>\n",
       "    </tr>\n",
       "    <tr>\n",
       "      <th>min</th>\n",
       "      <td>1759.000000</td>\n",
       "    </tr>\n",
       "    <tr>\n",
       "      <th>25%</th>\n",
       "      <td>5277.000000</td>\n",
       "    </tr>\n",
       "    <tr>\n",
       "      <th>50%</th>\n",
       "      <td>8372.000000</td>\n",
       "    </tr>\n",
       "    <tr>\n",
       "      <th>75%</th>\n",
       "      <td>12373.000000</td>\n",
       "    </tr>\n",
       "    <tr>\n",
       "      <th>max</th>\n",
       "      <td>79512.000000</td>\n",
       "    </tr>\n",
       "  </tbody>\n",
       "</table>\n",
       "</div>"
      ],
      "text/plain": [
       "              Price\n",
       "count  10683.000000\n",
       "mean    9087.064121\n",
       "std     4611.359167\n",
       "min     1759.000000\n",
       "25%     5277.000000\n",
       "50%     8372.000000\n",
       "75%    12373.000000\n",
       "max    79512.000000"
      ]
     },
     "execution_count": 13,
     "metadata": {},
     "output_type": "execute_result"
    }
   ],
   "source": [
    "df.describe()"
   ]
  },
  {
   "cell_type": "markdown",
   "id": "2a97cb2d",
   "metadata": {},
   "source": [
    "The only numerical column is the price, which is the target variable. It has high standard deviation due to the presence of outliers, since there is a massive difference between the 75th percentile and the 100th percentile."
   ]
  },
  {
   "cell_type": "code",
   "execution_count": 14,
   "id": "4d38f707",
   "metadata": {},
   "outputs": [
    {
     "data": {
      "text/plain": [
       "Airline              12\n",
       "Date_of_Journey      44\n",
       "Source                5\n",
       "Destination           6\n",
       "Route               128\n",
       "Dep_Time            222\n",
       "Arrival_Time       1343\n",
       "Duration            368\n",
       "Total_Stops           5\n",
       "Additional_Info      10\n",
       "Price              1870\n",
       "dtype: int64"
      ]
     },
     "execution_count": 14,
     "metadata": {},
     "output_type": "execute_result"
    }
   ],
   "source": [
    "df.nunique()"
   ]
  },
  {
   "cell_type": "markdown",
   "id": "a2437a47",
   "metadata": {},
   "source": [
    "There are 12 different airlines\n",
    "\n",
    "44 different dates\n",
    "\n",
    "5 source cities\n",
    "\n",
    "6 destination cities\n",
    "\n",
    "128 different routes taken by the flights\n",
    "\n",
    "222 different departure times\n",
    "\n",
    "1343 different arrival times\n",
    "\n",
    "368 different durations of flights\n",
    "\n",
    "5 different stop amounts\n",
    "\n",
    "10 types of additional info\n",
    "\n",
    "1870 different prices of flights"
   ]
  },
  {
   "cell_type": "code",
   "execution_count": 15,
   "id": "e38c0b70",
   "metadata": {},
   "outputs": [
    {
     "data": {
      "text/plain": [
       "array(['No info', 'In-flight meal not included',\n",
       "       'No check-in baggage included', '1 Short layover', 'No Info',\n",
       "       '1 Long layover', 'Change airports', 'Business class',\n",
       "       'Red-eye flight', '2 Long layover'], dtype=object)"
      ]
     },
     "execution_count": 15,
     "metadata": {},
     "output_type": "execute_result"
    }
   ],
   "source": [
    "df['Additional_Info'].unique()"
   ]
  },
  {
   "cell_type": "code",
   "execution_count": 16,
   "id": "e871d85e",
   "metadata": {},
   "outputs": [
    {
     "data": {
      "text/plain": [
       "array(['24/03/2019', '1/05/2019', '9/06/2019', '12/05/2019', '01/03/2019',\n",
       "       '24/06/2019', '12/03/2019', '27/05/2019', '1/06/2019',\n",
       "       '18/04/2019', '9/05/2019', '24/04/2019', '3/03/2019', '15/04/2019',\n",
       "       '12/06/2019', '6/03/2019', '21/03/2019', '3/04/2019', '6/05/2019',\n",
       "       '15/05/2019', '18/06/2019', '15/06/2019', '6/04/2019',\n",
       "       '18/05/2019', '27/06/2019', '21/05/2019', '06/03/2019',\n",
       "       '3/06/2019', '15/03/2019', '3/05/2019', '9/03/2019', '6/06/2019',\n",
       "       '24/05/2019', '09/03/2019', '1/04/2019', '21/04/2019',\n",
       "       '21/06/2019', '27/03/2019', '18/03/2019', '12/04/2019',\n",
       "       '9/04/2019', '1/03/2019', '03/03/2019', '27/04/2019'], dtype=object)"
      ]
     },
     "execution_count": 16,
     "metadata": {},
     "output_type": "execute_result"
    }
   ],
   "source": [
    "df['Date_of_Journey'].unique()"
   ]
  },
  {
   "cell_type": "code",
   "execution_count": 17,
   "id": "d9c28fca",
   "metadata": {},
   "outputs": [
    {
     "data": {
      "text/html": [
       "<div>\n",
       "<style scoped>\n",
       "    .dataframe tbody tr th:only-of-type {\n",
       "        vertical-align: middle;\n",
       "    }\n",
       "\n",
       "    .dataframe tbody tr th {\n",
       "        vertical-align: top;\n",
       "    }\n",
       "\n",
       "    .dataframe thead th {\n",
       "        text-align: right;\n",
       "    }\n",
       "</style>\n",
       "<table border=\"1\" class=\"dataframe\">\n",
       "  <thead>\n",
       "    <tr style=\"text-align: right;\">\n",
       "      <th></th>\n",
       "      <th>Price</th>\n",
       "    </tr>\n",
       "  </thead>\n",
       "  <tbody>\n",
       "    <tr>\n",
       "      <th>Price</th>\n",
       "      <td>1.0</td>\n",
       "    </tr>\n",
       "  </tbody>\n",
       "</table>\n",
       "</div>"
      ],
      "text/plain": [
       "       Price\n",
       "Price    1.0"
      ]
     },
     "execution_count": 17,
     "metadata": {},
     "output_type": "execute_result"
    }
   ],
   "source": [
    "df.corr()"
   ]
  },
  {
   "cell_type": "code",
   "execution_count": 18,
   "id": "691ffa38",
   "metadata": {},
   "outputs": [
    {
     "data": {
      "text/plain": [
       "Price    1.812552\n",
       "dtype: float64"
      ]
     },
     "execution_count": 18,
     "metadata": {},
     "output_type": "execute_result"
    }
   ],
   "source": [
    "df.skew()"
   ]
  },
  {
   "cell_type": "markdown",
   "id": "914351e7",
   "metadata": {},
   "source": [
    "Since the price column is the only numerical column, we only see skewness in it."
   ]
  },
  {
   "cell_type": "code",
   "execution_count": 19,
   "id": "6dc5b19e",
   "metadata": {},
   "outputs": [
    {
     "data": {
      "text/plain": [
       "<AxesSubplot:>"
      ]
     },
     "execution_count": 19,
     "metadata": {},
     "output_type": "execute_result"
    },
    {
     "data": {
      "image/png": "[encoded data removed]",
      "text/plain": [
       "<Figure size 720x720 with 1 Axes>"
      ]
     },
     "metadata": {
      "needs_background": "light"
     },
     "output_type": "display_data"
    }
   ],
   "source": [
    "df['Price'].hist(figsize=(10,10), bins=30)"
   ]
  },
  {
   "cell_type": "markdown",
   "id": "850de426",
   "metadata": {},
   "source": [
    "The distribution is mostly normal, but there are some outliers, skewing the distribution."
   ]
  },
  {
   "cell_type": "code",
   "execution_count": 20,
   "id": "7a03b3e4",
   "metadata": {
    "scrolled": true
   },
   "outputs": [
    {
     "data": {
      "text/plain": [
       "<AxesSubplot:xlabel='Price'>"
      ]
     },
     "execution_count": 20,
     "metadata": {},
     "output_type": "execute_result"
    },
    {
     "data": {
      "image/png": "[encoded data removed]",
      "text/plain": [
       "<Figure size 432x288 with 1 Axes>"
      ]
     },
     "metadata": {
      "needs_background": "light"
     },
     "output_type": "display_data"
    }
   ],
   "source": [
    "sns.boxplot(df['Price'])"
   ]
  },
  {
   "cell_type": "markdown",
   "id": "d4dfae52",
   "metadata": {},
   "source": [
    "There are some outliers which are skewing the data"
   ]
  },
  {
   "cell_type": "code",
   "execution_count": 21,
   "id": "b5e913d5",
   "metadata": {},
   "outputs": [
    {
     "data": {
      "text/plain": [
       "(array([ 0,  1,  2,  3,  4,  5,  6,  7,  8,  9, 10, 11]),\n",
       " [Text(0, 0, 'IndiGo'),\n",
       "  Text(1, 0, 'Air India'),\n",
       "  Text(2, 0, 'Jet Airways'),\n",
       "  Text(3, 0, 'SpiceJet'),\n",
       "  Text(4, 0, 'Multiple carriers'),\n",
       "  Text(5, 0, 'GoAir'),\n",
       "  Text(6, 0, 'Vistara'),\n",
       "  Text(7, 0, 'Air Asia'),\n",
       "  Text(8, 0, 'Vistara Premium economy'),\n",
       "  Text(9, 0, 'Jet Airways Business'),\n",
       "  Text(10, 0, 'Multiple carriers Premium economy'),\n",
       "  Text(11, 0, 'Trujet')])"
      ]
     },
     "execution_count": 21,
     "metadata": {},
     "output_type": "execute_result"
    },
    {
     "data": {
      "image/png": "[encoded data removed]",
      "text/plain": [
       "<Figure size 432x288 with 1 Axes>"
      ]
     },
     "metadata": {
      "needs_background": "light"
     },
     "output_type": "display_data"
    }
   ],
   "source": [
    "sns.countplot(df['Airline'])\n",
    "plt.xticks(rotation=90)"
   ]
  },
  {
   "cell_type": "markdown",
   "id": "a2bf103f",
   "metadata": {},
   "source": [
    "Maximum flights were with the airline Jet Airways. Second majority of flights with Indigo. Least flights were with Vistara premium economy, jet airways business, multiple carriers premium economy and trujet."
   ]
  },
  {
   "cell_type": "code",
   "execution_count": 22,
   "id": "75e495ab",
   "metadata": {},
   "outputs": [
    {
     "data": {
      "text/plain": [
       "<AxesSubplot:xlabel='Source', ylabel='count'>"
      ]
     },
     "execution_count": 22,
     "metadata": {},
     "output_type": "execute_result"
    },
    {
     "data": {
      "image/png": "[encoded data removed]",
      "text/plain": [
       "<Figure size 432x288 with 1 Axes>"
      ]
     },
     "metadata": {
      "needs_background": "light"
     },
     "output_type": "display_data"
    }
   ],
   "source": [
    "sns.countplot(df['Source'])"
   ]
  },
  {
   "cell_type": "markdown",
   "id": "7be2428f",
   "metadata": {},
   "source": [
    "Maximum flights originated from Delhi, and least from Chennai."
   ]
  },
  {
   "cell_type": "code",
   "execution_count": 23,
   "id": "60edf895",
   "metadata": {},
   "outputs": [
    {
     "data": {
      "text/plain": [
       "<AxesSubplot:xlabel='Destination', ylabel='count'>"
      ]
     },
     "execution_count": 23,
     "metadata": {},
     "output_type": "execute_result"
    },
    {
     "data": {
      "image/png": "[encoded data removed]",
      "text/plain": [
       "<Figure size 432x288 with 1 Axes>"
      ]
     },
     "metadata": {
      "needs_background": "light"
     },
     "output_type": "display_data"
    }
   ],
   "source": [
    "sns.countplot(df['Destination'])"
   ]
  },
  {
   "cell_type": "markdown",
   "id": "d65c7d33",
   "metadata": {},
   "source": [
    "Most flights' destination was Cochin, and least flights' destination was Kolkata. Bangalore was the second most common destination."
   ]
  },
  {
   "cell_type": "code",
   "execution_count": 24,
   "id": "9504d5fd",
   "metadata": {},
   "outputs": [
    {
     "data": {
      "text/plain": [
       "<AxesSubplot:xlabel='Total_Stops', ylabel='count'>"
      ]
     },
     "execution_count": 24,
     "metadata": {},
     "output_type": "execute_result"
    },
    {
     "data": {
      "image/png": "[encoded data removed]",
      "text/plain": [
       "<Figure size 432x288 with 1 Axes>"
      ]
     },
     "metadata": {
      "needs_background": "light"
     },
     "output_type": "display_data"
    }
   ],
   "source": [
    "sns.countplot(df['Total_Stops'])"
   ]
  },
  {
   "cell_type": "markdown",
   "id": "3217b316",
   "metadata": {},
   "source": [
    "Maximum flights had 1 stop, and second majority is of non-stop flights. Least flights had 4 stops."
   ]
  },
  {
   "cell_type": "code",
   "execution_count": 25,
   "id": "dda4e41f",
   "metadata": {},
   "outputs": [
    {
     "data": {
      "text/plain": [
       "(array([0, 1, 2, 3, 4, 5, 6, 7, 8, 9]),\n",
       " [Text(0, 0, 'No info'),\n",
       "  Text(1, 0, 'In-flight meal not included'),\n",
       "  Text(2, 0, 'No check-in baggage included'),\n",
       "  Text(3, 0, '1 Short layover'),\n",
       "  Text(4, 0, 'No Info'),\n",
       "  Text(5, 0, '1 Long layover'),\n",
       "  Text(6, 0, 'Change airports'),\n",
       "  Text(7, 0, 'Business class'),\n",
       "  Text(8, 0, 'Red-eye flight'),\n",
       "  Text(9, 0, '2 Long layover')])"
      ]
     },
     "execution_count": 25,
     "metadata": {},
     "output_type": "execute_result"
    },
    {
     "data": {
      "image/png": "[encoded data removed]",
      "text/plain": [
       "<Figure size 432x288 with 1 Axes>"
      ]
     },
     "metadata": {
      "needs_background": "light"
     },
     "output_type": "display_data"
    }
   ],
   "source": [
    "sns.countplot(df['Additional_Info'])\n",
    "plt.xticks(rotation=90)"
   ]
  },
  {
   "cell_type": "markdown",
   "id": "3021bf16",
   "metadata": {},
   "source": [
    "Maximum flights had no additional info, and second majority had inflight meal not included. All other columns have negligible amount of info."
   ]
  },
  {
   "cell_type": "markdown",
   "id": "252b67b4",
   "metadata": {},
   "source": [
    "# Bivariate Analysis"
   ]
  },
  {
   "cell_type": "code",
   "execution_count": 26,
   "id": "96bcfeb8",
   "metadata": {},
   "outputs": [
    {
     "data": {
      "text/plain": [
       "([0, 1, 2, 3, 4, 5, 6, 7, 8, 9, 10, 11],\n",
       " [Text(0, 0, ''),\n",
       "  Text(0, 0, ''),\n",
       "  Text(0, 0, ''),\n",
       "  Text(0, 0, ''),\n",
       "  Text(0, 0, ''),\n",
       "  Text(0, 0, ''),\n",
       "  Text(0, 0, ''),\n",
       "  Text(0, 0, ''),\n",
       "  Text(0, 0, ''),\n",
       "  Text(0, 0, ''),\n",
       "  Text(0, 0, ''),\n",
       "  Text(0, 0, '')])"
      ]
     },
     "execution_count": 26,
     "metadata": {},
     "output_type": "execute_result"
    },
    {
     "data": {
      "image/png": "[encoded data removed]",
      "text/plain": [
       "<Figure size 432x288 with 1 Axes>"
      ]
     },
     "metadata": {
      "needs_background": "light"
     },
     "output_type": "display_data"
    }
   ],
   "source": [
    "sns.lineplot(df['Airline'], df['Price'])\n",
    "plt.xticks(rotation=90)"
   ]
  },
  {
   "cell_type": "markdown",
   "id": "4f856569",
   "metadata": {},
   "source": [
    "Highest price was with Jet Airways Business, and the other premium airlines. Indigo, Spicejet and Trujet had the lowest prices"
   ]
  },
  {
   "cell_type": "code",
   "execution_count": 27,
   "id": "883633b7",
   "metadata": {},
   "outputs": [
    {
     "data": {
      "text/plain": [
       "([0,\n",
       "  1,\n",
       "  2,\n",
       "  3,\n",
       "  4,\n",
       "  5,\n",
       "  6,\n",
       "  7,\n",
       "  8,\n",
       "  9,\n",
       "  10,\n",
       "  11,\n",
       "  12,\n",
       "  13,\n",
       "  14,\n",
       "  15,\n",
       "  16,\n",
       "  17,\n",
       "  18,\n",
       "  19,\n",
       "  20,\n",
       "  21,\n",
       "  22,\n",
       "  23,\n",
       "  24,\n",
       "  25,\n",
       "  26,\n",
       "  27,\n",
       "  28,\n",
       "  29,\n",
       "  30,\n",
       "  31,\n",
       "  32,\n",
       "  33,\n",
       "  34,\n",
       "  35,\n",
       "  36,\n",
       "  37,\n",
       "  38,\n",
       "  39,\n",
       "  40,\n",
       "  41,\n",
       "  42,\n",
       "  43],\n",
       " [Text(0, 0, ''),\n",
       "  Text(0, 0, ''),\n",
       "  Text(0, 0, ''),\n",
       "  Text(0, 0, ''),\n",
       "  Text(0, 0, ''),\n",
       "  Text(0, 0, ''),\n",
       "  Text(0, 0, ''),\n",
       "  Text(0, 0, ''),\n",
       "  Text(0, 0, ''),\n",
       "  Text(0, 0, ''),\n",
       "  Text(0, 0, ''),\n",
       "  Text(0, 0, ''),\n",
       "  Text(0, 0, ''),\n",
       "  Text(0, 0, ''),\n",
       "  Text(0, 0, ''),\n",
       "  Text(0, 0, ''),\n",
       "  Text(0, 0, ''),\n",
       "  Text(0, 0, ''),\n",
       "  Text(0, 0, ''),\n",
       "  Text(0, 0, ''),\n",
       "  Text(0, 0, ''),\n",
       "  Text(0, 0, ''),\n",
       "  Text(0, 0, ''),\n",
       "  Text(0, 0, ''),\n",
       "  Text(0, 0, ''),\n",
       "  Text(0, 0, ''),\n",
       "  Text(0, 0, ''),\n",
       "  Text(0, 0, ''),\n",
       "  Text(0, 0, ''),\n",
       "  Text(0, 0, ''),\n",
       "  Text(0, 0, ''),\n",
       "  Text(0, 0, ''),\n",
       "  Text(0, 0, ''),\n",
       "  Text(0, 0, ''),\n",
       "  Text(0, 0, ''),\n",
       "  Text(0, 0, ''),\n",
       "  Text(0, 0, ''),\n",
       "  Text(0, 0, ''),\n",
       "  Text(0, 0, ''),\n",
       "  Text(0, 0, ''),\n",
       "  Text(0, 0, ''),\n",
       "  Text(0, 0, ''),\n",
       "  Text(0, 0, ''),\n",
       "  Text(0, 0, '')])"
      ]
     },
     "execution_count": 27,
     "metadata": {},
     "output_type": "execute_result"
    },
    {
     "data": {
      "image/png": "[encoded data removed]",
      "text/plain": [
       "<Figure size 432x288 with 1 Axes>"
      ]
     },
     "metadata": {
      "needs_background": "light"
     },
     "output_type": "display_data"
    }
   ],
   "source": [
    "sns.lineplot(df['Date_of_Journey'], df['Price'])\n",
    "plt.xticks(rotation=90)"
   ]
  },
  {
   "cell_type": "markdown",
   "id": "e443fa4e",
   "metadata": {},
   "source": [
    "Highest prices were on 1st march 2019 and 6th march 2019."
   ]
  },
  {
   "cell_type": "code",
   "execution_count": 28,
   "id": "4213bd97",
   "metadata": {},
   "outputs": [
    {
     "data": {
      "text/plain": [
       "<AxesSubplot:xlabel='Source', ylabel='Price'>"
      ]
     },
     "execution_count": 28,
     "metadata": {},
     "output_type": "execute_result"
    },
    {
     "data": {
      "image/png": "[encoded data removed]",
      "text/plain": [
       "<Figure size 432x288 with 1 Axes>"
      ]
     },
     "metadata": {
      "needs_background": "light"
     },
     "output_type": "display_data"
    }
   ],
   "source": [
    "sns.lineplot(df['Source'], df['Price'])"
   ]
  },
  {
   "cell_type": "markdown",
   "id": "8bbbf5ce",
   "metadata": {},
   "source": [
    "Highest prices were for the flight's with source Delhi, Kolkata and Bangalore, and lowest prices were of flight's with source Chennai and Mumbai."
   ]
  },
  {
   "cell_type": "code",
   "execution_count": 29,
   "id": "0c505ff7",
   "metadata": {},
   "outputs": [
    {
     "data": {
      "text/plain": [
       "<AxesSubplot:xlabel='Destination', ylabel='Price'>"
      ]
     },
     "execution_count": 29,
     "metadata": {},
     "output_type": "execute_result"
    },
    {
     "data": {
      "image/png": "[encoded data removed]",
      "text/plain": [
       "<Figure size 432x288 with 1 Axes>"
      ]
     },
     "metadata": {
      "needs_background": "light"
     },
     "output_type": "display_data"
    }
   ],
   "source": [
    "sns.lineplot(df['Destination'], df['Price'])"
   ]
  },
  {
   "cell_type": "markdown",
   "id": "deb53a90",
   "metadata": {},
   "source": [
    "Flights with destination New Delhi had the highest prices, followed by flights with destination Cochin. Flights to Kolkata and Hyderabad had the lowest prices."
   ]
  },
  {
   "cell_type": "code",
   "execution_count": 30,
   "id": "78ea6060",
   "metadata": {
    "scrolled": true
   },
   "outputs": [
    {
     "data": {
      "text/plain": [
       "<AxesSubplot:xlabel='Total_Stops', ylabel='Price'>"
      ]
     },
     "execution_count": 30,
     "metadata": {},
     "output_type": "execute_result"
    },
    {
     "data": {
      "image/png": "[encoded data removed]",
      "text/plain": [
       "<Figure size 432x288 with 1 Axes>"
      ]
     },
     "metadata": {
      "needs_background": "light"
     },
     "output_type": "display_data"
    }
   ],
   "source": [
    "sns.lineplot(df['Total_Stops'], df['Price'])"
   ]
  },
  {
   "cell_type": "markdown",
   "id": "a77b4e9f",
   "metadata": {},
   "source": [
    "Non stop flights had the lowest prices, followed by flights with 1 stop. Flights with 4 stops had the highest prices."
   ]
  },
  {
   "cell_type": "markdown",
   "id": "0e1f51b6",
   "metadata": {},
   "source": [
    "# Feature engineering"
   ]
  },
  {
   "cell_type": "markdown",
   "id": "8bf36300",
   "metadata": {},
   "source": [
    "# Imputing + Dropping NaN values"
   ]
  },
  {
   "cell_type": "code",
   "execution_count": 31,
   "id": "1e0877e3",
   "metadata": {},
   "outputs": [
    {
     "data": {
      "text/plain": [
       "Airline            0\n",
       "Date_of_Journey    0\n",
       "Source             0\n",
       "Destination        0\n",
       "Route              1\n",
       "Dep_Time           0\n",
       "Arrival_Time       0\n",
       "Duration           0\n",
       "Total_Stops        1\n",
       "Additional_Info    0\n",
       "Price              0\n",
       "dtype: int64"
      ]
     },
     "execution_count": 31,
     "metadata": {},
     "output_type": "execute_result"
    }
   ],
   "source": [
    "df.isnull().sum()"
   ]
  },
  {
   "cell_type": "code",
   "execution_count": 32,
   "id": "8dbdddb4",
   "metadata": {},
   "outputs": [
    {
     "data": {
      "text/html": [
       "<div>\n",
       "<style scoped>\n",
       "    .dataframe tbody tr th:only-of-type {\n",
       "        vertical-align: middle;\n",
       "    }\n",
       "\n",
       "    .dataframe tbody tr th {\n",
       "        vertical-align: top;\n",
       "    }\n",
       "\n",
       "    .dataframe thead th {\n",
       "        text-align: right;\n",
       "    }\n",
       "</style>\n",
       "<table border=\"1\" class=\"dataframe\">\n",
       "  <thead>\n",
       "    <tr style=\"text-align: right;\">\n",
       "      <th></th>\n",
       "      <th>Airline</th>\n",
       "      <th>Date_of_Journey</th>\n",
       "      <th>Source</th>\n",
       "      <th>Destination</th>\n",
       "      <th>Route</th>\n",
       "      <th>Dep_Time</th>\n",
       "      <th>Arrival_Time</th>\n",
       "      <th>Duration</th>\n",
       "      <th>Total_Stops</th>\n",
       "      <th>Additional_Info</th>\n",
       "      <th>Price</th>\n",
       "    </tr>\n",
       "  </thead>\n",
       "  <tbody>\n",
       "    <tr>\n",
       "      <th>9039</th>\n",
       "      <td>Air India</td>\n",
       "      <td>6/05/2019</td>\n",
       "      <td>Delhi</td>\n",
       "      <td>Cochin</td>\n",
       "      <td>NaN</td>\n",
       "      <td>09:45</td>\n",
       "      <td>09:25 07 May</td>\n",
       "      <td>23h 40m</td>\n",
       "      <td>NaN</td>\n",
       "      <td>No info</td>\n",
       "      <td>7480</td>\n",
       "    </tr>\n",
       "  </tbody>\n",
       "</table>\n",
       "</div>"
      ],
      "text/plain": [
       "        Airline Date_of_Journey Source Destination Route Dep_Time  \\\n",
       "9039  Air India       6/05/2019  Delhi      Cochin   NaN    09:45   \n",
       "\n",
       "      Arrival_Time Duration Total_Stops Additional_Info  Price  \n",
       "9039  09:25 07 May  23h 40m         NaN         No info   7480  "
      ]
     },
     "execution_count": 32,
     "metadata": {},
     "output_type": "execute_result"
    }
   ],
   "source": [
    "df[df['Route'].isna()]"
   ]
  },
  {
   "cell_type": "markdown",
   "id": "df8634a5",
   "metadata": {},
   "source": [
    "We have neither route nor total_stops so we will drop this row, as imputing with mode might affect the learning of the model"
   ]
  },
  {
   "cell_type": "code",
   "execution_count": 33,
   "id": "2695795c",
   "metadata": {},
   "outputs": [],
   "source": [
    "df.dropna(inplace=True)"
   ]
  },
  {
   "cell_type": "code",
   "execution_count": 34,
   "id": "8c0cd565",
   "metadata": {},
   "outputs": [
    {
     "data": {
      "text/plain": [
       "Airline            0\n",
       "Date_of_Journey    0\n",
       "Source             0\n",
       "Destination        0\n",
       "Route              0\n",
       "Dep_Time           0\n",
       "Arrival_Time       0\n",
       "Duration           0\n",
       "Total_Stops        0\n",
       "Additional_Info    0\n",
       "Price              0\n",
       "dtype: int64"
      ]
     },
     "execution_count": 34,
     "metadata": {},
     "output_type": "execute_result"
    }
   ],
   "source": [
    "df.isnull().sum()"
   ]
  },
  {
   "cell_type": "code",
   "execution_count": 35,
   "id": "1fd34356",
   "metadata": {},
   "outputs": [
    {
     "data": {
      "text/plain": [
       "<AxesSubplot:>"
      ]
     },
     "execution_count": 35,
     "metadata": {},
     "output_type": "execute_result"
    },
    {
     "data": {
      "image/png": "[encoded data removed]",
      "text/plain": [
       "<Figure size 432x288 with 2 Axes>"
      ]
     },
     "metadata": {
      "needs_background": "light"
     },
     "output_type": "display_data"
    }
   ],
   "source": [
    "sns.heatmap(df.isnull())"
   ]
  },
  {
   "cell_type": "markdown",
   "id": "7ae2d5e5",
   "metadata": {},
   "source": [
    "There are no more null values in the data frame."
   ]
  },
  {
   "cell_type": "markdown",
   "id": "fd153d3a",
   "metadata": {},
   "source": [
    "# Combining repeating values in columns"
   ]
  },
  {
   "cell_type": "code",
   "execution_count": 36,
   "id": "eb52a32c",
   "metadata": {},
   "outputs": [
    {
     "data": {
      "text/plain": [
       "array(['New Delhi', 'Banglore', 'Cochin', 'Kolkata', 'Delhi', 'Hyderabad'],\n",
       "      dtype=object)"
      ]
     },
     "execution_count": 36,
     "metadata": {},
     "output_type": "execute_result"
    }
   ],
   "source": [
    "df['Destination'].unique()"
   ]
  },
  {
   "cell_type": "markdown",
   "id": "426f028e",
   "metadata": {},
   "source": [
    "Delhi appears twice in the Destination column, even though it is the same city. So we will include Delhi in New Delhi to have one category."
   ]
  },
  {
   "cell_type": "code",
   "execution_count": 37,
   "id": "be7e950a",
   "metadata": {},
   "outputs": [],
   "source": [
    "df.loc[df['Destination'] == 'Delhi', 'Destination'] = 'New Delhi'"
   ]
  },
  {
   "cell_type": "code",
   "execution_count": 38,
   "id": "bd16b6ff",
   "metadata": {},
   "outputs": [
    {
     "data": {
      "text/plain": [
       "array(['New Delhi', 'Banglore', 'Cochin', 'Kolkata', 'Hyderabad'],\n",
       "      dtype=object)"
      ]
     },
     "execution_count": 38,
     "metadata": {},
     "output_type": "execute_result"
    }
   ],
   "source": [
    "df['Destination'].unique()"
   ]
  },
  {
   "cell_type": "markdown",
   "id": "19aa990e",
   "metadata": {},
   "source": [
    "Delhi has been included in the New Delhi category now."
   ]
  },
  {
   "cell_type": "code",
   "execution_count": 39,
   "id": "5949aa8e",
   "metadata": {},
   "outputs": [
    {
     "data": {
      "text/plain": [
       "array(['No info', 'In-flight meal not included',\n",
       "       'No check-in baggage included', '1 Short layover', 'No Info',\n",
       "       '1 Long layover', 'Change airports', 'Business class',\n",
       "       'Red-eye flight', '2 Long layover'], dtype=object)"
      ]
     },
     "execution_count": 39,
     "metadata": {},
     "output_type": "execute_result"
    }
   ],
   "source": [
    "df['Additional_Info'].unique()"
   ]
  },
  {
   "cell_type": "markdown",
   "id": "76454cc6",
   "metadata": {},
   "source": [
    "No info appears twice in the additional_info column due to difference in the upper and lower case i. We will include them in one category."
   ]
  },
  {
   "cell_type": "code",
   "execution_count": 40,
   "id": "bb27c119",
   "metadata": {},
   "outputs": [],
   "source": [
    "df.loc[df['Additional_Info'] == 'No Info', 'Additional_Info'] = 'No info'"
   ]
  },
  {
   "cell_type": "code",
   "execution_count": 41,
   "id": "755d6439",
   "metadata": {},
   "outputs": [
    {
     "data": {
      "text/plain": [
       "array(['No info', 'In-flight meal not included',\n",
       "       'No check-in baggage included', '1 Short layover',\n",
       "       '1 Long layover', 'Change airports', 'Business class',\n",
       "       'Red-eye flight', '2 Long layover'], dtype=object)"
      ]
     },
     "execution_count": 41,
     "metadata": {},
     "output_type": "execute_result"
    }
   ],
   "source": [
    "df['Additional_Info'].unique()"
   ]
  },
  {
   "cell_type": "markdown",
   "id": "e1d3b0d5",
   "metadata": {},
   "source": [
    "No Info has been merged with No info now."
   ]
  },
  {
   "cell_type": "markdown",
   "id": "76dfee73",
   "metadata": {},
   "source": [
    "# Customising date column for further analysis"
   ]
  },
  {
   "cell_type": "code",
   "execution_count": 42,
   "id": "d6a274c6",
   "metadata": {},
   "outputs": [],
   "source": [
    "dates = []\n",
    "for i in df['Date_of_Journey']:\n",
    "    if len(i) < 10:\n",
    "        inn = '0' + i\n",
    "        dates.append(inn)\n",
    "    else:\n",
    "        inn = i\n",
    "        dates.append(inn)"
   ]
  },
  {
   "cell_type": "code",
   "execution_count": 43,
   "id": "fa74b9ba",
   "metadata": {},
   "outputs": [
    {
     "data": {
      "text/plain": [
       "10682"
      ]
     },
     "execution_count": 43,
     "metadata": {},
     "output_type": "execute_result"
    }
   ],
   "source": [
    "len(dates)"
   ]
  },
  {
   "cell_type": "code",
   "execution_count": 44,
   "id": "ef339fea",
   "metadata": {},
   "outputs": [
    {
     "data": {
      "text/plain": [
       "['24/03/2019',\n",
       " '01/05/2019',\n",
       " '09/06/2019',\n",
       " '12/05/2019',\n",
       " '01/03/2019',\n",
       " '24/06/2019',\n",
       " '12/03/2019',\n",
       " '01/03/2019',\n",
       " '12/03/2019',\n",
       " '27/05/2019',\n",
       " '01/06/2019',\n",
       " '18/04/2019',\n",
       " '24/06/2019',\n",
       " '09/05/2019',\n",
       " '24/04/2019',\n",
       " '03/03/2019',\n",
       " '15/04/2019',\n",
       " '12/06/2019',\n",
       " '12/06/2019',\n",
       " '27/05/2019',\n",
       " '06/03/2019',\n",
       " '21/03/2019',\n",
       " '03/04/2019',\n",
       " '01/05/2019',\n",
       " '06/05/2019',\n",
       " '09/06/2019',\n",
       " '01/06/2019',\n",
       " '15/05/2019',\n",
       " '18/06/2019',\n",
       " '15/06/2019',\n",
       " '18/06/2019',\n",
       " '01/05/2019',\n",
       " '06/04/2019',\n",
       " '15/06/2019',\n",
       " '18/05/2019',\n",
       " '27/06/2019',\n",
       " '21/05/2019',\n",
       " '18/05/2019',\n",
       " '06/03/2019',\n",
       " '03/06/2019',\n",
       " '21/05/2019',\n",
       " '15/03/2019',\n",
       " '18/05/2019',\n",
       " '06/05/2019',\n",
       " '21/03/2019',\n",
       " '24/03/2019',\n",
       " '27/05/2019',\n",
       " '03/05/2019',\n",
       " '15/05/2019',\n",
       " '27/06/2019',\n",
       " '09/03/2019',\n",
       " '01/05/2019',\n",
       " '24/03/2019',\n",
       " '18/06/2019',\n",
       " '03/04/2019',\n",
       " '24/03/2019',\n",
       " '01/03/2019',\n",
       " '06/03/2019',\n",
       " '06/05/2019',\n",
       " '06/03/2019',\n",
       " '06/06/2019',\n",
       " '03/04/2019',\n",
       " '03/06/2019',\n",
       " '15/05/2019',\n",
       " '24/05/2019',\n",
       " '24/06/2019',\n",
       " '24/04/2019',\n",
       " '06/05/2019',\n",
       " '21/05/2019',\n",
       " '12/03/2019',\n",
       " '01/06/2019',\n",
       " '09/03/2019',\n",
       " '24/06/2019',\n",
       " '24/06/2019',\n",
       " '21/03/2019',\n",
       " '09/03/2019',\n",
       " '03/04/2019',\n",
       " '03/04/2019',\n",
       " '15/06/2019',\n",
       " '21/03/2019',\n",
       " '09/06/2019',\n",
       " '24/03/2019',\n",
       " '06/05/2019',\n",
       " '27/06/2019',\n",
       " '18/05/2019',\n",
       " '06/03/2019',\n",
       " '24/06/2019',\n",
       " '06/06/2019',\n",
       " '01/04/2019',\n",
       " '24/05/2019',\n",
       " '27/05/2019',\n",
       " '06/03/2019',\n",
       " '12/03/2019',\n",
       " '06/03/2019',\n",
       " '21/04/2019',\n",
       " '21/06/2019',\n",
       " '15/05/2019',\n",
       " '03/06/2019',\n",
       " '18/06/2019',\n",
       " '12/06/2019',\n",
       " '15/05/2019',\n",
       " '09/06/2019',\n",
       " '24/06/2019',\n",
       " '12/05/2019',\n",
       " '01/05/2019',\n",
       " '18/05/2019',\n",
       " '27/03/2019',\n",
       " '27/03/2019',\n",
       " '09/05/2019',\n",
       " '24/05/2019',\n",
       " '18/03/2019',\n",
       " '12/04/2019',\n",
       " '12/05/2019',\n",
       " '06/03/2019',\n",
       " '27/06/2019',\n",
       " '18/05/2019',\n",
       " '06/03/2019',\n",
       " '03/03/2019',\n",
       " '12/06/2019',\n",
       " '09/05/2019',\n",
       " '09/04/2019',\n",
       " '03/05/2019',\n",
       " '06/05/2019',\n",
       " '01/03/2019',\n",
       " '12/05/2019',\n",
       " '21/05/2019',\n",
       " '12/06/2019',\n",
       " '06/05/2019',\n",
       " '24/06/2019',\n",
       " '03/06/2019',\n",
       " '21/03/2019',\n",
       " '15/06/2019',\n",
       " '12/05/2019',\n",
       " '15/06/2019',\n",
       " '21/05/2019',\n",
       " '18/05/2019',\n",
       " '06/06/2019',\n",
       " '27/06/2019',\n",
       " '24/05/2019',\n",
       " '03/03/2019',\n",
       " '09/04/2019',\n",
       " '06/06/2019',\n",
       " '15/06/2019',\n",
       " '09/06/2019',\n",
       " '21/05/2019',\n",
       " '21/05/2019',\n",
       " '03/06/2019',\n",
       " '03/04/2019',\n",
       " '24/06/2019',\n",
       " '09/06/2019',\n",
       " '03/04/2019',\n",
       " '21/03/2019',\n",
       " '27/06/2019',\n",
       " '12/05/2019',\n",
       " '24/05/2019',\n",
       " '09/05/2019',\n",
       " '27/06/2019',\n",
       " '03/03/2019',\n",
       " '12/05/2019',\n",
       " '06/03/2019',\n",
       " '01/05/2019',\n",
       " '24/03/2019',\n",
       " '09/06/2019',\n",
       " '09/05/2019',\n",
       " '12/06/2019',\n",
       " '27/05/2019',\n",
       " '03/03/2019',\n",
       " '21/05/2019',\n",
       " '27/03/2019',\n",
       " '27/05/2019',\n",
       " '03/04/2019',\n",
       " '18/04/2019',\n",
       " '09/06/2019',\n",
       " '27/06/2019',\n",
       " '06/05/2019',\n",
       " '12/06/2019',\n",
       " '03/04/2019',\n",
       " '21/05/2019',\n",
       " '06/05/2019',\n",
       " '21/05/2019',\n",
       " '01/06/2019',\n",
       " '27/03/2019',\n",
       " '15/05/2019',\n",
       " '06/05/2019',\n",
       " '12/05/2019',\n",
       " '24/06/2019',\n",
       " '27/06/2019',\n",
       " '06/06/2019',\n",
       " '03/06/2019',\n",
       " '12/06/2019',\n",
       " '03/03/2019',\n",
       " '27/03/2019',\n",
       " '24/06/2019',\n",
       " '27/06/2019',\n",
       " '12/03/2019',\n",
       " '27/06/2019',\n",
       " '12/06/2019',\n",
       " '24/06/2019',\n",
       " '18/03/2019',\n",
       " '27/03/2019',\n",
       " '24/03/2019',\n",
       " '03/06/2019',\n",
       " '24/04/2019',\n",
       " '18/05/2019',\n",
       " '03/06/2019',\n",
       " '18/04/2019',\n",
       " '27/03/2019',\n",
       " '27/06/2019',\n",
       " '21/05/2019',\n",
       " '18/05/2019',\n",
       " '12/05/2019',\n",
       " '06/06/2019',\n",
       " '06/06/2019',\n",
       " '03/06/2019',\n",
       " '01/06/2019',\n",
       " '24/06/2019',\n",
       " '09/06/2019',\n",
       " '01/06/2019',\n",
       " '12/05/2019',\n",
       " '09/06/2019',\n",
       " '12/04/2019',\n",
       " '12/06/2019',\n",
       " '18/03/2019',\n",
       " '09/05/2019',\n",
       " '09/06/2019',\n",
       " '06/06/2019',\n",
       " '03/03/2019',\n",
       " '27/04/2019',\n",
       " '21/05/2019',\n",
       " '27/05/2019',\n",
       " '24/03/2019',\n",
       " '12/04/2019',\n",
       " '18/05/2019',\n",
       " '09/03/2019',\n",
       " '01/05/2019',\n",
       " '01/05/2019',\n",
       " '06/03/2019',\n",
       " '18/05/2019',\n",
       " '15/03/2019',\n",
       " '24/06/2019',\n",
       " '18/03/2019',\n",
       " '06/06/2019',\n",
       " '09/06/2019',\n",
       " '12/06/2019',\n",
       " '18/03/2019',\n",
       " '24/04/2019',\n",
       " '09/06/2019',\n",
       " '15/05/2019',\n",
       " '27/06/2019',\n",
       " '06/06/2019',\n",
       " '03/03/2019',\n",
       " '01/06/2019',\n",
       " '24/05/2019',\n",
       " '27/03/2019',\n",
       " '21/03/2019',\n",
       " '21/03/2019',\n",
       " '09/05/2019',\n",
       " '21/06/2019',\n",
       " '06/06/2019',\n",
       " '03/06/2019',\n",
       " '03/06/2019',\n",
       " '03/03/2019',\n",
       " '18/03/2019',\n",
       " '09/03/2019',\n",
       " '21/05/2019',\n",
       " '21/03/2019',\n",
       " '24/06/2019',\n",
       " '12/06/2019',\n",
       " '01/03/2019',\n",
       " '06/03/2019',\n",
       " '01/05/2019',\n",
       " '12/06/2019',\n",
       " '01/06/2019',\n",
       " '06/06/2019',\n",
       " '09/04/2019',\n",
       " '15/03/2019',\n",
       " '27/03/2019',\n",
       " '12/06/2019',\n",
       " '09/03/2019',\n",
       " '24/06/2019',\n",
       " '12/06/2019',\n",
       " '03/03/2019',\n",
       " '24/05/2019',\n",
       " '06/06/2019',\n",
       " '06/05/2019',\n",
       " '27/05/2019',\n",
       " '12/05/2019',\n",
       " '24/06/2019',\n",
       " '27/05/2019',\n",
       " '12/03/2019',\n",
       " '03/03/2019',\n",
       " '21/03/2019',\n",
       " '06/06/2019',\n",
       " '06/03/2019',\n",
       " '18/05/2019',\n",
       " '06/05/2019',\n",
       " '21/03/2019',\n",
       " '18/03/2019',\n",
       " '06/06/2019',\n",
       " '09/05/2019',\n",
       " '03/05/2019',\n",
       " '27/06/2019',\n",
       " '12/05/2019',\n",
       " '06/06/2019',\n",
       " '09/03/2019',\n",
       " '27/03/2019',\n",
       " '15/03/2019',\n",
       " '06/06/2019',\n",
       " '06/06/2019',\n",
       " '24/04/2019',\n",
       " '21/05/2019',\n",
       " '03/06/2019',\n",
       " '12/06/2019',\n",
       " '03/03/2019',\n",
       " '06/03/2019',\n",
       " '06/06/2019',\n",
       " '21/05/2019',\n",
       " '27/06/2019',\n",
       " '01/06/2019',\n",
       " '15/03/2019',\n",
       " '27/06/2019',\n",
       " '09/06/2019',\n",
       " '15/06/2019',\n",
       " '12/03/2019',\n",
       " '01/05/2019',\n",
       " '27/05/2019',\n",
       " '27/05/2019',\n",
       " '06/03/2019',\n",
       " '24/03/2019',\n",
       " '24/03/2019',\n",
       " '09/06/2019',\n",
       " '21/03/2019',\n",
       " '09/04/2019',\n",
       " '12/03/2019',\n",
       " '24/05/2019',\n",
       " '06/05/2019',\n",
       " '09/04/2019',\n",
       " '03/06/2019',\n",
       " '18/06/2019',\n",
       " '27/05/2019',\n",
       " '15/06/2019',\n",
       " '27/05/2019',\n",
       " '09/05/2019',\n",
       " '24/06/2019',\n",
       " '09/04/2019',\n",
       " '06/06/2019',\n",
       " '27/05/2019',\n",
       " '12/06/2019',\n",
       " '09/06/2019',\n",
       " '24/04/2019',\n",
       " '27/04/2019',\n",
       " '15/05/2019',\n",
       " '15/06/2019',\n",
       " '01/03/2019',\n",
       " '27/03/2019',\n",
       " '01/06/2019',\n",
       " '18/03/2019',\n",
       " '21/03/2019',\n",
       " '21/06/2019',\n",
       " '24/06/2019',\n",
       " '09/06/2019',\n",
       " '24/03/2019',\n",
       " '27/06/2019',\n",
       " '06/03/2019',\n",
       " '24/03/2019',\n",
       " '15/05/2019',\n",
       " '12/06/2019',\n",
       " '03/03/2019',\n",
       " '09/04/2019',\n",
       " '09/03/2019',\n",
       " '15/04/2019',\n",
       " '24/05/2019',\n",
       " '09/04/2019',\n",
       " '03/04/2019',\n",
       " '03/06/2019',\n",
       " '09/05/2019',\n",
       " '27/03/2019',\n",
       " '12/06/2019',\n",
       " '24/03/2019',\n",
       " '18/03/2019',\n",
       " '06/03/2019',\n",
       " '09/05/2019',\n",
       " '09/04/2019',\n",
       " '01/05/2019',\n",
       " '06/06/2019',\n",
       " '27/03/2019',\n",
       " '01/06/2019',\n",
       " '18/06/2019',\n",
       " '18/05/2019',\n",
       " '27/05/2019',\n",
       " '01/06/2019',\n",
       " '09/05/2019',\n",
       " '15/05/2019',\n",
       " '03/03/2019',\n",
       " '21/05/2019',\n",
       " '06/06/2019',\n",
       " '01/03/2019',\n",
       " '03/06/2019',\n",
       " '09/03/2019',\n",
       " '06/06/2019',\n",
       " '12/03/2019',\n",
       " '03/06/2019',\n",
       " '15/06/2019',\n",
       " '09/03/2019',\n",
       " '06/06/2019',\n",
       " '06/06/2019',\n",
       " '21/05/2019',\n",
       " '18/04/2019',\n",
       " '03/06/2019',\n",
       " '12/06/2019',\n",
       " '18/05/2019',\n",
       " '12/06/2019',\n",
       " '21/05/2019',\n",
       " '21/03/2019',\n",
       " '18/05/2019',\n",
       " '24/03/2019',\n",
       " '12/05/2019',\n",
       " '18/05/2019',\n",
       " '06/03/2019',\n",
       " '09/03/2019',\n",
       " '15/05/2019',\n",
       " '18/05/2019',\n",
       " '18/05/2019',\n",
       " '12/04/2019',\n",
       " '21/05/2019',\n",
       " '06/06/2019',\n",
       " '03/03/2019',\n",
       " '15/05/2019',\n",
       " '09/04/2019',\n",
       " '06/05/2019',\n",
       " '12/04/2019',\n",
       " '09/05/2019',\n",
       " '01/04/2019',\n",
       " '18/04/2019',\n",
       " '01/06/2019',\n",
       " '18/05/2019',\n",
       " '03/03/2019',\n",
       " '21/04/2019',\n",
       " '09/04/2019',\n",
       " '06/06/2019',\n",
       " '21/04/2019',\n",
       " '12/05/2019',\n",
       " '18/05/2019',\n",
       " '15/03/2019',\n",
       " '09/06/2019',\n",
       " '06/04/2019',\n",
       " '24/06/2019',\n",
       " '01/06/2019',\n",
       " '15/05/2019',\n",
       " '01/04/2019',\n",
       " '09/06/2019',\n",
       " '01/06/2019',\n",
       " '27/06/2019',\n",
       " '18/04/2019',\n",
       " '06/06/2019',\n",
       " '18/05/2019',\n",
       " '03/04/2019',\n",
       " '27/06/2019',\n",
       " '18/05/2019',\n",
       " '15/06/2019',\n",
       " '03/06/2019',\n",
       " '01/05/2019',\n",
       " '24/04/2019',\n",
       " '09/03/2019',\n",
       " '15/06/2019',\n",
       " '12/05/2019',\n",
       " '06/03/2019',\n",
       " '09/06/2019',\n",
       " '03/03/2019',\n",
       " '03/05/2019',\n",
       " '21/03/2019',\n",
       " '03/06/2019',\n",
       " '24/06/2019',\n",
       " '06/03/2019',\n",
       " '09/03/2019',\n",
       " '03/03/2019',\n",
       " '03/06/2019',\n",
       " '18/05/2019',\n",
       " '03/04/2019',\n",
       " '21/05/2019',\n",
       " '12/06/2019',\n",
       " '18/05/2019',\n",
       " '24/05/2019',\n",
       " '09/05/2019',\n",
       " '21/04/2019',\n",
       " '06/03/2019',\n",
       " '01/03/2019',\n",
       " '18/05/2019',\n",
       " '01/06/2019',\n",
       " '18/03/2019',\n",
       " '01/03/2019',\n",
       " '01/04/2019',\n",
       " '06/03/2019',\n",
       " '06/06/2019',\n",
       " '21/03/2019',\n",
       " '06/05/2019',\n",
       " '06/06/2019',\n",
       " '01/04/2019',\n",
       " '15/05/2019',\n",
       " '12/06/2019',\n",
       " '09/06/2019',\n",
       " '27/03/2019',\n",
       " '18/05/2019',\n",
       " '06/06/2019',\n",
       " '03/03/2019',\n",
       " '27/05/2019',\n",
       " '09/03/2019',\n",
       " '09/05/2019',\n",
       " '21/05/2019',\n",
       " '01/06/2019',\n",
       " '01/03/2019',\n",
       " '09/03/2019',\n",
       " '21/03/2019',\n",
       " '06/05/2019',\n",
       " '27/06/2019',\n",
       " '03/03/2019',\n",
       " '27/05/2019',\n",
       " '15/05/2019',\n",
       " '21/03/2019',\n",
       " '27/04/2019',\n",
       " '03/03/2019',\n",
       " '21/04/2019',\n",
       " '27/05/2019',\n",
       " '21/05/2019',\n",
       " '21/03/2019',\n",
       " '01/05/2019',\n",
       " '27/05/2019',\n",
       " '27/05/2019',\n",
       " '24/05/2019',\n",
       " '24/04/2019',\n",
       " '06/05/2019',\n",
       " '15/06/2019',\n",
       " '06/06/2019',\n",
       " '24/03/2019',\n",
       " '06/05/2019',\n",
       " '09/05/2019',\n",
       " '06/03/2019',\n",
       " '01/03/2019',\n",
       " '06/04/2019',\n",
       " '01/04/2019',\n",
       " '18/05/2019',\n",
       " '24/04/2019',\n",
       " '06/03/2019',\n",
       " '24/03/2019',\n",
       " '24/03/2019',\n",
       " '09/03/2019',\n",
       " '24/06/2019',\n",
       " '12/06/2019',\n",
       " '01/06/2019',\n",
       " '21/05/2019',\n",
       " '24/04/2019',\n",
       " '03/03/2019',\n",
       " '21/03/2019',\n",
       " '09/03/2019',\n",
       " '15/06/2019',\n",
       " '01/04/2019',\n",
       " '09/05/2019',\n",
       " '09/06/2019',\n",
       " '06/05/2019',\n",
       " '15/05/2019',\n",
       " '09/05/2019',\n",
       " '12/04/2019',\n",
       " '15/06/2019',\n",
       " '18/04/2019',\n",
       " '12/06/2019',\n",
       " '01/06/2019',\n",
       " '06/03/2019',\n",
       " '21/05/2019',\n",
       " '21/06/2019',\n",
       " '03/03/2019',\n",
       " '18/05/2019',\n",
       " '06/04/2019',\n",
       " '03/03/2019',\n",
       " '24/03/2019',\n",
       " '27/05/2019',\n",
       " '09/03/2019',\n",
       " '01/06/2019',\n",
       " '01/03/2019',\n",
       " '15/06/2019',\n",
       " '15/06/2019',\n",
       " '21/04/2019',\n",
       " '15/05/2019',\n",
       " '24/04/2019',\n",
       " '18/05/2019',\n",
       " '03/04/2019',\n",
       " '15/06/2019',\n",
       " '18/05/2019',\n",
       " '24/03/2019',\n",
       " '09/05/2019',\n",
       " '15/03/2019',\n",
       " '15/05/2019',\n",
       " '01/06/2019',\n",
       " '21/04/2019',\n",
       " '18/05/2019',\n",
       " '09/05/2019',\n",
       " '21/05/2019',\n",
       " '21/03/2019',\n",
       " '06/03/2019',\n",
       " '01/06/2019',\n",
       " '06/04/2019',\n",
       " '18/05/2019',\n",
       " '15/04/2019',\n",
       " '27/05/2019',\n",
       " '15/03/2019',\n",
       " '01/06/2019',\n",
       " '21/03/2019',\n",
       " '09/05/2019',\n",
       " '01/04/2019',\n",
       " '01/05/2019',\n",
       " '09/05/2019',\n",
       " '01/05/2019',\n",
       " '21/03/2019',\n",
       " '15/06/2019',\n",
       " '27/03/2019',\n",
       " '06/04/2019',\n",
       " '09/05/2019',\n",
       " '27/05/2019',\n",
       " '27/03/2019',\n",
       " '03/05/2019',\n",
       " '01/05/2019',\n",
       " '12/03/2019',\n",
       " '15/03/2019',\n",
       " '15/06/2019',\n",
       " '06/06/2019',\n",
       " '06/03/2019',\n",
       " '12/03/2019',\n",
       " '06/05/2019',\n",
       " '12/03/2019',\n",
       " '15/03/2019',\n",
       " '18/05/2019',\n",
       " '01/03/2019',\n",
       " '06/05/2019',\n",
       " '06/06/2019',\n",
       " '01/05/2019',\n",
       " '03/05/2019',\n",
       " '03/03/2019',\n",
       " '21/03/2019',\n",
       " '27/04/2019',\n",
       " '27/05/2019',\n",
       " '15/06/2019',\n",
       " '21/05/2019',\n",
       " '21/04/2019',\n",
       " '12/06/2019',\n",
       " '21/05/2019',\n",
       " '18/05/2019',\n",
       " '24/05/2019',\n",
       " '27/03/2019',\n",
       " '06/03/2019',\n",
       " '21/06/2019',\n",
       " '12/06/2019',\n",
       " '09/04/2019',\n",
       " '03/03/2019',\n",
       " '06/03/2019',\n",
       " '27/05/2019',\n",
       " '09/06/2019',\n",
       " '03/05/2019',\n",
       " '24/03/2019',\n",
       " '01/03/2019',\n",
       " '15/05/2019',\n",
       " '24/06/2019',\n",
       " '09/04/2019',\n",
       " '27/03/2019',\n",
       " '09/06/2019',\n",
       " '09/06/2019',\n",
       " '24/04/2019',\n",
       " '18/05/2019',\n",
       " '27/04/2019',\n",
       " '03/03/2019',\n",
       " '18/05/2019',\n",
       " '12/06/2019',\n",
       " '03/06/2019',\n",
       " '21/05/2019',\n",
       " '21/03/2019',\n",
       " '06/06/2019',\n",
       " '09/05/2019',\n",
       " '18/05/2019',\n",
       " '18/06/2019',\n",
       " '15/06/2019',\n",
       " '15/05/2019',\n",
       " '03/05/2019',\n",
       " '18/05/2019',\n",
       " '15/05/2019',\n",
       " '09/05/2019',\n",
       " '01/06/2019',\n",
       " '27/05/2019',\n",
       " '12/06/2019',\n",
       " '15/03/2019',\n",
       " '01/06/2019',\n",
       " '21/03/2019',\n",
       " '18/06/2019',\n",
       " '03/04/2019',\n",
       " '27/06/2019',\n",
       " '24/03/2019',\n",
       " '03/03/2019',\n",
       " '12/05/2019',\n",
       " '27/05/2019',\n",
       " '09/04/2019',\n",
       " '18/03/2019',\n",
       " '15/06/2019',\n",
       " '27/05/2019',\n",
       " '09/05/2019',\n",
       " '06/05/2019',\n",
       " '01/05/2019',\n",
       " '24/03/2019',\n",
       " '03/05/2019',\n",
       " '21/03/2019',\n",
       " '21/05/2019',\n",
       " '09/05/2019',\n",
       " '21/03/2019',\n",
       " '15/06/2019',\n",
       " '01/06/2019',\n",
       " '12/05/2019',\n",
       " '27/03/2019',\n",
       " '24/03/2019',\n",
       " '18/03/2019',\n",
       " '01/04/2019',\n",
       " '27/03/2019',\n",
       " '21/03/2019',\n",
       " '12/06/2019',\n",
       " '24/03/2019',\n",
       " '21/03/2019',\n",
       " '15/06/2019',\n",
       " '18/05/2019',\n",
       " '06/04/2019',\n",
       " '15/05/2019',\n",
       " '18/04/2019',\n",
       " '01/06/2019',\n",
       " '21/03/2019',\n",
       " '12/06/2019',\n",
       " '06/03/2019',\n",
       " '21/05/2019',\n",
       " '03/04/2019',\n",
       " '15/04/2019',\n",
       " '12/05/2019',\n",
       " '24/06/2019',\n",
       " '09/05/2019',\n",
       " '01/06/2019',\n",
       " '27/04/2019',\n",
       " '27/05/2019',\n",
       " '09/06/2019',\n",
       " '15/05/2019',\n",
       " '06/05/2019',\n",
       " '01/06/2019',\n",
       " '12/06/2019',\n",
       " '09/06/2019',\n",
       " '09/03/2019',\n",
       " '06/03/2019',\n",
       " '18/04/2019',\n",
       " '15/05/2019',\n",
       " '27/06/2019',\n",
       " '01/06/2019',\n",
       " '27/06/2019',\n",
       " '27/05/2019',\n",
       " '01/06/2019',\n",
       " '09/06/2019',\n",
       " '27/04/2019',\n",
       " '18/05/2019',\n",
       " '24/03/2019',\n",
       " '03/06/2019',\n",
       " '24/06/2019',\n",
       " '03/03/2019',\n",
       " '18/06/2019',\n",
       " '24/06/2019',\n",
       " '03/06/2019',\n",
       " '09/04/2019',\n",
       " '27/05/2019',\n",
       " '09/05/2019',\n",
       " '21/05/2019',\n",
       " '06/06/2019',\n",
       " '09/05/2019',\n",
       " '06/05/2019',\n",
       " '21/05/2019',\n",
       " '03/03/2019',\n",
       " '09/06/2019',\n",
       " '21/03/2019',\n",
       " '15/05/2019',\n",
       " '24/04/2019',\n",
       " '21/05/2019',\n",
       " '24/05/2019',\n",
       " '15/06/2019',\n",
       " '03/04/2019',\n",
       " '21/03/2019',\n",
       " '24/06/2019',\n",
       " '01/06/2019',\n",
       " '27/06/2019',\n",
       " '01/03/2019',\n",
       " '21/03/2019',\n",
       " '06/03/2019',\n",
       " '15/05/2019',\n",
       " '24/03/2019',\n",
       " '09/05/2019',\n",
       " '06/06/2019',\n",
       " '09/05/2019',\n",
       " '09/03/2019',\n",
       " '18/05/2019',\n",
       " '01/03/2019',\n",
       " '09/04/2019',\n",
       " '27/05/2019',\n",
       " '01/06/2019',\n",
       " '03/03/2019',\n",
       " '24/03/2019',\n",
       " '01/06/2019',\n",
       " '12/06/2019',\n",
       " '15/03/2019',\n",
       " '03/03/2019',\n",
       " '06/03/2019',\n",
       " '21/05/2019',\n",
       " '01/06/2019',\n",
       " '18/05/2019',\n",
       " '03/03/2019',\n",
       " '18/05/2019',\n",
       " '15/05/2019',\n",
       " '18/05/2019',\n",
       " '06/05/2019',\n",
       " '18/06/2019',\n",
       " '06/04/2019',\n",
       " '24/05/2019',\n",
       " '21/05/2019',\n",
       " '21/03/2019',\n",
       " '12/06/2019',\n",
       " '21/06/2019',\n",
       " '09/05/2019',\n",
       " '09/05/2019',\n",
       " '09/06/2019',\n",
       " '03/03/2019',\n",
       " '18/05/2019',\n",
       " '01/03/2019',\n",
       " '21/05/2019',\n",
       " '01/04/2019',\n",
       " '21/05/2019',\n",
       " '27/06/2019',\n",
       " '09/05/2019',\n",
       " '09/05/2019',\n",
       " '09/04/2019',\n",
       " '09/03/2019',\n",
       " '18/05/2019',\n",
       " '06/06/2019',\n",
       " '01/03/2019',\n",
       " '18/05/2019',\n",
       " '27/06/2019',\n",
       " '12/06/2019',\n",
       " '15/06/2019',\n",
       " '27/06/2019',\n",
       " '09/05/2019',\n",
       " '24/05/2019',\n",
       " '21/03/2019',\n",
       " '15/06/2019',\n",
       " '18/06/2019',\n",
       " '15/05/2019',\n",
       " '27/05/2019',\n",
       " '09/06/2019',\n",
       " '09/05/2019',\n",
       " '24/05/2019',\n",
       " '06/06/2019',\n",
       " '15/06/2019',\n",
       " '06/06/2019',\n",
       " '24/05/2019',\n",
       " '24/03/2019',\n",
       " '01/04/2019',\n",
       " '01/05/2019',\n",
       " '03/03/2019',\n",
       " '27/04/2019',\n",
       " '27/06/2019',\n",
       " '12/06/2019',\n",
       " '18/05/2019',\n",
       " '09/05/2019',\n",
       " '15/03/2019',\n",
       " '12/03/2019',\n",
       " '06/06/2019',\n",
       " '21/03/2019',\n",
       " '21/03/2019',\n",
       " '06/03/2019',\n",
       " '18/05/2019',\n",
       " '01/04/2019',\n",
       " '27/06/2019',\n",
       " '03/03/2019',\n",
       " '03/06/2019',\n",
       " '27/06/2019',\n",
       " '21/03/2019',\n",
       " '01/05/2019',\n",
       " '06/06/2019',\n",
       " '15/05/2019',\n",
       " '06/06/2019',\n",
       " '27/05/2019',\n",
       " '09/05/2019',\n",
       " '15/05/2019',\n",
       " '27/06/2019',\n",
       " '24/06/2019',\n",
       " '15/05/2019',\n",
       " '09/06/2019',\n",
       " '06/03/2019',\n",
       " '06/03/2019',\n",
       " '09/03/2019',\n",
       " '15/05/2019',\n",
       " '15/05/2019',\n",
       " '03/03/2019',\n",
       " '24/03/2019',\n",
       " '24/05/2019',\n",
       " '24/03/2019',\n",
       " '09/06/2019',\n",
       " '12/05/2019',\n",
       " '09/05/2019',\n",
       " '09/03/2019',\n",
       " '01/06/2019',\n",
       " '27/05/2019',\n",
       " '18/05/2019',\n",
       " '03/04/2019',\n",
       " '21/04/2019',\n",
       " '09/05/2019',\n",
       " '15/04/2019',\n",
       " '21/05/2019',\n",
       " '18/04/2019',\n",
       " '21/05/2019',\n",
       " '01/04/2019',\n",
       " '06/06/2019',\n",
       " '03/06/2019',\n",
       " '03/03/2019',\n",
       " '12/06/2019',\n",
       " '15/06/2019',\n",
       " '12/05/2019',\n",
       " '21/06/2019',\n",
       " '12/05/2019',\n",
       " '27/03/2019',\n",
       " '01/03/2019',\n",
       " '03/03/2019',\n",
       " '06/03/2019',\n",
       " '27/03/2019',\n",
       " '27/03/2019',\n",
       " '21/03/2019',\n",
       " '01/06/2019',\n",
       " '18/03/2019',\n",
       " '24/03/2019',\n",
       " '09/03/2019',\n",
       " '09/03/2019',\n",
       " '21/03/2019',\n",
       " '27/06/2019',\n",
       " '01/03/2019',\n",
       " '09/05/2019',\n",
       " '24/06/2019',\n",
       " '06/06/2019',\n",
       " '09/06/2019',\n",
       " '09/06/2019',\n",
       " '12/05/2019',\n",
       " '21/05/2019',\n",
       " '15/05/2019',\n",
       " '15/03/2019',\n",
       " '01/03/2019',\n",
       " '12/05/2019',\n",
       " '21/05/2019',\n",
       " '12/05/2019',\n",
       " '03/03/2019',\n",
       " '06/06/2019',\n",
       " '03/06/2019',\n",
       " '03/03/2019',\n",
       " '03/06/2019',\n",
       " '12/05/2019',\n",
       " '18/05/2019',\n",
       " '03/04/2019',\n",
       " '18/05/2019',\n",
       " '01/03/2019',\n",
       " '01/06/2019',\n",
       " '27/05/2019',\n",
       " '24/05/2019',\n",
       " '15/06/2019',\n",
       " '18/05/2019',\n",
       " '15/04/2019',\n",
       " '21/05/2019',\n",
       " '09/03/2019',\n",
       " '18/06/2019',\n",
       " '06/03/2019',\n",
       " '21/03/2019',\n",
       " '01/03/2019',\n",
       " '12/06/2019',\n",
       " '09/03/2019',\n",
       " '03/06/2019',\n",
       " '01/03/2019',\n",
       " '12/03/2019',\n",
       " '01/04/2019',\n",
       " '06/06/2019',\n",
       " '09/05/2019',\n",
       " '12/03/2019',\n",
       " '12/06/2019',\n",
       " '09/06/2019',\n",
       " '03/06/2019',\n",
       " '06/03/2019',\n",
       " '21/05/2019',\n",
       " '21/06/2019',\n",
       " '15/05/2019',\n",
       " '27/05/2019',\n",
       " '21/03/2019',\n",
       " '15/06/2019',\n",
       " '03/03/2019',\n",
       " '03/03/2019',\n",
       " '21/04/2019',\n",
       " '12/05/2019',\n",
       " '12/04/2019',\n",
       " '21/05/2019',\n",
       " '27/05/2019',\n",
       " '27/05/2019',\n",
       " '24/05/2019',\n",
       " ...]"
      ]
     },
     "execution_count": 44,
     "metadata": {},
     "output_type": "execute_result"
    }
   ],
   "source": [
    "dates"
   ]
  },
  {
   "cell_type": "code",
   "execution_count": 45,
   "id": "8a31888e",
   "metadata": {},
   "outputs": [],
   "source": [
    "df['Date_of_Journey'] = dates"
   ]
  },
  {
   "cell_type": "code",
   "execution_count": 46,
   "id": "577b3fb1",
   "metadata": {},
   "outputs": [
    {
     "data": {
      "text/plain": [
       "0        24/03/2019\n",
       "1        01/05/2019\n",
       "2        09/06/2019\n",
       "3        12/05/2019\n",
       "4        01/03/2019\n",
       "            ...    \n",
       "10678    09/04/2019\n",
       "10679    27/04/2019\n",
       "10680    27/04/2019\n",
       "10681    01/03/2019\n",
       "10682    09/05/2019\n",
       "Name: Date_of_Journey, Length: 10682, dtype: object"
      ]
     },
     "execution_count": 46,
     "metadata": {},
     "output_type": "execute_result"
    }
   ],
   "source": [
    "df['Date_of_Journey']"
   ]
  },
  {
   "cell_type": "code",
   "execution_count": 47,
   "id": "abe561d0",
   "metadata": {},
   "outputs": [
    {
     "data": {
      "text/html": [
       "<div>\n",
       "<style scoped>\n",
       "    .dataframe tbody tr th:only-of-type {\n",
       "        vertical-align: middle;\n",
       "    }\n",
       "\n",
       "    .dataframe tbody tr th {\n",
       "        vertical-align: top;\n",
       "    }\n",
       "\n",
       "    .dataframe thead th {\n",
       "        text-align: right;\n",
       "    }\n",
       "</style>\n",
       "<table border=\"1\" class=\"dataframe\">\n",
       "  <thead>\n",
       "    <tr style=\"text-align: right;\">\n",
       "      <th></th>\n",
       "      <th>Airline</th>\n",
       "      <th>Date_of_Journey</th>\n",
       "      <th>Source</th>\n",
       "      <th>Destination</th>\n",
       "      <th>Route</th>\n",
       "      <th>Dep_Time</th>\n",
       "      <th>Arrival_Time</th>\n",
       "      <th>Duration</th>\n",
       "      <th>Total_Stops</th>\n",
       "      <th>Additional_Info</th>\n",
       "      <th>Price</th>\n",
       "    </tr>\n",
       "  </thead>\n",
       "  <tbody>\n",
       "    <tr>\n",
       "      <th>0</th>\n",
       "      <td>IndiGo</td>\n",
       "      <td>24/03/2019</td>\n",
       "      <td>Banglore</td>\n",
       "      <td>New Delhi</td>\n",
       "      <td>BLR → DEL</td>\n",
       "      <td>22:20</td>\n",
       "      <td>01:10 22 Mar</td>\n",
       "      <td>2h 50m</td>\n",
       "      <td>non-stop</td>\n",
       "      <td>No info</td>\n",
       "      <td>3897</td>\n",
       "    </tr>\n",
       "    <tr>\n",
       "      <th>1</th>\n",
       "      <td>Air India</td>\n",
       "      <td>01/05/2019</td>\n",
       "      <td>Kolkata</td>\n",
       "      <td>Banglore</td>\n",
       "      <td>CCU → IXR → BBI → BLR</td>\n",
       "      <td>05:50</td>\n",
       "      <td>13:15</td>\n",
       "      <td>7h 25m</td>\n",
       "      <td>2 stops</td>\n",
       "      <td>No info</td>\n",
       "      <td>7662</td>\n",
       "    </tr>\n",
       "    <tr>\n",
       "      <th>2</th>\n",
       "      <td>Jet Airways</td>\n",
       "      <td>09/06/2019</td>\n",
       "      <td>Delhi</td>\n",
       "      <td>Cochin</td>\n",
       "      <td>DEL → LKO → BOM → COK</td>\n",
       "      <td>09:25</td>\n",
       "      <td>04:25 10 Jun</td>\n",
       "      <td>19h</td>\n",
       "      <td>2 stops</td>\n",
       "      <td>No info</td>\n",
       "      <td>13882</td>\n",
       "    </tr>\n",
       "    <tr>\n",
       "      <th>3</th>\n",
       "      <td>IndiGo</td>\n",
       "      <td>12/05/2019</td>\n",
       "      <td>Kolkata</td>\n",
       "      <td>Banglore</td>\n",
       "      <td>CCU → NAG → BLR</td>\n",
       "      <td>18:05</td>\n",
       "      <td>23:30</td>\n",
       "      <td>5h 25m</td>\n",
       "      <td>1 stop</td>\n",
       "      <td>No info</td>\n",
       "      <td>6218</td>\n",
       "    </tr>\n",
       "    <tr>\n",
       "      <th>4</th>\n",
       "      <td>IndiGo</td>\n",
       "      <td>01/03/2019</td>\n",
       "      <td>Banglore</td>\n",
       "      <td>New Delhi</td>\n",
       "      <td>BLR → NAG → DEL</td>\n",
       "      <td>16:50</td>\n",
       "      <td>21:35</td>\n",
       "      <td>4h 45m</td>\n",
       "      <td>1 stop</td>\n",
       "      <td>No info</td>\n",
       "      <td>13302</td>\n",
       "    </tr>\n",
       "    <tr>\n",
       "      <th>...</th>\n",
       "      <td>...</td>\n",
       "      <td>...</td>\n",
       "      <td>...</td>\n",
       "      <td>...</td>\n",
       "      <td>...</td>\n",
       "      <td>...</td>\n",
       "      <td>...</td>\n",
       "      <td>...</td>\n",
       "      <td>...</td>\n",
       "      <td>...</td>\n",
       "      <td>...</td>\n",
       "    </tr>\n",
       "    <tr>\n",
       "      <th>10678</th>\n",
       "      <td>Air Asia</td>\n",
       "      <td>09/04/2019</td>\n",
       "      <td>Kolkata</td>\n",
       "      <td>Banglore</td>\n",
       "      <td>CCU → BLR</td>\n",
       "      <td>19:55</td>\n",
       "      <td>22:25</td>\n",
       "      <td>2h 30m</td>\n",
       "      <td>non-stop</td>\n",
       "      <td>No info</td>\n",
       "      <td>4107</td>\n",
       "    </tr>\n",
       "    <tr>\n",
       "      <th>10679</th>\n",
       "      <td>Air India</td>\n",
       "      <td>27/04/2019</td>\n",
       "      <td>Kolkata</td>\n",
       "      <td>Banglore</td>\n",
       "      <td>CCU → BLR</td>\n",
       "      <td>20:45</td>\n",
       "      <td>23:20</td>\n",
       "      <td>2h 35m</td>\n",
       "      <td>non-stop</td>\n",
       "      <td>No info</td>\n",
       "      <td>4145</td>\n",
       "    </tr>\n",
       "    <tr>\n",
       "      <th>10680</th>\n",
       "      <td>Jet Airways</td>\n",
       "      <td>27/04/2019</td>\n",
       "      <td>Banglore</td>\n",
       "      <td>New Delhi</td>\n",
       "      <td>BLR → DEL</td>\n",
       "      <td>08:20</td>\n",
       "      <td>11:20</td>\n",
       "      <td>3h</td>\n",
       "      <td>non-stop</td>\n",
       "      <td>No info</td>\n",
       "      <td>7229</td>\n",
       "    </tr>\n",
       "    <tr>\n",
       "      <th>10681</th>\n",
       "      <td>Vistara</td>\n",
       "      <td>01/03/2019</td>\n",
       "      <td>Banglore</td>\n",
       "      <td>New Delhi</td>\n",
       "      <td>BLR → DEL</td>\n",
       "      <td>11:30</td>\n",
       "      <td>14:10</td>\n",
       "      <td>2h 40m</td>\n",
       "      <td>non-stop</td>\n",
       "      <td>No info</td>\n",
       "      <td>12648</td>\n",
       "    </tr>\n",
       "    <tr>\n",
       "      <th>10682</th>\n",
       "      <td>Air India</td>\n",
       "      <td>09/05/2019</td>\n",
       "      <td>Delhi</td>\n",
       "      <td>Cochin</td>\n",
       "      <td>DEL → GOI → BOM → COK</td>\n",
       "      <td>10:55</td>\n",
       "      <td>19:15</td>\n",
       "      <td>8h 20m</td>\n",
       "      <td>2 stops</td>\n",
       "      <td>No info</td>\n",
       "      <td>11753</td>\n",
       "    </tr>\n",
       "  </tbody>\n",
       "</table>\n",
       "<p>10682 rows × 11 columns</p>\n",
       "</div>"
      ],
      "text/plain": [
       "           Airline Date_of_Journey    Source Destination  \\\n",
       "0           IndiGo      24/03/2019  Banglore   New Delhi   \n",
       "1        Air India      01/05/2019   Kolkata    Banglore   \n",
       "2      Jet Airways      09/06/2019     Delhi      Cochin   \n",
       "3           IndiGo      12/05/2019   Kolkata    Banglore   \n",
       "4           IndiGo      01/03/2019  Banglore   New Delhi   \n",
       "...            ...             ...       ...         ...   \n",
       "10678     Air Asia      09/04/2019   Kolkata    Banglore   \n",
       "10679    Air India      27/04/2019   Kolkata    Banglore   \n",
       "10680  Jet Airways      27/04/2019  Banglore   New Delhi   \n",
       "10681      Vistara      01/03/2019  Banglore   New Delhi   \n",
       "10682    Air India      09/05/2019     Delhi      Cochin   \n",
       "\n",
       "                       Route Dep_Time  Arrival_Time Duration Total_Stops  \\\n",
       "0                  BLR → DEL    22:20  01:10 22 Mar   2h 50m    non-stop   \n",
       "1      CCU → IXR → BBI → BLR    05:50         13:15   7h 25m     2 stops   \n",
       "2      DEL → LKO → BOM → COK    09:25  04:25 10 Jun      19h     2 stops   \n",
       "3            CCU → NAG → BLR    18:05         23:30   5h 25m      1 stop   \n",
       "4            BLR → NAG → DEL    16:50         21:35   4h 45m      1 stop   \n",
       "...                      ...      ...           ...      ...         ...   \n",
       "10678              CCU → BLR    19:55         22:25   2h 30m    non-stop   \n",
       "10679              CCU → BLR    20:45         23:20   2h 35m    non-stop   \n",
       "10680              BLR → DEL    08:20         11:20       3h    non-stop   \n",
       "10681              BLR → DEL    11:30         14:10   2h 40m    non-stop   \n",
       "10682  DEL → GOI → BOM → COK    10:55         19:15   8h 20m     2 stops   \n",
       "\n",
       "      Additional_Info  Price  \n",
       "0             No info   3897  \n",
       "1             No info   7662  \n",
       "2             No info  13882  \n",
       "3             No info   6218  \n",
       "4             No info  13302  \n",
       "...               ...    ...  \n",
       "10678         No info   4107  \n",
       "10679         No info   4145  \n",
       "10680         No info   7229  \n",
       "10681         No info  12648  \n",
       "10682         No info  11753  \n",
       "\n",
       "[10682 rows x 11 columns]"
      ]
     },
     "execution_count": 47,
     "metadata": {},
     "output_type": "execute_result"
    }
   ],
   "source": [
    "df"
   ]
  },
  {
   "cell_type": "markdown",
   "id": "00b48419",
   "metadata": {},
   "source": [
    "Now the date values are uniform."
   ]
  },
  {
   "cell_type": "markdown",
   "id": "58ec7c5f",
   "metadata": {},
   "source": [
    "# Creating month column"
   ]
  },
  {
   "cell_type": "code",
   "execution_count": 48,
   "id": "d5f01fdb",
   "metadata": {},
   "outputs": [],
   "source": [
    "df['Month'] = [int(x[3:5]) for x in df['Date_of_Journey']]"
   ]
  },
  {
   "cell_type": "code",
   "execution_count": 49,
   "id": "6c0794f6",
   "metadata": {},
   "outputs": [
    {
     "data": {
      "text/html": [
       "<div>\n",
       "<style scoped>\n",
       "    .dataframe tbody tr th:only-of-type {\n",
       "        vertical-align: middle;\n",
       "    }\n",
       "\n",
       "    .dataframe tbody tr th {\n",
       "        vertical-align: top;\n",
       "    }\n",
       "\n",
       "    .dataframe thead th {\n",
       "        text-align: right;\n",
       "    }\n",
       "</style>\n",
       "<table border=\"1\" class=\"dataframe\">\n",
       "  <thead>\n",
       "    <tr style=\"text-align: right;\">\n",
       "      <th></th>\n",
       "      <th>Airline</th>\n",
       "      <th>Date_of_Journey</th>\n",
       "      <th>Source</th>\n",
       "      <th>Destination</th>\n",
       "      <th>Route</th>\n",
       "      <th>Dep_Time</th>\n",
       "      <th>Arrival_Time</th>\n",
       "      <th>Duration</th>\n",
       "      <th>Total_Stops</th>\n",
       "      <th>Additional_Info</th>\n",
       "      <th>Price</th>\n",
       "      <th>Month</th>\n",
       "    </tr>\n",
       "  </thead>\n",
       "  <tbody>\n",
       "    <tr>\n",
       "      <th>0</th>\n",
       "      <td>IndiGo</td>\n",
       "      <td>24/03/2019</td>\n",
       "      <td>Banglore</td>\n",
       "      <td>New Delhi</td>\n",
       "      <td>BLR → DEL</td>\n",
       "      <td>22:20</td>\n",
       "      <td>01:10 22 Mar</td>\n",
       "      <td>2h 50m</td>\n",
       "      <td>non-stop</td>\n",
       "      <td>No info</td>\n",
       "      <td>3897</td>\n",
       "      <td>3</td>\n",
       "    </tr>\n",
       "    <tr>\n",
       "      <th>1</th>\n",
       "      <td>Air India</td>\n",
       "      <td>01/05/2019</td>\n",
       "      <td>Kolkata</td>\n",
       "      <td>Banglore</td>\n",
       "      <td>CCU → IXR → BBI → BLR</td>\n",
       "      <td>05:50</td>\n",
       "      <td>13:15</td>\n",
       "      <td>7h 25m</td>\n",
       "      <td>2 stops</td>\n",
       "      <td>No info</td>\n",
       "      <td>7662</td>\n",
       "      <td>5</td>\n",
       "    </tr>\n",
       "    <tr>\n",
       "      <th>2</th>\n",
       "      <td>Jet Airways</td>\n",
       "      <td>09/06/2019</td>\n",
       "      <td>Delhi</td>\n",
       "      <td>Cochin</td>\n",
       "      <td>DEL → LKO → BOM → COK</td>\n",
       "      <td>09:25</td>\n",
       "      <td>04:25 10 Jun</td>\n",
       "      <td>19h</td>\n",
       "      <td>2 stops</td>\n",
       "      <td>No info</td>\n",
       "      <td>13882</td>\n",
       "      <td>6</td>\n",
       "    </tr>\n",
       "    <tr>\n",
       "      <th>3</th>\n",
       "      <td>IndiGo</td>\n",
       "      <td>12/05/2019</td>\n",
       "      <td>Kolkata</td>\n",
       "      <td>Banglore</td>\n",
       "      <td>CCU → NAG → BLR</td>\n",
       "      <td>18:05</td>\n",
       "      <td>23:30</td>\n",
       "      <td>5h 25m</td>\n",
       "      <td>1 stop</td>\n",
       "      <td>No info</td>\n",
       "      <td>6218</td>\n",
       "      <td>5</td>\n",
       "    </tr>\n",
       "    <tr>\n",
       "      <th>4</th>\n",
       "      <td>IndiGo</td>\n",
       "      <td>01/03/2019</td>\n",
       "      <td>Banglore</td>\n",
       "      <td>New Delhi</td>\n",
       "      <td>BLR → NAG → DEL</td>\n",
       "      <td>16:50</td>\n",
       "      <td>21:35</td>\n",
       "      <td>4h 45m</td>\n",
       "      <td>1 stop</td>\n",
       "      <td>No info</td>\n",
       "      <td>13302</td>\n",
       "      <td>3</td>\n",
       "    </tr>\n",
       "  </tbody>\n",
       "</table>\n",
       "</div>"
      ],
      "text/plain": [
       "       Airline Date_of_Journey    Source Destination                  Route  \\\n",
       "0       IndiGo      24/03/2019  Banglore   New Delhi              BLR → DEL   \n",
       "1    Air India      01/05/2019   Kolkata    Banglore  CCU → IXR → BBI → BLR   \n",
       "2  Jet Airways      09/06/2019     Delhi      Cochin  DEL → LKO → BOM → COK   \n",
       "3       IndiGo      12/05/2019   Kolkata    Banglore        CCU → NAG → BLR   \n",
       "4       IndiGo      01/03/2019  Banglore   New Delhi        BLR → NAG → DEL   \n",
       "\n",
       "  Dep_Time  Arrival_Time Duration Total_Stops Additional_Info  Price  Month  \n",
       "0    22:20  01:10 22 Mar   2h 50m    non-stop         No info   3897      3  \n",
       "1    05:50         13:15   7h 25m     2 stops         No info   7662      5  \n",
       "2    09:25  04:25 10 Jun      19h     2 stops         No info  13882      6  \n",
       "3    18:05         23:30   5h 25m      1 stop         No info   6218      5  \n",
       "4    16:50         21:35   4h 45m      1 stop         No info  13302      3  "
      ]
     },
     "execution_count": 49,
     "metadata": {},
     "output_type": "execute_result"
    }
   ],
   "source": [
    "df.head()"
   ]
  },
  {
   "cell_type": "markdown",
   "id": "02bba126",
   "metadata": {},
   "source": [
    "Now we have a month column containing the month in which the flight took place "
   ]
  },
  {
   "cell_type": "code",
   "execution_count": 50,
   "id": "2a7a6e30",
   "metadata": {},
   "outputs": [
    {
     "data": {
      "text/plain": [
       "<AxesSubplot:xlabel='Month', ylabel='count'>"
      ]
     },
     "execution_count": 50,
     "metadata": {},
     "output_type": "execute_result"
    },
    {
     "data": {
      "image/png": "[encoded data removed]",
      "text/plain": [
       "<Figure size 432x288 with 1 Axes>"
      ]
     },
     "metadata": {
      "needs_background": "light"
     },
     "output_type": "display_data"
    }
   ],
   "source": [
    "sns.countplot(df['Month'])"
   ]
  },
  {
   "cell_type": "markdown",
   "id": "256b0517",
   "metadata": {},
   "source": [
    "Least flights took place in April, and most in May."
   ]
  },
  {
   "cell_type": "code",
   "execution_count": 51,
   "id": "c8698f99",
   "metadata": {},
   "outputs": [
    {
     "data": {
      "text/plain": [
       "<AxesSubplot:xlabel='Month', ylabel='Price'>"
      ]
     },
     "execution_count": 51,
     "metadata": {},
     "output_type": "execute_result"
    },
    {
     "data": {
      "image/png": "[encoded data removed]",
      "text/plain": [
       "<Figure size 432x288 with 1 Axes>"
      ]
     },
     "metadata": {
      "needs_background": "light"
     },
     "output_type": "display_data"
    }
   ],
   "source": [
    "sns.lineplot(df['Month'], df['Price'])"
   ]
  },
  {
   "cell_type": "markdown",
   "id": "899ec5d8",
   "metadata": {},
   "source": [
    "Highest prices are in march, least in April. This can be explained by the lower volume of flights in April that we can see above."
   ]
  },
  {
   "cell_type": "markdown",
   "id": "31b17425",
   "metadata": {},
   "source": [
    "# Creating weekend column"
   ]
  },
  {
   "cell_type": "code",
   "execution_count": 52,
   "id": "9de7c603",
   "metadata": {},
   "outputs": [
    {
     "data": {
      "text/plain": [
       "array([3, 5, 6, 4], dtype=int64)"
      ]
     },
     "execution_count": 52,
     "metadata": {},
     "output_type": "execute_result"
    }
   ],
   "source": [
    "df['Month'].unique()"
   ]
  },
  {
   "cell_type": "code",
   "execution_count": 53,
   "id": "4e0f2fc0",
   "metadata": {},
   "outputs": [
    {
     "data": {
      "text/plain": [
       "array(['24/03/2019', '01/05/2019', '09/06/2019', '12/05/2019',\n",
       "       '01/03/2019', '24/06/2019', '12/03/2019', '27/05/2019',\n",
       "       '01/06/2019', '18/04/2019', '09/05/2019', '24/04/2019',\n",
       "       '03/03/2019', '15/04/2019', '12/06/2019', '06/03/2019',\n",
       "       '21/03/2019', '03/04/2019', '06/05/2019', '15/05/2019',\n",
       "       '18/06/2019', '15/06/2019', '06/04/2019', '18/05/2019',\n",
       "       '27/06/2019', '21/05/2019', '03/06/2019', '15/03/2019',\n",
       "       '03/05/2019', '09/03/2019', '06/06/2019', '24/05/2019',\n",
       "       '01/04/2019', '21/04/2019', '21/06/2019', '27/03/2019',\n",
       "       '18/03/2019', '12/04/2019', '09/04/2019', '27/04/2019'],\n",
       "      dtype=object)"
      ]
     },
     "execution_count": 53,
     "metadata": {},
     "output_type": "execute_result"
    }
   ],
   "source": [
    "df['Date_of_Journey'].unique()"
   ]
  },
  {
   "cell_type": "code",
   "execution_count": 54,
   "id": "e44bf0f7",
   "metadata": {},
   "outputs": [],
   "source": [
    "df = df.sort_values(by = 'Month')"
   ]
  },
  {
   "cell_type": "code",
   "execution_count": 55,
   "id": "75575506",
   "metadata": {},
   "outputs": [],
   "source": [
    "weekend=[]\n",
    "for i in df.loc[df['Month'] == 3, 'Date_of_Journey']:\n",
    "    if i[0:2] == '01' or i[0:2] == '02' or i[0:2] == '03' or i[0:2] == '08' or i[0:2] == '09' or i[0:2] == '10' or i[0:2] == '15' or i[0:2] == '16' or i[0:2] == '17' or i[0:2] == '22' or i[0:2] == '23' or i[0:2] == '24' or i[0:2] == '29' or i[0:2] == '30' or i[0:2] == '31':\n",
    "        weekend.append('Yes')\n",
    "    else:\n",
    "        weekend.append('No')\n",
    "            \n",
    "for i in df.loc[df['Month'] == 4, 'Date_of_Journey']:\n",
    "    if i[0:2] == '5' or i[0:2] == '6' or i[0:2] == '7' or i[0:2] == '12' or i[0:2] == '13' or i[0:2] == '14' or i[0:2] == '19' or i[0:2] == '20' or i[0:2] == '21' or i[0:2] == '26' or i[0:2] == '27' or i[0:2] == '28':\n",
    "        weekend.append('Yes')\n",
    "    else:\n",
    "        weekend.append('No')\n",
    "            \n",
    "for i in df.loc[df['Month'] == 5, 'Date_of_Journey']:\n",
    "    if i[0:2] == '3' or i[0:2] == '4' or i[0:2] == '5' or i[0:2] == '10' or i[0:2] == '11' or i[0:2] == '12' or i[0:2] == '17' or i[0:2] == '18' or i[0:2] == '19' or i[0:2] == '24' or i[0:2] == '25' or i[0:2] == '26' or i[0:2] == '31':\n",
    "        weekend.append('Yes')\n",
    "    else:\n",
    "        weekend.append('No')\n",
    "\n",
    "for i in df.loc[df['Month'] == 6, 'Date_of_Journey']:\n",
    "    if i[0:2] == '1' or i[0:2] == '2' or i[0:2] == '7' or i[0:2] == '8' or i[0:2] == '9' or i[0:2] == '14' or i[0:2] == '15' or i[0:2] == '16' or i[0:2] == '21' or i[0:2] == '22' or i[0:2] == '23' or i[0:2] == '28' or i[0:2] == '29' or i[0:2] == '30':\n",
    "        weekend.append('Yes')\n",
    "    else:\n",
    "        weekend.append('No')"
   ]
  },
  {
   "cell_type": "code",
   "execution_count": 56,
   "id": "da4c3761",
   "metadata": {},
   "outputs": [],
   "source": [
    "df['Weekend'] = weekend"
   ]
  },
  {
   "cell_type": "code",
   "execution_count": 57,
   "id": "151b8ca2",
   "metadata": {},
   "outputs": [
    {
     "data": {
      "text/html": [
       "<div>\n",
       "<style scoped>\n",
       "    .dataframe tbody tr th:only-of-type {\n",
       "        vertical-align: middle;\n",
       "    }\n",
       "\n",
       "    .dataframe tbody tr th {\n",
       "        vertical-align: top;\n",
       "    }\n",
       "\n",
       "    .dataframe thead th {\n",
       "        text-align: right;\n",
       "    }\n",
       "</style>\n",
       "<table border=\"1\" class=\"dataframe\">\n",
       "  <thead>\n",
       "    <tr style=\"text-align: right;\">\n",
       "      <th></th>\n",
       "      <th>Airline</th>\n",
       "      <th>Date_of_Journey</th>\n",
       "      <th>Source</th>\n",
       "      <th>Destination</th>\n",
       "      <th>Route</th>\n",
       "      <th>Dep_Time</th>\n",
       "      <th>Arrival_Time</th>\n",
       "      <th>Duration</th>\n",
       "      <th>Total_Stops</th>\n",
       "      <th>Additional_Info</th>\n",
       "      <th>Price</th>\n",
       "      <th>Month</th>\n",
       "      <th>Weekend</th>\n",
       "    </tr>\n",
       "  </thead>\n",
       "  <tbody>\n",
       "    <tr>\n",
       "      <th>0</th>\n",
       "      <td>IndiGo</td>\n",
       "      <td>24/03/2019</td>\n",
       "      <td>Banglore</td>\n",
       "      <td>New Delhi</td>\n",
       "      <td>BLR → DEL</td>\n",
       "      <td>22:20</td>\n",
       "      <td>01:10 22 Mar</td>\n",
       "      <td>2h 50m</td>\n",
       "      <td>non-stop</td>\n",
       "      <td>No info</td>\n",
       "      <td>3897</td>\n",
       "      <td>3</td>\n",
       "      <td>Yes</td>\n",
       "    </tr>\n",
       "    <tr>\n",
       "      <th>4698</th>\n",
       "      <td>Jet Airways</td>\n",
       "      <td>24/03/2019</td>\n",
       "      <td>Kolkata</td>\n",
       "      <td>Banglore</td>\n",
       "      <td>CCU → BOM → BLR</td>\n",
       "      <td>08:25</td>\n",
       "      <td>12:00 25 Mar</td>\n",
       "      <td>27h 35m</td>\n",
       "      <td>1 stop</td>\n",
       "      <td>No info</td>\n",
       "      <td>13759</td>\n",
       "      <td>3</td>\n",
       "      <td>Yes</td>\n",
       "    </tr>\n",
       "    <tr>\n",
       "      <th>2487</th>\n",
       "      <td>SpiceJet</td>\n",
       "      <td>27/03/2019</td>\n",
       "      <td>Kolkata</td>\n",
       "      <td>Banglore</td>\n",
       "      <td>CCU → BLR</td>\n",
       "      <td>17:15</td>\n",
       "      <td>19:45</td>\n",
       "      <td>2h 30m</td>\n",
       "      <td>non-stop</td>\n",
       "      <td>No info</td>\n",
       "      <td>3847</td>\n",
       "      <td>3</td>\n",
       "      <td>No</td>\n",
       "    </tr>\n",
       "    <tr>\n",
       "      <th>8272</th>\n",
       "      <td>Air India</td>\n",
       "      <td>15/03/2019</td>\n",
       "      <td>Banglore</td>\n",
       "      <td>New Delhi</td>\n",
       "      <td>BLR → BOM → DEL</td>\n",
       "      <td>08:50</td>\n",
       "      <td>15:15</td>\n",
       "      <td>6h 25m</td>\n",
       "      <td>1 stop</td>\n",
       "      <td>No info</td>\n",
       "      <td>8714</td>\n",
       "      <td>3</td>\n",
       "      <td>Yes</td>\n",
       "    </tr>\n",
       "    <tr>\n",
       "      <th>2489</th>\n",
       "      <td>Jet Airways</td>\n",
       "      <td>06/03/2019</td>\n",
       "      <td>Delhi</td>\n",
       "      <td>Cochin</td>\n",
       "      <td>DEL → BOM → COK</td>\n",
       "      <td>08:00</td>\n",
       "      <td>04:25 07 Mar</td>\n",
       "      <td>20h 25m</td>\n",
       "      <td>1 stop</td>\n",
       "      <td>In-flight meal not included</td>\n",
       "      <td>13843</td>\n",
       "      <td>3</td>\n",
       "      <td>No</td>\n",
       "    </tr>\n",
       "  </tbody>\n",
       "</table>\n",
       "</div>"
      ],
      "text/plain": [
       "          Airline Date_of_Journey    Source Destination            Route  \\\n",
       "0          IndiGo      24/03/2019  Banglore   New Delhi        BLR → DEL   \n",
       "4698  Jet Airways      24/03/2019   Kolkata    Banglore  CCU → BOM → BLR   \n",
       "2487     SpiceJet      27/03/2019   Kolkata    Banglore        CCU → BLR   \n",
       "8272    Air India      15/03/2019  Banglore   New Delhi  BLR → BOM → DEL   \n",
       "2489  Jet Airways      06/03/2019     Delhi      Cochin  DEL → BOM → COK   \n",
       "\n",
       "     Dep_Time  Arrival_Time Duration Total_Stops              Additional_Info  \\\n",
       "0       22:20  01:10 22 Mar   2h 50m    non-stop                      No info   \n",
       "4698    08:25  12:00 25 Mar  27h 35m      1 stop                      No info   \n",
       "2487    17:15         19:45   2h 30m    non-stop                      No info   \n",
       "8272    08:50         15:15   6h 25m      1 stop                      No info   \n",
       "2489    08:00  04:25 07 Mar  20h 25m      1 stop  In-flight meal not included   \n",
       "\n",
       "      Price  Month Weekend  \n",
       "0      3897      3     Yes  \n",
       "4698  13759      3     Yes  \n",
       "2487   3847      3      No  \n",
       "8272   8714      3     Yes  \n",
       "2489  13843      3      No  "
      ]
     },
     "execution_count": 57,
     "metadata": {},
     "output_type": "execute_result"
    }
   ],
   "source": [
    "df.head()"
   ]
  },
  {
   "cell_type": "markdown",
   "id": "c9ae5fa0",
   "metadata": {},
   "source": [
    "Now we have a column that tells us whether the flight was during the weekend or not."
   ]
  },
  {
   "cell_type": "code",
   "execution_count": 58,
   "id": "c676fbd6",
   "metadata": {},
   "outputs": [
    {
     "data": {
      "text/plain": [
       "<AxesSubplot:xlabel='Weekend', ylabel='count'>"
      ]
     },
     "execution_count": 58,
     "metadata": {},
     "output_type": "execute_result"
    },
    {
     "data": {
      "image/png": "[encoded data removed]",
      "text/plain": [
       "<Figure size 432x288 with 1 Axes>"
      ]
     },
     "metadata": {
      "needs_background": "light"
     },
     "output_type": "display_data"
    }
   ],
   "source": [
    "sns.countplot(df['Weekend'])"
   ]
  },
  {
   "cell_type": "markdown",
   "id": "d1f00d81",
   "metadata": {},
   "source": [
    "Maximum flights took place on weekdays."
   ]
  },
  {
   "cell_type": "code",
   "execution_count": 59,
   "id": "26fcb954",
   "metadata": {},
   "outputs": [
    {
     "data": {
      "text/plain": [
       "<AxesSubplot:xlabel='Weekend', ylabel='Price'>"
      ]
     },
     "execution_count": 59,
     "metadata": {},
     "output_type": "execute_result"
    },
    {
     "data": {
      "image/png": "[encoded data removed]",
      "text/plain": [
       "<Figure size 432x288 with 1 Axes>"
      ]
     },
     "metadata": {
      "needs_background": "light"
     },
     "output_type": "display_data"
    }
   ],
   "source": [
    "sns.lineplot(df['Weekend'], df['Price'])"
   ]
  },
  {
   "cell_type": "markdown",
   "id": "09996446",
   "metadata": {},
   "source": [
    "Now we know that prices are much higher on weekends than they are on weekdays."
   ]
  },
  {
   "cell_type": "markdown",
   "id": "f08e0c16",
   "metadata": {},
   "source": [
    "# Using departure time column to create time_of_day column"
   ]
  },
  {
   "cell_type": "code",
   "execution_count": 60,
   "id": "960fd32b",
   "metadata": {},
   "outputs": [
    {
     "data": {
      "text/html": [
       "<div>\n",
       "<style scoped>\n",
       "    .dataframe tbody tr th:only-of-type {\n",
       "        vertical-align: middle;\n",
       "    }\n",
       "\n",
       "    .dataframe tbody tr th {\n",
       "        vertical-align: top;\n",
       "    }\n",
       "\n",
       "    .dataframe thead th {\n",
       "        text-align: right;\n",
       "    }\n",
       "</style>\n",
       "<table border=\"1\" class=\"dataframe\">\n",
       "  <thead>\n",
       "    <tr style=\"text-align: right;\">\n",
       "      <th></th>\n",
       "      <th>Airline</th>\n",
       "      <th>Date_of_Journey</th>\n",
       "      <th>Source</th>\n",
       "      <th>Destination</th>\n",
       "      <th>Route</th>\n",
       "      <th>Dep_Time</th>\n",
       "      <th>Arrival_Time</th>\n",
       "      <th>Duration</th>\n",
       "      <th>Total_Stops</th>\n",
       "      <th>Additional_Info</th>\n",
       "      <th>Price</th>\n",
       "      <th>Month</th>\n",
       "      <th>Weekend</th>\n",
       "    </tr>\n",
       "  </thead>\n",
       "  <tbody>\n",
       "    <tr>\n",
       "      <th>0</th>\n",
       "      <td>IndiGo</td>\n",
       "      <td>24/03/2019</td>\n",
       "      <td>Banglore</td>\n",
       "      <td>New Delhi</td>\n",
       "      <td>BLR → DEL</td>\n",
       "      <td>22:20</td>\n",
       "      <td>01:10 22 Mar</td>\n",
       "      <td>2h 50m</td>\n",
       "      <td>non-stop</td>\n",
       "      <td>No info</td>\n",
       "      <td>3897</td>\n",
       "      <td>3</td>\n",
       "      <td>Yes</td>\n",
       "    </tr>\n",
       "    <tr>\n",
       "      <th>4698</th>\n",
       "      <td>Jet Airways</td>\n",
       "      <td>24/03/2019</td>\n",
       "      <td>Kolkata</td>\n",
       "      <td>Banglore</td>\n",
       "      <td>CCU → BOM → BLR</td>\n",
       "      <td>08:25</td>\n",
       "      <td>12:00 25 Mar</td>\n",
       "      <td>27h 35m</td>\n",
       "      <td>1 stop</td>\n",
       "      <td>No info</td>\n",
       "      <td>13759</td>\n",
       "      <td>3</td>\n",
       "      <td>Yes</td>\n",
       "    </tr>\n",
       "    <tr>\n",
       "      <th>2487</th>\n",
       "      <td>SpiceJet</td>\n",
       "      <td>27/03/2019</td>\n",
       "      <td>Kolkata</td>\n",
       "      <td>Banglore</td>\n",
       "      <td>CCU → BLR</td>\n",
       "      <td>17:15</td>\n",
       "      <td>19:45</td>\n",
       "      <td>2h 30m</td>\n",
       "      <td>non-stop</td>\n",
       "      <td>No info</td>\n",
       "      <td>3847</td>\n",
       "      <td>3</td>\n",
       "      <td>No</td>\n",
       "    </tr>\n",
       "    <tr>\n",
       "      <th>8272</th>\n",
       "      <td>Air India</td>\n",
       "      <td>15/03/2019</td>\n",
       "      <td>Banglore</td>\n",
       "      <td>New Delhi</td>\n",
       "      <td>BLR → BOM → DEL</td>\n",
       "      <td>08:50</td>\n",
       "      <td>15:15</td>\n",
       "      <td>6h 25m</td>\n",
       "      <td>1 stop</td>\n",
       "      <td>No info</td>\n",
       "      <td>8714</td>\n",
       "      <td>3</td>\n",
       "      <td>Yes</td>\n",
       "    </tr>\n",
       "    <tr>\n",
       "      <th>2489</th>\n",
       "      <td>Jet Airways</td>\n",
       "      <td>06/03/2019</td>\n",
       "      <td>Delhi</td>\n",
       "      <td>Cochin</td>\n",
       "      <td>DEL → BOM → COK</td>\n",
       "      <td>08:00</td>\n",
       "      <td>04:25 07 Mar</td>\n",
       "      <td>20h 25m</td>\n",
       "      <td>1 stop</td>\n",
       "      <td>In-flight meal not included</td>\n",
       "      <td>13843</td>\n",
       "      <td>3</td>\n",
       "      <td>No</td>\n",
       "    </tr>\n",
       "  </tbody>\n",
       "</table>\n",
       "</div>"
      ],
      "text/plain": [
       "          Airline Date_of_Journey    Source Destination            Route  \\\n",
       "0          IndiGo      24/03/2019  Banglore   New Delhi        BLR → DEL   \n",
       "4698  Jet Airways      24/03/2019   Kolkata    Banglore  CCU → BOM → BLR   \n",
       "2487     SpiceJet      27/03/2019   Kolkata    Banglore        CCU → BLR   \n",
       "8272    Air India      15/03/2019  Banglore   New Delhi  BLR → BOM → DEL   \n",
       "2489  Jet Airways      06/03/2019     Delhi      Cochin  DEL → BOM → COK   \n",
       "\n",
       "     Dep_Time  Arrival_Time Duration Total_Stops              Additional_Info  \\\n",
       "0       22:20  01:10 22 Mar   2h 50m    non-stop                      No info   \n",
       "4698    08:25  12:00 25 Mar  27h 35m      1 stop                      No info   \n",
       "2487    17:15         19:45   2h 30m    non-stop                      No info   \n",
       "8272    08:50         15:15   6h 25m      1 stop                      No info   \n",
       "2489    08:00  04:25 07 Mar  20h 25m      1 stop  In-flight meal not included   \n",
       "\n",
       "      Price  Month Weekend  \n",
       "0      3897      3     Yes  \n",
       "4698  13759      3     Yes  \n",
       "2487   3847      3      No  \n",
       "8272   8714      3     Yes  \n",
       "2489  13843      3      No  "
      ]
     },
     "execution_count": 60,
     "metadata": {},
     "output_type": "execute_result"
    }
   ],
   "source": [
    "df.head()"
   ]
  },
  {
   "cell_type": "code",
   "execution_count": 61,
   "id": "2494c88c",
   "metadata": {},
   "outputs": [],
   "source": [
    "hour = []\n",
    "for i in df['Dep_Time']:\n",
    "    min = int(i[3:5])\n",
    "    if min <= 30:\n",
    "        hour.append(int(i[0:2]))\n",
    "    else:\n",
    "        hour.append(int(i[0:2])+1)"
   ]
  },
  {
   "cell_type": "code",
   "execution_count": 62,
   "id": "461e46f9",
   "metadata": {},
   "outputs": [],
   "source": [
    "for i in hour:\n",
    "    if i == 24:\n",
    "        i = 0"
   ]
  },
  {
   "cell_type": "code",
   "execution_count": 63,
   "id": "24789b89",
   "metadata": {},
   "outputs": [],
   "source": [
    "df['hour_of_day'] = hour"
   ]
  },
  {
   "cell_type": "markdown",
   "id": "9b3bc311",
   "metadata": {},
   "source": [
    "Now we have the hour of day in which the flights departed. We can see if time of departure has any effect on price."
   ]
  },
  {
   "cell_type": "code",
   "execution_count": 64,
   "id": "b54fa3ae",
   "metadata": {},
   "outputs": [
    {
     "data": {
      "text/plain": [
       "<AxesSubplot:xlabel='hour_of_day', ylabel='Price'>"
      ]
     },
     "execution_count": 64,
     "metadata": {},
     "output_type": "execute_result"
    },
    {
     "data": {
      "image/png": "[encoded data removed]",
      "text/plain": [
       "<Figure size 432x288 with 1 Axes>"
      ]
     },
     "metadata": {
      "needs_background": "light"
     },
     "output_type": "display_data"
    }
   ],
   "source": [
    "sns.scatterplot(df['hour_of_day'], df['Price'])"
   ]
  },
  {
   "cell_type": "markdown",
   "id": "1b9b12ec",
   "metadata": {},
   "source": [
    "Now we can clearly see that prices are lowest during early morning and highest during business hours."
   ]
  },
  {
   "cell_type": "markdown",
   "id": "9ff823a5",
   "metadata": {},
   "source": [
    "# Dropping unnecessary columns"
   ]
  },
  {
   "cell_type": "code",
   "execution_count": 65,
   "id": "d0d2d1f0",
   "metadata": {},
   "outputs": [
    {
     "data": {
      "text/html": [
       "<div>\n",
       "<style scoped>\n",
       "    .dataframe tbody tr th:only-of-type {\n",
       "        vertical-align: middle;\n",
       "    }\n",
       "\n",
       "    .dataframe tbody tr th {\n",
       "        vertical-align: top;\n",
       "    }\n",
       "\n",
       "    .dataframe thead th {\n",
       "        text-align: right;\n",
       "    }\n",
       "</style>\n",
       "<table border=\"1\" class=\"dataframe\">\n",
       "  <thead>\n",
       "    <tr style=\"text-align: right;\">\n",
       "      <th></th>\n",
       "      <th>Airline</th>\n",
       "      <th>Date_of_Journey</th>\n",
       "      <th>Source</th>\n",
       "      <th>Destination</th>\n",
       "      <th>Route</th>\n",
       "      <th>Dep_Time</th>\n",
       "      <th>Arrival_Time</th>\n",
       "      <th>Duration</th>\n",
       "      <th>Total_Stops</th>\n",
       "      <th>Additional_Info</th>\n",
       "      <th>Price</th>\n",
       "      <th>Month</th>\n",
       "      <th>Weekend</th>\n",
       "      <th>hour_of_day</th>\n",
       "    </tr>\n",
       "  </thead>\n",
       "  <tbody>\n",
       "    <tr>\n",
       "      <th>0</th>\n",
       "      <td>IndiGo</td>\n",
       "      <td>24/03/2019</td>\n",
       "      <td>Banglore</td>\n",
       "      <td>New Delhi</td>\n",
       "      <td>BLR → DEL</td>\n",
       "      <td>22:20</td>\n",
       "      <td>01:10 22 Mar</td>\n",
       "      <td>2h 50m</td>\n",
       "      <td>non-stop</td>\n",
       "      <td>No info</td>\n",
       "      <td>3897</td>\n",
       "      <td>3</td>\n",
       "      <td>Yes</td>\n",
       "      <td>22</td>\n",
       "    </tr>\n",
       "    <tr>\n",
       "      <th>4698</th>\n",
       "      <td>Jet Airways</td>\n",
       "      <td>24/03/2019</td>\n",
       "      <td>Kolkata</td>\n",
       "      <td>Banglore</td>\n",
       "      <td>CCU → BOM → BLR</td>\n",
       "      <td>08:25</td>\n",
       "      <td>12:00 25 Mar</td>\n",
       "      <td>27h 35m</td>\n",
       "      <td>1 stop</td>\n",
       "      <td>No info</td>\n",
       "      <td>13759</td>\n",
       "      <td>3</td>\n",
       "      <td>Yes</td>\n",
       "      <td>8</td>\n",
       "    </tr>\n",
       "    <tr>\n",
       "      <th>2487</th>\n",
       "      <td>SpiceJet</td>\n",
       "      <td>27/03/2019</td>\n",
       "      <td>Kolkata</td>\n",
       "      <td>Banglore</td>\n",
       "      <td>CCU → BLR</td>\n",
       "      <td>17:15</td>\n",
       "      <td>19:45</td>\n",
       "      <td>2h 30m</td>\n",
       "      <td>non-stop</td>\n",
       "      <td>No info</td>\n",
       "      <td>3847</td>\n",
       "      <td>3</td>\n",
       "      <td>No</td>\n",
       "      <td>17</td>\n",
       "    </tr>\n",
       "    <tr>\n",
       "      <th>8272</th>\n",
       "      <td>Air India</td>\n",
       "      <td>15/03/2019</td>\n",
       "      <td>Banglore</td>\n",
       "      <td>New Delhi</td>\n",
       "      <td>BLR → BOM → DEL</td>\n",
       "      <td>08:50</td>\n",
       "      <td>15:15</td>\n",
       "      <td>6h 25m</td>\n",
       "      <td>1 stop</td>\n",
       "      <td>No info</td>\n",
       "      <td>8714</td>\n",
       "      <td>3</td>\n",
       "      <td>Yes</td>\n",
       "      <td>9</td>\n",
       "    </tr>\n",
       "    <tr>\n",
       "      <th>2489</th>\n",
       "      <td>Jet Airways</td>\n",
       "      <td>06/03/2019</td>\n",
       "      <td>Delhi</td>\n",
       "      <td>Cochin</td>\n",
       "      <td>DEL → BOM → COK</td>\n",
       "      <td>08:00</td>\n",
       "      <td>04:25 07 Mar</td>\n",
       "      <td>20h 25m</td>\n",
       "      <td>1 stop</td>\n",
       "      <td>In-flight meal not included</td>\n",
       "      <td>13843</td>\n",
       "      <td>3</td>\n",
       "      <td>No</td>\n",
       "      <td>8</td>\n",
       "    </tr>\n",
       "  </tbody>\n",
       "</table>\n",
       "</div>"
      ],
      "text/plain": [
       "          Airline Date_of_Journey    Source Destination            Route  \\\n",
       "0          IndiGo      24/03/2019  Banglore   New Delhi        BLR → DEL   \n",
       "4698  Jet Airways      24/03/2019   Kolkata    Banglore  CCU → BOM → BLR   \n",
       "2487     SpiceJet      27/03/2019   Kolkata    Banglore        CCU → BLR   \n",
       "8272    Air India      15/03/2019  Banglore   New Delhi  BLR → BOM → DEL   \n",
       "2489  Jet Airways      06/03/2019     Delhi      Cochin  DEL → BOM → COK   \n",
       "\n",
       "     Dep_Time  Arrival_Time Duration Total_Stops              Additional_Info  \\\n",
       "0       22:20  01:10 22 Mar   2h 50m    non-stop                      No info   \n",
       "4698    08:25  12:00 25 Mar  27h 35m      1 stop                      No info   \n",
       "2487    17:15         19:45   2h 30m    non-stop                      No info   \n",
       "8272    08:50         15:15   6h 25m      1 stop                      No info   \n",
       "2489    08:00  04:25 07 Mar  20h 25m      1 stop  In-flight meal not included   \n",
       "\n",
       "      Price  Month Weekend  hour_of_day  \n",
       "0      3897      3     Yes           22  \n",
       "4698  13759      3     Yes            8  \n",
       "2487   3847      3      No           17  \n",
       "8272   8714      3     Yes            9  \n",
       "2489  13843      3      No            8  "
      ]
     },
     "execution_count": 65,
     "metadata": {},
     "output_type": "execute_result"
    }
   ],
   "source": [
    "df.head()"
   ]
  },
  {
   "cell_type": "markdown",
   "id": "30006cbe",
   "metadata": {},
   "source": [
    "Now that we have dates sorted into months and weekend, we can remove the date column."
   ]
  },
  {
   "cell_type": "markdown",
   "id": "5c8d5346",
   "metadata": {},
   "source": [
    "We can also remove route column as the total stops covers all the info it contains. We can also remove dep_time and arrival_time as duration and hour of day covers that information."
   ]
  },
  {
   "cell_type": "code",
   "execution_count": 66,
   "id": "975e7840",
   "metadata": {},
   "outputs": [],
   "source": [
    "df.drop(['Date_of_Journey', 'Route', 'Dep_Time', 'Arrival_Time'], axis=1, inplace=True)"
   ]
  },
  {
   "cell_type": "code",
   "execution_count": 67,
   "id": "92d8ab70",
   "metadata": {},
   "outputs": [
    {
     "data": {
      "text/html": [
       "<div>\n",
       "<style scoped>\n",
       "    .dataframe tbody tr th:only-of-type {\n",
       "        vertical-align: middle;\n",
       "    }\n",
       "\n",
       "    .dataframe tbody tr th {\n",
       "        vertical-align: top;\n",
       "    }\n",
       "\n",
       "    .dataframe thead th {\n",
       "        text-align: right;\n",
       "    }\n",
       "</style>\n",
       "<table border=\"1\" class=\"dataframe\">\n",
       "  <thead>\n",
       "    <tr style=\"text-align: right;\">\n",
       "      <th></th>\n",
       "      <th>Airline</th>\n",
       "      <th>Source</th>\n",
       "      <th>Destination</th>\n",
       "      <th>Duration</th>\n",
       "      <th>Total_Stops</th>\n",
       "      <th>Additional_Info</th>\n",
       "      <th>Price</th>\n",
       "      <th>Month</th>\n",
       "      <th>Weekend</th>\n",
       "      <th>hour_of_day</th>\n",
       "    </tr>\n",
       "  </thead>\n",
       "  <tbody>\n",
       "    <tr>\n",
       "      <th>0</th>\n",
       "      <td>IndiGo</td>\n",
       "      <td>Banglore</td>\n",
       "      <td>New Delhi</td>\n",
       "      <td>2h 50m</td>\n",
       "      <td>non-stop</td>\n",
       "      <td>No info</td>\n",
       "      <td>3897</td>\n",
       "      <td>3</td>\n",
       "      <td>Yes</td>\n",
       "      <td>22</td>\n",
       "    </tr>\n",
       "    <tr>\n",
       "      <th>4698</th>\n",
       "      <td>Jet Airways</td>\n",
       "      <td>Kolkata</td>\n",
       "      <td>Banglore</td>\n",
       "      <td>27h 35m</td>\n",
       "      <td>1 stop</td>\n",
       "      <td>No info</td>\n",
       "      <td>13759</td>\n",
       "      <td>3</td>\n",
       "      <td>Yes</td>\n",
       "      <td>8</td>\n",
       "    </tr>\n",
       "    <tr>\n",
       "      <th>2487</th>\n",
       "      <td>SpiceJet</td>\n",
       "      <td>Kolkata</td>\n",
       "      <td>Banglore</td>\n",
       "      <td>2h 30m</td>\n",
       "      <td>non-stop</td>\n",
       "      <td>No info</td>\n",
       "      <td>3847</td>\n",
       "      <td>3</td>\n",
       "      <td>No</td>\n",
       "      <td>17</td>\n",
       "    </tr>\n",
       "    <tr>\n",
       "      <th>8272</th>\n",
       "      <td>Air India</td>\n",
       "      <td>Banglore</td>\n",
       "      <td>New Delhi</td>\n",
       "      <td>6h 25m</td>\n",
       "      <td>1 stop</td>\n",
       "      <td>No info</td>\n",
       "      <td>8714</td>\n",
       "      <td>3</td>\n",
       "      <td>Yes</td>\n",
       "      <td>9</td>\n",
       "    </tr>\n",
       "    <tr>\n",
       "      <th>2489</th>\n",
       "      <td>Jet Airways</td>\n",
       "      <td>Delhi</td>\n",
       "      <td>Cochin</td>\n",
       "      <td>20h 25m</td>\n",
       "      <td>1 stop</td>\n",
       "      <td>In-flight meal not included</td>\n",
       "      <td>13843</td>\n",
       "      <td>3</td>\n",
       "      <td>No</td>\n",
       "      <td>8</td>\n",
       "    </tr>\n",
       "  </tbody>\n",
       "</table>\n",
       "</div>"
      ],
      "text/plain": [
       "          Airline    Source Destination Duration Total_Stops  \\\n",
       "0          IndiGo  Banglore   New Delhi   2h 50m    non-stop   \n",
       "4698  Jet Airways   Kolkata    Banglore  27h 35m      1 stop   \n",
       "2487     SpiceJet   Kolkata    Banglore   2h 30m    non-stop   \n",
       "8272    Air India  Banglore   New Delhi   6h 25m      1 stop   \n",
       "2489  Jet Airways     Delhi      Cochin  20h 25m      1 stop   \n",
       "\n",
       "                  Additional_Info  Price  Month Weekend  hour_of_day  \n",
       "0                         No info   3897      3     Yes           22  \n",
       "4698                      No info  13759      3     Yes            8  \n",
       "2487                      No info   3847      3      No           17  \n",
       "8272                      No info   8714      3     Yes            9  \n",
       "2489  In-flight meal not included  13843      3      No            8  "
      ]
     },
     "execution_count": 67,
     "metadata": {},
     "output_type": "execute_result"
    }
   ],
   "source": [
    "df.head()"
   ]
  },
  {
   "cell_type": "markdown",
   "id": "c19e5d6b",
   "metadata": {},
   "source": [
    "# Convert duration column to numerical type"
   ]
  },
  {
   "cell_type": "code",
   "execution_count": 68,
   "id": "bb993ed9",
   "metadata": {},
   "outputs": [],
   "source": [
    "h = df['Duration'].str.extract('(\\d+)h', expand=False).astype(float) * 60\n",
    "m = df['Duration'].str.extract('(\\d+)m', expand=False).astype(float)\n",
    "\n",
    "df['duration_in_mins'] = h.add(m, fill_value=0).astype(int)"
   ]
  },
  {
   "cell_type": "code",
   "execution_count": 69,
   "id": "77f4d945",
   "metadata": {},
   "outputs": [
    {
     "data": {
      "text/html": [
       "<div>\n",
       "<style scoped>\n",
       "    .dataframe tbody tr th:only-of-type {\n",
       "        vertical-align: middle;\n",
       "    }\n",
       "\n",
       "    .dataframe tbody tr th {\n",
       "        vertical-align: top;\n",
       "    }\n",
       "\n",
       "    .dataframe thead th {\n",
       "        text-align: right;\n",
       "    }\n",
       "</style>\n",
       "<table border=\"1\" class=\"dataframe\">\n",
       "  <thead>\n",
       "    <tr style=\"text-align: right;\">\n",
       "      <th></th>\n",
       "      <th>Airline</th>\n",
       "      <th>Source</th>\n",
       "      <th>Destination</th>\n",
       "      <th>Duration</th>\n",
       "      <th>Total_Stops</th>\n",
       "      <th>Additional_Info</th>\n",
       "      <th>Price</th>\n",
       "      <th>Month</th>\n",
       "      <th>Weekend</th>\n",
       "      <th>hour_of_day</th>\n",
       "      <th>duration_in_mins</th>\n",
       "    </tr>\n",
       "  </thead>\n",
       "  <tbody>\n",
       "    <tr>\n",
       "      <th>0</th>\n",
       "      <td>IndiGo</td>\n",
       "      <td>Banglore</td>\n",
       "      <td>New Delhi</td>\n",
       "      <td>2h 50m</td>\n",
       "      <td>non-stop</td>\n",
       "      <td>No info</td>\n",
       "      <td>3897</td>\n",
       "      <td>3</td>\n",
       "      <td>Yes</td>\n",
       "      <td>22</td>\n",
       "      <td>170</td>\n",
       "    </tr>\n",
       "    <tr>\n",
       "      <th>4698</th>\n",
       "      <td>Jet Airways</td>\n",
       "      <td>Kolkata</td>\n",
       "      <td>Banglore</td>\n",
       "      <td>27h 35m</td>\n",
       "      <td>1 stop</td>\n",
       "      <td>No info</td>\n",
       "      <td>13759</td>\n",
       "      <td>3</td>\n",
       "      <td>Yes</td>\n",
       "      <td>8</td>\n",
       "      <td>1655</td>\n",
       "    </tr>\n",
       "    <tr>\n",
       "      <th>2487</th>\n",
       "      <td>SpiceJet</td>\n",
       "      <td>Kolkata</td>\n",
       "      <td>Banglore</td>\n",
       "      <td>2h 30m</td>\n",
       "      <td>non-stop</td>\n",
       "      <td>No info</td>\n",
       "      <td>3847</td>\n",
       "      <td>3</td>\n",
       "      <td>No</td>\n",
       "      <td>17</td>\n",
       "      <td>150</td>\n",
       "    </tr>\n",
       "    <tr>\n",
       "      <th>8272</th>\n",
       "      <td>Air India</td>\n",
       "      <td>Banglore</td>\n",
       "      <td>New Delhi</td>\n",
       "      <td>6h 25m</td>\n",
       "      <td>1 stop</td>\n",
       "      <td>No info</td>\n",
       "      <td>8714</td>\n",
       "      <td>3</td>\n",
       "      <td>Yes</td>\n",
       "      <td>9</td>\n",
       "      <td>385</td>\n",
       "    </tr>\n",
       "    <tr>\n",
       "      <th>2489</th>\n",
       "      <td>Jet Airways</td>\n",
       "      <td>Delhi</td>\n",
       "      <td>Cochin</td>\n",
       "      <td>20h 25m</td>\n",
       "      <td>1 stop</td>\n",
       "      <td>In-flight meal not included</td>\n",
       "      <td>13843</td>\n",
       "      <td>3</td>\n",
       "      <td>No</td>\n",
       "      <td>8</td>\n",
       "      <td>1225</td>\n",
       "    </tr>\n",
       "  </tbody>\n",
       "</table>\n",
       "</div>"
      ],
      "text/plain": [
       "          Airline    Source Destination Duration Total_Stops  \\\n",
       "0          IndiGo  Banglore   New Delhi   2h 50m    non-stop   \n",
       "4698  Jet Airways   Kolkata    Banglore  27h 35m      1 stop   \n",
       "2487     SpiceJet   Kolkata    Banglore   2h 30m    non-stop   \n",
       "8272    Air India  Banglore   New Delhi   6h 25m      1 stop   \n",
       "2489  Jet Airways     Delhi      Cochin  20h 25m      1 stop   \n",
       "\n",
       "                  Additional_Info  Price  Month Weekend  hour_of_day  \\\n",
       "0                         No info   3897      3     Yes           22   \n",
       "4698                      No info  13759      3     Yes            8   \n",
       "2487                      No info   3847      3      No           17   \n",
       "8272                      No info   8714      3     Yes            9   \n",
       "2489  In-flight meal not included  13843      3      No            8   \n",
       "\n",
       "      duration_in_mins  \n",
       "0                  170  \n",
       "4698              1655  \n",
       "2487               150  \n",
       "8272               385  \n",
       "2489              1225  "
      ]
     },
     "execution_count": 69,
     "metadata": {},
     "output_type": "execute_result"
    }
   ],
   "source": [
    "df.head()"
   ]
  },
  {
   "cell_type": "code",
   "execution_count": 70,
   "id": "c73b338c",
   "metadata": {},
   "outputs": [
    {
     "data": {
      "text/plain": [
       "Airline             object\n",
       "Source              object\n",
       "Destination         object\n",
       "Duration            object\n",
       "Total_Stops         object\n",
       "Additional_Info     object\n",
       "Price                int64\n",
       "Month                int64\n",
       "Weekend             object\n",
       "hour_of_day          int64\n",
       "duration_in_mins     int32\n",
       "dtype: object"
      ]
     },
     "execution_count": 70,
     "metadata": {},
     "output_type": "execute_result"
    }
   ],
   "source": [
    "df.dtypes"
   ]
  },
  {
   "cell_type": "markdown",
   "id": "f05ad34d",
   "metadata": {},
   "source": [
    "Now the duration is in minutes and converted to integer so we can view it's effect on flight prices easily.\n",
    "\n",
    "We can drop the original duration column now."
   ]
  },
  {
   "cell_type": "code",
   "execution_count": 71,
   "id": "239df770",
   "metadata": {},
   "outputs": [],
   "source": [
    "df.drop('Duration', axis=1, inplace=True)"
   ]
  },
  {
   "cell_type": "code",
   "execution_count": 72,
   "id": "f55cffa4",
   "metadata": {},
   "outputs": [
    {
     "data": {
      "text/html": [
       "<div>\n",
       "<style scoped>\n",
       "    .dataframe tbody tr th:only-of-type {\n",
       "        vertical-align: middle;\n",
       "    }\n",
       "\n",
       "    .dataframe tbody tr th {\n",
       "        vertical-align: top;\n",
       "    }\n",
       "\n",
       "    .dataframe thead th {\n",
       "        text-align: right;\n",
       "    }\n",
       "</style>\n",
       "<table border=\"1\" class=\"dataframe\">\n",
       "  <thead>\n",
       "    <tr style=\"text-align: right;\">\n",
       "      <th></th>\n",
       "      <th>Airline</th>\n",
       "      <th>Source</th>\n",
       "      <th>Destination</th>\n",
       "      <th>Total_Stops</th>\n",
       "      <th>Additional_Info</th>\n",
       "      <th>Price</th>\n",
       "      <th>Month</th>\n",
       "      <th>Weekend</th>\n",
       "      <th>hour_of_day</th>\n",
       "      <th>duration_in_mins</th>\n",
       "    </tr>\n",
       "  </thead>\n",
       "  <tbody>\n",
       "    <tr>\n",
       "      <th>0</th>\n",
       "      <td>IndiGo</td>\n",
       "      <td>Banglore</td>\n",
       "      <td>New Delhi</td>\n",
       "      <td>non-stop</td>\n",
       "      <td>No info</td>\n",
       "      <td>3897</td>\n",
       "      <td>3</td>\n",
       "      <td>Yes</td>\n",
       "      <td>22</td>\n",
       "      <td>170</td>\n",
       "    </tr>\n",
       "    <tr>\n",
       "      <th>4698</th>\n",
       "      <td>Jet Airways</td>\n",
       "      <td>Kolkata</td>\n",
       "      <td>Banglore</td>\n",
       "      <td>1 stop</td>\n",
       "      <td>No info</td>\n",
       "      <td>13759</td>\n",
       "      <td>3</td>\n",
       "      <td>Yes</td>\n",
       "      <td>8</td>\n",
       "      <td>1655</td>\n",
       "    </tr>\n",
       "    <tr>\n",
       "      <th>2487</th>\n",
       "      <td>SpiceJet</td>\n",
       "      <td>Kolkata</td>\n",
       "      <td>Banglore</td>\n",
       "      <td>non-stop</td>\n",
       "      <td>No info</td>\n",
       "      <td>3847</td>\n",
       "      <td>3</td>\n",
       "      <td>No</td>\n",
       "      <td>17</td>\n",
       "      <td>150</td>\n",
       "    </tr>\n",
       "    <tr>\n",
       "      <th>8272</th>\n",
       "      <td>Air India</td>\n",
       "      <td>Banglore</td>\n",
       "      <td>New Delhi</td>\n",
       "      <td>1 stop</td>\n",
       "      <td>No info</td>\n",
       "      <td>8714</td>\n",
       "      <td>3</td>\n",
       "      <td>Yes</td>\n",
       "      <td>9</td>\n",
       "      <td>385</td>\n",
       "    </tr>\n",
       "    <tr>\n",
       "      <th>2489</th>\n",
       "      <td>Jet Airways</td>\n",
       "      <td>Delhi</td>\n",
       "      <td>Cochin</td>\n",
       "      <td>1 stop</td>\n",
       "      <td>In-flight meal not included</td>\n",
       "      <td>13843</td>\n",
       "      <td>3</td>\n",
       "      <td>No</td>\n",
       "      <td>8</td>\n",
       "      <td>1225</td>\n",
       "    </tr>\n",
       "  </tbody>\n",
       "</table>\n",
       "</div>"
      ],
      "text/plain": [
       "          Airline    Source Destination Total_Stops  \\\n",
       "0          IndiGo  Banglore   New Delhi    non-stop   \n",
       "4698  Jet Airways   Kolkata    Banglore      1 stop   \n",
       "2487     SpiceJet   Kolkata    Banglore    non-stop   \n",
       "8272    Air India  Banglore   New Delhi      1 stop   \n",
       "2489  Jet Airways     Delhi      Cochin      1 stop   \n",
       "\n",
       "                  Additional_Info  Price  Month Weekend  hour_of_day  \\\n",
       "0                         No info   3897      3     Yes           22   \n",
       "4698                      No info  13759      3     Yes            8   \n",
       "2487                      No info   3847      3      No           17   \n",
       "8272                      No info   8714      3     Yes            9   \n",
       "2489  In-flight meal not included  13843      3      No            8   \n",
       "\n",
       "      duration_in_mins  \n",
       "0                  170  \n",
       "4698              1655  \n",
       "2487               150  \n",
       "8272               385  \n",
       "2489              1225  "
      ]
     },
     "execution_count": 72,
     "metadata": {},
     "output_type": "execute_result"
    }
   ],
   "source": [
    "df.head()"
   ]
  },
  {
   "cell_type": "code",
   "execution_count": 73,
   "id": "343c8f6e",
   "metadata": {},
   "outputs": [
    {
     "data": {
      "text/plain": [
       "<AxesSubplot:xlabel='duration_in_mins', ylabel='Price'>"
      ]
     },
     "execution_count": 73,
     "metadata": {},
     "output_type": "execute_result"
    },
    {
     "data": {
      "image/png": "[encoded data removed]",
      "text/plain": [
       "<Figure size 432x288 with 1 Axes>"
      ]
     },
     "metadata": {
      "needs_background": "light"
     },
     "output_type": "display_data"
    }
   ],
   "source": [
    "sns.scatterplot(df['duration_in_mins'], df['Price'])"
   ]
  },
  {
   "cell_type": "markdown",
   "id": "e4fef80b",
   "metadata": {},
   "source": [
    "There is not much correlation between the duration of the flight and the price."
   ]
  },
  {
   "cell_type": "markdown",
   "id": "1f9f6c94",
   "metadata": {},
   "source": [
    "# Converting total stops to int type"
   ]
  },
  {
   "cell_type": "code",
   "execution_count": 74,
   "id": "7b4ffde6",
   "metadata": {},
   "outputs": [
    {
     "data": {
      "text/plain": [
       "array(['non-stop', '1 stop', '2 stops', '3 stops', '4 stops'],\n",
       "      dtype=object)"
      ]
     },
     "execution_count": 74,
     "metadata": {},
     "output_type": "execute_result"
    }
   ],
   "source": [
    "df['Total_Stops'].unique()"
   ]
  },
  {
   "cell_type": "code",
   "execution_count": 75,
   "id": "7333b1b2",
   "metadata": {},
   "outputs": [],
   "source": [
    "df.loc[df['Total_Stops'] == 'non-stop', 'total_stops'] = 0\n",
    "df.loc[df['Total_Stops'] == '1 stop', 'total_stops'] = 1\n",
    "df.loc[df['Total_Stops'] == '2 stops', 'total_stops'] = 2\n",
    "df.loc[df['Total_Stops'] == '3 stops', 'total_stops'] = 3\n",
    "df.loc[df['Total_Stops'] == '4 stops', 'total_stops'] = 4"
   ]
  },
  {
   "cell_type": "code",
   "execution_count": 76,
   "id": "04079024",
   "metadata": {},
   "outputs": [
    {
     "data": {
      "text/plain": [
       "array([0., 1., 2., 3., 4.])"
      ]
     },
     "execution_count": 76,
     "metadata": {},
     "output_type": "execute_result"
    }
   ],
   "source": [
    "df['total_stops'].unique()"
   ]
  },
  {
   "cell_type": "code",
   "execution_count": 77,
   "id": "0df5707e",
   "metadata": {},
   "outputs": [
    {
     "data": {
      "text/html": [
       "<div>\n",
       "<style scoped>\n",
       "    .dataframe tbody tr th:only-of-type {\n",
       "        vertical-align: middle;\n",
       "    }\n",
       "\n",
       "    .dataframe tbody tr th {\n",
       "        vertical-align: top;\n",
       "    }\n",
       "\n",
       "    .dataframe thead th {\n",
       "        text-align: right;\n",
       "    }\n",
       "</style>\n",
       "<table border=\"1\" class=\"dataframe\">\n",
       "  <thead>\n",
       "    <tr style=\"text-align: right;\">\n",
       "      <th></th>\n",
       "      <th>Airline</th>\n",
       "      <th>Source</th>\n",
       "      <th>Destination</th>\n",
       "      <th>Total_Stops</th>\n",
       "      <th>Additional_Info</th>\n",
       "      <th>Price</th>\n",
       "      <th>Month</th>\n",
       "      <th>Weekend</th>\n",
       "      <th>hour_of_day</th>\n",
       "      <th>duration_in_mins</th>\n",
       "      <th>total_stops</th>\n",
       "    </tr>\n",
       "  </thead>\n",
       "  <tbody>\n",
       "    <tr>\n",
       "      <th>0</th>\n",
       "      <td>IndiGo</td>\n",
       "      <td>Banglore</td>\n",
       "      <td>New Delhi</td>\n",
       "      <td>non-stop</td>\n",
       "      <td>No info</td>\n",
       "      <td>3897</td>\n",
       "      <td>3</td>\n",
       "      <td>Yes</td>\n",
       "      <td>22</td>\n",
       "      <td>170</td>\n",
       "      <td>0.0</td>\n",
       "    </tr>\n",
       "    <tr>\n",
       "      <th>4698</th>\n",
       "      <td>Jet Airways</td>\n",
       "      <td>Kolkata</td>\n",
       "      <td>Banglore</td>\n",
       "      <td>1 stop</td>\n",
       "      <td>No info</td>\n",
       "      <td>13759</td>\n",
       "      <td>3</td>\n",
       "      <td>Yes</td>\n",
       "      <td>8</td>\n",
       "      <td>1655</td>\n",
       "      <td>1.0</td>\n",
       "    </tr>\n",
       "    <tr>\n",
       "      <th>2487</th>\n",
       "      <td>SpiceJet</td>\n",
       "      <td>Kolkata</td>\n",
       "      <td>Banglore</td>\n",
       "      <td>non-stop</td>\n",
       "      <td>No info</td>\n",
       "      <td>3847</td>\n",
       "      <td>3</td>\n",
       "      <td>No</td>\n",
       "      <td>17</td>\n",
       "      <td>150</td>\n",
       "      <td>0.0</td>\n",
       "    </tr>\n",
       "    <tr>\n",
       "      <th>8272</th>\n",
       "      <td>Air India</td>\n",
       "      <td>Banglore</td>\n",
       "      <td>New Delhi</td>\n",
       "      <td>1 stop</td>\n",
       "      <td>No info</td>\n",
       "      <td>8714</td>\n",
       "      <td>3</td>\n",
       "      <td>Yes</td>\n",
       "      <td>9</td>\n",
       "      <td>385</td>\n",
       "      <td>1.0</td>\n",
       "    </tr>\n",
       "    <tr>\n",
       "      <th>2489</th>\n",
       "      <td>Jet Airways</td>\n",
       "      <td>Delhi</td>\n",
       "      <td>Cochin</td>\n",
       "      <td>1 stop</td>\n",
       "      <td>In-flight meal not included</td>\n",
       "      <td>13843</td>\n",
       "      <td>3</td>\n",
       "      <td>No</td>\n",
       "      <td>8</td>\n",
       "      <td>1225</td>\n",
       "      <td>1.0</td>\n",
       "    </tr>\n",
       "  </tbody>\n",
       "</table>\n",
       "</div>"
      ],
      "text/plain": [
       "          Airline    Source Destination Total_Stops  \\\n",
       "0          IndiGo  Banglore   New Delhi    non-stop   \n",
       "4698  Jet Airways   Kolkata    Banglore      1 stop   \n",
       "2487     SpiceJet   Kolkata    Banglore    non-stop   \n",
       "8272    Air India  Banglore   New Delhi      1 stop   \n",
       "2489  Jet Airways     Delhi      Cochin      1 stop   \n",
       "\n",
       "                  Additional_Info  Price  Month Weekend  hour_of_day  \\\n",
       "0                         No info   3897      3     Yes           22   \n",
       "4698                      No info  13759      3     Yes            8   \n",
       "2487                      No info   3847      3      No           17   \n",
       "8272                      No info   8714      3     Yes            9   \n",
       "2489  In-flight meal not included  13843      3      No            8   \n",
       "\n",
       "      duration_in_mins  total_stops  \n",
       "0                  170          0.0  \n",
       "4698              1655          1.0  \n",
       "2487               150          0.0  \n",
       "8272               385          1.0  \n",
       "2489              1225          1.0  "
      ]
     },
     "execution_count": 77,
     "metadata": {},
     "output_type": "execute_result"
    }
   ],
   "source": [
    "df.head()"
   ]
  },
  {
   "cell_type": "code",
   "execution_count": 78,
   "id": "463c5f36",
   "metadata": {},
   "outputs": [],
   "source": [
    "df['total_stops'] = df['total_stops'].astype(int)"
   ]
  },
  {
   "cell_type": "code",
   "execution_count": 79,
   "id": "ca2137ef",
   "metadata": {},
   "outputs": [
    {
     "data": {
      "text/html": [
       "<div>\n",
       "<style scoped>\n",
       "    .dataframe tbody tr th:only-of-type {\n",
       "        vertical-align: middle;\n",
       "    }\n",
       "\n",
       "    .dataframe tbody tr th {\n",
       "        vertical-align: top;\n",
       "    }\n",
       "\n",
       "    .dataframe thead th {\n",
       "        text-align: right;\n",
       "    }\n",
       "</style>\n",
       "<table border=\"1\" class=\"dataframe\">\n",
       "  <thead>\n",
       "    <tr style=\"text-align: right;\">\n",
       "      <th></th>\n",
       "      <th>Airline</th>\n",
       "      <th>Source</th>\n",
       "      <th>Destination</th>\n",
       "      <th>Total_Stops</th>\n",
       "      <th>Additional_Info</th>\n",
       "      <th>Price</th>\n",
       "      <th>Month</th>\n",
       "      <th>Weekend</th>\n",
       "      <th>hour_of_day</th>\n",
       "      <th>duration_in_mins</th>\n",
       "      <th>total_stops</th>\n",
       "    </tr>\n",
       "  </thead>\n",
       "  <tbody>\n",
       "    <tr>\n",
       "      <th>0</th>\n",
       "      <td>IndiGo</td>\n",
       "      <td>Banglore</td>\n",
       "      <td>New Delhi</td>\n",
       "      <td>non-stop</td>\n",
       "      <td>No info</td>\n",
       "      <td>3897</td>\n",
       "      <td>3</td>\n",
       "      <td>Yes</td>\n",
       "      <td>22</td>\n",
       "      <td>170</td>\n",
       "      <td>0</td>\n",
       "    </tr>\n",
       "    <tr>\n",
       "      <th>4698</th>\n",
       "      <td>Jet Airways</td>\n",
       "      <td>Kolkata</td>\n",
       "      <td>Banglore</td>\n",
       "      <td>1 stop</td>\n",
       "      <td>No info</td>\n",
       "      <td>13759</td>\n",
       "      <td>3</td>\n",
       "      <td>Yes</td>\n",
       "      <td>8</td>\n",
       "      <td>1655</td>\n",
       "      <td>1</td>\n",
       "    </tr>\n",
       "    <tr>\n",
       "      <th>2487</th>\n",
       "      <td>SpiceJet</td>\n",
       "      <td>Kolkata</td>\n",
       "      <td>Banglore</td>\n",
       "      <td>non-stop</td>\n",
       "      <td>No info</td>\n",
       "      <td>3847</td>\n",
       "      <td>3</td>\n",
       "      <td>No</td>\n",
       "      <td>17</td>\n",
       "      <td>150</td>\n",
       "      <td>0</td>\n",
       "    </tr>\n",
       "    <tr>\n",
       "      <th>8272</th>\n",
       "      <td>Air India</td>\n",
       "      <td>Banglore</td>\n",
       "      <td>New Delhi</td>\n",
       "      <td>1 stop</td>\n",
       "      <td>No info</td>\n",
       "      <td>8714</td>\n",
       "      <td>3</td>\n",
       "      <td>Yes</td>\n",
       "      <td>9</td>\n",
       "      <td>385</td>\n",
       "      <td>1</td>\n",
       "    </tr>\n",
       "    <tr>\n",
       "      <th>2489</th>\n",
       "      <td>Jet Airways</td>\n",
       "      <td>Delhi</td>\n",
       "      <td>Cochin</td>\n",
       "      <td>1 stop</td>\n",
       "      <td>In-flight meal not included</td>\n",
       "      <td>13843</td>\n",
       "      <td>3</td>\n",
       "      <td>No</td>\n",
       "      <td>8</td>\n",
       "      <td>1225</td>\n",
       "      <td>1</td>\n",
       "    </tr>\n",
       "  </tbody>\n",
       "</table>\n",
       "</div>"
      ],
      "text/plain": [
       "          Airline    Source Destination Total_Stops  \\\n",
       "0          IndiGo  Banglore   New Delhi    non-stop   \n",
       "4698  Jet Airways   Kolkata    Banglore      1 stop   \n",
       "2487     SpiceJet   Kolkata    Banglore    non-stop   \n",
       "8272    Air India  Banglore   New Delhi      1 stop   \n",
       "2489  Jet Airways     Delhi      Cochin      1 stop   \n",
       "\n",
       "                  Additional_Info  Price  Month Weekend  hour_of_day  \\\n",
       "0                         No info   3897      3     Yes           22   \n",
       "4698                      No info  13759      3     Yes            8   \n",
       "2487                      No info   3847      3      No           17   \n",
       "8272                      No info   8714      3     Yes            9   \n",
       "2489  In-flight meal not included  13843      3      No            8   \n",
       "\n",
       "      duration_in_mins  total_stops  \n",
       "0                  170            0  \n",
       "4698              1655            1  \n",
       "2487               150            0  \n",
       "8272               385            1  \n",
       "2489              1225            1  "
      ]
     },
     "execution_count": 79,
     "metadata": {},
     "output_type": "execute_result"
    }
   ],
   "source": [
    "df.head()"
   ]
  },
  {
   "cell_type": "markdown",
   "id": "fb1712b2",
   "metadata": {},
   "source": [
    "Now the total stops column is integer type. We will drop the original total_stops column"
   ]
  },
  {
   "cell_type": "code",
   "execution_count": 80,
   "id": "bcfe7cec",
   "metadata": {},
   "outputs": [],
   "source": [
    "df.drop('Total_Stops', axis=1, inplace=True)"
   ]
  },
  {
   "cell_type": "code",
   "execution_count": 81,
   "id": "ef7f5bfe",
   "metadata": {},
   "outputs": [
    {
     "data": {
      "text/plain": [
       "<AxesSubplot:xlabel='total_stops', ylabel='Price'>"
      ]
     },
     "execution_count": 81,
     "metadata": {},
     "output_type": "execute_result"
    },
    {
     "data": {
      "image/png": "[encoded data removed]",
      "text/plain": [
       "<Figure size 432x288 with 1 Axes>"
      ]
     },
     "metadata": {
      "needs_background": "light"
     },
     "output_type": "display_data"
    }
   ],
   "source": [
    "sns.lineplot(df['total_stops'], df['Price'])"
   ]
  },
  {
   "cell_type": "markdown",
   "id": "02b63bd4",
   "metadata": {},
   "source": [
    "There is high positive correlation between Price and the total stops of the flight. The greater the number of stops, the higher the price."
   ]
  },
  {
   "cell_type": "markdown",
   "id": "c1839846",
   "metadata": {},
   "source": [
    "# Skewness"
   ]
  },
  {
   "cell_type": "code",
   "execution_count": 82,
   "id": "58722290",
   "metadata": {},
   "outputs": [
    {
     "data": {
      "text/plain": [
       "Price               1.812405\n",
       "Month              -0.387409\n",
       "hour_of_day         0.116619\n",
       "duration_in_mins    0.861411\n",
       "total_stops         0.317109\n",
       "dtype: float64"
      ]
     },
     "execution_count": 82,
     "metadata": {},
     "output_type": "execute_result"
    }
   ],
   "source": [
    "df.skew()"
   ]
  },
  {
   "cell_type": "markdown",
   "id": "ceee44a1",
   "metadata": {},
   "source": [
    "There is only skewness in the price column and we cannot remove it since it is the target column."
   ]
  },
  {
   "cell_type": "markdown",
   "id": "c3c0c7dd",
   "metadata": {},
   "source": [
    "# Encoding object type columns"
   ]
  },
  {
   "cell_type": "code",
   "execution_count": 83,
   "id": "27123279",
   "metadata": {},
   "outputs": [
    {
     "data": {
      "text/plain": [
       "Airline             object\n",
       "Source              object\n",
       "Destination         object\n",
       "Additional_Info     object\n",
       "Price                int64\n",
       "Month                int64\n",
       "Weekend             object\n",
       "hour_of_day          int64\n",
       "duration_in_mins     int32\n",
       "total_stops          int32\n",
       "dtype: object"
      ]
     },
     "execution_count": 83,
     "metadata": {},
     "output_type": "execute_result"
    }
   ],
   "source": [
    "df.dtypes"
   ]
  },
  {
   "cell_type": "code",
   "execution_count": 84,
   "id": "f8cf89d7",
   "metadata": {},
   "outputs": [],
   "source": [
    "le = LabelEncoder()\n",
    "list1 = ['Airline', 'Source', 'Destination', 'Additional_Info', 'Weekend']\n",
    "for i in list1:\n",
    "    df[i] = le.fit_transform(df[i].astype(str))"
   ]
  },
  {
   "cell_type": "code",
   "execution_count": 85,
   "id": "803ebece",
   "metadata": {},
   "outputs": [
    {
     "data": {
      "text/plain": [
       "Airline             int32\n",
       "Source              int32\n",
       "Destination         int32\n",
       "Additional_Info     int32\n",
       "Price               int64\n",
       "Month               int64\n",
       "Weekend             int32\n",
       "hour_of_day         int64\n",
       "duration_in_mins    int32\n",
       "total_stops         int32\n",
       "dtype: object"
      ]
     },
     "execution_count": 85,
     "metadata": {},
     "output_type": "execute_result"
    }
   ],
   "source": [
    "df.dtypes"
   ]
  },
  {
   "cell_type": "markdown",
   "id": "248ee26f",
   "metadata": {},
   "source": [
    "Now all columns are numerical type."
   ]
  },
  {
   "cell_type": "markdown",
   "id": "b0f809db",
   "metadata": {},
   "source": [
    "# Removing outliers"
   ]
  },
  {
   "cell_type": "code",
   "execution_count": 86,
   "id": "2a281a4f",
   "metadata": {},
   "outputs": [
    {
     "name": "stdout",
     "output_type": "stream",
     "text": [
      "(array([    8,     8,    24,    94,    96,    96,    97,   123,   127,\n",
      "         139,   148,   162,   192,   215,   238,   267,   270,   283,\n",
      "         315,   341,   346,   352,   354,   394,   403,   409,   409,\n",
      "         424,   430,   446,   449,   504,   512,   517,   527,   539,\n",
      "         547,   577,   586,   586,   592,   598,   598,   614,   635,\n",
      "         661,   696,   712,   743,   759,   778,   786,   800,   804,\n",
      "         816,   825,   847,   848,   878,   915,   915,   951,   969,\n",
      "         972,  1004,  1004,  1145,  1157,  1188,  1188,  1205,  1211,\n",
      "        1264,  1264,  1269,  1269,  1274,  1274,  1279,  1288,  1291,\n",
      "        1330,  1338,  1341,  1343,  1374,  1374,  1404,  1422,  1422,\n",
      "        1455,  1469,  1471,  1473,  1484,  1520,  1520,  1527,  1536,\n",
      "        1538,  1557,  1596,  1597,  1598,  1635,  1651,  1688,  1705,\n",
      "        1717,  1717,  1735,  1738,  1750,  1754,  1755,  1772,  1780,\n",
      "        1786,  1796,  1821,  1821,  1826,  1828,  1828,  1830,  1849,\n",
      "        1861,  1861,  1863,  1876,  1881,  1896,  1941,  1966,  1987,\n",
      "        1995,  2012,  2016,  2017,  2040,  2042,  2064,  2083,  2089,\n",
      "        2097,  2107,  2122,  2131,  2149,  2173,  2207,  2207,  2214,\n",
      "        2247,  2255,  2257,  2259,  2273,  2286,  2286,  2295,  2319,\n",
      "        2344,  2346,  2367,  2387,  2389,  2390,  2411,  2442,  2452,\n",
      "        2460,  2472,  2472,  2476,  2491,  2499,  2517,  2522,  2559,\n",
      "        2571,  2576,  2595,  2624,  2636,  2654,  2654,  2672,  2704,\n",
      "        3234,  3253,  3763,  3920,  4282,  4811,  4904,  5101,  5136,\n",
      "        5229,  5229,  5402,  5402,  5547,  5571,  5613,  5880,  6117,\n",
      "        6198,  6248,  6425,  7180,  7180,  7538,  7538,  7551,  7775,\n",
      "        8011,  8011,  8263,  8359,  8749,  8843,  8883,  8883,  8939,\n",
      "        8939,  9014,  9023,  9023,  9222,  9340,  9454,  9518,  9518,\n",
      "        9737,  9753,  9795,  9795, 10208, 10536], dtype=int64), array([3, 4, 3, 8, 3, 4, 4, 8, 8, 4, 4, 8, 3, 9, 4, 8, 4, 3, 8, 4, 9, 9,\n",
      "       4, 4, 4, 8, 9, 9, 3, 4, 4, 4, 4, 8, 3, 9, 9, 4, 3, 4, 8, 3, 4, 4,\n",
      "       8, 4, 8, 4, 4, 3, 4, 4, 4, 8, 3, 8, 3, 8, 9, 8, 9, 8, 8, 8, 3, 4,\n",
      "       4, 9, 3, 4, 4, 4, 3, 4, 3, 4, 3, 4, 4, 8, 3, 8, 4, 8, 4, 3, 4, 4,\n",
      "       3, 4, 4, 4, 8, 4, 4, 3, 4, 9, 8, 8, 4, 4, 4, 8, 9, 4, 4, 4, 3, 4,\n",
      "       3, 4, 8, 4, 4, 4, 8, 8, 9, 3, 4, 4, 3, 4, 4, 3, 8, 9, 4, 8, 4, 4,\n",
      "       4, 4, 4, 8, 4, 8, 4, 4, 8, 4, 8, 4, 3, 4, 8, 8, 4, 4, 4, 8, 4, 8,\n",
      "       4, 4, 4, 8, 3, 4, 4, 4, 4, 4, 4, 4, 4, 8, 9, 4, 8, 9, 3, 9, 4, 4,\n",
      "       8, 4, 4, 8, 4, 3, 8, 4, 4, 3, 4, 8, 8, 9, 9, 8, 8, 8, 8, 9, 9, 4,\n",
      "       8, 9, 8, 9, 8, 8, 9, 9, 9, 9, 9, 9, 8, 9, 8, 9, 8, 9, 8, 9, 9, 8,\n",
      "       9, 9, 8, 9, 8, 9, 8, 8, 9, 9, 3, 9, 8, 9, 9, 8, 8, 9, 9, 9],\n",
      "      dtype=int64))\n"
     ]
    }
   ],
   "source": [
    "z = np.abs(zscore(df))\n",
    "\n",
    "print(np.where(z > 3))"
   ]
  },
  {
   "cell_type": "code",
   "execution_count": 87,
   "id": "23ebb9ef",
   "metadata": {},
   "outputs": [
    {
     "data": {
      "text/plain": [
       "(10682, 10)"
      ]
     },
     "execution_count": 87,
     "metadata": {},
     "output_type": "execute_result"
    }
   ],
   "source": [
    "df.shape"
   ]
  },
  {
   "cell_type": "code",
   "execution_count": 88,
   "id": "6bad98ba",
   "metadata": {},
   "outputs": [],
   "source": [
    "df = df[(z<3).all(axis=1)]"
   ]
  },
  {
   "cell_type": "code",
   "execution_count": 89,
   "id": "642061c9",
   "metadata": {},
   "outputs": [
    {
     "data": {
      "text/plain": [
       "(10474, 10)"
      ]
     },
     "execution_count": 89,
     "metadata": {},
     "output_type": "execute_result"
    }
   ],
   "source": [
    "df.shape"
   ]
  },
  {
   "cell_type": "markdown",
   "id": "43c081a0",
   "metadata": {},
   "source": [
    "There are no more outliers in the data set."
   ]
  },
  {
   "cell_type": "markdown",
   "id": "70974acb",
   "metadata": {},
   "source": [
    "# Checking multi-collinearity with Variance Inflation Factor"
   ]
  },
  {
   "cell_type": "code",
   "execution_count": 90,
   "id": "1e9cbd9d",
   "metadata": {},
   "outputs": [],
   "source": [
    "def vif_calc():\n",
    "    vif = pd.DataFrame()\n",
    "    vif['variables'] = df[0:-1].columns\n",
    "    vif['VIF FACTOR'] = [variance_inflation_factor(df[0:-1].values,i) for i in range(df[0:-1].shape[1])]\n",
    "    return vif"
   ]
  },
  {
   "cell_type": "code",
   "execution_count": 91,
   "id": "d23b561a",
   "metadata": {},
   "outputs": [
    {
     "data": {
      "text/html": [
       "<div>\n",
       "<style scoped>\n",
       "    .dataframe tbody tr th:only-of-type {\n",
       "        vertical-align: middle;\n",
       "    }\n",
       "\n",
       "    .dataframe tbody tr th {\n",
       "        vertical-align: top;\n",
       "    }\n",
       "\n",
       "    .dataframe thead th {\n",
       "        text-align: right;\n",
       "    }\n",
       "</style>\n",
       "<table border=\"1\" class=\"dataframe\">\n",
       "  <thead>\n",
       "    <tr style=\"text-align: right;\">\n",
       "      <th></th>\n",
       "      <th>variables</th>\n",
       "      <th>VIF FACTOR</th>\n",
       "    </tr>\n",
       "  </thead>\n",
       "  <tbody>\n",
       "    <tr>\n",
       "      <th>0</th>\n",
       "      <td>Airline</td>\n",
       "      <td>3.914506</td>\n",
       "    </tr>\n",
       "    <tr>\n",
       "      <th>1</th>\n",
       "      <td>Source</td>\n",
       "      <td>10.856025</td>\n",
       "    </tr>\n",
       "    <tr>\n",
       "      <th>2</th>\n",
       "      <td>Destination</td>\n",
       "      <td>6.650364</td>\n",
       "    </tr>\n",
       "    <tr>\n",
       "      <th>3</th>\n",
       "      <td>Additional_Info</td>\n",
       "      <td>35.897651</td>\n",
       "    </tr>\n",
       "    <tr>\n",
       "      <th>4</th>\n",
       "      <td>Price</td>\n",
       "      <td>11.290548</td>\n",
       "    </tr>\n",
       "    <tr>\n",
       "      <th>5</th>\n",
       "      <td>Month</td>\n",
       "      <td>16.347555</td>\n",
       "    </tr>\n",
       "    <tr>\n",
       "      <th>6</th>\n",
       "      <td>Weekend</td>\n",
       "      <td>1.479952</td>\n",
       "    </tr>\n",
       "    <tr>\n",
       "      <th>7</th>\n",
       "      <td>hour_of_day</td>\n",
       "      <td>5.890012</td>\n",
       "    </tr>\n",
       "    <tr>\n",
       "      <th>8</th>\n",
       "      <td>duration_in_mins</td>\n",
       "      <td>6.033065</td>\n",
       "    </tr>\n",
       "    <tr>\n",
       "      <th>9</th>\n",
       "      <td>total_stops</td>\n",
       "      <td>7.908936</td>\n",
       "    </tr>\n",
       "  </tbody>\n",
       "</table>\n",
       "</div>"
      ],
      "text/plain": [
       "          variables  VIF FACTOR\n",
       "0           Airline    3.914506\n",
       "1            Source   10.856025\n",
       "2       Destination    6.650364\n",
       "3   Additional_Info   35.897651\n",
       "4             Price   11.290548\n",
       "5             Month   16.347555\n",
       "6           Weekend    1.479952\n",
       "7       hour_of_day    5.890012\n",
       "8  duration_in_mins    6.033065\n",
       "9       total_stops    7.908936"
      ]
     },
     "execution_count": 91,
     "metadata": {},
     "output_type": "execute_result"
    }
   ],
   "source": [
    "vif_calc()"
   ]
  },
  {
   "cell_type": "code",
   "execution_count": 92,
   "id": "a1b5f0a1",
   "metadata": {},
   "outputs": [
    {
     "data": {
      "text/plain": [
       "<AxesSubplot:>"
      ]
     },
     "execution_count": 92,
     "metadata": {},
     "output_type": "execute_result"
    },
    {
     "data": {
      "image/png": "[encoded data removed]",
      "text/plain": [
       "<Figure size 720x720 with 2 Axes>"
      ]
     },
     "metadata": {
      "needs_background": "light"
     },
     "output_type": "display_data"
    }
   ],
   "source": [
    "plt.figure(figsize=(10,10))\n",
    "sns.heatmap(df.corr(), annot=True)"
   ]
  },
  {
   "cell_type": "markdown",
   "id": "33f25054",
   "metadata": {},
   "source": [
    "There is only some correlation between duration and total stops. We do not need to drop any columns here."
   ]
  },
  {
   "cell_type": "markdown",
   "id": "212463f7",
   "metadata": {},
   "source": [
    "# Applying changes to test set"
   ]
  },
  {
   "cell_type": "code",
   "execution_count": 93,
   "id": "76b960c2",
   "metadata": {},
   "outputs": [],
   "source": [
    "df_test.dropna(inplace=True)"
   ]
  },
  {
   "cell_type": "code",
   "execution_count": 94,
   "id": "393b0da3",
   "metadata": {},
   "outputs": [],
   "source": [
    "df_test.loc[df_test['Destination'] == 'Delhi', 'Destination'] = 'New Delhi'\n",
    "df_test.loc[df_test['Additional_Info'] == 'No Info', 'Additional_Info'] = 'No info'"
   ]
  },
  {
   "cell_type": "code",
   "execution_count": 95,
   "id": "34f904fb",
   "metadata": {},
   "outputs": [],
   "source": [
    "dates = []\n",
    "for i in df_test['Date_of_Journey']:\n",
    "    if len(i) < 10:\n",
    "        inn = '0' + i\n",
    "        dates.append(inn)\n",
    "    else:\n",
    "        inn = i\n",
    "        dates.append(inn)\n",
    "df_test['Date_of_Journey'] = dates        "
   ]
  },
  {
   "cell_type": "code",
   "execution_count": 96,
   "id": "bd92288f",
   "metadata": {},
   "outputs": [],
   "source": [
    "df_test['Month'] = [int(x[3:5]) for x in df_test['Date_of_Journey']]\n",
    "df_test = df_test.sort_values(by = 'Month')"
   ]
  },
  {
   "cell_type": "code",
   "execution_count": 97,
   "id": "4d4f4f6d",
   "metadata": {},
   "outputs": [],
   "source": [
    "weekend=[]\n",
    "for i in df_test.loc[df_test['Month'] == 3, 'Date_of_Journey']:\n",
    "    if i[0:2] == '01' or i[0:2] == '02' or i[0:2] == '03' or i[0:2] == '08' or i[0:2] == '09' or i[0:2] == '10' or i[0:2] == '15' or i[0:2] == '16' or i[0:2] == '17' or i[0:2] == '22' or i[0:2] == '23' or i[0:2] == '24' or i[0:2] == '29' or i[0:2] == '30' or i[0:2] == '31':\n",
    "        weekend.append('Yes')\n",
    "    else:\n",
    "        weekend.append('No')\n",
    "            \n",
    "for i in df_test.loc[df_test['Month'] == 4, 'Date_of_Journey']:\n",
    "    if i[0:2] == '5' or i[0:2] == '6' or i[0:2] == '7' or i[0:2] == '12' or i[0:2] == '13' or i[0:2] == '14' or i[0:2] == '19' or i[0:2] == '20' or i[0:2] == '21' or i[0:2] == '26' or i[0:2] == '27' or i[0:2] == '28':\n",
    "        weekend.append('Yes')\n",
    "    else:\n",
    "        weekend.append('No')\n",
    "            \n",
    "for i in df_test.loc[df_test['Month'] == 5, 'Date_of_Journey']:\n",
    "    if i[0:2] == '3' or i[0:2] == '4' or i[0:2] == '5' or i[0:2] == '10' or i[0:2] == '11' or i[0:2] == '12' or i[0:2] == '17' or i[0:2] == '18' or i[0:2] == '19' or i[0:2] == '24' or i[0:2] == '25' or i[0:2] == '26' or i[0:2] == '31':\n",
    "        weekend.append('Yes')\n",
    "    else:\n",
    "        weekend.append('No')\n",
    "\n",
    "for i in df_test.loc[df_test['Month'] == 6, 'Date_of_Journey']:\n",
    "    if i[0:2] == '1' or i[0:2] == '2' or i[0:2] == '7' or i[0:2] == '8' or i[0:2] == '9' or i[0:2] == '14' or i[0:2] == '15' or i[0:2] == '16' or i[0:2] == '21' or i[0:2] == '22' or i[0:2] == '23' or i[0:2] == '28' or i[0:2] == '29' or i[0:2] == '30':\n",
    "        weekend.append('Yes')\n",
    "    else:\n",
    "        weekend.append('No')\n",
    "df_test['Weekend'] = weekend"
   ]
  },
  {
   "cell_type": "code",
   "execution_count": 98,
   "id": "15321d40",
   "metadata": {},
   "outputs": [],
   "source": [
    "hour = []\n",
    "for i in df_test['Dep_Time']:\n",
    "    min = int(i[3:5])\n",
    "    if min <= 30:\n",
    "        hour.append(int(i[0:2]))\n",
    "    else:\n",
    "        hour.append(int(i[0:2])+1)"
   ]
  },
  {
   "cell_type": "code",
   "execution_count": 99,
   "id": "c1662f25",
   "metadata": {},
   "outputs": [],
   "source": [
    "for i in hour:\n",
    "    if i == 24:\n",
    "        i = 0"
   ]
  },
  {
   "cell_type": "code",
   "execution_count": 100,
   "id": "b79208f6",
   "metadata": {},
   "outputs": [],
   "source": [
    "df_test['hour_of_day'] = hour"
   ]
  },
  {
   "cell_type": "code",
   "execution_count": 101,
   "id": "b947329b",
   "metadata": {},
   "outputs": [],
   "source": [
    "df_test.drop(['Date_of_Journey', 'Route', 'Dep_Time', 'Arrival_Time'], axis=1, inplace=True)"
   ]
  },
  {
   "cell_type": "code",
   "execution_count": 102,
   "id": "c24186c4",
   "metadata": {},
   "outputs": [],
   "source": [
    "h = df_test['Duration'].str.extract('(\\d+)h', expand=False).astype(float) * 60\n",
    "m = df_test['Duration'].str.extract('(\\d+)m', expand=False).astype(float)\n",
    "\n",
    "df_test['duration_in_mins'] = h.add(m, fill_value=0).astype(int)"
   ]
  },
  {
   "cell_type": "code",
   "execution_count": 103,
   "id": "2f8f43ae",
   "metadata": {},
   "outputs": [],
   "source": [
    "df_test.drop('Duration', axis=1, inplace=True)"
   ]
  },
  {
   "cell_type": "code",
   "execution_count": 104,
   "id": "ed37ecf1",
   "metadata": {},
   "outputs": [],
   "source": [
    "df_test.loc[df_test['Total_Stops'] == 'non-stop', 'total_stops'] = 0\n",
    "df_test.loc[df_test['Total_Stops'] == '1 stop', 'total_stops'] = 1\n",
    "df_test.loc[df_test['Total_Stops'] == '2 stops', 'total_stops'] = 2\n",
    "df_test.loc[df_test['Total_Stops'] == '3 stops', 'total_stops'] = 3\n",
    "df_test.loc[df_test['Total_Stops'] == '4 stops', 'total_stops'] = 4\n",
    "df_test['total_stops'] = df_test['total_stops'].astype(int)"
   ]
  },
  {
   "cell_type": "code",
   "execution_count": 105,
   "id": "8e51d136",
   "metadata": {},
   "outputs": [],
   "source": [
    "df_test.drop('Total_Stops', axis=1, inplace=True)"
   ]
  },
  {
   "cell_type": "code",
   "execution_count": 106,
   "id": "903ac468",
   "metadata": {},
   "outputs": [
    {
     "data": {
      "text/html": [
       "<div>\n",
       "<style scoped>\n",
       "    .dataframe tbody tr th:only-of-type {\n",
       "        vertical-align: middle;\n",
       "    }\n",
       "\n",
       "    .dataframe tbody tr th {\n",
       "        vertical-align: top;\n",
       "    }\n",
       "\n",
       "    .dataframe thead th {\n",
       "        text-align: right;\n",
       "    }\n",
       "</style>\n",
       "<table border=\"1\" class=\"dataframe\">\n",
       "  <thead>\n",
       "    <tr style=\"text-align: right;\">\n",
       "      <th></th>\n",
       "      <th>Airline</th>\n",
       "      <th>Source</th>\n",
       "      <th>Destination</th>\n",
       "      <th>Additional_Info</th>\n",
       "      <th>Month</th>\n",
       "      <th>Weekend</th>\n",
       "      <th>hour_of_day</th>\n",
       "      <th>duration_in_mins</th>\n",
       "      <th>total_stops</th>\n",
       "    </tr>\n",
       "  </thead>\n",
       "  <tbody>\n",
       "    <tr>\n",
       "      <th>632</th>\n",
       "      <td>IndiGo</td>\n",
       "      <td>Delhi</td>\n",
       "      <td>Cochin</td>\n",
       "      <td>No info</td>\n",
       "      <td>3</td>\n",
       "      <td>Yes</td>\n",
       "      <td>11</td>\n",
       "      <td>615</td>\n",
       "      <td>1</td>\n",
       "    </tr>\n",
       "    <tr>\n",
       "      <th>510</th>\n",
       "      <td>Air India</td>\n",
       "      <td>Delhi</td>\n",
       "      <td>Cochin</td>\n",
       "      <td>No info</td>\n",
       "      <td>3</td>\n",
       "      <td>No</td>\n",
       "      <td>5</td>\n",
       "      <td>2295</td>\n",
       "      <td>2</td>\n",
       "    </tr>\n",
       "    <tr>\n",
       "      <th>511</th>\n",
       "      <td>SpiceJet</td>\n",
       "      <td>Delhi</td>\n",
       "      <td>Cochin</td>\n",
       "      <td>No info</td>\n",
       "      <td>3</td>\n",
       "      <td>Yes</td>\n",
       "      <td>16</td>\n",
       "      <td>360</td>\n",
       "      <td>1</td>\n",
       "    </tr>\n",
       "    <tr>\n",
       "      <th>512</th>\n",
       "      <td>SpiceJet</td>\n",
       "      <td>Banglore</td>\n",
       "      <td>New Delhi</td>\n",
       "      <td>No info</td>\n",
       "      <td>3</td>\n",
       "      <td>Yes</td>\n",
       "      <td>20</td>\n",
       "      <td>170</td>\n",
       "      <td>0</td>\n",
       "    </tr>\n",
       "    <tr>\n",
       "      <th>1698</th>\n",
       "      <td>Multiple carriers</td>\n",
       "      <td>Delhi</td>\n",
       "      <td>Cochin</td>\n",
       "      <td>No info</td>\n",
       "      <td>3</td>\n",
       "      <td>Yes</td>\n",
       "      <td>13</td>\n",
       "      <td>490</td>\n",
       "      <td>1</td>\n",
       "    </tr>\n",
       "  </tbody>\n",
       "</table>\n",
       "</div>"
      ],
      "text/plain": [
       "                Airline    Source Destination Additional_Info  Month Weekend  \\\n",
       "632              IndiGo     Delhi      Cochin         No info      3     Yes   \n",
       "510           Air India     Delhi      Cochin         No info      3      No   \n",
       "511            SpiceJet     Delhi      Cochin         No info      3     Yes   \n",
       "512            SpiceJet  Banglore   New Delhi         No info      3     Yes   \n",
       "1698  Multiple carriers     Delhi      Cochin         No info      3     Yes   \n",
       "\n",
       "      hour_of_day  duration_in_mins  total_stops  \n",
       "632            11               615            1  \n",
       "510             5              2295            2  \n",
       "511            16               360            1  \n",
       "512            20               170            0  \n",
       "1698           13               490            1  "
      ]
     },
     "execution_count": 106,
     "metadata": {},
     "output_type": "execute_result"
    }
   ],
   "source": [
    "df_test.head()"
   ]
  },
  {
   "cell_type": "code",
   "execution_count": 107,
   "id": "1921f7fe",
   "metadata": {},
   "outputs": [],
   "source": [
    "le = LabelEncoder()\n",
    "list1 = ['Airline', 'Source', 'Destination', 'Additional_Info', 'Weekend']\n",
    "for i in list1:\n",
    "    df_test[i] = le.fit_transform(df_test[i].astype(str))"
   ]
  },
  {
   "cell_type": "code",
   "execution_count": 108,
   "id": "f464ed5d",
   "metadata": {},
   "outputs": [],
   "source": [
    "z = np.abs(zscore(df_test))\n",
    "df_test = df_test[(z<3).all(axis=1)]"
   ]
  },
  {
   "cell_type": "markdown",
   "id": "c8878442",
   "metadata": {},
   "source": [
    "# Training and testing"
   ]
  },
  {
   "cell_type": "markdown",
   "id": "b4cb2611",
   "metadata": {},
   "source": [
    "### Splitting data for training and testing"
   ]
  },
  {
   "cell_type": "markdown",
   "id": "8b8d8019",
   "metadata": {},
   "source": [
    "### Moving price column to the end "
   ]
  },
  {
   "cell_type": "code",
   "execution_count": 89,
   "id": "09414ad1",
   "metadata": {},
   "outputs": [
    {
     "data": {
      "text/html": [
       "<div>\n",
       "<style scoped>\n",
       "    .dataframe tbody tr th:only-of-type {\n",
       "        vertical-align: middle;\n",
       "    }\n",
       "\n",
       "    .dataframe tbody tr th {\n",
       "        vertical-align: top;\n",
       "    }\n",
       "\n",
       "    .dataframe thead th {\n",
       "        text-align: right;\n",
       "    }\n",
       "</style>\n",
       "<table border=\"1\" class=\"dataframe\">\n",
       "  <thead>\n",
       "    <tr style=\"text-align: right;\">\n",
       "      <th></th>\n",
       "      <th>Airline</th>\n",
       "      <th>Source</th>\n",
       "      <th>Destination</th>\n",
       "      <th>Additional_Info</th>\n",
       "      <th>Month</th>\n",
       "      <th>Weekend</th>\n",
       "      <th>hour_of_day</th>\n",
       "      <th>duration_in_mins</th>\n",
       "      <th>total_stops</th>\n",
       "      <th>Price</th>\n",
       "    </tr>\n",
       "  </thead>\n",
       "  <tbody>\n",
       "    <tr>\n",
       "      <th>0</th>\n",
       "      <td>3</td>\n",
       "      <td>0</td>\n",
       "      <td>4</td>\n",
       "      <td>7</td>\n",
       "      <td>3</td>\n",
       "      <td>1</td>\n",
       "      <td>22</td>\n",
       "      <td>170</td>\n",
       "      <td>0</td>\n",
       "      <td>3897</td>\n",
       "    </tr>\n",
       "    <tr>\n",
       "      <th>4698</th>\n",
       "      <td>4</td>\n",
       "      <td>3</td>\n",
       "      <td>0</td>\n",
       "      <td>7</td>\n",
       "      <td>3</td>\n",
       "      <td>1</td>\n",
       "      <td>8</td>\n",
       "      <td>1655</td>\n",
       "      <td>1</td>\n",
       "      <td>13759</td>\n",
       "    </tr>\n",
       "    <tr>\n",
       "      <th>2487</th>\n",
       "      <td>8</td>\n",
       "      <td>3</td>\n",
       "      <td>0</td>\n",
       "      <td>7</td>\n",
       "      <td>3</td>\n",
       "      <td>0</td>\n",
       "      <td>17</td>\n",
       "      <td>150</td>\n",
       "      <td>0</td>\n",
       "      <td>3847</td>\n",
       "    </tr>\n",
       "    <tr>\n",
       "      <th>8272</th>\n",
       "      <td>1</td>\n",
       "      <td>0</td>\n",
       "      <td>4</td>\n",
       "      <td>7</td>\n",
       "      <td>3</td>\n",
       "      <td>1</td>\n",
       "      <td>9</td>\n",
       "      <td>385</td>\n",
       "      <td>1</td>\n",
       "      <td>8714</td>\n",
       "    </tr>\n",
       "    <tr>\n",
       "      <th>2489</th>\n",
       "      <td>4</td>\n",
       "      <td>2</td>\n",
       "      <td>1</td>\n",
       "      <td>5</td>\n",
       "      <td>3</td>\n",
       "      <td>0</td>\n",
       "      <td>8</td>\n",
       "      <td>1225</td>\n",
       "      <td>1</td>\n",
       "      <td>13843</td>\n",
       "    </tr>\n",
       "  </tbody>\n",
       "</table>\n",
       "</div>"
      ],
      "text/plain": [
       "      Airline  Source  Destination  Additional_Info  Month  Weekend  \\\n",
       "0           3       0            4                7      3        1   \n",
       "4698        4       3            0                7      3        1   \n",
       "2487        8       3            0                7      3        0   \n",
       "8272        1       0            4                7      3        1   \n",
       "2489        4       2            1                5      3        0   \n",
       "\n",
       "      hour_of_day  duration_in_mins  total_stops  Price  \n",
       "0              22               170            0   3897  \n",
       "4698            8              1655            1  13759  \n",
       "2487           17               150            0   3847  \n",
       "8272            9               385            1   8714  \n",
       "2489            8              1225            1  13843  "
      ]
     },
     "execution_count": 89,
     "metadata": {},
     "output_type": "execute_result"
    }
   ],
   "source": [
    "price = df['Price']\n",
    "df.drop('Price', axis=1, inplace=True)\n",
    "df['Price'] = price\n",
    "df.head()"
   ]
  },
  {
   "cell_type": "code",
   "execution_count": 90,
   "id": "aba7ce36",
   "metadata": {},
   "outputs": [
    {
     "data": {
      "text/html": [
       "<div>\n",
       "<style scoped>\n",
       "    .dataframe tbody tr th:only-of-type {\n",
       "        vertical-align: middle;\n",
       "    }\n",
       "\n",
       "    .dataframe tbody tr th {\n",
       "        vertical-align: top;\n",
       "    }\n",
       "\n",
       "    .dataframe thead th {\n",
       "        text-align: right;\n",
       "    }\n",
       "</style>\n",
       "<table border=\"1\" class=\"dataframe\">\n",
       "  <thead>\n",
       "    <tr style=\"text-align: right;\">\n",
       "      <th></th>\n",
       "      <th>Airline</th>\n",
       "      <th>Source</th>\n",
       "      <th>Destination</th>\n",
       "      <th>Additional_Info</th>\n",
       "      <th>Month</th>\n",
       "      <th>Weekend</th>\n",
       "      <th>hour_of_day</th>\n",
       "      <th>duration_in_mins</th>\n",
       "      <th>total_stops</th>\n",
       "    </tr>\n",
       "  </thead>\n",
       "  <tbody>\n",
       "    <tr>\n",
       "      <th>0</th>\n",
       "      <td>3</td>\n",
       "      <td>0</td>\n",
       "      <td>4</td>\n",
       "      <td>7</td>\n",
       "      <td>3</td>\n",
       "      <td>1</td>\n",
       "      <td>22</td>\n",
       "      <td>170</td>\n",
       "      <td>0</td>\n",
       "    </tr>\n",
       "    <tr>\n",
       "      <th>4698</th>\n",
       "      <td>4</td>\n",
       "      <td>3</td>\n",
       "      <td>0</td>\n",
       "      <td>7</td>\n",
       "      <td>3</td>\n",
       "      <td>1</td>\n",
       "      <td>8</td>\n",
       "      <td>1655</td>\n",
       "      <td>1</td>\n",
       "    </tr>\n",
       "    <tr>\n",
       "      <th>2487</th>\n",
       "      <td>8</td>\n",
       "      <td>3</td>\n",
       "      <td>0</td>\n",
       "      <td>7</td>\n",
       "      <td>3</td>\n",
       "      <td>0</td>\n",
       "      <td>17</td>\n",
       "      <td>150</td>\n",
       "      <td>0</td>\n",
       "    </tr>\n",
       "    <tr>\n",
       "      <th>8272</th>\n",
       "      <td>1</td>\n",
       "      <td>0</td>\n",
       "      <td>4</td>\n",
       "      <td>7</td>\n",
       "      <td>3</td>\n",
       "      <td>1</td>\n",
       "      <td>9</td>\n",
       "      <td>385</td>\n",
       "      <td>1</td>\n",
       "    </tr>\n",
       "    <tr>\n",
       "      <th>2489</th>\n",
       "      <td>4</td>\n",
       "      <td>2</td>\n",
       "      <td>1</td>\n",
       "      <td>5</td>\n",
       "      <td>3</td>\n",
       "      <td>0</td>\n",
       "      <td>8</td>\n",
       "      <td>1225</td>\n",
       "      <td>1</td>\n",
       "    </tr>\n",
       "    <tr>\n",
       "      <th>...</th>\n",
       "      <td>...</td>\n",
       "      <td>...</td>\n",
       "      <td>...</td>\n",
       "      <td>...</td>\n",
       "      <td>...</td>\n",
       "      <td>...</td>\n",
       "      <td>...</td>\n",
       "      <td>...</td>\n",
       "      <td>...</td>\n",
       "    </tr>\n",
       "    <tr>\n",
       "      <th>7563</th>\n",
       "      <td>0</td>\n",
       "      <td>3</td>\n",
       "      <td>0</td>\n",
       "      <td>7</td>\n",
       "      <td>6</td>\n",
       "      <td>0</td>\n",
       "      <td>20</td>\n",
       "      <td>150</td>\n",
       "      <td>0</td>\n",
       "    </tr>\n",
       "    <tr>\n",
       "      <th>3242</th>\n",
       "      <td>4</td>\n",
       "      <td>0</td>\n",
       "      <td>4</td>\n",
       "      <td>7</td>\n",
       "      <td>6</td>\n",
       "      <td>0</td>\n",
       "      <td>19</td>\n",
       "      <td>185</td>\n",
       "      <td>0</td>\n",
       "    </tr>\n",
       "    <tr>\n",
       "      <th>3241</th>\n",
       "      <td>4</td>\n",
       "      <td>3</td>\n",
       "      <td>0</td>\n",
       "      <td>7</td>\n",
       "      <td>6</td>\n",
       "      <td>0</td>\n",
       "      <td>10</td>\n",
       "      <td>435</td>\n",
       "      <td>1</td>\n",
       "    </tr>\n",
       "    <tr>\n",
       "      <th>3365</th>\n",
       "      <td>4</td>\n",
       "      <td>0</td>\n",
       "      <td>4</td>\n",
       "      <td>7</td>\n",
       "      <td>6</td>\n",
       "      <td>0</td>\n",
       "      <td>18</td>\n",
       "      <td>180</td>\n",
       "      <td>0</td>\n",
       "    </tr>\n",
       "    <tr>\n",
       "      <th>5340</th>\n",
       "      <td>4</td>\n",
       "      <td>3</td>\n",
       "      <td>0</td>\n",
       "      <td>5</td>\n",
       "      <td>6</td>\n",
       "      <td>0</td>\n",
       "      <td>14</td>\n",
       "      <td>875</td>\n",
       "      <td>1</td>\n",
       "    </tr>\n",
       "  </tbody>\n",
       "</table>\n",
       "<p>10474 rows × 9 columns</p>\n",
       "</div>"
      ],
      "text/plain": [
       "      Airline  Source  Destination  Additional_Info  Month  Weekend  \\\n",
       "0           3       0            4                7      3        1   \n",
       "4698        4       3            0                7      3        1   \n",
       "2487        8       3            0                7      3        0   \n",
       "8272        1       0            4                7      3        1   \n",
       "2489        4       2            1                5      3        0   \n",
       "...       ...     ...          ...              ...    ...      ...   \n",
       "7563        0       3            0                7      6        0   \n",
       "3242        4       0            4                7      6        0   \n",
       "3241        4       3            0                7      6        0   \n",
       "3365        4       0            4                7      6        0   \n",
       "5340        4       3            0                5      6        0   \n",
       "\n",
       "      hour_of_day  duration_in_mins  total_stops  \n",
       "0              22               170            0  \n",
       "4698            8              1655            1  \n",
       "2487           17               150            0  \n",
       "8272            9               385            1  \n",
       "2489            8              1225            1  \n",
       "...           ...               ...          ...  \n",
       "7563           20               150            0  \n",
       "3242           19               185            0  \n",
       "3241           10               435            1  \n",
       "3365           18               180            0  \n",
       "5340           14               875            1  \n",
       "\n",
       "[10474 rows x 9 columns]"
      ]
     },
     "execution_count": 90,
     "metadata": {},
     "output_type": "execute_result"
    }
   ],
   "source": [
    "x = df.iloc[:,0:-1]\n",
    "x"
   ]
  },
  {
   "cell_type": "code",
   "execution_count": 91,
   "id": "0dc5558e",
   "metadata": {},
   "outputs": [
    {
     "data": {
      "text/plain": [
       "0        3897\n",
       "4698    13759\n",
       "2487     3847\n",
       "8272     8714\n",
       "2489    13843\n",
       "        ...  \n",
       "7563     4409\n",
       "3242     8016\n",
       "3241     8355\n",
       "3365     8016\n",
       "5340     7594\n",
       "Name: Price, Length: 10474, dtype: int64"
      ]
     },
     "execution_count": 91,
     "metadata": {},
     "output_type": "execute_result"
    }
   ],
   "source": [
    "y = df.iloc[:,-1]\n",
    "y"
   ]
  },
  {
   "cell_type": "markdown",
   "id": "2c5d4218",
   "metadata": {},
   "source": [
    "### Models"
   ]
  },
  {
   "cell_type": "code",
   "execution_count": 92,
   "id": "6e189d85",
   "metadata": {},
   "outputs": [],
   "source": [
    "lr = LinearRegression()\n",
    "ridge = Ridge()\n",
    "lasso = Lasso()\n",
    "en = ElasticNet()\n",
    "knnr = KNeighborsRegressor()\n",
    "svr = SVR()\n",
    "dtr = DecisionTreeRegressor()\n",
    "rfr = RandomForestRegressor()"
   ]
  },
  {
   "cell_type": "code",
   "execution_count": 93,
   "id": "f47eaa9e",
   "metadata": {},
   "outputs": [],
   "source": [
    "models = [lr, ridge, lasso, en, knnr, svr, dtr, rfr]"
   ]
  },
  {
   "cell_type": "markdown",
   "id": "07c0b3bd",
   "metadata": {},
   "source": [
    "### Finding best random state"
   ]
  },
  {
   "cell_type": "code",
   "execution_count": 94,
   "id": "d6a5c2b4",
   "metadata": {},
   "outputs": [
    {
     "name": "stdout",
     "output_type": "stream",
     "text": [
      "At random score 0, mean squared error is 8129284.297151209\n",
      "At random score 1, mean squared error is 8212335.328472336\n",
      "At random score 2, mean squared error is 8504302.457639169\n",
      "At random score 3, mean squared error is 8196621.9846902415\n",
      "At random score 4, mean squared error is 8307494.735384651\n",
      "At random score 5, mean squared error is 8218871.200960801\n",
      "At random score 6, mean squared error is 8613425.519642005\n",
      "At random score 7, mean squared error is 8353671.207132245\n",
      "At random score 8, mean squared error is 8236121.5297952965\n",
      "At random score 9, mean squared error is 8174804.784731142\n",
      "At random score 10, mean squared error is 8496787.891552778\n",
      "At random score 11, mean squared error is 8184019.627651273\n",
      "At random score 12, mean squared error is 8377333.112801603\n",
      "At random score 13, mean squared error is 8396907.432879\n",
      "At random score 14, mean squared error is 8095138.200277146\n",
      "At random score 15, mean squared error is 8152815.397198736\n",
      "At random score 16, mean squared error is 8273399.425884083\n",
      "At random score 17, mean squared error is 8556292.190409578\n",
      "At random score 18, mean squared error is 8056727.325915361\n",
      "At random score 19, mean squared error is 8226900.091012959\n",
      "At random score 20, mean squared error is 8583228.088255603\n",
      "At random score 21, mean squared error is 8301646.05831013\n",
      "At random score 22, mean squared error is 7952534.520345763\n",
      "At random score 23, mean squared error is 8054840.147881975\n",
      "At random score 24, mean squared error is 8040796.268366818\n",
      "At random score 25, mean squared error is 8374053.102500692\n",
      "At random score 26, mean squared error is 8101908.713195486\n",
      "At random score 27, mean squared error is 8262636.640704848\n",
      "At random score 28, mean squared error is 8299642.894749012\n",
      "At random score 29, mean squared error is 8650037.509005157\n",
      "At random score 30, mean squared error is 8263216.724079629\n",
      "At random score 31, mean squared error is 7943867.981700958\n",
      "At random score 32, mean squared error is 7771648.745098529\n",
      "At random score 33, mean squared error is 8775083.971471433\n",
      "At random score 34, mean squared error is 8165445.31907333\n",
      "At random score 35, mean squared error is 8486699.262200642\n",
      "At random score 36, mean squared error is 8405271.805140281\n",
      "At random score 37, mean squared error is 8266496.590230438\n",
      "At random score 38, mean squared error is 8347395.600102369\n",
      "At random score 39, mean squared error is 7939173.853068233\n",
      "At random score 40, mean squared error is 7953024.662303704\n",
      "At random score 41, mean squared error is 8451551.61029073\n",
      "At random score 42, mean squared error is 7983057.424707265\n",
      "At random score 43, mean squared error is 8205734.790931869\n",
      "At random score 44, mean squared error is 8460319.977320883\n",
      "At random score 45, mean squared error is 8232326.163017648\n",
      "At random score 46, mean squared error is 8273990.838855441\n",
      "At random score 47, mean squared error is 8324346.686487605\n",
      "At random score 48, mean squared error is 8610864.412190894\n",
      "At random score 49, mean squared error is 8494961.652692962\n",
      "At random score 50, mean squared error is 8604467.078187937\n",
      "At random score 51, mean squared error is 8076516.248097417\n",
      "At random score 52, mean squared error is 8256105.378152827\n",
      "At random score 53, mean squared error is 8344089.321648551\n",
      "At random score 54, mean squared error is 8426315.102235934\n",
      "At random score 55, mean squared error is 8663773.534678442\n",
      "At random score 56, mean squared error is 8312380.953752382\n",
      "At random score 57, mean squared error is 8422256.953180162\n",
      "At random score 58, mean squared error is 8423629.538179241\n",
      "At random score 59, mean squared error is 8326843.836811952\n",
      "At random score 60, mean squared error is 8845156.893617034\n",
      "At random score 61, mean squared error is 8502795.891580211\n",
      "At random score 62, mean squared error is 7707562.5697066225\n",
      "At random score 63, mean squared error is 8238159.873054588\n",
      "At random score 64, mean squared error is 8649567.41533798\n",
      "At random score 65, mean squared error is 8663271.524115253\n",
      "At random score 66, mean squared error is 8229621.718812632\n",
      "At random score 67, mean squared error is 8415505.781839712\n",
      "At random score 68, mean squared error is 8524622.435953997\n",
      "At random score 69, mean squared error is 8312408.56051284\n",
      "At random score 70, mean squared error is 8095876.287785598\n",
      "At random score 71, mean squared error is 8206350.313622131\n",
      "At random score 72, mean squared error is 8697356.706346681\n",
      "At random score 73, mean squared error is 8681325.408991957\n",
      "At random score 74, mean squared error is 7862399.350937267\n",
      "At random score 75, mean squared error is 8169536.146457815\n",
      "At random score 76, mean squared error is 8391952.074450731\n",
      "At random score 77, mean squared error is 8439204.312043171\n",
      "At random score 78, mean squared error is 8563453.92482912\n",
      "At random score 79, mean squared error is 8325831.319839317\n",
      "At random score 80, mean squared error is 8202112.642185639\n",
      "At random score 81, mean squared error is 8109637.508543196\n",
      "At random score 82, mean squared error is 8655585.953250803\n",
      "At random score 83, mean squared error is 8104797.910592771\n",
      "At random score 84, mean squared error is 8541753.186665842\n",
      "At random score 85, mean squared error is 8427113.860405372\n",
      "At random score 86, mean squared error is 8004691.654127734\n",
      "At random score 87, mean squared error is 8080108.137445287\n",
      "At random score 88, mean squared error is 7890228.70048339\n",
      "At random score 89, mean squared error is 7918382.6353691\n",
      "At random score 90, mean squared error is 8338586.826602193\n",
      "At random score 91, mean squared error is 8093872.492371767\n",
      "At random score 92, mean squared error is 8318825.546288311\n",
      "At random score 93, mean squared error is 8505463.768153433\n",
      "At random score 94, mean squared error is 7625793.320995724\n",
      "At random score 95, mean squared error is 8201279.662231232\n",
      "At random score 96, mean squared error is 8316690.666203691\n",
      "At random score 97, mean squared error is 8016930.475237559\n",
      "At random score 98, mean squared error is 8247629.12943546\n",
      "At random score 99, mean squared error is 8200541.006797394\n",
      "Lowest error is 7625793.320995724 at random state 94\n"
     ]
    }
   ],
   "source": [
    "best_random_state = 0\n",
    "lowest_error = 10000000\n",
    "for i in range(100):\n",
    "    xtrain,xtest,ytrain,ytest = train_test_split(x,y,test_size=.2, random_state=i)\n",
    "    lr.fit(xtrain,ytrain)\n",
    "    pred = lr.predict(xtest)\n",
    "    error = mean_squared_error(ytest, pred)\n",
    "    print(f'At random score {i}, mean squared error is {error}')\n",
    "    if error < lowest_error:\n",
    "        lowest_error = error\n",
    "        best_random_state = i\n",
    "print(f'Lowest error is {lowest_error} at random state {best_random_state}')"
   ]
  },
  {
   "cell_type": "markdown",
   "id": "c55749ea",
   "metadata": {},
   "source": [
    "### Proceeding with random state 94"
   ]
  },
  {
   "cell_type": "code",
   "execution_count": 95,
   "id": "1880b113",
   "metadata": {},
   "outputs": [],
   "source": [
    "xtrain,xtest,ytrain,ytest = train_test_split(x,y,test_size=.2, random_state=94)"
   ]
  },
  {
   "cell_type": "code",
   "execution_count": 96,
   "id": "ee6f2f71",
   "metadata": {},
   "outputs": [
    {
     "name": "stdout",
     "output_type": "stream",
     "text": [
      "Model LinearRegression() had training score of 48.86471347122911% and a mean squared error of 7625793.32\n",
      "Model Ridge() had training score of 48.86470563652513% and a mean squared error of 7625625.03\n",
      "Model Lasso() had training score of 48.8646281178441% and a mean squared error of 7625149.65\n",
      "Model ElasticNet() had training score of 41.2872681632965% and a mean squared error of 8671039.49\n",
      "Model KNeighborsRegressor() had training score of 69.5201813487865% and a mean squared error of 4076464.46\n",
      "Model SVR() had training score of 17.83504530538263% and a mean squared error of 11892668.77\n",
      "Model DecisionTreeRegressor() had training score of 77.50087372954755% and a mean squared error of 3701151.5\n",
      "Model RandomForestRegressor() had training score of 82.57430783023135% and a mean squared error of 2673503.57\n"
     ]
    }
   ],
   "source": [
    "for i in models:\n",
    "    i.fit(xtrain,ytrain)\n",
    "    pred = i.predict(xtest)\n",
    "    error = mean_squared_error(ytest, pred)\n",
    "    training_score = cross_val_score(i, xtrain, ytrain, cv=5)\n",
    "    print(f'Model {i} had training score of {training_score.mean()*100}% and a mean squared error of {round(error, 2)}')"
   ]
  },
  {
   "cell_type": "markdown",
   "id": "d6418d4d",
   "metadata": {},
   "source": [
    "### We will proceed with random forest regressor"
   ]
  },
  {
   "cell_type": "code",
   "execution_count": 71,
   "id": "478de635",
   "metadata": {},
   "outputs": [],
   "source": [
    "parameters = {'criterion': ['squared_error', 'absolute_error', 'poisson'],\n",
    "              \"n_estimators\": [200,500],\n",
    "              'min_samples_leaf': [1, 2],\n",
    "              \"min_samples_split\" : [2,4]}"
   ]
  },
  {
   "cell_type": "code",
   "execution_count": 72,
   "id": "eaac401f",
   "metadata": {},
   "outputs": [],
   "source": [
    "grid = GridSearchCV(rfr, parameters, cv=5, n_jobs=-1)"
   ]
  },
  {
   "cell_type": "code",
   "execution_count": 73,
   "id": "46d3e9e2",
   "metadata": {},
   "outputs": [
    {
     "data": {
      "text/plain": [
       "{'criterion': 'poisson',\n",
       " 'min_samples_leaf': 2,\n",
       " 'min_samples_split': 2,\n",
       " 'n_estimators': 200}"
      ]
     },
     "execution_count": 73,
     "metadata": {},
     "output_type": "execute_result"
    }
   ],
   "source": [
    "grid.fit(xtrain, ytrain)\n",
    "grid.best_params_"
   ]
  },
  {
   "cell_type": "markdown",
   "id": "61cb7070",
   "metadata": {},
   "source": [
    "### There are the parameters we will put in the model for final training and testing."
   ]
  },
  {
   "cell_type": "code",
   "execution_count": 97,
   "id": "2fc2528a",
   "metadata": {},
   "outputs": [],
   "source": [
    "rfr = RandomForestRegressor(criterion='poisson', min_samples_leaf=2, min_samples_split=2, n_estimators=200)"
   ]
  },
  {
   "cell_type": "code",
   "execution_count": 98,
   "id": "565052d4",
   "metadata": {},
   "outputs": [
    {
     "name": "stdout",
     "output_type": "stream",
     "text": [
      "The cross validated score of this model is: 83.2906194843308\n"
     ]
    }
   ],
   "source": [
    "rfr.fit(xtrain, ytrain)\n",
    "pred = rfr.predict(xtest)\n",
    "print(f'The cross validated score of this model is: {(cross_val_score(rfr, xtrain,ytrain,cv=5).mean())*100}')"
   ]
  },
  {
   "cell_type": "code",
   "execution_count": 99,
   "id": "4f0a3c96",
   "metadata": {},
   "outputs": [
    {
     "name": "stdout",
     "output_type": "stream",
     "text": [
      "The mean squared error is 2410085.242181907\n"
     ]
    }
   ],
   "source": [
    "print(f'The mean squared error is {mean_squared_error(ytest, pred)}')"
   ]
  },
  {
   "cell_type": "code",
   "execution_count": 102,
   "id": "c005b8d7",
   "metadata": {},
   "outputs": [
    {
     "name": "stdout",
     "output_type": "stream",
     "text": [
      "The mean absolute error is 877.4372011889618\n"
     ]
    }
   ],
   "source": [
    "print(f'The mean absolute error is {mean_absolute_error(ytest, pred)}')"
   ]
  },
  {
   "cell_type": "code",
   "execution_count": 101,
   "id": "b4279f25",
   "metadata": {},
   "outputs": [
    {
     "name": "stdout",
     "output_type": "stream",
     "text": [
      "The r2 score is 0.8464599369043314\n"
     ]
    }
   ],
   "source": [
    "print(f'The r2 score is {r2_score(ytest, pred)}')"
   ]
  },
  {
   "cell_type": "markdown",
   "id": "aa5b96de",
   "metadata": {},
   "source": [
    "## Conclusion: Random Forest Regressor is the best model with cross val score of 83.29, r2 score of 84.65% and a mean absolute error of 877."
   ]
  },
  {
   "cell_type": "markdown",
   "id": "4b0a442b",
   "metadata": {},
   "source": [
    "## We will test the test set now."
   ]
  },
  {
   "cell_type": "code",
   "execution_count": 103,
   "id": "bb19c7d6",
   "metadata": {},
   "outputs": [
    {
     "name": "stdout",
     "output_type": "stream",
     "text": [
      "[11890.78974206 12447.0098631   4589.15316468 ...  6939.399375\n",
      "  4817.63602399  8875.02295292]\n"
     ]
    }
   ],
   "source": [
    "prediction = rfr.predict(df_test)\n",
    "print(prediction)"
   ]
  },
  {
   "cell_type": "code",
   "execution_count": 104,
   "id": "807a5906",
   "metadata": {},
   "outputs": [
    {
     "data": {
      "text/plain": [
       "numpy.ndarray"
      ]
     },
     "execution_count": 104,
     "metadata": {},
     "output_type": "execute_result"
    }
   ],
   "source": [
    "type(prediction)"
   ]
  },
  {
   "cell_type": "code",
   "execution_count": 105,
   "id": "aefe7cb2",
   "metadata": {},
   "outputs": [],
   "source": [
    "prediction = pd.DataFrame({'Price': prediction})"
   ]
  },
  {
   "cell_type": "code",
   "execution_count": 106,
   "id": "a007fdb3",
   "metadata": {},
   "outputs": [
    {
     "data": {
      "text/html": [
       "<div>\n",
       "<style scoped>\n",
       "    .dataframe tbody tr th:only-of-type {\n",
       "        vertical-align: middle;\n",
       "    }\n",
       "\n",
       "    .dataframe tbody tr th {\n",
       "        vertical-align: top;\n",
       "    }\n",
       "\n",
       "    .dataframe thead th {\n",
       "        text-align: right;\n",
       "    }\n",
       "</style>\n",
       "<table border=\"1\" class=\"dataframe\">\n",
       "  <thead>\n",
       "    <tr style=\"text-align: right;\">\n",
       "      <th></th>\n",
       "      <th>Price</th>\n",
       "    </tr>\n",
       "  </thead>\n",
       "  <tbody>\n",
       "    <tr>\n",
       "      <th>0</th>\n",
       "      <td>11890.789742</td>\n",
       "    </tr>\n",
       "    <tr>\n",
       "      <th>1</th>\n",
       "      <td>12447.009863</td>\n",
       "    </tr>\n",
       "    <tr>\n",
       "      <th>2</th>\n",
       "      <td>4589.153165</td>\n",
       "    </tr>\n",
       "    <tr>\n",
       "      <th>3</th>\n",
       "      <td>13290.567710</td>\n",
       "    </tr>\n",
       "    <tr>\n",
       "      <th>4</th>\n",
       "      <td>13466.855300</td>\n",
       "    </tr>\n",
       "    <tr>\n",
       "      <th>...</th>\n",
       "      <td>...</td>\n",
       "    </tr>\n",
       "    <tr>\n",
       "      <th>2635</th>\n",
       "      <td>4694.728990</td>\n",
       "    </tr>\n",
       "    <tr>\n",
       "      <th>2636</th>\n",
       "      <td>4227.089458</td>\n",
       "    </tr>\n",
       "    <tr>\n",
       "      <th>2637</th>\n",
       "      <td>6939.399375</td>\n",
       "    </tr>\n",
       "    <tr>\n",
       "      <th>2638</th>\n",
       "      <td>4817.636024</td>\n",
       "    </tr>\n",
       "    <tr>\n",
       "      <th>2639</th>\n",
       "      <td>8875.022953</td>\n",
       "    </tr>\n",
       "  </tbody>\n",
       "</table>\n",
       "<p>2640 rows × 1 columns</p>\n",
       "</div>"
      ],
      "text/plain": [
       "             Price\n",
       "0     11890.789742\n",
       "1     12447.009863\n",
       "2      4589.153165\n",
       "3     13290.567710\n",
       "4     13466.855300\n",
       "...            ...\n",
       "2635   4694.728990\n",
       "2636   4227.089458\n",
       "2637   6939.399375\n",
       "2638   4817.636024\n",
       "2639   8875.022953\n",
       "\n",
       "[2640 rows x 1 columns]"
      ]
     },
     "execution_count": 106,
     "metadata": {},
     "output_type": "execute_result"
    }
   ],
   "source": [
    "prediction"
   ]
  },
  {
   "cell_type": "markdown",
   "id": "ac985ca5",
   "metadata": {},
   "source": [
    "# Exporting the predicted data"
   ]
  },
  {
   "cell_type": "code",
   "execution_count": 87,
   "id": "5f280a3c",
   "metadata": {},
   "outputs": [],
   "source": [
    "file = 'Flight_Price_Prediction.xlsx'"
   ]
  },
  {
   "cell_type": "code",
   "execution_count": 88,
   "id": "86856ba8",
   "metadata": {},
   "outputs": [],
   "source": [
    "prediction.to_excel(file)"
   ]
  },
  {
   "cell_type": "markdown",
   "id": "c4f022c8",
   "metadata": {},
   "source": [
    "# Saving the best model"
   ]
  },
  {
   "cell_type": "code",
   "execution_count": 107,
   "id": "8bd70aa8",
   "metadata": {},
   "outputs": [],
   "source": [
    "import pickle\n",
    "filename = 'flightprice.pkl'\n",
    "pickle.dump(rfr, open(filename, 'wb'))"
   ]
  }
 ],
 "metadata": {
  "kernelspec": {
   "display_name": "Python 3 (ipykernel)",
   "language": "python",
   "name": "python3"
  },
  "language_info": {
   "codemirror_mode": {
    "name": "ipython",
    "version": 3
   },
   "file_extension": ".py",
   "mimetype": "text/x-python",
   "name": "python",
   "nbconvert_exporter": "python",
   "pygments_lexer": "ipython3",
   "version": "3.9.7"
  }
 },
 "nbformat": 4,
 "nbformat_minor": 5
}
