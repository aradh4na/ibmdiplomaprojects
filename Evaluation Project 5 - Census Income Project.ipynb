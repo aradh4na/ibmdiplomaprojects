{
 "cells": [
  {
   "cell_type": "markdown",
   "id": "c114e0e2",
   "metadata": {},
   "source": [
    "# Census Income Project"
   ]
  },
  {
   "cell_type": "markdown",
   "id": "7ac6e209",
   "metadata": {},
   "source": [
    "#### Problem Statement"
   ]
  },
  {
   "cell_type": "markdown",
   "id": "01cbfb1c",
   "metadata": {},
   "source": [
    "This data was extracted from the 1994 Census bureau database by Ronny Kohavi and Barry Becker (Data Mining and Visualization, Silicon Graphics). A set of reasonably clean records was extracted using the following conditions: ((AAGE>16) && (AGI>100) && (AFNLWGT>1) && (HRSWK>0)). The prediction task is to determine whether a person makes over $50K a year.\n",
    "\n",
    "Description of fnlwgt (final weight)\n",
    "The weights on the Current Population Survey (CPS) files are controlled to independent estimates of the civilian non-institutional population of the US. These are prepared monthly for us by Population Division here at the Census Bureau. We use 3 sets of controls. These are:\n",
    "\n",
    "1. A single cell estimate of the population 16+ for each state.\n",
    "\n",
    "2. Controls for Hispanic Origin by age and sex.\n",
    "\n",
    "3. Controls by Race, age and sex.\n",
    "\n",
    "We use all three sets of controls in our weighting program and \"rake\" through them 6 times so that by the end we come back to all the controls we used. The term estimate refers to population totals derived from CPS by creating \"weighted tallies\" of any specified socio-economic characteristics of the population. People with similar demographic characteristics should have similar weights. There is one important caveat to remember about this statement. That is that since the CPS sample is actually a collection of 51 state samples, each with its own probability of selection, the statement only applies within state.\n",
    "\n"
   ]
  },
  {
   "cell_type": "markdown",
   "id": "105f7fec",
   "metadata": {},
   "source": [
    "#### Importing libraries"
   ]
  },
  {
   "cell_type": "code",
   "execution_count": 1,
   "id": "30ab3c12",
   "metadata": {},
   "outputs": [],
   "source": [
    "import pandas as pd\n",
    "import numpy as np\n",
    "import matplotlib.pyplot as plt\n",
    "import seaborn as sns\n",
    "\n",
    "from sklearn.model_selection import train_test_split\n",
    "from sklearn.preprocessing import StandardScaler\n",
    "from sklearn.preprocessing import OrdinalEncoder\n",
    "from sklearn.preprocessing import LabelEncoder\n",
    "from sklearn.impute import SimpleImputer\n",
    "import statsmodels.api as sma\n",
    "from scipy.stats import zscore\n",
    "from sklearn.decomposition import PCA\n",
    "from imblearn.over_sampling import SMOTE\n",
    "from statsmodels.stats.outliers_influence import variance_inflation_factor\n",
    "\n",
    "from sklearn.linear_model import LogisticRegression\n",
    "from sklearn.svm import SVC\n",
    "from sklearn.neighbors import KNeighborsClassifier\n",
    "from sklearn.tree import DecisionTreeClassifier\n",
    "from sklearn.ensemble import RandomForestClassifier\n",
    "from sklearn.model_selection import cross_val_score\n",
    "\n",
    "from sklearn.model_selection import GridSearchCV\n",
    "from sklearn.metrics import mean_squared_error\n",
    "from sklearn.metrics import mean_absolute_error\n",
    "from sklearn.metrics import r2_score\n",
    "from sklearn.metrics import accuracy_score\n",
    "from sklearn.metrics import classification_report\n",
    "from sklearn.metrics import confusion_matrix\n",
    "from sklearn.metrics import roc_curve, roc_auc_score\n",
    "import warnings\n",
    "warnings.filterwarnings('ignore')"
   ]
  },
  {
   "cell_type": "markdown",
   "id": "538e09d9",
   "metadata": {},
   "source": [
    "#### Importing dataset"
   ]
  },
  {
   "cell_type": "code",
   "execution_count": 2,
   "id": "66f8eb96",
   "metadata": {},
   "outputs": [
    {
     "data": {
      "text/html": [
       "<div>\n",
       "<style scoped>\n",
       "    .dataframe tbody tr th:only-of-type {\n",
       "        vertical-align: middle;\n",
       "    }\n",
       "\n",
       "    .dataframe tbody tr th {\n",
       "        vertical-align: top;\n",
       "    }\n",
       "\n",
       "    .dataframe thead th {\n",
       "        text-align: right;\n",
       "    }\n",
       "</style>\n",
       "<table border=\"1\" class=\"dataframe\">\n",
       "  <thead>\n",
       "    <tr style=\"text-align: right;\">\n",
       "      <th></th>\n",
       "      <th>Age</th>\n",
       "      <th>Workclass</th>\n",
       "      <th>Fnlwgt</th>\n",
       "      <th>Education</th>\n",
       "      <th>Education_num</th>\n",
       "      <th>Marital_status</th>\n",
       "      <th>Occupation</th>\n",
       "      <th>Relationship</th>\n",
       "      <th>Race</th>\n",
       "      <th>Sex</th>\n",
       "      <th>Capital_gain</th>\n",
       "      <th>Capital_loss</th>\n",
       "      <th>Hours_per_week</th>\n",
       "      <th>Native_country</th>\n",
       "      <th>Income</th>\n",
       "    </tr>\n",
       "  </thead>\n",
       "  <tbody>\n",
       "    <tr>\n",
       "      <th>0</th>\n",
       "      <td>50</td>\n",
       "      <td>Self-emp-not-inc</td>\n",
       "      <td>83311</td>\n",
       "      <td>Bachelors</td>\n",
       "      <td>13</td>\n",
       "      <td>Married-civ-spouse</td>\n",
       "      <td>Exec-managerial</td>\n",
       "      <td>Husband</td>\n",
       "      <td>White</td>\n",
       "      <td>Male</td>\n",
       "      <td>0</td>\n",
       "      <td>0</td>\n",
       "      <td>13</td>\n",
       "      <td>United-States</td>\n",
       "      <td>&lt;=50K</td>\n",
       "    </tr>\n",
       "    <tr>\n",
       "      <th>1</th>\n",
       "      <td>38</td>\n",
       "      <td>Private</td>\n",
       "      <td>215646</td>\n",
       "      <td>HS-grad</td>\n",
       "      <td>9</td>\n",
       "      <td>Divorced</td>\n",
       "      <td>Handlers-cleaners</td>\n",
       "      <td>Not-in-family</td>\n",
       "      <td>White</td>\n",
       "      <td>Male</td>\n",
       "      <td>0</td>\n",
       "      <td>0</td>\n",
       "      <td>40</td>\n",
       "      <td>United-States</td>\n",
       "      <td>&lt;=50K</td>\n",
       "    </tr>\n",
       "    <tr>\n",
       "      <th>2</th>\n",
       "      <td>53</td>\n",
       "      <td>Private</td>\n",
       "      <td>234721</td>\n",
       "      <td>11th</td>\n",
       "      <td>7</td>\n",
       "      <td>Married-civ-spouse</td>\n",
       "      <td>Handlers-cleaners</td>\n",
       "      <td>Husband</td>\n",
       "      <td>Black</td>\n",
       "      <td>Male</td>\n",
       "      <td>0</td>\n",
       "      <td>0</td>\n",
       "      <td>40</td>\n",
       "      <td>United-States</td>\n",
       "      <td>&lt;=50K</td>\n",
       "    </tr>\n",
       "    <tr>\n",
       "      <th>3</th>\n",
       "      <td>28</td>\n",
       "      <td>Private</td>\n",
       "      <td>338409</td>\n",
       "      <td>Bachelors</td>\n",
       "      <td>13</td>\n",
       "      <td>Married-civ-spouse</td>\n",
       "      <td>Prof-specialty</td>\n",
       "      <td>Wife</td>\n",
       "      <td>Black</td>\n",
       "      <td>Female</td>\n",
       "      <td>0</td>\n",
       "      <td>0</td>\n",
       "      <td>40</td>\n",
       "      <td>Cuba</td>\n",
       "      <td>&lt;=50K</td>\n",
       "    </tr>\n",
       "    <tr>\n",
       "      <th>4</th>\n",
       "      <td>37</td>\n",
       "      <td>Private</td>\n",
       "      <td>284582</td>\n",
       "      <td>Masters</td>\n",
       "      <td>14</td>\n",
       "      <td>Married-civ-spouse</td>\n",
       "      <td>Exec-managerial</td>\n",
       "      <td>Wife</td>\n",
       "      <td>White</td>\n",
       "      <td>Female</td>\n",
       "      <td>0</td>\n",
       "      <td>0</td>\n",
       "      <td>40</td>\n",
       "      <td>United-States</td>\n",
       "      <td>&lt;=50K</td>\n",
       "    </tr>\n",
       "    <tr>\n",
       "      <th>...</th>\n",
       "      <td>...</td>\n",
       "      <td>...</td>\n",
       "      <td>...</td>\n",
       "      <td>...</td>\n",
       "      <td>...</td>\n",
       "      <td>...</td>\n",
       "      <td>...</td>\n",
       "      <td>...</td>\n",
       "      <td>...</td>\n",
       "      <td>...</td>\n",
       "      <td>...</td>\n",
       "      <td>...</td>\n",
       "      <td>...</td>\n",
       "      <td>...</td>\n",
       "      <td>...</td>\n",
       "    </tr>\n",
       "    <tr>\n",
       "      <th>32555</th>\n",
       "      <td>27</td>\n",
       "      <td>Private</td>\n",
       "      <td>257302</td>\n",
       "      <td>Assoc-acdm</td>\n",
       "      <td>12</td>\n",
       "      <td>Married-civ-spouse</td>\n",
       "      <td>Tech-support</td>\n",
       "      <td>Wife</td>\n",
       "      <td>White</td>\n",
       "      <td>Female</td>\n",
       "      <td>0</td>\n",
       "      <td>0</td>\n",
       "      <td>38</td>\n",
       "      <td>United-States</td>\n",
       "      <td>&lt;=50K</td>\n",
       "    </tr>\n",
       "    <tr>\n",
       "      <th>32556</th>\n",
       "      <td>40</td>\n",
       "      <td>Private</td>\n",
       "      <td>154374</td>\n",
       "      <td>HS-grad</td>\n",
       "      <td>9</td>\n",
       "      <td>Married-civ-spouse</td>\n",
       "      <td>Machine-op-inspct</td>\n",
       "      <td>Husband</td>\n",
       "      <td>White</td>\n",
       "      <td>Male</td>\n",
       "      <td>0</td>\n",
       "      <td>0</td>\n",
       "      <td>40</td>\n",
       "      <td>United-States</td>\n",
       "      <td>&gt;50K</td>\n",
       "    </tr>\n",
       "    <tr>\n",
       "      <th>32557</th>\n",
       "      <td>58</td>\n",
       "      <td>Private</td>\n",
       "      <td>151910</td>\n",
       "      <td>HS-grad</td>\n",
       "      <td>9</td>\n",
       "      <td>Widowed</td>\n",
       "      <td>Adm-clerical</td>\n",
       "      <td>Unmarried</td>\n",
       "      <td>White</td>\n",
       "      <td>Female</td>\n",
       "      <td>0</td>\n",
       "      <td>0</td>\n",
       "      <td>40</td>\n",
       "      <td>United-States</td>\n",
       "      <td>&lt;=50K</td>\n",
       "    </tr>\n",
       "    <tr>\n",
       "      <th>32558</th>\n",
       "      <td>22</td>\n",
       "      <td>Private</td>\n",
       "      <td>201490</td>\n",
       "      <td>HS-grad</td>\n",
       "      <td>9</td>\n",
       "      <td>Never-married</td>\n",
       "      <td>Adm-clerical</td>\n",
       "      <td>Own-child</td>\n",
       "      <td>White</td>\n",
       "      <td>Male</td>\n",
       "      <td>0</td>\n",
       "      <td>0</td>\n",
       "      <td>20</td>\n",
       "      <td>United-States</td>\n",
       "      <td>&lt;=50K</td>\n",
       "    </tr>\n",
       "    <tr>\n",
       "      <th>32559</th>\n",
       "      <td>52</td>\n",
       "      <td>Self-emp-inc</td>\n",
       "      <td>287927</td>\n",
       "      <td>HS-grad</td>\n",
       "      <td>9</td>\n",
       "      <td>Married-civ-spouse</td>\n",
       "      <td>Exec-managerial</td>\n",
       "      <td>Wife</td>\n",
       "      <td>White</td>\n",
       "      <td>Female</td>\n",
       "      <td>15024</td>\n",
       "      <td>0</td>\n",
       "      <td>40</td>\n",
       "      <td>United-States</td>\n",
       "      <td>&gt;50K</td>\n",
       "    </tr>\n",
       "  </tbody>\n",
       "</table>\n",
       "<p>32560 rows × 15 columns</p>\n",
       "</div>"
      ],
      "text/plain": [
       "       Age          Workclass  Fnlwgt    Education  Education_num  \\\n",
       "0       50   Self-emp-not-inc   83311    Bachelors             13   \n",
       "1       38            Private  215646      HS-grad              9   \n",
       "2       53            Private  234721         11th              7   \n",
       "3       28            Private  338409    Bachelors             13   \n",
       "4       37            Private  284582      Masters             14   \n",
       "...    ...                ...     ...          ...            ...   \n",
       "32555   27            Private  257302   Assoc-acdm             12   \n",
       "32556   40            Private  154374      HS-grad              9   \n",
       "32557   58            Private  151910      HS-grad              9   \n",
       "32558   22            Private  201490      HS-grad              9   \n",
       "32559   52       Self-emp-inc  287927      HS-grad              9   \n",
       "\n",
       "            Marital_status          Occupation    Relationship    Race  \\\n",
       "0       Married-civ-spouse     Exec-managerial         Husband   White   \n",
       "1                 Divorced   Handlers-cleaners   Not-in-family   White   \n",
       "2       Married-civ-spouse   Handlers-cleaners         Husband   Black   \n",
       "3       Married-civ-spouse      Prof-specialty            Wife   Black   \n",
       "4       Married-civ-spouse     Exec-managerial            Wife   White   \n",
       "...                    ...                 ...             ...     ...   \n",
       "32555   Married-civ-spouse        Tech-support            Wife   White   \n",
       "32556   Married-civ-spouse   Machine-op-inspct         Husband   White   \n",
       "32557              Widowed        Adm-clerical       Unmarried   White   \n",
       "32558        Never-married        Adm-clerical       Own-child   White   \n",
       "32559   Married-civ-spouse     Exec-managerial            Wife   White   \n",
       "\n",
       "           Sex  Capital_gain  Capital_loss  Hours_per_week  Native_country  \\\n",
       "0         Male             0             0              13   United-States   \n",
       "1         Male             0             0              40   United-States   \n",
       "2         Male             0             0              40   United-States   \n",
       "3       Female             0             0              40            Cuba   \n",
       "4       Female             0             0              40   United-States   \n",
       "...        ...           ...           ...             ...             ...   \n",
       "32555   Female             0             0              38   United-States   \n",
       "32556     Male             0             0              40   United-States   \n",
       "32557   Female             0             0              40   United-States   \n",
       "32558     Male             0             0              20   United-States   \n",
       "32559   Female         15024             0              40   United-States   \n",
       "\n",
       "       Income  \n",
       "0       <=50K  \n",
       "1       <=50K  \n",
       "2       <=50K  \n",
       "3       <=50K  \n",
       "4       <=50K  \n",
       "...       ...  \n",
       "32555   <=50K  \n",
       "32556    >50K  \n",
       "32557   <=50K  \n",
       "32558   <=50K  \n",
       "32559    >50K  \n",
       "\n",
       "[32560 rows x 15 columns]"
      ]
     },
     "execution_count": 2,
     "metadata": {},
     "output_type": "execute_result"
    }
   ],
   "source": [
    "df = pd.read_csv('https://raw.githubusercontent.com/dsrscientist/dataset1/master/census_income.csv')\n",
    "df"
   ]
  },
  {
   "cell_type": "markdown",
   "id": "68fba01b",
   "metadata": {},
   "source": [
    "# Univariate analysis"
   ]
  },
  {
   "cell_type": "code",
   "execution_count": 4,
   "id": "abb2b0a3",
   "metadata": {},
   "outputs": [
    {
     "data": {
      "text/plain": [
       "(32560, 15)"
      ]
     },
     "execution_count": 4,
     "metadata": {},
     "output_type": "execute_result"
    }
   ],
   "source": [
    "df.shape"
   ]
  },
  {
   "cell_type": "code",
   "execution_count": 12,
   "id": "f25865d1",
   "metadata": {},
   "outputs": [
    {
     "name": "stdout",
     "output_type": "stream",
     "text": [
      "<class 'pandas.core.frame.DataFrame'>\n",
      "RangeIndex: 32560 entries, 0 to 32559\n",
      "Data columns (total 15 columns):\n",
      " #   Column          Non-Null Count  Dtype \n",
      "---  ------          --------------  ----- \n",
      " 0   Age             32560 non-null  int64 \n",
      " 1   Workclass       32560 non-null  object\n",
      " 2   Fnlwgt          32560 non-null  int64 \n",
      " 3   Education       32560 non-null  object\n",
      " 4   Education_num   32560 non-null  int64 \n",
      " 5   Marital_status  32560 non-null  object\n",
      " 6   Occupation      32560 non-null  object\n",
      " 7   Relationship    32560 non-null  object\n",
      " 8   Race            32560 non-null  object\n",
      " 9   Sex             32560 non-null  object\n",
      " 10  Capital_gain    32560 non-null  int64 \n",
      " 11  Capital_loss    32560 non-null  int64 \n",
      " 12  Hours_per_week  32560 non-null  int64 \n",
      " 13  Native_country  32560 non-null  object\n",
      " 14  Income          32560 non-null  object\n",
      "dtypes: int64(6), object(9)\n",
      "memory usage: 3.7+ MB\n"
     ]
    }
   ],
   "source": [
    "df.info()"
   ]
  },
  {
   "cell_type": "code",
   "execution_count": 5,
   "id": "6df12ddb",
   "metadata": {},
   "outputs": [
    {
     "data": {
      "text/plain": [
       "Index(['Age', 'Workclass', 'Fnlwgt', 'Education', 'Education_num',\n",
       "       'Marital_status', 'Occupation', 'Relationship', 'Race', 'Sex',\n",
       "       'Capital_gain', 'Capital_loss', 'Hours_per_week', 'Native_country',\n",
       "       'Income'],\n",
       "      dtype='object')"
      ]
     },
     "execution_count": 5,
     "metadata": {},
     "output_type": "execute_result"
    }
   ],
   "source": [
    "df.columns"
   ]
  },
  {
   "cell_type": "code",
   "execution_count": 6,
   "id": "61850b0a",
   "metadata": {},
   "outputs": [
    {
     "data": {
      "text/plain": [
       "Age                int64\n",
       "Workclass         object\n",
       "Fnlwgt             int64\n",
       "Education         object\n",
       "Education_num      int64\n",
       "Marital_status    object\n",
       "Occupation        object\n",
       "Relationship      object\n",
       "Race              object\n",
       "Sex               object\n",
       "Capital_gain       int64\n",
       "Capital_loss       int64\n",
       "Hours_per_week     int64\n",
       "Native_country    object\n",
       "Income            object\n",
       "dtype: object"
      ]
     },
     "execution_count": 6,
     "metadata": {},
     "output_type": "execute_result"
    }
   ],
   "source": [
    "df.dtypes"
   ]
  },
  {
   "cell_type": "markdown",
   "id": "5fb60298",
   "metadata": {},
   "source": [
    "9 columns are object type and 6 columns are numerical type"
   ]
  },
  {
   "cell_type": "code",
   "execution_count": 7,
   "id": "e7f1b684",
   "metadata": {},
   "outputs": [
    {
     "data": {
      "text/plain": [
       "Age               0\n",
       "Workclass         0\n",
       "Fnlwgt            0\n",
       "Education         0\n",
       "Education_num     0\n",
       "Marital_status    0\n",
       "Occupation        0\n",
       "Relationship      0\n",
       "Race              0\n",
       "Sex               0\n",
       "Capital_gain      0\n",
       "Capital_loss      0\n",
       "Hours_per_week    0\n",
       "Native_country    0\n",
       "Income            0\n",
       "dtype: int64"
      ]
     },
     "execution_count": 7,
     "metadata": {},
     "output_type": "execute_result"
    }
   ],
   "source": [
    "df.isnull().sum()"
   ]
  },
  {
   "cell_type": "code",
   "execution_count": 8,
   "id": "ad6ee449",
   "metadata": {},
   "outputs": [
    {
     "data": {
      "text/plain": [
       "<AxesSubplot:>"
      ]
     },
     "execution_count": 8,
     "metadata": {},
     "output_type": "execute_result"
    },
    {
     "data": {
      "image/png": "[encoded data removed]",
      "text/plain": [
       "<Figure size 432x288 with 2 Axes>"
      ]
     },
     "metadata": {
      "needs_background": "light"
     },
     "output_type": "display_data"
    }
   ],
   "source": [
    "sns.heatmap(df.isnull())"
   ]
  },
  {
   "cell_type": "markdown",
   "id": "c602a068",
   "metadata": {},
   "source": [
    "There are no null values in the data set."
   ]
  },
  {
   "cell_type": "code",
   "execution_count": 11,
   "id": "81089a03",
   "metadata": {},
   "outputs": [
    {
     "data": {
      "text/html": [
       "<div>\n",
       "<style scoped>\n",
       "    .dataframe tbody tr th:only-of-type {\n",
       "        vertical-align: middle;\n",
       "    }\n",
       "\n",
       "    .dataframe tbody tr th {\n",
       "        vertical-align: top;\n",
       "    }\n",
       "\n",
       "    .dataframe thead th {\n",
       "        text-align: right;\n",
       "    }\n",
       "</style>\n",
       "<table border=\"1\" class=\"dataframe\">\n",
       "  <thead>\n",
       "    <tr style=\"text-align: right;\">\n",
       "      <th></th>\n",
       "      <th>Age</th>\n",
       "      <th>Workclass</th>\n",
       "      <th>Fnlwgt</th>\n",
       "      <th>Education</th>\n",
       "      <th>Education_num</th>\n",
       "      <th>Marital_status</th>\n",
       "      <th>Occupation</th>\n",
       "      <th>Relationship</th>\n",
       "      <th>Race</th>\n",
       "      <th>Sex</th>\n",
       "      <th>Capital_gain</th>\n",
       "      <th>Capital_loss</th>\n",
       "      <th>Hours_per_week</th>\n",
       "      <th>Native_country</th>\n",
       "      <th>Income</th>\n",
       "    </tr>\n",
       "  </thead>\n",
       "  <tbody>\n",
       "    <tr>\n",
       "      <th>10</th>\n",
       "      <td>30</td>\n",
       "      <td>State-gov</td>\n",
       "      <td>141297</td>\n",
       "      <td>Bachelors</td>\n",
       "      <td>13</td>\n",
       "      <td>Married-civ-spouse</td>\n",
       "      <td>Prof-specialty</td>\n",
       "      <td>Husband</td>\n",
       "      <td>Asian-Pac-Islander</td>\n",
       "      <td>Male</td>\n",
       "      <td>0</td>\n",
       "      <td>0</td>\n",
       "      <td>40</td>\n",
       "      <td>India</td>\n",
       "      <td>&gt;50K</td>\n",
       "    </tr>\n",
       "    <tr>\n",
       "      <th>11</th>\n",
       "      <td>23</td>\n",
       "      <td>Private</td>\n",
       "      <td>122272</td>\n",
       "      <td>Bachelors</td>\n",
       "      <td>13</td>\n",
       "      <td>Never-married</td>\n",
       "      <td>Adm-clerical</td>\n",
       "      <td>Own-child</td>\n",
       "      <td>White</td>\n",
       "      <td>Female</td>\n",
       "      <td>0</td>\n",
       "      <td>0</td>\n",
       "      <td>30</td>\n",
       "      <td>United-States</td>\n",
       "      <td>&lt;=50K</td>\n",
       "    </tr>\n",
       "    <tr>\n",
       "      <th>12</th>\n",
       "      <td>32</td>\n",
       "      <td>Private</td>\n",
       "      <td>205019</td>\n",
       "      <td>Assoc-acdm</td>\n",
       "      <td>12</td>\n",
       "      <td>Never-married</td>\n",
       "      <td>Sales</td>\n",
       "      <td>Not-in-family</td>\n",
       "      <td>Black</td>\n",
       "      <td>Male</td>\n",
       "      <td>0</td>\n",
       "      <td>0</td>\n",
       "      <td>50</td>\n",
       "      <td>United-States</td>\n",
       "      <td>&lt;=50K</td>\n",
       "    </tr>\n",
       "    <tr>\n",
       "      <th>13</th>\n",
       "      <td>40</td>\n",
       "      <td>Private</td>\n",
       "      <td>121772</td>\n",
       "      <td>Assoc-voc</td>\n",
       "      <td>11</td>\n",
       "      <td>Married-civ-spouse</td>\n",
       "      <td>Craft-repair</td>\n",
       "      <td>Husband</td>\n",
       "      <td>Asian-Pac-Islander</td>\n",
       "      <td>Male</td>\n",
       "      <td>0</td>\n",
       "      <td>0</td>\n",
       "      <td>40</td>\n",
       "      <td>?</td>\n",
       "      <td>&gt;50K</td>\n",
       "    </tr>\n",
       "    <tr>\n",
       "      <th>14</th>\n",
       "      <td>34</td>\n",
       "      <td>Private</td>\n",
       "      <td>245487</td>\n",
       "      <td>7th-8th</td>\n",
       "      <td>4</td>\n",
       "      <td>Married-civ-spouse</td>\n",
       "      <td>Transport-moving</td>\n",
       "      <td>Husband</td>\n",
       "      <td>Amer-Indian-Eskimo</td>\n",
       "      <td>Male</td>\n",
       "      <td>0</td>\n",
       "      <td>0</td>\n",
       "      <td>45</td>\n",
       "      <td>Mexico</td>\n",
       "      <td>&lt;=50K</td>\n",
       "    </tr>\n",
       "    <tr>\n",
       "      <th>15</th>\n",
       "      <td>25</td>\n",
       "      <td>Self-emp-not-inc</td>\n",
       "      <td>176756</td>\n",
       "      <td>HS-grad</td>\n",
       "      <td>9</td>\n",
       "      <td>Never-married</td>\n",
       "      <td>Farming-fishing</td>\n",
       "      <td>Own-child</td>\n",
       "      <td>White</td>\n",
       "      <td>Male</td>\n",
       "      <td>0</td>\n",
       "      <td>0</td>\n",
       "      <td>35</td>\n",
       "      <td>United-States</td>\n",
       "      <td>&lt;=50K</td>\n",
       "    </tr>\n",
       "    <tr>\n",
       "      <th>16</th>\n",
       "      <td>32</td>\n",
       "      <td>Private</td>\n",
       "      <td>186824</td>\n",
       "      <td>HS-grad</td>\n",
       "      <td>9</td>\n",
       "      <td>Never-married</td>\n",
       "      <td>Machine-op-inspct</td>\n",
       "      <td>Unmarried</td>\n",
       "      <td>White</td>\n",
       "      <td>Male</td>\n",
       "      <td>0</td>\n",
       "      <td>0</td>\n",
       "      <td>40</td>\n",
       "      <td>United-States</td>\n",
       "      <td>&lt;=50K</td>\n",
       "    </tr>\n",
       "    <tr>\n",
       "      <th>17</th>\n",
       "      <td>38</td>\n",
       "      <td>Private</td>\n",
       "      <td>28887</td>\n",
       "      <td>11th</td>\n",
       "      <td>7</td>\n",
       "      <td>Married-civ-spouse</td>\n",
       "      <td>Sales</td>\n",
       "      <td>Husband</td>\n",
       "      <td>White</td>\n",
       "      <td>Male</td>\n",
       "      <td>0</td>\n",
       "      <td>0</td>\n",
       "      <td>50</td>\n",
       "      <td>United-States</td>\n",
       "      <td>&lt;=50K</td>\n",
       "    </tr>\n",
       "    <tr>\n",
       "      <th>18</th>\n",
       "      <td>43</td>\n",
       "      <td>Self-emp-not-inc</td>\n",
       "      <td>292175</td>\n",
       "      <td>Masters</td>\n",
       "      <td>14</td>\n",
       "      <td>Divorced</td>\n",
       "      <td>Exec-managerial</td>\n",
       "      <td>Unmarried</td>\n",
       "      <td>White</td>\n",
       "      <td>Female</td>\n",
       "      <td>0</td>\n",
       "      <td>0</td>\n",
       "      <td>45</td>\n",
       "      <td>United-States</td>\n",
       "      <td>&gt;50K</td>\n",
       "    </tr>\n",
       "    <tr>\n",
       "      <th>19</th>\n",
       "      <td>40</td>\n",
       "      <td>Private</td>\n",
       "      <td>193524</td>\n",
       "      <td>Doctorate</td>\n",
       "      <td>16</td>\n",
       "      <td>Married-civ-spouse</td>\n",
       "      <td>Prof-specialty</td>\n",
       "      <td>Husband</td>\n",
       "      <td>White</td>\n",
       "      <td>Male</td>\n",
       "      <td>0</td>\n",
       "      <td>0</td>\n",
       "      <td>60</td>\n",
       "      <td>United-States</td>\n",
       "      <td>&gt;50K</td>\n",
       "    </tr>\n",
       "    <tr>\n",
       "      <th>20</th>\n",
       "      <td>54</td>\n",
       "      <td>Private</td>\n",
       "      <td>302146</td>\n",
       "      <td>HS-grad</td>\n",
       "      <td>9</td>\n",
       "      <td>Separated</td>\n",
       "      <td>Other-service</td>\n",
       "      <td>Unmarried</td>\n",
       "      <td>Black</td>\n",
       "      <td>Female</td>\n",
       "      <td>0</td>\n",
       "      <td>0</td>\n",
       "      <td>20</td>\n",
       "      <td>United-States</td>\n",
       "      <td>&lt;=50K</td>\n",
       "    </tr>\n",
       "    <tr>\n",
       "      <th>21</th>\n",
       "      <td>35</td>\n",
       "      <td>Federal-gov</td>\n",
       "      <td>76845</td>\n",
       "      <td>9th</td>\n",
       "      <td>5</td>\n",
       "      <td>Married-civ-spouse</td>\n",
       "      <td>Farming-fishing</td>\n",
       "      <td>Husband</td>\n",
       "      <td>Black</td>\n",
       "      <td>Male</td>\n",
       "      <td>0</td>\n",
       "      <td>0</td>\n",
       "      <td>40</td>\n",
       "      <td>United-States</td>\n",
       "      <td>&lt;=50K</td>\n",
       "    </tr>\n",
       "    <tr>\n",
       "      <th>22</th>\n",
       "      <td>43</td>\n",
       "      <td>Private</td>\n",
       "      <td>117037</td>\n",
       "      <td>11th</td>\n",
       "      <td>7</td>\n",
       "      <td>Married-civ-spouse</td>\n",
       "      <td>Transport-moving</td>\n",
       "      <td>Husband</td>\n",
       "      <td>White</td>\n",
       "      <td>Male</td>\n",
       "      <td>0</td>\n",
       "      <td>2042</td>\n",
       "      <td>40</td>\n",
       "      <td>United-States</td>\n",
       "      <td>&lt;=50K</td>\n",
       "    </tr>\n",
       "    <tr>\n",
       "      <th>23</th>\n",
       "      <td>59</td>\n",
       "      <td>Private</td>\n",
       "      <td>109015</td>\n",
       "      <td>HS-grad</td>\n",
       "      <td>9</td>\n",
       "      <td>Divorced</td>\n",
       "      <td>Tech-support</td>\n",
       "      <td>Unmarried</td>\n",
       "      <td>White</td>\n",
       "      <td>Female</td>\n",
       "      <td>0</td>\n",
       "      <td>0</td>\n",
       "      <td>40</td>\n",
       "      <td>United-States</td>\n",
       "      <td>&lt;=50K</td>\n",
       "    </tr>\n",
       "    <tr>\n",
       "      <th>24</th>\n",
       "      <td>56</td>\n",
       "      <td>Local-gov</td>\n",
       "      <td>216851</td>\n",
       "      <td>Bachelors</td>\n",
       "      <td>13</td>\n",
       "      <td>Married-civ-spouse</td>\n",
       "      <td>Tech-support</td>\n",
       "      <td>Husband</td>\n",
       "      <td>White</td>\n",
       "      <td>Male</td>\n",
       "      <td>0</td>\n",
       "      <td>0</td>\n",
       "      <td>40</td>\n",
       "      <td>United-States</td>\n",
       "      <td>&gt;50K</td>\n",
       "    </tr>\n",
       "    <tr>\n",
       "      <th>25</th>\n",
       "      <td>19</td>\n",
       "      <td>Private</td>\n",
       "      <td>168294</td>\n",
       "      <td>HS-grad</td>\n",
       "      <td>9</td>\n",
       "      <td>Never-married</td>\n",
       "      <td>Craft-repair</td>\n",
       "      <td>Own-child</td>\n",
       "      <td>White</td>\n",
       "      <td>Male</td>\n",
       "      <td>0</td>\n",
       "      <td>0</td>\n",
       "      <td>40</td>\n",
       "      <td>United-States</td>\n",
       "      <td>&lt;=50K</td>\n",
       "    </tr>\n",
       "    <tr>\n",
       "      <th>26</th>\n",
       "      <td>54</td>\n",
       "      <td>?</td>\n",
       "      <td>180211</td>\n",
       "      <td>Some-college</td>\n",
       "      <td>10</td>\n",
       "      <td>Married-civ-spouse</td>\n",
       "      <td>?</td>\n",
       "      <td>Husband</td>\n",
       "      <td>Asian-Pac-Islander</td>\n",
       "      <td>Male</td>\n",
       "      <td>0</td>\n",
       "      <td>0</td>\n",
       "      <td>60</td>\n",
       "      <td>South</td>\n",
       "      <td>&gt;50K</td>\n",
       "    </tr>\n",
       "    <tr>\n",
       "      <th>27</th>\n",
       "      <td>39</td>\n",
       "      <td>Private</td>\n",
       "      <td>367260</td>\n",
       "      <td>HS-grad</td>\n",
       "      <td>9</td>\n",
       "      <td>Divorced</td>\n",
       "      <td>Exec-managerial</td>\n",
       "      <td>Not-in-family</td>\n",
       "      <td>White</td>\n",
       "      <td>Male</td>\n",
       "      <td>0</td>\n",
       "      <td>0</td>\n",
       "      <td>80</td>\n",
       "      <td>United-States</td>\n",
       "      <td>&lt;=50K</td>\n",
       "    </tr>\n",
       "    <tr>\n",
       "      <th>28</th>\n",
       "      <td>49</td>\n",
       "      <td>Private</td>\n",
       "      <td>193366</td>\n",
       "      <td>HS-grad</td>\n",
       "      <td>9</td>\n",
       "      <td>Married-civ-spouse</td>\n",
       "      <td>Craft-repair</td>\n",
       "      <td>Husband</td>\n",
       "      <td>White</td>\n",
       "      <td>Male</td>\n",
       "      <td>0</td>\n",
       "      <td>0</td>\n",
       "      <td>40</td>\n",
       "      <td>United-States</td>\n",
       "      <td>&lt;=50K</td>\n",
       "    </tr>\n",
       "    <tr>\n",
       "      <th>29</th>\n",
       "      <td>23</td>\n",
       "      <td>Local-gov</td>\n",
       "      <td>190709</td>\n",
       "      <td>Assoc-acdm</td>\n",
       "      <td>12</td>\n",
       "      <td>Never-married</td>\n",
       "      <td>Protective-serv</td>\n",
       "      <td>Not-in-family</td>\n",
       "      <td>White</td>\n",
       "      <td>Male</td>\n",
       "      <td>0</td>\n",
       "      <td>0</td>\n",
       "      <td>52</td>\n",
       "      <td>United-States</td>\n",
       "      <td>&lt;=50K</td>\n",
       "    </tr>\n",
       "  </tbody>\n",
       "</table>\n",
       "</div>"
      ],
      "text/plain": [
       "    Age          Workclass  Fnlwgt      Education  Education_num  \\\n",
       "10   30          State-gov  141297      Bachelors             13   \n",
       "11   23            Private  122272      Bachelors             13   \n",
       "12   32            Private  205019     Assoc-acdm             12   \n",
       "13   40            Private  121772      Assoc-voc             11   \n",
       "14   34            Private  245487        7th-8th              4   \n",
       "15   25   Self-emp-not-inc  176756        HS-grad              9   \n",
       "16   32            Private  186824        HS-grad              9   \n",
       "17   38            Private   28887           11th              7   \n",
       "18   43   Self-emp-not-inc  292175        Masters             14   \n",
       "19   40            Private  193524      Doctorate             16   \n",
       "20   54            Private  302146        HS-grad              9   \n",
       "21   35        Federal-gov   76845            9th              5   \n",
       "22   43            Private  117037           11th              7   \n",
       "23   59            Private  109015        HS-grad              9   \n",
       "24   56          Local-gov  216851      Bachelors             13   \n",
       "25   19            Private  168294        HS-grad              9   \n",
       "26   54                  ?  180211   Some-college             10   \n",
       "27   39            Private  367260        HS-grad              9   \n",
       "28   49            Private  193366        HS-grad              9   \n",
       "29   23          Local-gov  190709     Assoc-acdm             12   \n",
       "\n",
       "         Marital_status          Occupation    Relationship  \\\n",
       "10   Married-civ-spouse      Prof-specialty         Husband   \n",
       "11        Never-married        Adm-clerical       Own-child   \n",
       "12        Never-married               Sales   Not-in-family   \n",
       "13   Married-civ-spouse        Craft-repair         Husband   \n",
       "14   Married-civ-spouse    Transport-moving         Husband   \n",
       "15        Never-married     Farming-fishing       Own-child   \n",
       "16        Never-married   Machine-op-inspct       Unmarried   \n",
       "17   Married-civ-spouse               Sales         Husband   \n",
       "18             Divorced     Exec-managerial       Unmarried   \n",
       "19   Married-civ-spouse      Prof-specialty         Husband   \n",
       "20            Separated       Other-service       Unmarried   \n",
       "21   Married-civ-spouse     Farming-fishing         Husband   \n",
       "22   Married-civ-spouse    Transport-moving         Husband   \n",
       "23             Divorced        Tech-support       Unmarried   \n",
       "24   Married-civ-spouse        Tech-support         Husband   \n",
       "25        Never-married        Craft-repair       Own-child   \n",
       "26   Married-civ-spouse                   ?         Husband   \n",
       "27             Divorced     Exec-managerial   Not-in-family   \n",
       "28   Married-civ-spouse        Craft-repair         Husband   \n",
       "29        Never-married     Protective-serv   Not-in-family   \n",
       "\n",
       "                   Race      Sex  Capital_gain  Capital_loss  Hours_per_week  \\\n",
       "10   Asian-Pac-Islander     Male             0             0              40   \n",
       "11                White   Female             0             0              30   \n",
       "12                Black     Male             0             0              50   \n",
       "13   Asian-Pac-Islander     Male             0             0              40   \n",
       "14   Amer-Indian-Eskimo     Male             0             0              45   \n",
       "15                White     Male             0             0              35   \n",
       "16                White     Male             0             0              40   \n",
       "17                White     Male             0             0              50   \n",
       "18                White   Female             0             0              45   \n",
       "19                White     Male             0             0              60   \n",
       "20                Black   Female             0             0              20   \n",
       "21                Black     Male             0             0              40   \n",
       "22                White     Male             0          2042              40   \n",
       "23                White   Female             0             0              40   \n",
       "24                White     Male             0             0              40   \n",
       "25                White     Male             0             0              40   \n",
       "26   Asian-Pac-Islander     Male             0             0              60   \n",
       "27                White     Male             0             0              80   \n",
       "28                White     Male             0             0              40   \n",
       "29                White     Male             0             0              52   \n",
       "\n",
       "    Native_country  Income  \n",
       "10           India    >50K  \n",
       "11   United-States   <=50K  \n",
       "12   United-States   <=50K  \n",
       "13               ?    >50K  \n",
       "14          Mexico   <=50K  \n",
       "15   United-States   <=50K  \n",
       "16   United-States   <=50K  \n",
       "17   United-States   <=50K  \n",
       "18   United-States    >50K  \n",
       "19   United-States    >50K  \n",
       "20   United-States   <=50K  \n",
       "21   United-States   <=50K  \n",
       "22   United-States   <=50K  \n",
       "23   United-States   <=50K  \n",
       "24   United-States    >50K  \n",
       "25   United-States   <=50K  \n",
       "26           South    >50K  \n",
       "27   United-States   <=50K  \n",
       "28   United-States   <=50K  \n",
       "29   United-States   <=50K  "
      ]
     },
     "execution_count": 11,
     "metadata": {},
     "output_type": "execute_result"
    }
   ],
   "source": [
    "df[10:30]"
   ]
  },
  {
   "cell_type": "code",
   "execution_count": 17,
   "id": "e29e61da",
   "metadata": {},
   "outputs": [
    {
     "data": {
      "text/html": [
       "<div>\n",
       "<style scoped>\n",
       "    .dataframe tbody tr th:only-of-type {\n",
       "        vertical-align: middle;\n",
       "    }\n",
       "\n",
       "    .dataframe tbody tr th {\n",
       "        vertical-align: top;\n",
       "    }\n",
       "\n",
       "    .dataframe thead th {\n",
       "        text-align: right;\n",
       "    }\n",
       "</style>\n",
       "<table border=\"1\" class=\"dataframe\">\n",
       "  <thead>\n",
       "    <tr style=\"text-align: right;\">\n",
       "      <th></th>\n",
       "      <th>Age</th>\n",
       "      <th>Workclass</th>\n",
       "      <th>Fnlwgt</th>\n",
       "      <th>Education</th>\n",
       "      <th>Education_num</th>\n",
       "      <th>Marital_status</th>\n",
       "      <th>Occupation</th>\n",
       "      <th>Relationship</th>\n",
       "      <th>Race</th>\n",
       "      <th>Sex</th>\n",
       "      <th>Capital_gain</th>\n",
       "      <th>Capital_loss</th>\n",
       "      <th>Hours_per_week</th>\n",
       "      <th>Native_country</th>\n",
       "      <th>Income</th>\n",
       "    </tr>\n",
       "  </thead>\n",
       "  <tbody>\n",
       "    <tr>\n",
       "      <th>26</th>\n",
       "      <td>54</td>\n",
       "      <td>?</td>\n",
       "      <td>180211</td>\n",
       "      <td>Some-college</td>\n",
       "      <td>10</td>\n",
       "      <td>Married-civ-spouse</td>\n",
       "      <td>?</td>\n",
       "      <td>Husband</td>\n",
       "      <td>Asian-Pac-Islander</td>\n",
       "      <td>Male</td>\n",
       "      <td>0</td>\n",
       "      <td>0</td>\n",
       "      <td>60</td>\n",
       "      <td>South</td>\n",
       "      <td>&gt;50K</td>\n",
       "    </tr>\n",
       "    <tr>\n",
       "      <th>27</th>\n",
       "      <td>39</td>\n",
       "      <td>Private</td>\n",
       "      <td>367260</td>\n",
       "      <td>HS-grad</td>\n",
       "      <td>9</td>\n",
       "      <td>Divorced</td>\n",
       "      <td>Exec-managerial</td>\n",
       "      <td>Not-in-family</td>\n",
       "      <td>White</td>\n",
       "      <td>Male</td>\n",
       "      <td>0</td>\n",
       "      <td>0</td>\n",
       "      <td>80</td>\n",
       "      <td>United-States</td>\n",
       "      <td>&lt;=50K</td>\n",
       "    </tr>\n",
       "    <tr>\n",
       "      <th>28</th>\n",
       "      <td>49</td>\n",
       "      <td>Private</td>\n",
       "      <td>193366</td>\n",
       "      <td>HS-grad</td>\n",
       "      <td>9</td>\n",
       "      <td>Married-civ-spouse</td>\n",
       "      <td>Craft-repair</td>\n",
       "      <td>Husband</td>\n",
       "      <td>White</td>\n",
       "      <td>Male</td>\n",
       "      <td>0</td>\n",
       "      <td>0</td>\n",
       "      <td>40</td>\n",
       "      <td>United-States</td>\n",
       "      <td>&lt;=50K</td>\n",
       "    </tr>\n",
       "    <tr>\n",
       "      <th>29</th>\n",
       "      <td>23</td>\n",
       "      <td>Local-gov</td>\n",
       "      <td>190709</td>\n",
       "      <td>Assoc-acdm</td>\n",
       "      <td>12</td>\n",
       "      <td>Never-married</td>\n",
       "      <td>Protective-serv</td>\n",
       "      <td>Not-in-family</td>\n",
       "      <td>White</td>\n",
       "      <td>Male</td>\n",
       "      <td>0</td>\n",
       "      <td>0</td>\n",
       "      <td>52</td>\n",
       "      <td>United-States</td>\n",
       "      <td>&lt;=50K</td>\n",
       "    </tr>\n",
       "    <tr>\n",
       "      <th>30</th>\n",
       "      <td>20</td>\n",
       "      <td>Private</td>\n",
       "      <td>266015</td>\n",
       "      <td>Some-college</td>\n",
       "      <td>10</td>\n",
       "      <td>Never-married</td>\n",
       "      <td>Sales</td>\n",
       "      <td>Own-child</td>\n",
       "      <td>Black</td>\n",
       "      <td>Male</td>\n",
       "      <td>0</td>\n",
       "      <td>0</td>\n",
       "      <td>44</td>\n",
       "      <td>United-States</td>\n",
       "      <td>&lt;=50K</td>\n",
       "    </tr>\n",
       "    <tr>\n",
       "      <th>...</th>\n",
       "      <td>...</td>\n",
       "      <td>...</td>\n",
       "      <td>...</td>\n",
       "      <td>...</td>\n",
       "      <td>...</td>\n",
       "      <td>...</td>\n",
       "      <td>...</td>\n",
       "      <td>...</td>\n",
       "      <td>...</td>\n",
       "      <td>...</td>\n",
       "      <td>...</td>\n",
       "      <td>...</td>\n",
       "      <td>...</td>\n",
       "      <td>...</td>\n",
       "      <td>...</td>\n",
       "    </tr>\n",
       "    <tr>\n",
       "      <th>32555</th>\n",
       "      <td>27</td>\n",
       "      <td>Private</td>\n",
       "      <td>257302</td>\n",
       "      <td>Assoc-acdm</td>\n",
       "      <td>12</td>\n",
       "      <td>Married-civ-spouse</td>\n",
       "      <td>Tech-support</td>\n",
       "      <td>Wife</td>\n",
       "      <td>White</td>\n",
       "      <td>Female</td>\n",
       "      <td>0</td>\n",
       "      <td>0</td>\n",
       "      <td>38</td>\n",
       "      <td>United-States</td>\n",
       "      <td>&lt;=50K</td>\n",
       "    </tr>\n",
       "    <tr>\n",
       "      <th>32556</th>\n",
       "      <td>40</td>\n",
       "      <td>Private</td>\n",
       "      <td>154374</td>\n",
       "      <td>HS-grad</td>\n",
       "      <td>9</td>\n",
       "      <td>Married-civ-spouse</td>\n",
       "      <td>Machine-op-inspct</td>\n",
       "      <td>Husband</td>\n",
       "      <td>White</td>\n",
       "      <td>Male</td>\n",
       "      <td>0</td>\n",
       "      <td>0</td>\n",
       "      <td>40</td>\n",
       "      <td>United-States</td>\n",
       "      <td>&gt;50K</td>\n",
       "    </tr>\n",
       "    <tr>\n",
       "      <th>32557</th>\n",
       "      <td>58</td>\n",
       "      <td>Private</td>\n",
       "      <td>151910</td>\n",
       "      <td>HS-grad</td>\n",
       "      <td>9</td>\n",
       "      <td>Widowed</td>\n",
       "      <td>Adm-clerical</td>\n",
       "      <td>Unmarried</td>\n",
       "      <td>White</td>\n",
       "      <td>Female</td>\n",
       "      <td>0</td>\n",
       "      <td>0</td>\n",
       "      <td>40</td>\n",
       "      <td>United-States</td>\n",
       "      <td>&lt;=50K</td>\n",
       "    </tr>\n",
       "    <tr>\n",
       "      <th>32558</th>\n",
       "      <td>22</td>\n",
       "      <td>Private</td>\n",
       "      <td>201490</td>\n",
       "      <td>HS-grad</td>\n",
       "      <td>9</td>\n",
       "      <td>Never-married</td>\n",
       "      <td>Adm-clerical</td>\n",
       "      <td>Own-child</td>\n",
       "      <td>White</td>\n",
       "      <td>Male</td>\n",
       "      <td>0</td>\n",
       "      <td>0</td>\n",
       "      <td>20</td>\n",
       "      <td>United-States</td>\n",
       "      <td>&lt;=50K</td>\n",
       "    </tr>\n",
       "    <tr>\n",
       "      <th>32559</th>\n",
       "      <td>52</td>\n",
       "      <td>Self-emp-inc</td>\n",
       "      <td>287927</td>\n",
       "      <td>HS-grad</td>\n",
       "      <td>9</td>\n",
       "      <td>Married-civ-spouse</td>\n",
       "      <td>Exec-managerial</td>\n",
       "      <td>Wife</td>\n",
       "      <td>White</td>\n",
       "      <td>Female</td>\n",
       "      <td>15024</td>\n",
       "      <td>0</td>\n",
       "      <td>40</td>\n",
       "      <td>United-States</td>\n",
       "      <td>&gt;50K</td>\n",
       "    </tr>\n",
       "  </tbody>\n",
       "</table>\n",
       "<p>32534 rows × 15 columns</p>\n",
       "</div>"
      ],
      "text/plain": [
       "       Age      Workclass  Fnlwgt      Education  Education_num  \\\n",
       "26      54              ?  180211   Some-college             10   \n",
       "27      39        Private  367260        HS-grad              9   \n",
       "28      49        Private  193366        HS-grad              9   \n",
       "29      23      Local-gov  190709     Assoc-acdm             12   \n",
       "30      20        Private  266015   Some-college             10   \n",
       "...    ...            ...     ...            ...            ...   \n",
       "32555   27        Private  257302     Assoc-acdm             12   \n",
       "32556   40        Private  154374        HS-grad              9   \n",
       "32557   58        Private  151910        HS-grad              9   \n",
       "32558   22        Private  201490        HS-grad              9   \n",
       "32559   52   Self-emp-inc  287927        HS-grad              9   \n",
       "\n",
       "            Marital_status          Occupation    Relationship  \\\n",
       "26      Married-civ-spouse                   ?         Husband   \n",
       "27                Divorced     Exec-managerial   Not-in-family   \n",
       "28      Married-civ-spouse        Craft-repair         Husband   \n",
       "29           Never-married     Protective-serv   Not-in-family   \n",
       "30           Never-married               Sales       Own-child   \n",
       "...                    ...                 ...             ...   \n",
       "32555   Married-civ-spouse        Tech-support            Wife   \n",
       "32556   Married-civ-spouse   Machine-op-inspct         Husband   \n",
       "32557              Widowed        Adm-clerical       Unmarried   \n",
       "32558        Never-married        Adm-clerical       Own-child   \n",
       "32559   Married-civ-spouse     Exec-managerial            Wife   \n",
       "\n",
       "                      Race      Sex  Capital_gain  Capital_loss  \\\n",
       "26      Asian-Pac-Islander     Male             0             0   \n",
       "27                   White     Male             0             0   \n",
       "28                   White     Male             0             0   \n",
       "29                   White     Male             0             0   \n",
       "30                   Black     Male             0             0   \n",
       "...                    ...      ...           ...           ...   \n",
       "32555                White   Female             0             0   \n",
       "32556                White     Male             0             0   \n",
       "32557                White   Female             0             0   \n",
       "32558                White     Male             0             0   \n",
       "32559                White   Female         15024             0   \n",
       "\n",
       "       Hours_per_week  Native_country  Income  \n",
       "26                 60           South    >50K  \n",
       "27                 80   United-States   <=50K  \n",
       "28                 40   United-States   <=50K  \n",
       "29                 52   United-States   <=50K  \n",
       "30                 44   United-States   <=50K  \n",
       "...               ...             ...     ...  \n",
       "32555              38   United-States   <=50K  \n",
       "32556              40   United-States    >50K  \n",
       "32557              40   United-States   <=50K  \n",
       "32558              20   United-States   <=50K  \n",
       "32559              40   United-States    >50K  \n",
       "\n",
       "[32534 rows x 15 columns]"
      ]
     },
     "execution_count": 17,
     "metadata": {},
     "output_type": "execute_result"
    }
   ],
   "source": [
    "df[26:]"
   ]
  },
  {
   "cell_type": "markdown",
   "id": "c66eea92",
   "metadata": {},
   "source": [
    "However, we can see from data contains ? values in certain points. So we will change those to NaN values."
   ]
  },
  {
   "cell_type": "code",
   "execution_count": 28,
   "id": "7c70ed25",
   "metadata": {},
   "outputs": [
    {
     "data": {
      "text/plain": [
       "' ?'"
      ]
     },
     "execution_count": 28,
     "metadata": {},
     "output_type": "execute_result"
    }
   ],
   "source": [
    "df.Occupation[26]"
   ]
  },
  {
   "cell_type": "code",
   "execution_count": 3,
   "id": "f554ab76",
   "metadata": {},
   "outputs": [],
   "source": [
    "df[df == ' ?'] = np.nan"
   ]
  },
  {
   "cell_type": "code",
   "execution_count": 4,
   "id": "f5239a97",
   "metadata": {},
   "outputs": [
    {
     "data": {
      "text/plain": [
       "Age                  0\n",
       "Workclass         1836\n",
       "Fnlwgt               0\n",
       "Education            0\n",
       "Education_num        0\n",
       "Marital_status       0\n",
       "Occupation        1843\n",
       "Relationship         0\n",
       "Race                 0\n",
       "Sex                  0\n",
       "Capital_gain         0\n",
       "Capital_loss         0\n",
       "Hours_per_week       0\n",
       "Native_country     583\n",
       "Income               0\n",
       "dtype: int64"
      ]
     },
     "execution_count": 4,
     "metadata": {},
     "output_type": "execute_result"
    }
   ],
   "source": [
    "df.isnull().sum()"
   ]
  },
  {
   "cell_type": "code",
   "execution_count": 31,
   "id": "8d97eb4b",
   "metadata": {},
   "outputs": [
    {
     "data": {
      "text/plain": [
       "<AxesSubplot:>"
      ]
     },
     "execution_count": 31,
     "metadata": {},
     "output_type": "execute_result"
    },
    {
     "data": {
      "image/png": "[encoded data removed]",
      "text/plain": [
       "<Figure size 432x288 with 2 Axes>"
      ]
     },
     "metadata": {
      "needs_background": "light"
     },
     "output_type": "display_data"
    }
   ],
   "source": [
    "sns.heatmap(df.isnull())"
   ]
  },
  {
   "cell_type": "markdown",
   "id": "cf1dd8f1",
   "metadata": {},
   "source": [
    "Now we can see that we have 1836+ missing values in workclass and occupation and 583 missing values in native country."
   ]
  },
  {
   "cell_type": "code",
   "execution_count": 9,
   "id": "735c475d",
   "metadata": {},
   "outputs": [
    {
     "data": {
      "text/html": [
       "<div>\n",
       "<style scoped>\n",
       "    .dataframe tbody tr th:only-of-type {\n",
       "        vertical-align: middle;\n",
       "    }\n",
       "\n",
       "    .dataframe tbody tr th {\n",
       "        vertical-align: top;\n",
       "    }\n",
       "\n",
       "    .dataframe thead th {\n",
       "        text-align: right;\n",
       "    }\n",
       "</style>\n",
       "<table border=\"1\" class=\"dataframe\">\n",
       "  <thead>\n",
       "    <tr style=\"text-align: right;\">\n",
       "      <th></th>\n",
       "      <th>Age</th>\n",
       "      <th>Fnlwgt</th>\n",
       "      <th>Education_num</th>\n",
       "      <th>Capital_gain</th>\n",
       "      <th>Capital_loss</th>\n",
       "      <th>Hours_per_week</th>\n",
       "    </tr>\n",
       "  </thead>\n",
       "  <tbody>\n",
       "    <tr>\n",
       "      <th>count</th>\n",
       "      <td>32560.000000</td>\n",
       "      <td>3.256000e+04</td>\n",
       "      <td>32560.000000</td>\n",
       "      <td>32560.000000</td>\n",
       "      <td>32560.000000</td>\n",
       "      <td>32560.000000</td>\n",
       "    </tr>\n",
       "    <tr>\n",
       "      <th>mean</th>\n",
       "      <td>38.581634</td>\n",
       "      <td>1.897818e+05</td>\n",
       "      <td>10.080590</td>\n",
       "      <td>1077.615172</td>\n",
       "      <td>87.306511</td>\n",
       "      <td>40.437469</td>\n",
       "    </tr>\n",
       "    <tr>\n",
       "      <th>std</th>\n",
       "      <td>13.640642</td>\n",
       "      <td>1.055498e+05</td>\n",
       "      <td>2.572709</td>\n",
       "      <td>7385.402999</td>\n",
       "      <td>402.966116</td>\n",
       "      <td>12.347618</td>\n",
       "    </tr>\n",
       "    <tr>\n",
       "      <th>min</th>\n",
       "      <td>17.000000</td>\n",
       "      <td>1.228500e+04</td>\n",
       "      <td>1.000000</td>\n",
       "      <td>0.000000</td>\n",
       "      <td>0.000000</td>\n",
       "      <td>1.000000</td>\n",
       "    </tr>\n",
       "    <tr>\n",
       "      <th>25%</th>\n",
       "      <td>28.000000</td>\n",
       "      <td>1.178315e+05</td>\n",
       "      <td>9.000000</td>\n",
       "      <td>0.000000</td>\n",
       "      <td>0.000000</td>\n",
       "      <td>40.000000</td>\n",
       "    </tr>\n",
       "    <tr>\n",
       "      <th>50%</th>\n",
       "      <td>37.000000</td>\n",
       "      <td>1.783630e+05</td>\n",
       "      <td>10.000000</td>\n",
       "      <td>0.000000</td>\n",
       "      <td>0.000000</td>\n",
       "      <td>40.000000</td>\n",
       "    </tr>\n",
       "    <tr>\n",
       "      <th>75%</th>\n",
       "      <td>48.000000</td>\n",
       "      <td>2.370545e+05</td>\n",
       "      <td>12.000000</td>\n",
       "      <td>0.000000</td>\n",
       "      <td>0.000000</td>\n",
       "      <td>45.000000</td>\n",
       "    </tr>\n",
       "    <tr>\n",
       "      <th>max</th>\n",
       "      <td>90.000000</td>\n",
       "      <td>1.484705e+06</td>\n",
       "      <td>16.000000</td>\n",
       "      <td>99999.000000</td>\n",
       "      <td>4356.000000</td>\n",
       "      <td>99.000000</td>\n",
       "    </tr>\n",
       "  </tbody>\n",
       "</table>\n",
       "</div>"
      ],
      "text/plain": [
       "                Age        Fnlwgt  Education_num  Capital_gain  Capital_loss  \\\n",
       "count  32560.000000  3.256000e+04   32560.000000  32560.000000  32560.000000   \n",
       "mean      38.581634  1.897818e+05      10.080590   1077.615172     87.306511   \n",
       "std       13.640642  1.055498e+05       2.572709   7385.402999    402.966116   \n",
       "min       17.000000  1.228500e+04       1.000000      0.000000      0.000000   \n",
       "25%       28.000000  1.178315e+05       9.000000      0.000000      0.000000   \n",
       "50%       37.000000  1.783630e+05      10.000000      0.000000      0.000000   \n",
       "75%       48.000000  2.370545e+05      12.000000      0.000000      0.000000   \n",
       "max       90.000000  1.484705e+06      16.000000  99999.000000   4356.000000   \n",
       "\n",
       "       Hours_per_week  \n",
       "count    32560.000000  \n",
       "mean        40.437469  \n",
       "std         12.347618  \n",
       "min          1.000000  \n",
       "25%         40.000000  \n",
       "50%         40.000000  \n",
       "75%         45.000000  \n",
       "max         99.000000  "
      ]
     },
     "execution_count": 9,
     "metadata": {},
     "output_type": "execute_result"
    }
   ],
   "source": [
    "df.describe()"
   ]
  },
  {
   "cell_type": "markdown",
   "id": "f556cb60",
   "metadata": {},
   "source": [
    "We can see that there is high standard deviation in every column, especially fnlwgt and capital gain. This is due to the high range in columns and also due to outliers, especially in capital loss and capital gain."
   ]
  },
  {
   "cell_type": "code",
   "execution_count": 32,
   "id": "2478454c",
   "metadata": {},
   "outputs": [
    {
     "data": {
      "text/plain": [
       "Age                  73\n",
       "Workclass             8\n",
       "Fnlwgt            21647\n",
       "Education            16\n",
       "Education_num        16\n",
       "Marital_status        7\n",
       "Occupation           14\n",
       "Relationship          6\n",
       "Race                  5\n",
       "Sex                   2\n",
       "Capital_gain        119\n",
       "Capital_loss         92\n",
       "Hours_per_week       94\n",
       "Native_country       41\n",
       "Income                2\n",
       "dtype: int64"
      ]
     },
     "execution_count": 32,
     "metadata": {},
     "output_type": "execute_result"
    }
   ],
   "source": [
    "df.nunique()"
   ]
  },
  {
   "cell_type": "code",
   "execution_count": 33,
   "id": "0081d168",
   "metadata": {},
   "outputs": [
    {
     "data": {
      "text/html": [
       "<div>\n",
       "<style scoped>\n",
       "    .dataframe tbody tr th:only-of-type {\n",
       "        vertical-align: middle;\n",
       "    }\n",
       "\n",
       "    .dataframe tbody tr th {\n",
       "        vertical-align: top;\n",
       "    }\n",
       "\n",
       "    .dataframe thead th {\n",
       "        text-align: right;\n",
       "    }\n",
       "</style>\n",
       "<table border=\"1\" class=\"dataframe\">\n",
       "  <thead>\n",
       "    <tr style=\"text-align: right;\">\n",
       "      <th></th>\n",
       "      <th>Age</th>\n",
       "      <th>Fnlwgt</th>\n",
       "      <th>Education_num</th>\n",
       "      <th>Capital_gain</th>\n",
       "      <th>Capital_loss</th>\n",
       "      <th>Hours_per_week</th>\n",
       "    </tr>\n",
       "  </thead>\n",
       "  <tbody>\n",
       "    <tr>\n",
       "      <th>Age</th>\n",
       "      <td>1.000000</td>\n",
       "      <td>-0.076646</td>\n",
       "      <td>0.036527</td>\n",
       "      <td>0.077674</td>\n",
       "      <td>0.057775</td>\n",
       "      <td>0.068756</td>\n",
       "    </tr>\n",
       "    <tr>\n",
       "      <th>Fnlwgt</th>\n",
       "      <td>-0.076646</td>\n",
       "      <td>1.000000</td>\n",
       "      <td>-0.043159</td>\n",
       "      <td>0.000437</td>\n",
       "      <td>-0.010259</td>\n",
       "      <td>-0.018770</td>\n",
       "    </tr>\n",
       "    <tr>\n",
       "      <th>Education_num</th>\n",
       "      <td>0.036527</td>\n",
       "      <td>-0.043159</td>\n",
       "      <td>1.000000</td>\n",
       "      <td>0.122627</td>\n",
       "      <td>0.079932</td>\n",
       "      <td>0.148127</td>\n",
       "    </tr>\n",
       "    <tr>\n",
       "      <th>Capital_gain</th>\n",
       "      <td>0.077674</td>\n",
       "      <td>0.000437</td>\n",
       "      <td>0.122627</td>\n",
       "      <td>1.000000</td>\n",
       "      <td>-0.031614</td>\n",
       "      <td>0.078409</td>\n",
       "    </tr>\n",
       "    <tr>\n",
       "      <th>Capital_loss</th>\n",
       "      <td>0.057775</td>\n",
       "      <td>-0.010259</td>\n",
       "      <td>0.079932</td>\n",
       "      <td>-0.031614</td>\n",
       "      <td>1.000000</td>\n",
       "      <td>0.054256</td>\n",
       "    </tr>\n",
       "    <tr>\n",
       "      <th>Hours_per_week</th>\n",
       "      <td>0.068756</td>\n",
       "      <td>-0.018770</td>\n",
       "      <td>0.148127</td>\n",
       "      <td>0.078409</td>\n",
       "      <td>0.054256</td>\n",
       "      <td>1.000000</td>\n",
       "    </tr>\n",
       "  </tbody>\n",
       "</table>\n",
       "</div>"
      ],
      "text/plain": [
       "                     Age    Fnlwgt  Education_num  Capital_gain  Capital_loss  \\\n",
       "Age             1.000000 -0.076646       0.036527      0.077674      0.057775   \n",
       "Fnlwgt         -0.076646  1.000000      -0.043159      0.000437     -0.010259   \n",
       "Education_num   0.036527 -0.043159       1.000000      0.122627      0.079932   \n",
       "Capital_gain    0.077674  0.000437       0.122627      1.000000     -0.031614   \n",
       "Capital_loss    0.057775 -0.010259       0.079932     -0.031614      1.000000   \n",
       "Hours_per_week  0.068756 -0.018770       0.148127      0.078409      0.054256   \n",
       "\n",
       "                Hours_per_week  \n",
       "Age                   0.068756  \n",
       "Fnlwgt               -0.018770  \n",
       "Education_num         0.148127  \n",
       "Capital_gain          0.078409  \n",
       "Capital_loss          0.054256  \n",
       "Hours_per_week        1.000000  "
      ]
     },
     "execution_count": 33,
     "metadata": {},
     "output_type": "execute_result"
    }
   ],
   "source": [
    "df.corr()"
   ]
  },
  {
   "cell_type": "code",
   "execution_count": 34,
   "id": "22e75497",
   "metadata": {},
   "outputs": [
    {
     "data": {
      "text/plain": [
       "<AxesSubplot:>"
      ]
     },
     "execution_count": 34,
     "metadata": {},
     "output_type": "execute_result"
    },
    {
     "data": {
      "image/png": "[encoded data removed]",
      "text/plain": [
       "<Figure size 432x288 with 2 Axes>"
      ]
     },
     "metadata": {
      "needs_background": "light"
     },
     "output_type": "display_data"
    }
   ],
   "source": [
    "sns.heatmap(df.corr(), annot=True)"
   ]
  },
  {
   "cell_type": "markdown",
   "id": "294ad94c",
   "metadata": {},
   "source": [
    "We can see that fnlwgt column has the lowest amount of correlation with all columns."
   ]
  },
  {
   "cell_type": "code",
   "execution_count": 35,
   "id": "d12ad280",
   "metadata": {},
   "outputs": [
    {
     "data": {
      "text/plain": [
       "Age                0.558738\n",
       "Fnlwgt             1.446972\n",
       "Education_num     -0.311630\n",
       "Capital_gain      11.953690\n",
       "Capital_loss       4.594549\n",
       "Hours_per_week     0.227636\n",
       "dtype: float64"
      ]
     },
     "execution_count": 35,
     "metadata": {},
     "output_type": "execute_result"
    }
   ],
   "source": [
    "df.skew()"
   ]
  },
  {
   "cell_type": "markdown",
   "id": "0f946c59",
   "metadata": {},
   "source": [
    "We can observe skewness in fnlwgt, capital gain and capital loss columns."
   ]
  },
  {
   "cell_type": "code",
   "execution_count": 36,
   "id": "af152e2b",
   "metadata": {},
   "outputs": [
    {
     "data": {
      "text/plain": [
       "array([[<AxesSubplot:title={'center':'Age'}>,\n",
       "        <AxesSubplot:title={'center':'Fnlwgt'}>,\n",
       "        <AxesSubplot:title={'center':'Education_num'}>],\n",
       "       [<AxesSubplot:title={'center':'Capital_gain'}>,\n",
       "        <AxesSubplot:title={'center':'Capital_loss'}>,\n",
       "        <AxesSubplot:title={'center':'Hours_per_week'}>]], dtype=object)"
      ]
     },
     "execution_count": 36,
     "metadata": {},
     "output_type": "execute_result"
    },
    {
     "data": {
      "image/png": "[encoded data removed]",
      "text/plain": [
       "<Figure size 1440x720 with 6 Axes>"
      ]
     },
     "metadata": {
      "needs_background": "light"
     },
     "output_type": "display_data"
    }
   ],
   "source": [
    "df.hist(figsize=(20,10), grid=False, layout=(2, 3), bins = 30)"
   ]
  },
  {
   "cell_type": "markdown",
   "id": "c0ebc36b",
   "metadata": {},
   "source": [
    "We can clearly visualize the skewness in fnlwgt, capital gain and capital loss, which are all right skewed."
   ]
  },
  {
   "cell_type": "code",
   "execution_count": 37,
   "id": "e13d8d14",
   "metadata": {},
   "outputs": [
    {
     "data": {
      "text/plain": [
       "<AxesSubplot:>"
      ]
     },
     "execution_count": 37,
     "metadata": {},
     "output_type": "execute_result"
    },
    {
     "data": {
      "image/png": "[encoded data removed]",
      "text/plain": [
       "<Figure size 720x720 with 1 Axes>"
      ]
     },
     "metadata": {
      "needs_background": "light"
     },
     "output_type": "display_data"
    }
   ],
   "source": [
    "df['Fnlwgt'].hist(figsize=(10,10), bins=30)"
   ]
  },
  {
   "cell_type": "markdown",
   "id": "4ef34928",
   "metadata": {},
   "source": [
    "Most values are in the 200000 range, causing the data to be skewed."
   ]
  },
  {
   "cell_type": "code",
   "execution_count": 38,
   "id": "ae0c8ffe",
   "metadata": {},
   "outputs": [
    {
     "data": {
      "text/plain": [
       "<AxesSubplot:>"
      ]
     },
     "execution_count": 38,
     "metadata": {},
     "output_type": "execute_result"
    },
    {
     "data": {
      "image/png": "[encoded data removed]",
      "text/plain": [
       "<Figure size 720x720 with 1 Axes>"
      ]
     },
     "metadata": {
      "needs_background": "light"
     },
     "output_type": "display_data"
    }
   ],
   "source": [
    "df['Capital_gain'].hist(figsize=(10,10), bins=30)"
   ]
  },
  {
   "cell_type": "markdown",
   "id": "29832bb1",
   "metadata": {},
   "source": [
    "We can observe that most 30000+ people had no capital gain, while very very few had a massive amount of capital gain."
   ]
  },
  {
   "cell_type": "code",
   "execution_count": 39,
   "id": "fe35fa15",
   "metadata": {},
   "outputs": [
    {
     "data": {
      "text/plain": [
       "<AxesSubplot:>"
      ]
     },
     "execution_count": 39,
     "metadata": {},
     "output_type": "execute_result"
    },
    {
     "data": {
      "image/png": "[encoded data removed]",
      "text/plain": [
       "<Figure size 720x720 with 1 Axes>"
      ]
     },
     "metadata": {
      "needs_background": "light"
     },
     "output_type": "display_data"
    }
   ],
   "source": [
    "df['Capital_loss'].hist(figsize=(10,10), bins=30)"
   ]
  },
  {
   "cell_type": "markdown",
   "id": "107beb70",
   "metadata": {},
   "source": [
    "Like above, we can again observe that most 30000+ people had no capital loss, while very very few had some capital loss. However we can clearly compare and see that the overall amount of capital gain was much higher than the capital loss."
   ]
  },
  {
   "cell_type": "code",
   "execution_count": 40,
   "id": "0071631b",
   "metadata": {},
   "outputs": [
    {
     "data": {
      "text/plain": [
       "Text(0.5, 1.0, 'Outliers in the columns')"
      ]
     },
     "execution_count": 40,
     "metadata": {},
     "output_type": "execute_result"
    },
    {
     "data": {
      "image/png": "[encoded data removed]",
      "text/plain": [
       "<Figure size 720x720 with 1 Axes>"
      ]
     },
     "metadata": {
      "needs_background": "light"
     },
     "output_type": "display_data"
    }
   ],
   "source": [
    "df.boxplot(figsize=(10,10))\n",
    "plt.xticks(rotation= 90)\n",
    "plt.title('Outliers in the columns')"
   ]
  },
  {
   "cell_type": "markdown",
   "id": "c6f67681",
   "metadata": {},
   "source": [
    "There is a very high amount of outliers present in Fnlwgt, as well as some in capital gain and capital loss."
   ]
  },
  {
   "cell_type": "code",
   "execution_count": 41,
   "id": "b46255ac",
   "metadata": {},
   "outputs": [
    {
     "data": {
      "text/plain": [
       "<AxesSubplot:xlabel='Fnlwgt'>"
      ]
     },
     "execution_count": 41,
     "metadata": {},
     "output_type": "execute_result"
    },
    {
     "data": {
      "image/png": "[encoded data removed]",
      "text/plain": [
       "<Figure size 432x288 with 1 Axes>"
      ]
     },
     "metadata": {
      "needs_background": "light"
     },
     "output_type": "display_data"
    }
   ],
   "source": [
    "sns.boxplot(df['Fnlwgt'])"
   ]
  },
  {
   "cell_type": "markdown",
   "id": "67654946",
   "metadata": {},
   "source": [
    "There are several outliers from the 40000 point."
   ]
  },
  {
   "cell_type": "code",
   "execution_count": 42,
   "id": "2c3b14e8",
   "metadata": {},
   "outputs": [
    {
     "data": {
      "text/plain": [
       "<AxesSubplot:xlabel='Capital_gain'>"
      ]
     },
     "execution_count": 42,
     "metadata": {},
     "output_type": "execute_result"
    },
    {
     "data": {
      "image/png": "[encoded data removed]",
      "text/plain": [
       "<Figure size 432x288 with 1 Axes>"
      ]
     },
     "metadata": {
      "needs_background": "light"
     },
     "output_type": "display_data"
    }
   ],
   "source": [
    "sns.boxplot(df['Capital_gain'])"
   ]
  },
  {
   "cell_type": "markdown",
   "id": "286fa2d3",
   "metadata": {},
   "source": [
    "As we saw in this histogram above, the majority of people had no capital gain, and hence the people who did have capital gain are treated as outliers. We can also observe that only 1 individual from the dataset had the capital gain of 100000 dollars."
   ]
  },
  {
   "cell_type": "code",
   "execution_count": 43,
   "id": "ec217653",
   "metadata": {},
   "outputs": [
    {
     "data": {
      "text/plain": [
       "<AxesSubplot:xlabel='Capital_loss'>"
      ]
     },
     "execution_count": 43,
     "metadata": {},
     "output_type": "execute_result"
    },
    {
     "data": {
      "image/png": "[encoded data removed]",
      "text/plain": [
       "<Figure size 432x288 with 1 Axes>"
      ]
     },
     "metadata": {
      "needs_background": "light"
     },
     "output_type": "display_data"
    }
   ],
   "source": [
    "sns.boxplot(df['Capital_loss'])"
   ]
  },
  {
   "cell_type": "markdown",
   "id": "bdac540e",
   "metadata": {},
   "source": [
    "The maximum capital loss was around 4500 dollars. However majority of people had no capital loss and that is why these values are all treated as outliers."
   ]
  },
  {
   "cell_type": "code",
   "execution_count": 44,
   "id": "b2e035a5",
   "metadata": {},
   "outputs": [
    {
     "data": {
      "text/plain": [
       "<AxesSubplot:xlabel='Age'>"
      ]
     },
     "execution_count": 44,
     "metadata": {},
     "output_type": "execute_result"
    },
    {
     "data": {
      "image/png": "[encoded data removed]",
      "text/plain": [
       "<Figure size 432x288 with 1 Axes>"
      ]
     },
     "metadata": {
      "needs_background": "light"
     },
     "output_type": "display_data"
    }
   ],
   "source": [
    "sns.boxplot(df['Age'])"
   ]
  },
  {
   "cell_type": "markdown",
   "id": "c1333eef",
   "metadata": {},
   "source": [
    "We can see that most people are 17+ but there are some people who are 78+ and they are treated as outliers."
   ]
  },
  {
   "cell_type": "code",
   "execution_count": 45,
   "id": "02ef7c9c",
   "metadata": {},
   "outputs": [
    {
     "data": {
      "text/plain": [
       "<AxesSubplot:xlabel='Education_num'>"
      ]
     },
     "execution_count": 45,
     "metadata": {},
     "output_type": "execute_result"
    },
    {
     "data": {
      "image/png": "[encoded data removed]",
      "text/plain": [
       "<Figure size 432x288 with 1 Axes>"
      ]
     },
     "metadata": {
      "needs_background": "light"
     },
     "output_type": "display_data"
    }
   ],
   "source": [
    "sns.boxplot(df['Education_num'])"
   ]
  },
  {
   "cell_type": "markdown",
   "id": "971b9f34",
   "metadata": {},
   "source": [
    "We can see that there are only 4 people with education_num less than 5."
   ]
  },
  {
   "cell_type": "code",
   "execution_count": 5,
   "id": "32bdfb8b",
   "metadata": {},
   "outputs": [
    {
     "data": {
      "text/plain": [
       "<AxesSubplot:xlabel='Income', ylabel='count'>"
      ]
     },
     "execution_count": 5,
     "metadata": {},
     "output_type": "execute_result"
    },
    {
     "data": {
      "image/png": "[encoded data removed]",
      "text/plain": [
       "<Figure size 432x288 with 1 Axes>"
      ]
     },
     "metadata": {
      "needs_background": "light"
     },
     "output_type": "display_data"
    }
   ],
   "source": [
    "sns.countplot(df['Income'])"
   ]
  },
  {
   "cell_type": "markdown",
   "id": "90b61e38",
   "metadata": {},
   "source": [
    "We can see that most individuals have income less than 50k, and few have income greater than 50K."
   ]
  },
  {
   "cell_type": "code",
   "execution_count": 7,
   "id": "e0be7107",
   "metadata": {},
   "outputs": [
    {
     "data": {
      "text/plain": [
       "(array([0, 1, 2, 3, 4, 5, 6]),\n",
       " [Text(0, 0, ' Married-civ-spouse'),\n",
       "  Text(1, 0, ' Divorced'),\n",
       "  Text(2, 0, ' Married-spouse-absent'),\n",
       "  Text(3, 0, ' Never-married'),\n",
       "  Text(4, 0, ' Separated'),\n",
       "  Text(5, 0, ' Married-AF-spouse'),\n",
       "  Text(6, 0, ' Widowed')])"
      ]
     },
     "execution_count": 7,
     "metadata": {},
     "output_type": "execute_result"
    },
    {
     "data": {
      "image/png": "[encoded data removed]",
      "text/plain": [
       "<Figure size 432x288 with 1 Axes>"
      ]
     },
     "metadata": {
      "needs_background": "light"
     },
     "output_type": "display_data"
    }
   ],
   "source": [
    "sns.countplot(df['Marital_status'])\n",
    "plt.xticks(rotation=90)"
   ]
  },
  {
   "cell_type": "markdown",
   "id": "542e782d",
   "metadata": {},
   "source": [
    "Maximum people are married or in a civil partnership. Second majority is of people who have never been married. The least amount of people are married-af-spouse meaning their spouse is in the armed forces."
   ]
  },
  {
   "cell_type": "code",
   "execution_count": 10,
   "id": "774654db",
   "metadata": {},
   "outputs": [
    {
     "data": {
      "text/plain": [
       " Married-civ-spouse       14976\n",
       " Never-married            10682\n",
       " Divorced                  4443\n",
       " Separated                 1025\n",
       " Widowed                    993\n",
       " Married-spouse-absent      418\n",
       " Married-AF-spouse           23\n",
       "Name: Marital_status, dtype: int64"
      ]
     },
     "execution_count": 10,
     "metadata": {},
     "output_type": "execute_result"
    }
   ],
   "source": [
    "df['Marital_status'].value_counts()"
   ]
  },
  {
   "cell_type": "code",
   "execution_count": 11,
   "id": "06c213b5",
   "metadata": {},
   "outputs": [
    {
     "data": {
      "text/plain": [
       "14"
      ]
     },
     "execution_count": 11,
     "metadata": {},
     "output_type": "execute_result"
    }
   ],
   "source": [
    "df['Occupation'].nunique()"
   ]
  },
  {
   "cell_type": "code",
   "execution_count": 12,
   "id": "930ac95a",
   "metadata": {},
   "outputs": [
    {
     "data": {
      "text/plain": [
       "(array([ 0,  1,  2,  3,  4,  5,  6,  7,  8,  9, 10, 11, 12, 13]),\n",
       " [Text(0, 0, ' Exec-managerial'),\n",
       "  Text(1, 0, ' Handlers-cleaners'),\n",
       "  Text(2, 0, ' Prof-specialty'),\n",
       "  Text(3, 0, ' Other-service'),\n",
       "  Text(4, 0, ' Adm-clerical'),\n",
       "  Text(5, 0, ' Sales'),\n",
       "  Text(6, 0, ' Craft-repair'),\n",
       "  Text(7, 0, ' Transport-moving'),\n",
       "  Text(8, 0, ' Farming-fishing'),\n",
       "  Text(9, 0, ' Machine-op-inspct'),\n",
       "  Text(10, 0, ' Tech-support'),\n",
       "  Text(11, 0, ' Protective-serv'),\n",
       "  Text(12, 0, ' Armed-Forces'),\n",
       "  Text(13, 0, ' Priv-house-serv')])"
      ]
     },
     "execution_count": 12,
     "metadata": {},
     "output_type": "execute_result"
    },
    {
     "data": {
      "image/png": "[encoded data removed]",
      "text/plain": [
       "<Figure size 432x288 with 1 Axes>"
      ]
     },
     "metadata": {
      "needs_background": "light"
     },
     "output_type": "display_data"
    }
   ],
   "source": [
    "sns.countplot(df['Occupation'])\n",
    "plt.xticks(rotation=90)"
   ]
  },
  {
   "cell_type": "markdown",
   "id": "b0119e9b",
   "metadata": {},
   "source": [
    "Most people are in the occupation prof-specialty andf craft-repair. The least amount of people are in armed forces."
   ]
  },
  {
   "cell_type": "code",
   "execution_count": 13,
   "id": "5eb91b1b",
   "metadata": {},
   "outputs": [
    {
     "data": {
      "text/plain": [
       "(array([0, 1, 2, 3, 4, 5]),\n",
       " [Text(0, 0, ' Husband'),\n",
       "  Text(1, 0, ' Not-in-family'),\n",
       "  Text(2, 0, ' Wife'),\n",
       "  Text(3, 0, ' Own-child'),\n",
       "  Text(4, 0, ' Unmarried'),\n",
       "  Text(5, 0, ' Other-relative')])"
      ]
     },
     "execution_count": 13,
     "metadata": {},
     "output_type": "execute_result"
    },
    {
     "data": {
      "image/png": "[encoded data removed]",
      "text/plain": [
       "<Figure size 432x288 with 1 Axes>"
      ]
     },
     "metadata": {
      "needs_background": "light"
     },
     "output_type": "display_data"
    }
   ],
   "source": [
    "sns.countplot(df['Relationship'])\n",
    "plt.xticks(rotation=90)"
   ]
  },
  {
   "cell_type": "markdown",
   "id": "3bc69eb6",
   "metadata": {},
   "source": [
    "Most people are husbands, and second majority is of people who are not in family. The least amount of people are classified as other relative."
   ]
  },
  {
   "cell_type": "code",
   "execution_count": 14,
   "id": "2b878eee",
   "metadata": {},
   "outputs": [
    {
     "data": {
      "text/plain": [
       "(array([ 0,  1,  2,  3,  4,  5,  6,  7,  8,  9, 10, 11, 12, 13, 14, 15]),\n",
       " [Text(0, 0, ' Bachelors'),\n",
       "  Text(1, 0, ' HS-grad'),\n",
       "  Text(2, 0, ' 11th'),\n",
       "  Text(3, 0, ' Masters'),\n",
       "  Text(4, 0, ' 9th'),\n",
       "  Text(5, 0, ' Some-college'),\n",
       "  Text(6, 0, ' Assoc-acdm'),\n",
       "  Text(7, 0, ' Assoc-voc'),\n",
       "  Text(8, 0, ' 7th-8th'),\n",
       "  Text(9, 0, ' Doctorate'),\n",
       "  Text(10, 0, ' Prof-school'),\n",
       "  Text(11, 0, ' 5th-6th'),\n",
       "  Text(12, 0, ' 10th'),\n",
       "  Text(13, 0, ' 1st-4th'),\n",
       "  Text(14, 0, ' Preschool'),\n",
       "  Text(15, 0, ' 12th')])"
      ]
     },
     "execution_count": 14,
     "metadata": {},
     "output_type": "execute_result"
    },
    {
     "data": {
      "image/png": "[encoded data removed]",
      "text/plain": [
       "<Figure size 432x288 with 1 Axes>"
      ]
     },
     "metadata": {
      "needs_background": "light"
     },
     "output_type": "display_data"
    }
   ],
   "source": [
    "sns.countplot(df['Education'])\n",
    "plt.xticks(rotation=90)"
   ]
  },
  {
   "cell_type": "markdown",
   "id": "e3b2a054",
   "metadata": {},
   "source": [
    "Highest number of people are high school graduates. The least number of people only went to preschool."
   ]
  },
  {
   "cell_type": "code",
   "execution_count": 15,
   "id": "647100f2",
   "metadata": {},
   "outputs": [
    {
     "data": {
      "text/plain": [
       "(array([ 0,  1,  2,  3,  4,  5,  6,  7,  8,  9, 10, 11, 12, 13, 14, 15]),\n",
       " [Text(0, 0, '1'),\n",
       "  Text(1, 0, '2'),\n",
       "  Text(2, 0, '3'),\n",
       "  Text(3, 0, '4'),\n",
       "  Text(4, 0, '5'),\n",
       "  Text(5, 0, '6'),\n",
       "  Text(6, 0, '7'),\n",
       "  Text(7, 0, '8'),\n",
       "  Text(8, 0, '9'),\n",
       "  Text(9, 0, '10'),\n",
       "  Text(10, 0, '11'),\n",
       "  Text(11, 0, '12'),\n",
       "  Text(12, 0, '13'),\n",
       "  Text(13, 0, '14'),\n",
       "  Text(14, 0, '15'),\n",
       "  Text(15, 0, '16')])"
      ]
     },
     "execution_count": 15,
     "metadata": {},
     "output_type": "execute_result"
    },
    {
     "data": {
      "image/png": "[encoded data removed]",
      "text/plain": [
       "<Figure size 432x288 with 1 Axes>"
      ]
     },
     "metadata": {
      "needs_background": "light"
     },
     "output_type": "display_data"
    }
   ],
   "source": [
    "sns.countplot(df['Education_num'])\n",
    "plt.xticks(rotation=90)"
   ]
  },
  {
   "cell_type": "markdown",
   "id": "544d3048",
   "metadata": {},
   "source": [
    "This is just the education column encoded, where 9 represents high school graduates, 10 represents some college, 13 represents bachelors and so on."
   ]
  },
  {
   "cell_type": "code",
   "execution_count": 4,
   "id": "f7f040f8",
   "metadata": {},
   "outputs": [],
   "source": [
    "def age_group(x):\n",
    "    x = int(x)\n",
    "    x = abs(x)\n",
    "    if 16 < x < 20:\n",
    "        return \"Teens\"\n",
    "    elif 20 <= x < 30:\n",
    "        return \"20s\"\n",
    "    elif 30 <= x < 40:\n",
    "        return \"30s\"\n",
    "    elif 40 <= x < 50:\n",
    "        return \"40s\"\n",
    "    elif 50 <= x < 60:\n",
    "        return \"50s\"\n",
    "    elif 60 <= x < 70:\n",
    "        return \"60s\"\n",
    "    elif 70 <= x < 80:\n",
    "        return \"70s\"\n",
    "    else:\n",
    "        return \"80+\"\n",
    "\n",
    "df['age_group'] = df['Age'].apply(age_group)"
   ]
  },
  {
   "cell_type": "code",
   "execution_count": 21,
   "id": "a8ebfa7f",
   "metadata": {},
   "outputs": [
    {
     "data": {
      "text/plain": [
       "(array([0, 1, 2, 3, 4, 5, 6, 7]),\n",
       " [Text(0, 0, '50s'),\n",
       "  Text(1, 0, '30s'),\n",
       "  Text(2, 0, '20s'),\n",
       "  Text(3, 0, '40s'),\n",
       "  Text(4, 0, 'Teens'),\n",
       "  Text(5, 0, '70s'),\n",
       "  Text(6, 0, '60s'),\n",
       "  Text(7, 0, '80+')])"
      ]
     },
     "execution_count": 21,
     "metadata": {},
     "output_type": "execute_result"
    },
    {
     "data": {
      "image/png": "[encoded data removed]",
      "text/plain": [
       "<Figure size 432x288 with 1 Axes>"
      ]
     },
     "metadata": {
      "needs_background": "light"
     },
     "output_type": "display_data"
    }
   ],
   "source": [
    "sns.countplot(df['age_group'])\n",
    "plt.xticks(rotation=90)"
   ]
  },
  {
   "cell_type": "markdown",
   "id": "3fa70b54",
   "metadata": {},
   "source": [
    "We can see that the maximum amount of people are in their 30s, 20s and 40s. The least amount of people are in their 80s."
   ]
  },
  {
   "cell_type": "code",
   "execution_count": 23,
   "id": "59554e5d",
   "metadata": {},
   "outputs": [
    {
     "data": {
      "text/plain": [
       "(array([0, 1, 2, 3, 4, 5, 6, 7]),\n",
       " [Text(0, 0, ' Self-emp-not-inc'),\n",
       "  Text(1, 0, ' Private'),\n",
       "  Text(2, 0, ' State-gov'),\n",
       "  Text(3, 0, ' Federal-gov'),\n",
       "  Text(4, 0, ' Local-gov'),\n",
       "  Text(5, 0, ' Self-emp-inc'),\n",
       "  Text(6, 0, ' Without-pay'),\n",
       "  Text(7, 0, ' Never-worked')])"
      ]
     },
     "execution_count": 23,
     "metadata": {},
     "output_type": "execute_result"
    },
    {
     "data": {
      "image/png": "[encoded data removed]",
      "text/plain": [
       "<Figure size 432x288 with 1 Axes>"
      ]
     },
     "metadata": {
      "needs_background": "light"
     },
     "output_type": "display_data"
    }
   ],
   "source": [
    "sns.countplot(df['Workclass'])\n",
    "plt.xticks(rotation=90)"
   ]
  },
  {
   "cell_type": "markdown",
   "id": "e4e578c8",
   "metadata": {},
   "source": [
    "Most people are employed in the private sector and all the other categories are much less. The least amount of people either work without pay or have never worked."
   ]
  },
  {
   "cell_type": "code",
   "execution_count": 24,
   "id": "7eaf6189",
   "metadata": {},
   "outputs": [
    {
     "data": {
      "text/plain": [
       " Private             22696\n",
       " Self-emp-not-inc     2541\n",
       " Local-gov            2093\n",
       " State-gov            1297\n",
       " Self-emp-inc         1116\n",
       " Federal-gov           960\n",
       " Without-pay            14\n",
       " Never-worked            7\n",
       "Name: Workclass, dtype: int64"
      ]
     },
     "execution_count": 24,
     "metadata": {},
     "output_type": "execute_result"
    }
   ],
   "source": [
    "df.Workclass.value_counts()"
   ]
  },
  {
   "cell_type": "markdown",
   "id": "d5140f31",
   "metadata": {},
   "source": [
    "So we can see that only 7 people have never worked and 14 people work without pay."
   ]
  },
  {
   "cell_type": "code",
   "execution_count": 25,
   "id": "ec0ae732",
   "metadata": {},
   "outputs": [
    {
     "data": {
      "text/plain": [
       "(array([0, 1, 2, 3, 4]),\n",
       " [Text(0, 0, ' White'),\n",
       "  Text(1, 0, ' Black'),\n",
       "  Text(2, 0, ' Asian-Pac-Islander'),\n",
       "  Text(3, 0, ' Amer-Indian-Eskimo'),\n",
       "  Text(4, 0, ' Other')])"
      ]
     },
     "execution_count": 25,
     "metadata": {},
     "output_type": "execute_result"
    },
    {
     "data": {
      "image/png": "[encoded data removed]",
      "text/plain": [
       "<Figure size 432x288 with 1 Axes>"
      ]
     },
     "metadata": {
      "needs_background": "light"
     },
     "output_type": "display_data"
    }
   ],
   "source": [
    "sns.countplot(df['Race'])\n",
    "plt.xticks(rotation=90)"
   ]
  },
  {
   "cell_type": "markdown",
   "id": "b9ddc783",
   "metadata": {},
   "source": [
    "Majority of people are White, and least are American-Indian-eskimo or other."
   ]
  },
  {
   "cell_type": "code",
   "execution_count": 26,
   "id": "bbcaa56d",
   "metadata": {},
   "outputs": [
    {
     "data": {
      "text/plain": [
       "(array([ 0,  1,  2,  3,  4,  5,  6,  7,  8,  9, 10, 11, 12, 13, 14, 15, 16,\n",
       "        17, 18, 19, 20, 21, 22, 23, 24, 25, 26, 27, 28, 29, 30, 31, 32, 33,\n",
       "        34, 35, 36, 37, 38, 39, 40]),\n",
       " [Text(0, 0, ' United-States'),\n",
       "  Text(1, 0, ' Cuba'),\n",
       "  Text(2, 0, ' Jamaica'),\n",
       "  Text(3, 0, ' India'),\n",
       "  Text(4, 0, ' Mexico'),\n",
       "  Text(5, 0, ' South'),\n",
       "  Text(6, 0, ' Puerto-Rico'),\n",
       "  Text(7, 0, ' Honduras'),\n",
       "  Text(8, 0, ' England'),\n",
       "  Text(9, 0, ' Canada'),\n",
       "  Text(10, 0, ' Germany'),\n",
       "  Text(11, 0, ' Iran'),\n",
       "  Text(12, 0, ' Philippines'),\n",
       "  Text(13, 0, ' Italy'),\n",
       "  Text(14, 0, ' Poland'),\n",
       "  Text(15, 0, ' Columbia'),\n",
       "  Text(16, 0, ' Cambodia'),\n",
       "  Text(17, 0, ' Thailand'),\n",
       "  Text(18, 0, ' Ecuador'),\n",
       "  Text(19, 0, ' Laos'),\n",
       "  Text(20, 0, ' Taiwan'),\n",
       "  Text(21, 0, ' Haiti'),\n",
       "  Text(22, 0, ' Portugal'),\n",
       "  Text(23, 0, ' Dominican-Republic'),\n",
       "  Text(24, 0, ' El-Salvador'),\n",
       "  Text(25, 0, ' France'),\n",
       "  Text(26, 0, ' Guatemala'),\n",
       "  Text(27, 0, ' China'),\n",
       "  Text(28, 0, ' Japan'),\n",
       "  Text(29, 0, ' Yugoslavia'),\n",
       "  Text(30, 0, ' Peru'),\n",
       "  Text(31, 0, ' Outlying-US(Guam-USVI-etc)'),\n",
       "  Text(32, 0, ' Scotland'),\n",
       "  Text(33, 0, ' Trinadad&Tobago'),\n",
       "  Text(34, 0, ' Greece'),\n",
       "  Text(35, 0, ' Nicaragua'),\n",
       "  Text(36, 0, ' Vietnam'),\n",
       "  Text(37, 0, ' Hong'),\n",
       "  Text(38, 0, ' Ireland'),\n",
       "  Text(39, 0, ' Hungary'),\n",
       "  Text(40, 0, ' Holand-Netherlands')])"
      ]
     },
     "execution_count": 26,
     "metadata": {},
     "output_type": "execute_result"
    },
    {
     "data": {
      "image/png": "[encoded data removed]",
      "text/plain": [
       "<Figure size 432x288 with 1 Axes>"
      ]
     },
     "metadata": {
      "needs_background": "light"
     },
     "output_type": "display_data"
    }
   ],
   "source": [
    "sns.countplot(df['Native_country'])\n",
    "plt.xticks(rotation=90)"
   ]
  },
  {
   "cell_type": "markdown",
   "id": "611b1d9e",
   "metadata": {},
   "source": [
    "Majority of people are from the US itself, and the second majority is of people from Mexico, although there is very high population difference between US and Mexico. Very few people are from all the other countries."
   ]
  },
  {
   "cell_type": "code",
   "execution_count": 27,
   "id": "b5f0bbd8",
   "metadata": {},
   "outputs": [
    {
     "data": {
      "text/plain": [
       " United-States                 29169\n",
       " Mexico                          643\n",
       " Philippines                     198\n",
       " Germany                         137\n",
       " Canada                          121\n",
       " Puerto-Rico                     114\n",
       " El-Salvador                     106\n",
       " India                           100\n",
       " Cuba                             95\n",
       " England                          90\n",
       " Jamaica                          81\n",
       " South                            80\n",
       " China                            75\n",
       " Italy                            73\n",
       " Dominican-Republic               70\n",
       " Vietnam                          67\n",
       " Guatemala                        64\n",
       " Japan                            62\n",
       " Poland                           60\n",
       " Columbia                         59\n",
       " Taiwan                           51\n",
       " Haiti                            44\n",
       " Iran                             43\n",
       " Portugal                         37\n",
       " Nicaragua                        34\n",
       " Peru                             31\n",
       " France                           29\n",
       " Greece                           29\n",
       " Ecuador                          28\n",
       " Ireland                          24\n",
       " Hong                             20\n",
       " Cambodia                         19\n",
       " Trinadad&Tobago                  19\n",
       " Laos                             18\n",
       " Thailand                         18\n",
       " Yugoslavia                       16\n",
       " Outlying-US(Guam-USVI-etc)       14\n",
       " Honduras                         13\n",
       " Hungary                          13\n",
       " Scotland                         12\n",
       " Holand-Netherlands                1\n",
       "Name: Native_country, dtype: int64"
      ]
     },
     "execution_count": 27,
     "metadata": {},
     "output_type": "execute_result"
    }
   ],
   "source": [
    "df.Native_country.value_counts()"
   ]
  },
  {
   "cell_type": "markdown",
   "id": "da8788fc",
   "metadata": {},
   "source": [
    "So we can see that exactly 29169 people are from the US, and 643 from Mexico. One person is from the Netherlands and 100 people are from India."
   ]
  },
  {
   "cell_type": "code",
   "execution_count": 28,
   "id": "b058786c",
   "metadata": {},
   "outputs": [
    {
     "data": {
      "text/plain": [
       "<AxesSubplot:xlabel='Sex', ylabel='count'>"
      ]
     },
     "execution_count": 28,
     "metadata": {},
     "output_type": "execute_result"
    },
    {
     "data": {
      "image/png": "[encoded data removed]",
      "text/plain": [
       "<Figure size 432x288 with 1 Axes>"
      ]
     },
     "metadata": {
      "needs_background": "light"
     },
     "output_type": "display_data"
    }
   ],
   "source": [
    "sns.countplot(df['Sex'])"
   ]
  },
  {
   "cell_type": "markdown",
   "id": "0173358d",
   "metadata": {},
   "source": [
    "Majority of the people in this data are male."
   ]
  },
  {
   "cell_type": "code",
   "execution_count": 29,
   "id": "72ae53a8",
   "metadata": {},
   "outputs": [
    {
     "data": {
      "text/plain": [
       " Male      21789\n",
       " Female    10771\n",
       "Name: Sex, dtype: int64"
      ]
     },
     "execution_count": 29,
     "metadata": {},
     "output_type": "execute_result"
    }
   ],
   "source": [
    "df.Sex.value_counts()"
   ]
  },
  {
   "cell_type": "markdown",
   "id": "3e306a85",
   "metadata": {},
   "source": [
    "67% of the people are male and 33% are female."
   ]
  },
  {
   "cell_type": "code",
   "execution_count": 33,
   "id": "948eb0eb",
   "metadata": {},
   "outputs": [
    {
     "data": {
      "text/plain": [
       "<AxesSubplot:>"
      ]
     },
     "execution_count": 33,
     "metadata": {},
     "output_type": "execute_result"
    },
    {
     "data": {
      "image/png": "[encoded data removed]",
      "text/plain": [
       "<Figure size 432x288 with 1 Axes>"
      ]
     },
     "metadata": {
      "needs_background": "light"
     },
     "output_type": "display_data"
    }
   ],
   "source": [
    "df.Hours_per_week.hist()"
   ]
  },
  {
   "cell_type": "markdown",
   "id": "a8a01e23",
   "metadata": {},
   "source": [
    "# Bivariate Analysis"
   ]
  },
  {
   "cell_type": "code",
   "execution_count": null,
   "id": "11b78759",
   "metadata": {},
   "outputs": [],
   "source": [
    "sns.pairplot(df)"
   ]
  },
  {
   "cell_type": "code",
   "execution_count": 14,
   "id": "52b93d67",
   "metadata": {},
   "outputs": [
    {
     "data": {
      "text/plain": [
       "<AxesSubplot:xlabel='Sex', ylabel='count'>"
      ]
     },
     "execution_count": 14,
     "metadata": {},
     "output_type": "execute_result"
    },
    {
     "data": {
      "image/png": "[encoded data removed]",
      "text/plain": [
       "<Figure size 432x288 with 1 Axes>"
      ]
     },
     "metadata": {
      "needs_background": "light"
     },
     "output_type": "display_data"
    }
   ],
   "source": [
    "sns.countplot(x=df['Sex'], hue=df['Income'], palette='crest')"
   ]
  },
  {
   "cell_type": "markdown",
   "id": "bdc5d599",
   "metadata": {},
   "source": [
    "We can observe that around 30% of the total males earn more than 50k while less than 10% of total females earn more than 50k"
   ]
  },
  {
   "cell_type": "code",
   "execution_count": 11,
   "id": "e3671e45",
   "metadata": {},
   "outputs": [
    {
     "data": {
      "text/plain": [
       "<AxesSubplot:xlabel='age_group', ylabel='count'>"
      ]
     },
     "execution_count": 11,
     "metadata": {},
     "output_type": "execute_result"
    },
    {
     "data": {
      "image/png": "[encoded data removed]",
      "text/plain": [
       "<Figure size 432x288 with 1 Axes>"
      ]
     },
     "metadata": {
      "needs_background": "light"
     },
     "output_type": "display_data"
    }
   ],
   "source": [
    "sns.countplot(x=df['age_group'], hue=df['Income'], palette='crest')"
   ]
  },
  {
   "cell_type": "markdown",
   "id": "beb95802",
   "metadata": {},
   "source": [
    "We can observe that no people in their teens earn over 50k. Only 500 people in their 20s earn over 50k. around 40% in their 50s earn over 50k."
   ]
  },
  {
   "cell_type": "code",
   "execution_count": 13,
   "id": "6c614b20",
   "metadata": {},
   "outputs": [
    {
     "data": {
      "text/plain": [
       "(array([0, 1, 2, 3, 4]),\n",
       " [Text(0, 0, ' White'),\n",
       "  Text(1, 0, ' Black'),\n",
       "  Text(2, 0, ' Asian-Pac-Islander'),\n",
       "  Text(3, 0, ' Amer-Indian-Eskimo'),\n",
       "  Text(4, 0, ' Other')])"
      ]
     },
     "execution_count": 13,
     "metadata": {},
     "output_type": "execute_result"
    },
    {
     "data": {
      "image/png": "[encoded data removed]",
      "text/plain": [
       "<Figure size 432x288 with 1 Axes>"
      ]
     },
     "metadata": {
      "needs_background": "light"
     },
     "output_type": "display_data"
    }
   ],
   "source": [
    "sns.countplot(x=df['Race'], hue=df['Income'], palette='crest')\n",
    "plt.xticks(rotation=90)"
   ]
  },
  {
   "cell_type": "markdown",
   "id": "4cf76a3c",
   "metadata": {},
   "source": [
    "Majority of people earning 50k+ are white. However, in the 'other' races column, ratio of people earning over 50K is higher."
   ]
  },
  {
   "cell_type": "code",
   "execution_count": 16,
   "id": "05fb8eb1",
   "metadata": {},
   "outputs": [
    {
     "data": {
      "text/plain": [
       "(array([0, 1, 2, 3, 4, 5, 6, 7]),\n",
       " [Text(0, 0, ' Self-emp-not-inc'),\n",
       "  Text(1, 0, ' Private'),\n",
       "  Text(2, 0, ' State-gov'),\n",
       "  Text(3, 0, ' Federal-gov'),\n",
       "  Text(4, 0, ' Local-gov'),\n",
       "  Text(5, 0, ' Self-emp-inc'),\n",
       "  Text(6, 0, ' Without-pay'),\n",
       "  Text(7, 0, ' Never-worked')])"
      ]
     },
     "execution_count": 16,
     "metadata": {},
     "output_type": "execute_result"
    },
    {
     "data": {
      "image/png": "[encoded data removed]",
      "text/plain": [
       "<Figure size 432x288 with 1 Axes>"
      ]
     },
     "metadata": {
      "needs_background": "light"
     },
     "output_type": "display_data"
    }
   ],
   "source": [
    "sns.countplot(x=df['Workclass'], hue=df['Income'], palette='crest')\n",
    "plt.xticks(rotation=90)"
   ]
  },
  {
   "cell_type": "markdown",
   "id": "d73206b3",
   "metadata": {},
   "source": [
    "Only in the self employed column there is a majority of people who earn over 50k. There is high discrepancies in all other column. Around 45% in the federal govt also earn over 50k."
   ]
  },
  {
   "cell_type": "code",
   "execution_count": 17,
   "id": "af9f59af",
   "metadata": {},
   "outputs": [
    {
     "data": {
      "text/plain": [
       "(array([ 0,  1,  2,  3,  4,  5,  6,  7,  8,  9, 10, 11, 12, 13, 14, 15]),\n",
       " [Text(0, 0, ' Bachelors'),\n",
       "  Text(1, 0, ' HS-grad'),\n",
       "  Text(2, 0, ' 11th'),\n",
       "  Text(3, 0, ' Masters'),\n",
       "  Text(4, 0, ' 9th'),\n",
       "  Text(5, 0, ' Some-college'),\n",
       "  Text(6, 0, ' Assoc-acdm'),\n",
       "  Text(7, 0, ' Assoc-voc'),\n",
       "  Text(8, 0, ' 7th-8th'),\n",
       "  Text(9, 0, ' Doctorate'),\n",
       "  Text(10, 0, ' Prof-school'),\n",
       "  Text(11, 0, ' 5th-6th'),\n",
       "  Text(12, 0, ' 10th'),\n",
       "  Text(13, 0, ' 1st-4th'),\n",
       "  Text(14, 0, ' Preschool'),\n",
       "  Text(15, 0, ' 12th')])"
      ]
     },
     "execution_count": 17,
     "metadata": {},
     "output_type": "execute_result"
    },
    {
     "data": {
      "image/png": "[encoded data removed]",
      "text/plain": [
       "<Figure size 432x288 with 1 Axes>"
      ]
     },
     "metadata": {
      "needs_background": "light"
     },
     "output_type": "display_data"
    }
   ],
   "source": [
    "sns.countplot(x=df['Education'], hue=df['Income'], palette='crest')\n",
    "plt.xticks(rotation=90)"
   ]
  },
  {
   "cell_type": "markdown",
   "id": "fb34e5c6",
   "metadata": {},
   "source": [
    "Majority of people with Masters, Doctorate, Prof-school education earn over 50K. Around 45% people with Bachelors degree also earn more than 50k. This shows that the higher the education level, the more likely they are to earn higher salary."
   ]
  },
  {
   "cell_type": "code",
   "execution_count": 18,
   "id": "4d89d492",
   "metadata": {},
   "outputs": [
    {
     "data": {
      "text/plain": [
       "(array([0, 1, 2, 3, 4, 5, 6]),\n",
       " [Text(0, 0, ' Married-civ-spouse'),\n",
       "  Text(1, 0, ' Divorced'),\n",
       "  Text(2, 0, ' Married-spouse-absent'),\n",
       "  Text(3, 0, ' Never-married'),\n",
       "  Text(4, 0, ' Separated'),\n",
       "  Text(5, 0, ' Married-AF-spouse'),\n",
       "  Text(6, 0, ' Widowed')])"
      ]
     },
     "execution_count": 18,
     "metadata": {},
     "output_type": "execute_result"
    },
    {
     "data": {
      "image/png": "[encoded data removed]",
      "text/plain": [
       "<Figure size 432x288 with 1 Axes>"
      ]
     },
     "metadata": {
      "needs_background": "light"
     },
     "output_type": "display_data"
    }
   ],
   "source": [
    "sns.countplot(x=df['Marital_status'], hue=df['Income'], palette='crest')\n",
    "plt.xticks(rotation=90)"
   ]
  },
  {
   "cell_type": "markdown",
   "id": "7e415e45",
   "metadata": {},
   "source": [
    "around 45% who in the category married-civ-spouse earn over 50k. In all other columns, the amount of people who earn over 50K is much lower."
   ]
  },
  {
   "cell_type": "code",
   "execution_count": 19,
   "id": "3068bdc7",
   "metadata": {},
   "outputs": [
    {
     "data": {
      "text/plain": [
       "(array([ 0,  1,  2,  3,  4,  5,  6,  7,  8,  9, 10, 11, 12, 13]),\n",
       " [Text(0, 0, ' Exec-managerial'),\n",
       "  Text(1, 0, ' Handlers-cleaners'),\n",
       "  Text(2, 0, ' Prof-specialty'),\n",
       "  Text(3, 0, ' Other-service'),\n",
       "  Text(4, 0, ' Adm-clerical'),\n",
       "  Text(5, 0, ' Sales'),\n",
       "  Text(6, 0, ' Craft-repair'),\n",
       "  Text(7, 0, ' Transport-moving'),\n",
       "  Text(8, 0, ' Farming-fishing'),\n",
       "  Text(9, 0, ' Machine-op-inspct'),\n",
       "  Text(10, 0, ' Tech-support'),\n",
       "  Text(11, 0, ' Protective-serv'),\n",
       "  Text(12, 0, ' Armed-Forces'),\n",
       "  Text(13, 0, ' Priv-house-serv')])"
      ]
     },
     "execution_count": 19,
     "metadata": {},
     "output_type": "execute_result"
    },
    {
     "data": {
      "image/png": "[encoded data removed]",
      "text/plain": [
       "<Figure size 432x288 with 1 Axes>"
      ]
     },
     "metadata": {
      "needs_background": "light"
     },
     "output_type": "display_data"
    }
   ],
   "source": [
    "sns.countplot(x=df['Occupation'], hue=df['Income'], palette='crest')\n",
    "plt.xticks(rotation=90)"
   ]
  },
  {
   "cell_type": "markdown",
   "id": "d62dc8c4",
   "metadata": {},
   "source": [
    "48% people in executive managerial roles earn more than 50k. Around 45% people in prof-specialty roles also earn over 50k. In all other careers, there are lower levels of people who earn over 50k."
   ]
  },
  {
   "cell_type": "code",
   "execution_count": 20,
   "id": "b398d8a8",
   "metadata": {},
   "outputs": [
    {
     "data": {
      "text/plain": [
       "(array([0, 1, 2, 3, 4, 5]),\n",
       " [Text(0, 0, ' Husband'),\n",
       "  Text(1, 0, ' Not-in-family'),\n",
       "  Text(2, 0, ' Wife'),\n",
       "  Text(3, 0, ' Own-child'),\n",
       "  Text(4, 0, ' Unmarried'),\n",
       "  Text(5, 0, ' Other-relative')])"
      ]
     },
     "execution_count": 20,
     "metadata": {},
     "output_type": "execute_result"
    },
    {
     "data": {
      "image/png": "[encoded data removed]",
      "text/plain": [
       "<Figure size 432x288 with 1 Axes>"
      ]
     },
     "metadata": {
      "needs_background": "light"
     },
     "output_type": "display_data"
    }
   ],
   "source": [
    "sns.countplot(x=df['Relationship'], hue=df['Income'], palette='crest')\n",
    "plt.xticks(rotation=90)"
   ]
  },
  {
   "cell_type": "markdown",
   "id": "3130be07",
   "metadata": {},
   "source": [
    "around 40% men who are hsubands earn over 50K and around 48% women who are wives earn over 50k. "
   ]
  },
  {
   "cell_type": "markdown",
   "id": "1ea76bf2",
   "metadata": {},
   "source": [
    "# Feature engineering"
   ]
  },
  {
   "cell_type": "markdown",
   "id": "c314f4e5",
   "metadata": {},
   "source": [
    "# Imputing null values"
   ]
  },
  {
   "cell_type": "code",
   "execution_count": 21,
   "id": "455e4812",
   "metadata": {},
   "outputs": [
    {
     "data": {
      "text/plain": [
       "Age                  0\n",
       "Workclass         1836\n",
       "Fnlwgt               0\n",
       "Education            0\n",
       "Education_num        0\n",
       "Marital_status       0\n",
       "Occupation        1843\n",
       "Relationship         0\n",
       "Race                 0\n",
       "Sex                  0\n",
       "Capital_gain         0\n",
       "Capital_loss         0\n",
       "Hours_per_week       0\n",
       "Native_country     583\n",
       "Income               0\n",
       "age_group            0\n",
       "dtype: int64"
      ]
     },
     "execution_count": 21,
     "metadata": {},
     "output_type": "execute_result"
    }
   ],
   "source": [
    "df.isnull().sum()"
   ]
  },
  {
   "cell_type": "code",
   "execution_count": 5,
   "id": "c7a7c7a4",
   "metadata": {},
   "outputs": [],
   "source": [
    "imp = SimpleImputer(strategy='most_frequent')"
   ]
  },
  {
   "cell_type": "markdown",
   "id": "df3fafae",
   "metadata": {},
   "source": [
    "Replacing null values with the most frequently occurring values"
   ]
  },
  {
   "cell_type": "code",
   "execution_count": 6,
   "id": "72e6f5d6",
   "metadata": {},
   "outputs": [],
   "source": [
    "df['Workclass'] = imp.fit_transform(df['Workclass'].values.reshape(-1,1))\n",
    "df['Occupation'] = imp.fit_transform(df['Occupation'].values.reshape(-1,1))\n",
    "df['Native_country'] = imp.fit_transform(df['Native_country'].values.reshape(-1,1))"
   ]
  },
  {
   "cell_type": "code",
   "execution_count": 7,
   "id": "7d3c08a9",
   "metadata": {},
   "outputs": [
    {
     "data": {
      "text/plain": [
       "Age               0\n",
       "Workclass         0\n",
       "Fnlwgt            0\n",
       "Education         0\n",
       "Education_num     0\n",
       "Marital_status    0\n",
       "Occupation        0\n",
       "Relationship      0\n",
       "Race              0\n",
       "Sex               0\n",
       "Capital_gain      0\n",
       "Capital_loss      0\n",
       "Hours_per_week    0\n",
       "Native_country    0\n",
       "Income            0\n",
       "age_group         0\n",
       "dtype: int64"
      ]
     },
     "execution_count": 7,
     "metadata": {},
     "output_type": "execute_result"
    }
   ],
   "source": [
    "df.isnull().sum()"
   ]
  },
  {
   "cell_type": "code",
   "execution_count": 28,
   "id": "683e418b",
   "metadata": {},
   "outputs": [
    {
     "data": {
      "text/plain": [
       "<AxesSubplot:>"
      ]
     },
     "execution_count": 28,
     "metadata": {},
     "output_type": "execute_result"
    },
    {
     "data": {
      "image/png": "[encoded data removed]",
      "text/plain": [
       "<Figure size 432x288 with 2 Axes>"
      ]
     },
     "metadata": {
      "needs_background": "light"
     },
     "output_type": "display_data"
    }
   ],
   "source": [
    "sns.heatmap(df.isnull())"
   ]
  },
  {
   "cell_type": "markdown",
   "id": "b578a9f7",
   "metadata": {},
   "source": [
    "There are no more null values."
   ]
  },
  {
   "cell_type": "markdown",
   "id": "670f722e",
   "metadata": {},
   "source": [
    "# Skewness"
   ]
  },
  {
   "cell_type": "code",
   "execution_count": 8,
   "id": "c487f271",
   "metadata": {},
   "outputs": [
    {
     "data": {
      "text/plain": [
       "Age                0.558738\n",
       "Fnlwgt             1.446972\n",
       "Education_num     -0.311630\n",
       "Capital_gain      11.953690\n",
       "Capital_loss       4.594549\n",
       "Hours_per_week     0.227636\n",
       "dtype: float64"
      ]
     },
     "execution_count": 8,
     "metadata": {},
     "output_type": "execute_result"
    }
   ],
   "source": [
    "df.skew()"
   ]
  },
  {
   "cell_type": "markdown",
   "id": "404f4e64",
   "metadata": {},
   "source": [
    "There is high skewness in fnlwgt, capital gain and capital loss. We will remove it."
   ]
  },
  {
   "cell_type": "code",
   "execution_count": 9,
   "id": "97aa9636",
   "metadata": {},
   "outputs": [],
   "source": [
    "df['Fnlwgt'] = np.sqrt(df['Fnlwgt'])\n",
    "df['Capital_gain'] = np.sqrt(df['Capital_gain'])\n",
    "df['Capital_loss'] = np.sqrt(df['Capital_loss'])"
   ]
  },
  {
   "cell_type": "code",
   "execution_count": 10,
   "id": "89853559",
   "metadata": {},
   "outputs": [
    {
     "data": {
      "text/plain": [
       "Age               0.558738\n",
       "Fnlwgt            0.189066\n",
       "Education_num    -0.311630\n",
       "Capital_gain      5.894949\n",
       "Capital_loss      4.376279\n",
       "Hours_per_week    0.227636\n",
       "dtype: float64"
      ]
     },
     "execution_count": 10,
     "metadata": {},
     "output_type": "execute_result"
    }
   ],
   "source": [
    "df.skew()"
   ]
  },
  {
   "cell_type": "code",
   "execution_count": 11,
   "id": "30a6609c",
   "metadata": {},
   "outputs": [],
   "source": [
    "df['Capital_gain'] = np.sqrt(df['Capital_gain'])\n",
    "df['Capital_loss'] = np.sqrt(df['Capital_loss'])"
   ]
  },
  {
   "cell_type": "code",
   "execution_count": 12,
   "id": "80c6bea0",
   "metadata": {},
   "outputs": [
    {
     "data": {
      "text/plain": [
       "Age               0.558738\n",
       "Fnlwgt            0.189066\n",
       "Education_num    -0.311630\n",
       "Capital_gain      3.556495\n",
       "Capital_loss      4.322084\n",
       "Hours_per_week    0.227636\n",
       "dtype: float64"
      ]
     },
     "execution_count": 12,
     "metadata": {},
     "output_type": "execute_result"
    }
   ],
   "source": [
    "df.skew()"
   ]
  },
  {
   "cell_type": "markdown",
   "id": "dabc0f3e",
   "metadata": {},
   "source": [
    "We can see that due to the presence of high values which are being outliers, we cannot remove skewness any further."
   ]
  },
  {
   "cell_type": "markdown",
   "id": "2d0ec979",
   "metadata": {},
   "source": [
    "# Dropping unnecessary columns"
   ]
  },
  {
   "cell_type": "markdown",
   "id": "2770519c",
   "metadata": {},
   "source": [
    "We know now that education_num is an numerical encoded column for education column, where the higher the number, the higher the education level. So, we can drop Education column. We can also drop Relationship column as we already have Marital_status.\n",
    "We will also drop the age_group column we created for better visualisation."
   ]
  },
  {
   "cell_type": "code",
   "execution_count": 14,
   "id": "6f0543bc",
   "metadata": {},
   "outputs": [],
   "source": [
    "df.drop(['Education', 'Relationship', 'age_group'], axis=1, inplace=True)"
   ]
  },
  {
   "cell_type": "code",
   "execution_count": 15,
   "id": "1f1a53f3",
   "metadata": {},
   "outputs": [
    {
     "data": {
      "text/html": [
       "<div>\n",
       "<style scoped>\n",
       "    .dataframe tbody tr th:only-of-type {\n",
       "        vertical-align: middle;\n",
       "    }\n",
       "\n",
       "    .dataframe tbody tr th {\n",
       "        vertical-align: top;\n",
       "    }\n",
       "\n",
       "    .dataframe thead th {\n",
       "        text-align: right;\n",
       "    }\n",
       "</style>\n",
       "<table border=\"1\" class=\"dataframe\">\n",
       "  <thead>\n",
       "    <tr style=\"text-align: right;\">\n",
       "      <th></th>\n",
       "      <th>Age</th>\n",
       "      <th>Workclass</th>\n",
       "      <th>Fnlwgt</th>\n",
       "      <th>Education_num</th>\n",
       "      <th>Marital_status</th>\n",
       "      <th>Occupation</th>\n",
       "      <th>Race</th>\n",
       "      <th>Sex</th>\n",
       "      <th>Capital_gain</th>\n",
       "      <th>Capital_loss</th>\n",
       "      <th>Hours_per_week</th>\n",
       "      <th>Native_country</th>\n",
       "      <th>Income</th>\n",
       "    </tr>\n",
       "  </thead>\n",
       "  <tbody>\n",
       "    <tr>\n",
       "      <th>0</th>\n",
       "      <td>50</td>\n",
       "      <td>Self-emp-not-inc</td>\n",
       "      <td>288.636450</td>\n",
       "      <td>13</td>\n",
       "      <td>Married-civ-spouse</td>\n",
       "      <td>Exec-managerial</td>\n",
       "      <td>White</td>\n",
       "      <td>Male</td>\n",
       "      <td>0.0</td>\n",
       "      <td>0.0</td>\n",
       "      <td>13</td>\n",
       "      <td>United-States</td>\n",
       "      <td>&lt;=50K</td>\n",
       "    </tr>\n",
       "    <tr>\n",
       "      <th>1</th>\n",
       "      <td>38</td>\n",
       "      <td>Private</td>\n",
       "      <td>464.377002</td>\n",
       "      <td>9</td>\n",
       "      <td>Divorced</td>\n",
       "      <td>Handlers-cleaners</td>\n",
       "      <td>White</td>\n",
       "      <td>Male</td>\n",
       "      <td>0.0</td>\n",
       "      <td>0.0</td>\n",
       "      <td>40</td>\n",
       "      <td>United-States</td>\n",
       "      <td>&lt;=50K</td>\n",
       "    </tr>\n",
       "    <tr>\n",
       "      <th>2</th>\n",
       "      <td>53</td>\n",
       "      <td>Private</td>\n",
       "      <td>484.480134</td>\n",
       "      <td>7</td>\n",
       "      <td>Married-civ-spouse</td>\n",
       "      <td>Handlers-cleaners</td>\n",
       "      <td>Black</td>\n",
       "      <td>Male</td>\n",
       "      <td>0.0</td>\n",
       "      <td>0.0</td>\n",
       "      <td>40</td>\n",
       "      <td>United-States</td>\n",
       "      <td>&lt;=50K</td>\n",
       "    </tr>\n",
       "    <tr>\n",
       "      <th>3</th>\n",
       "      <td>28</td>\n",
       "      <td>Private</td>\n",
       "      <td>581.729318</td>\n",
       "      <td>13</td>\n",
       "      <td>Married-civ-spouse</td>\n",
       "      <td>Prof-specialty</td>\n",
       "      <td>Black</td>\n",
       "      <td>Female</td>\n",
       "      <td>0.0</td>\n",
       "      <td>0.0</td>\n",
       "      <td>40</td>\n",
       "      <td>Cuba</td>\n",
       "      <td>&lt;=50K</td>\n",
       "    </tr>\n",
       "    <tr>\n",
       "      <th>4</th>\n",
       "      <td>37</td>\n",
       "      <td>Private</td>\n",
       "      <td>533.462276</td>\n",
       "      <td>14</td>\n",
       "      <td>Married-civ-spouse</td>\n",
       "      <td>Exec-managerial</td>\n",
       "      <td>White</td>\n",
       "      <td>Female</td>\n",
       "      <td>0.0</td>\n",
       "      <td>0.0</td>\n",
       "      <td>40</td>\n",
       "      <td>United-States</td>\n",
       "      <td>&lt;=50K</td>\n",
       "    </tr>\n",
       "  </tbody>\n",
       "</table>\n",
       "</div>"
      ],
      "text/plain": [
       "   Age          Workclass      Fnlwgt  Education_num       Marital_status  \\\n",
       "0   50   Self-emp-not-inc  288.636450             13   Married-civ-spouse   \n",
       "1   38            Private  464.377002              9             Divorced   \n",
       "2   53            Private  484.480134              7   Married-civ-spouse   \n",
       "3   28            Private  581.729318             13   Married-civ-spouse   \n",
       "4   37            Private  533.462276             14   Married-civ-spouse   \n",
       "\n",
       "           Occupation    Race      Sex  Capital_gain  Capital_loss  \\\n",
       "0     Exec-managerial   White     Male           0.0           0.0   \n",
       "1   Handlers-cleaners   White     Male           0.0           0.0   \n",
       "2   Handlers-cleaners   Black     Male           0.0           0.0   \n",
       "3      Prof-specialty   Black   Female           0.0           0.0   \n",
       "4     Exec-managerial   White   Female           0.0           0.0   \n",
       "\n",
       "   Hours_per_week  Native_country  Income  \n",
       "0              13   United-States   <=50K  \n",
       "1              40   United-States   <=50K  \n",
       "2              40   United-States   <=50K  \n",
       "3              40            Cuba   <=50K  \n",
       "4              40   United-States   <=50K  "
      ]
     },
     "execution_count": 15,
     "metadata": {},
     "output_type": "execute_result"
    }
   ],
   "source": [
    "df.head()"
   ]
  },
  {
   "cell_type": "markdown",
   "id": "4c30004a",
   "metadata": {},
   "source": [
    "# Encoding object type columns"
   ]
  },
  {
   "cell_type": "code",
   "execution_count": 16,
   "id": "19980eaa",
   "metadata": {},
   "outputs": [
    {
     "data": {
      "text/plain": [
       "Age                 int64\n",
       "Workclass          object\n",
       "Fnlwgt            float64\n",
       "Education_num       int64\n",
       "Marital_status     object\n",
       "Occupation         object\n",
       "Race               object\n",
       "Sex                object\n",
       "Capital_gain      float64\n",
       "Capital_loss      float64\n",
       "Hours_per_week      int64\n",
       "Native_country     object\n",
       "Income             object\n",
       "dtype: object"
      ]
     },
     "execution_count": 16,
     "metadata": {},
     "output_type": "execute_result"
    }
   ],
   "source": [
    "df.dtypes"
   ]
  },
  {
   "cell_type": "code",
   "execution_count": 17,
   "id": "70ff8504",
   "metadata": {},
   "outputs": [],
   "source": [
    "le = LabelEncoder()\n",
    "list1 = ['Workclass', 'Marital_status', 'Occupation', 'Race', 'Sex', 'Native_country', 'Income']\n",
    "for i in list1:\n",
    "    df[i] = le.fit_transform(df[i].astype(str))"
   ]
  },
  {
   "cell_type": "code",
   "execution_count": 18,
   "id": "6f8421ce",
   "metadata": {},
   "outputs": [
    {
     "data": {
      "text/html": [
       "<div>\n",
       "<style scoped>\n",
       "    .dataframe tbody tr th:only-of-type {\n",
       "        vertical-align: middle;\n",
       "    }\n",
       "\n",
       "    .dataframe tbody tr th {\n",
       "        vertical-align: top;\n",
       "    }\n",
       "\n",
       "    .dataframe thead th {\n",
       "        text-align: right;\n",
       "    }\n",
       "</style>\n",
       "<table border=\"1\" class=\"dataframe\">\n",
       "  <thead>\n",
       "    <tr style=\"text-align: right;\">\n",
       "      <th></th>\n",
       "      <th>Age</th>\n",
       "      <th>Workclass</th>\n",
       "      <th>Fnlwgt</th>\n",
       "      <th>Education_num</th>\n",
       "      <th>Marital_status</th>\n",
       "      <th>Occupation</th>\n",
       "      <th>Race</th>\n",
       "      <th>Sex</th>\n",
       "      <th>Capital_gain</th>\n",
       "      <th>Capital_loss</th>\n",
       "      <th>Hours_per_week</th>\n",
       "      <th>Native_country</th>\n",
       "      <th>Income</th>\n",
       "    </tr>\n",
       "  </thead>\n",
       "  <tbody>\n",
       "    <tr>\n",
       "      <th>0</th>\n",
       "      <td>50</td>\n",
       "      <td>5</td>\n",
       "      <td>288.636450</td>\n",
       "      <td>13</td>\n",
       "      <td>2</td>\n",
       "      <td>3</td>\n",
       "      <td>4</td>\n",
       "      <td>1</td>\n",
       "      <td>0.0</td>\n",
       "      <td>0.0</td>\n",
       "      <td>13</td>\n",
       "      <td>38</td>\n",
       "      <td>0</td>\n",
       "    </tr>\n",
       "    <tr>\n",
       "      <th>1</th>\n",
       "      <td>38</td>\n",
       "      <td>3</td>\n",
       "      <td>464.377002</td>\n",
       "      <td>9</td>\n",
       "      <td>0</td>\n",
       "      <td>5</td>\n",
       "      <td>4</td>\n",
       "      <td>1</td>\n",
       "      <td>0.0</td>\n",
       "      <td>0.0</td>\n",
       "      <td>40</td>\n",
       "      <td>38</td>\n",
       "      <td>0</td>\n",
       "    </tr>\n",
       "    <tr>\n",
       "      <th>2</th>\n",
       "      <td>53</td>\n",
       "      <td>3</td>\n",
       "      <td>484.480134</td>\n",
       "      <td>7</td>\n",
       "      <td>2</td>\n",
       "      <td>5</td>\n",
       "      <td>2</td>\n",
       "      <td>1</td>\n",
       "      <td>0.0</td>\n",
       "      <td>0.0</td>\n",
       "      <td>40</td>\n",
       "      <td>38</td>\n",
       "      <td>0</td>\n",
       "    </tr>\n",
       "    <tr>\n",
       "      <th>3</th>\n",
       "      <td>28</td>\n",
       "      <td>3</td>\n",
       "      <td>581.729318</td>\n",
       "      <td>13</td>\n",
       "      <td>2</td>\n",
       "      <td>9</td>\n",
       "      <td>2</td>\n",
       "      <td>0</td>\n",
       "      <td>0.0</td>\n",
       "      <td>0.0</td>\n",
       "      <td>40</td>\n",
       "      <td>4</td>\n",
       "      <td>0</td>\n",
       "    </tr>\n",
       "    <tr>\n",
       "      <th>4</th>\n",
       "      <td>37</td>\n",
       "      <td>3</td>\n",
       "      <td>533.462276</td>\n",
       "      <td>14</td>\n",
       "      <td>2</td>\n",
       "      <td>3</td>\n",
       "      <td>4</td>\n",
       "      <td>0</td>\n",
       "      <td>0.0</td>\n",
       "      <td>0.0</td>\n",
       "      <td>40</td>\n",
       "      <td>38</td>\n",
       "      <td>0</td>\n",
       "    </tr>\n",
       "  </tbody>\n",
       "</table>\n",
       "</div>"
      ],
      "text/plain": [
       "   Age  Workclass      Fnlwgt  Education_num  Marital_status  Occupation  \\\n",
       "0   50          5  288.636450             13               2           3   \n",
       "1   38          3  464.377002              9               0           5   \n",
       "2   53          3  484.480134              7               2           5   \n",
       "3   28          3  581.729318             13               2           9   \n",
       "4   37          3  533.462276             14               2           3   \n",
       "\n",
       "   Race  Sex  Capital_gain  Capital_loss  Hours_per_week  Native_country  \\\n",
       "0     4    1           0.0           0.0              13              38   \n",
       "1     4    1           0.0           0.0              40              38   \n",
       "2     2    1           0.0           0.0              40              38   \n",
       "3     2    0           0.0           0.0              40               4   \n",
       "4     4    0           0.0           0.0              40              38   \n",
       "\n",
       "   Income  \n",
       "0       0  \n",
       "1       0  \n",
       "2       0  \n",
       "3       0  \n",
       "4       0  "
      ]
     },
     "execution_count": 18,
     "metadata": {},
     "output_type": "execute_result"
    }
   ],
   "source": [
    "df.head()"
   ]
  },
  {
   "cell_type": "markdown",
   "id": "13c1b56a",
   "metadata": {},
   "source": [
    "All columns are now float or integer type."
   ]
  },
  {
   "cell_type": "markdown",
   "id": "4c1e0fe9",
   "metadata": {},
   "source": [
    "# SMOTE"
   ]
  },
  {
   "cell_type": "code",
   "execution_count": 29,
   "id": "db4a9a0a",
   "metadata": {},
   "outputs": [
    {
     "data": {
      "text/plain": [
       "<AxesSubplot:xlabel='Income', ylabel='count'>"
      ]
     },
     "execution_count": 29,
     "metadata": {},
     "output_type": "execute_result"
    },
    {
     "data": {
      "image/png": "[encoded data removed]",
      "text/plain": [
       "<Figure size 432x288 with 1 Axes>"
      ]
     },
     "metadata": {
      "needs_background": "light"
     },
     "output_type": "display_data"
    }
   ],
   "source": [
    "sns.countplot(df['Income'])"
   ]
  },
  {
   "cell_type": "markdown",
   "id": "c0a3b6d4",
   "metadata": {},
   "source": [
    "We can see that there is high discrepancy here, and there are many more people earning less than 50k. So to ensure effective learning of the machine learning models, we will use SMOTE"
   ]
  },
  {
   "cell_type": "markdown",
   "id": "b8e9766c",
   "metadata": {},
   "source": [
    "### Splitting data for applying smote"
   ]
  },
  {
   "cell_type": "code",
   "execution_count": 19,
   "id": "6c4bd956",
   "metadata": {},
   "outputs": [],
   "source": [
    "xi = df.iloc[:,0:-1]"
   ]
  },
  {
   "cell_type": "code",
   "execution_count": 20,
   "id": "69b71e81",
   "metadata": {},
   "outputs": [
    {
     "data": {
      "text/plain": [
       "0    24719\n",
       "1     7841\n",
       "Name: Income, dtype: int64"
      ]
     },
     "execution_count": 20,
     "metadata": {},
     "output_type": "execute_result"
    }
   ],
   "source": [
    "yi = df.iloc[:,-1]\n",
    "yi.value_counts()"
   ]
  },
  {
   "cell_type": "code",
   "execution_count": 23,
   "id": "5d37f13b",
   "metadata": {},
   "outputs": [],
   "source": [
    "smt = SMOTE()\n",
    "x,y = smt.fit_resample(xi,yi)"
   ]
  },
  {
   "cell_type": "code",
   "execution_count": 24,
   "id": "366d2cca",
   "metadata": {},
   "outputs": [
    {
     "data": {
      "text/plain": [
       "0    24719\n",
       "1    24719\n",
       "Name: Income, dtype: int64"
      ]
     },
     "execution_count": 24,
     "metadata": {},
     "output_type": "execute_result"
    }
   ],
   "source": [
    "y.value_counts()"
   ]
  },
  {
   "cell_type": "markdown",
   "id": "e722f2ac",
   "metadata": {},
   "source": [
    "Now we have an equal amount of people with less than and more than 50k income, so the model can learn without bias."
   ]
  },
  {
   "cell_type": "code",
   "execution_count": 25,
   "id": "e7f0dbfa",
   "metadata": {},
   "outputs": [],
   "source": [
    "df = x\n",
    "df['Income'] = y"
   ]
  },
  {
   "cell_type": "code",
   "execution_count": 26,
   "id": "c8a780d8",
   "metadata": {},
   "outputs": [
    {
     "data": {
      "text/html": [
       "<div>\n",
       "<style scoped>\n",
       "    .dataframe tbody tr th:only-of-type {\n",
       "        vertical-align: middle;\n",
       "    }\n",
       "\n",
       "    .dataframe tbody tr th {\n",
       "        vertical-align: top;\n",
       "    }\n",
       "\n",
       "    .dataframe thead th {\n",
       "        text-align: right;\n",
       "    }\n",
       "</style>\n",
       "<table border=\"1\" class=\"dataframe\">\n",
       "  <thead>\n",
       "    <tr style=\"text-align: right;\">\n",
       "      <th></th>\n",
       "      <th>Age</th>\n",
       "      <th>Workclass</th>\n",
       "      <th>Fnlwgt</th>\n",
       "      <th>Education_num</th>\n",
       "      <th>Marital_status</th>\n",
       "      <th>Occupation</th>\n",
       "      <th>Race</th>\n",
       "      <th>Sex</th>\n",
       "      <th>Capital_gain</th>\n",
       "      <th>Capital_loss</th>\n",
       "      <th>Hours_per_week</th>\n",
       "      <th>Native_country</th>\n",
       "      <th>Income</th>\n",
       "    </tr>\n",
       "  </thead>\n",
       "  <tbody>\n",
       "    <tr>\n",
       "      <th>0</th>\n",
       "      <td>50</td>\n",
       "      <td>5</td>\n",
       "      <td>288.636450</td>\n",
       "      <td>13</td>\n",
       "      <td>2</td>\n",
       "      <td>3</td>\n",
       "      <td>4</td>\n",
       "      <td>1</td>\n",
       "      <td>0.000000</td>\n",
       "      <td>0.0</td>\n",
       "      <td>13</td>\n",
       "      <td>38</td>\n",
       "      <td>0</td>\n",
       "    </tr>\n",
       "    <tr>\n",
       "      <th>1</th>\n",
       "      <td>38</td>\n",
       "      <td>3</td>\n",
       "      <td>464.377002</td>\n",
       "      <td>9</td>\n",
       "      <td>0</td>\n",
       "      <td>5</td>\n",
       "      <td>4</td>\n",
       "      <td>1</td>\n",
       "      <td>0.000000</td>\n",
       "      <td>0.0</td>\n",
       "      <td>40</td>\n",
       "      <td>38</td>\n",
       "      <td>0</td>\n",
       "    </tr>\n",
       "    <tr>\n",
       "      <th>2</th>\n",
       "      <td>53</td>\n",
       "      <td>3</td>\n",
       "      <td>484.480134</td>\n",
       "      <td>7</td>\n",
       "      <td>2</td>\n",
       "      <td>5</td>\n",
       "      <td>2</td>\n",
       "      <td>1</td>\n",
       "      <td>0.000000</td>\n",
       "      <td>0.0</td>\n",
       "      <td>40</td>\n",
       "      <td>38</td>\n",
       "      <td>0</td>\n",
       "    </tr>\n",
       "    <tr>\n",
       "      <th>3</th>\n",
       "      <td>28</td>\n",
       "      <td>3</td>\n",
       "      <td>581.729318</td>\n",
       "      <td>13</td>\n",
       "      <td>2</td>\n",
       "      <td>9</td>\n",
       "      <td>2</td>\n",
       "      <td>0</td>\n",
       "      <td>0.000000</td>\n",
       "      <td>0.0</td>\n",
       "      <td>40</td>\n",
       "      <td>4</td>\n",
       "      <td>0</td>\n",
       "    </tr>\n",
       "    <tr>\n",
       "      <th>4</th>\n",
       "      <td>37</td>\n",
       "      <td>3</td>\n",
       "      <td>533.462276</td>\n",
       "      <td>14</td>\n",
       "      <td>2</td>\n",
       "      <td>3</td>\n",
       "      <td>4</td>\n",
       "      <td>0</td>\n",
       "      <td>0.000000</td>\n",
       "      <td>0.0</td>\n",
       "      <td>40</td>\n",
       "      <td>38</td>\n",
       "      <td>0</td>\n",
       "    </tr>\n",
       "    <tr>\n",
       "      <th>...</th>\n",
       "      <td>...</td>\n",
       "      <td>...</td>\n",
       "      <td>...</td>\n",
       "      <td>...</td>\n",
       "      <td>...</td>\n",
       "      <td>...</td>\n",
       "      <td>...</td>\n",
       "      <td>...</td>\n",
       "      <td>...</td>\n",
       "      <td>...</td>\n",
       "      <td>...</td>\n",
       "      <td>...</td>\n",
       "      <td>...</td>\n",
       "    </tr>\n",
       "    <tr>\n",
       "      <th>49433</th>\n",
       "      <td>36</td>\n",
       "      <td>3</td>\n",
       "      <td>307.000629</td>\n",
       "      <td>13</td>\n",
       "      <td>2</td>\n",
       "      <td>7</td>\n",
       "      <td>1</td>\n",
       "      <td>0</td>\n",
       "      <td>9.901309</td>\n",
       "      <td>0.0</td>\n",
       "      <td>21</td>\n",
       "      <td>38</td>\n",
       "      <td>1</td>\n",
       "    </tr>\n",
       "    <tr>\n",
       "      <th>49434</th>\n",
       "      <td>51</td>\n",
       "      <td>3</td>\n",
       "      <td>403.800372</td>\n",
       "      <td>9</td>\n",
       "      <td>2</td>\n",
       "      <td>10</td>\n",
       "      <td>4</td>\n",
       "      <td>1</td>\n",
       "      <td>0.000000</td>\n",
       "      <td>0.0</td>\n",
       "      <td>40</td>\n",
       "      <td>38</td>\n",
       "      <td>1</td>\n",
       "    </tr>\n",
       "    <tr>\n",
       "      <th>49435</th>\n",
       "      <td>51</td>\n",
       "      <td>3</td>\n",
       "      <td>403.757882</td>\n",
       "      <td>9</td>\n",
       "      <td>1</td>\n",
       "      <td>2</td>\n",
       "      <td>4</td>\n",
       "      <td>1</td>\n",
       "      <td>9.654341</td>\n",
       "      <td>0.0</td>\n",
       "      <td>50</td>\n",
       "      <td>38</td>\n",
       "      <td>1</td>\n",
       "    </tr>\n",
       "    <tr>\n",
       "      <th>49436</th>\n",
       "      <td>58</td>\n",
       "      <td>3</td>\n",
       "      <td>334.183836</td>\n",
       "      <td>14</td>\n",
       "      <td>2</td>\n",
       "      <td>9</td>\n",
       "      <td>4</td>\n",
       "      <td>1</td>\n",
       "      <td>0.000000</td>\n",
       "      <td>0.0</td>\n",
       "      <td>40</td>\n",
       "      <td>38</td>\n",
       "      <td>1</td>\n",
       "    </tr>\n",
       "    <tr>\n",
       "      <th>49437</th>\n",
       "      <td>34</td>\n",
       "      <td>5</td>\n",
       "      <td>170.932090</td>\n",
       "      <td>10</td>\n",
       "      <td>2</td>\n",
       "      <td>2</td>\n",
       "      <td>4</td>\n",
       "      <td>1</td>\n",
       "      <td>0.000000</td>\n",
       "      <td>0.0</td>\n",
       "      <td>53</td>\n",
       "      <td>38</td>\n",
       "      <td>1</td>\n",
       "    </tr>\n",
       "  </tbody>\n",
       "</table>\n",
       "<p>49438 rows × 13 columns</p>\n",
       "</div>"
      ],
      "text/plain": [
       "       Age  Workclass      Fnlwgt  Education_num  Marital_status  Occupation  \\\n",
       "0       50          5  288.636450             13               2           3   \n",
       "1       38          3  464.377002              9               0           5   \n",
       "2       53          3  484.480134              7               2           5   \n",
       "3       28          3  581.729318             13               2           9   \n",
       "4       37          3  533.462276             14               2           3   \n",
       "...    ...        ...         ...            ...             ...         ...   \n",
       "49433   36          3  307.000629             13               2           7   \n",
       "49434   51          3  403.800372              9               2          10   \n",
       "49435   51          3  403.757882              9               1           2   \n",
       "49436   58          3  334.183836             14               2           9   \n",
       "49437   34          5  170.932090             10               2           2   \n",
       "\n",
       "       Race  Sex  Capital_gain  Capital_loss  Hours_per_week  Native_country  \\\n",
       "0         4    1      0.000000           0.0              13              38   \n",
       "1         4    1      0.000000           0.0              40              38   \n",
       "2         2    1      0.000000           0.0              40              38   \n",
       "3         2    0      0.000000           0.0              40               4   \n",
       "4         4    0      0.000000           0.0              40              38   \n",
       "...     ...  ...           ...           ...             ...             ...   \n",
       "49433     1    0      9.901309           0.0              21              38   \n",
       "49434     4    1      0.000000           0.0              40              38   \n",
       "49435     4    1      9.654341           0.0              50              38   \n",
       "49436     4    1      0.000000           0.0              40              38   \n",
       "49437     4    1      0.000000           0.0              53              38   \n",
       "\n",
       "       Income  \n",
       "0           0  \n",
       "1           0  \n",
       "2           0  \n",
       "3           0  \n",
       "4           0  \n",
       "...       ...  \n",
       "49433       1  \n",
       "49434       1  \n",
       "49435       1  \n",
       "49436       1  \n",
       "49437       1  \n",
       "\n",
       "[49438 rows x 13 columns]"
      ]
     },
     "execution_count": 26,
     "metadata": {},
     "output_type": "execute_result"
    }
   ],
   "source": [
    "df"
   ]
  },
  {
   "cell_type": "markdown",
   "id": "912bb6fc",
   "metadata": {},
   "source": [
    "# Checking multicollinearity with variance inflation factor"
   ]
  },
  {
   "cell_type": "code",
   "execution_count": 27,
   "id": "ecc2359e",
   "metadata": {},
   "outputs": [],
   "source": [
    "def vif_calc():\n",
    "    vif = pd.DataFrame()\n",
    "    vif['variables'] = df[0:-1].columns\n",
    "    vif['VIF FACTOR'] = [variance_inflation_factor(df[0:-1].values,i) for i in range(df[0:-1].shape[1])]\n",
    "    return vif"
   ]
  },
  {
   "cell_type": "code",
   "execution_count": 29,
   "id": "fa7cfb45",
   "metadata": {},
   "outputs": [
    {
     "data": {
      "text/html": [
       "<div>\n",
       "<style scoped>\n",
       "    .dataframe tbody tr th:only-of-type {\n",
       "        vertical-align: middle;\n",
       "    }\n",
       "\n",
       "    .dataframe tbody tr th {\n",
       "        vertical-align: top;\n",
       "    }\n",
       "\n",
       "    .dataframe thead th {\n",
       "        text-align: right;\n",
       "    }\n",
       "</style>\n",
       "<table border=\"1\" class=\"dataframe\">\n",
       "  <thead>\n",
       "    <tr style=\"text-align: right;\">\n",
       "      <th></th>\n",
       "      <th>variables</th>\n",
       "      <th>VIF FACTOR</th>\n",
       "    </tr>\n",
       "  </thead>\n",
       "  <tbody>\n",
       "    <tr>\n",
       "      <th>0</th>\n",
       "      <td>Age</td>\n",
       "      <td>11.060278</td>\n",
       "    </tr>\n",
       "    <tr>\n",
       "      <th>1</th>\n",
       "      <td>Workclass</td>\n",
       "      <td>8.431865</td>\n",
       "    </tr>\n",
       "    <tr>\n",
       "      <th>2</th>\n",
       "      <td>Fnlwgt</td>\n",
       "      <td>11.648106</td>\n",
       "    </tr>\n",
       "    <tr>\n",
       "      <th>3</th>\n",
       "      <td>Education_num</td>\n",
       "      <td>20.278794</td>\n",
       "    </tr>\n",
       "    <tr>\n",
       "      <th>4</th>\n",
       "      <td>Marital_status</td>\n",
       "      <td>4.497548</td>\n",
       "    </tr>\n",
       "    <tr>\n",
       "      <th>5</th>\n",
       "      <td>Occupation</td>\n",
       "      <td>3.515668</td>\n",
       "    </tr>\n",
       "    <tr>\n",
       "      <th>6</th>\n",
       "      <td>Race</td>\n",
       "      <td>20.794178</td>\n",
       "    </tr>\n",
       "    <tr>\n",
       "      <th>7</th>\n",
       "      <td>Sex</td>\n",
       "      <td>3.666984</td>\n",
       "    </tr>\n",
       "    <tr>\n",
       "      <th>8</th>\n",
       "      <td>Capital_gain</td>\n",
       "      <td>1.266180</td>\n",
       "    </tr>\n",
       "    <tr>\n",
       "      <th>9</th>\n",
       "      <td>Capital_loss</td>\n",
       "      <td>1.103596</td>\n",
       "    </tr>\n",
       "    <tr>\n",
       "      <th>10</th>\n",
       "      <td>Hours_per_week</td>\n",
       "      <td>14.075297</td>\n",
       "    </tr>\n",
       "    <tr>\n",
       "      <th>11</th>\n",
       "      <td>Native_country</td>\n",
       "      <td>30.431374</td>\n",
       "    </tr>\n",
       "    <tr>\n",
       "      <th>12</th>\n",
       "      <td>Income</td>\n",
       "      <td>2.918748</td>\n",
       "    </tr>\n",
       "  </tbody>\n",
       "</table>\n",
       "</div>"
      ],
      "text/plain": [
       "         variables  VIF FACTOR\n",
       "0              Age   11.060278\n",
       "1        Workclass    8.431865\n",
       "2           Fnlwgt   11.648106\n",
       "3    Education_num   20.278794\n",
       "4   Marital_status    4.497548\n",
       "5       Occupation    3.515668\n",
       "6             Race   20.794178\n",
       "7              Sex    3.666984\n",
       "8     Capital_gain    1.266180\n",
       "9     Capital_loss    1.103596\n",
       "10  Hours_per_week   14.075297\n",
       "11  Native_country   30.431374\n",
       "12          Income    2.918748"
      ]
     },
     "execution_count": 29,
     "metadata": {},
     "output_type": "execute_result"
    }
   ],
   "source": [
    "vif_calc()"
   ]
  },
  {
   "cell_type": "code",
   "execution_count": 30,
   "id": "87e63808",
   "metadata": {},
   "outputs": [
    {
     "data": {
      "text/plain": [
       "<AxesSubplot:>"
      ]
     },
     "execution_count": 30,
     "metadata": {},
     "output_type": "execute_result"
    },
    {
     "data": {
      "image/png": "[encoded data removed]",
      "text/plain": [
       "<Figure size 720x720 with 2 Axes>"
      ]
     },
     "metadata": {
      "needs_background": "light"
     },
     "output_type": "display_data"
    }
   ],
   "source": [
    "plt.figure(figsize=(10,10))\n",
    "sns.heatmap(df.corr(), annot=True)"
   ]
  },
  {
   "cell_type": "markdown",
   "id": "9468dbc3",
   "metadata": {},
   "source": [
    "We can see there is very low multicollinearity in the data."
   ]
  },
  {
   "cell_type": "markdown",
   "id": "2c4add37",
   "metadata": {},
   "source": [
    "# Splitting data for training and testing"
   ]
  },
  {
   "cell_type": "code",
   "execution_count": 31,
   "id": "7aae673e",
   "metadata": {},
   "outputs": [
    {
     "data": {
      "text/html": [
       "<div>\n",
       "<style scoped>\n",
       "    .dataframe tbody tr th:only-of-type {\n",
       "        vertical-align: middle;\n",
       "    }\n",
       "\n",
       "    .dataframe tbody tr th {\n",
       "        vertical-align: top;\n",
       "    }\n",
       "\n",
       "    .dataframe thead th {\n",
       "        text-align: right;\n",
       "    }\n",
       "</style>\n",
       "<table border=\"1\" class=\"dataframe\">\n",
       "  <thead>\n",
       "    <tr style=\"text-align: right;\">\n",
       "      <th></th>\n",
       "      <th>Age</th>\n",
       "      <th>Workclass</th>\n",
       "      <th>Fnlwgt</th>\n",
       "      <th>Education_num</th>\n",
       "      <th>Marital_status</th>\n",
       "      <th>Occupation</th>\n",
       "      <th>Race</th>\n",
       "      <th>Sex</th>\n",
       "      <th>Capital_gain</th>\n",
       "      <th>Capital_loss</th>\n",
       "      <th>Hours_per_week</th>\n",
       "      <th>Native_country</th>\n",
       "    </tr>\n",
       "  </thead>\n",
       "  <tbody>\n",
       "    <tr>\n",
       "      <th>0</th>\n",
       "      <td>50</td>\n",
       "      <td>5</td>\n",
       "      <td>288.636450</td>\n",
       "      <td>13</td>\n",
       "      <td>2</td>\n",
       "      <td>3</td>\n",
       "      <td>4</td>\n",
       "      <td>1</td>\n",
       "      <td>0.000000</td>\n",
       "      <td>0.0</td>\n",
       "      <td>13</td>\n",
       "      <td>38</td>\n",
       "    </tr>\n",
       "    <tr>\n",
       "      <th>1</th>\n",
       "      <td>38</td>\n",
       "      <td>3</td>\n",
       "      <td>464.377002</td>\n",
       "      <td>9</td>\n",
       "      <td>0</td>\n",
       "      <td>5</td>\n",
       "      <td>4</td>\n",
       "      <td>1</td>\n",
       "      <td>0.000000</td>\n",
       "      <td>0.0</td>\n",
       "      <td>40</td>\n",
       "      <td>38</td>\n",
       "    </tr>\n",
       "    <tr>\n",
       "      <th>2</th>\n",
       "      <td>53</td>\n",
       "      <td>3</td>\n",
       "      <td>484.480134</td>\n",
       "      <td>7</td>\n",
       "      <td>2</td>\n",
       "      <td>5</td>\n",
       "      <td>2</td>\n",
       "      <td>1</td>\n",
       "      <td>0.000000</td>\n",
       "      <td>0.0</td>\n",
       "      <td>40</td>\n",
       "      <td>38</td>\n",
       "    </tr>\n",
       "    <tr>\n",
       "      <th>3</th>\n",
       "      <td>28</td>\n",
       "      <td>3</td>\n",
       "      <td>581.729318</td>\n",
       "      <td>13</td>\n",
       "      <td>2</td>\n",
       "      <td>9</td>\n",
       "      <td>2</td>\n",
       "      <td>0</td>\n",
       "      <td>0.000000</td>\n",
       "      <td>0.0</td>\n",
       "      <td>40</td>\n",
       "      <td>4</td>\n",
       "    </tr>\n",
       "    <tr>\n",
       "      <th>4</th>\n",
       "      <td>37</td>\n",
       "      <td>3</td>\n",
       "      <td>533.462276</td>\n",
       "      <td>14</td>\n",
       "      <td>2</td>\n",
       "      <td>3</td>\n",
       "      <td>4</td>\n",
       "      <td>0</td>\n",
       "      <td>0.000000</td>\n",
       "      <td>0.0</td>\n",
       "      <td>40</td>\n",
       "      <td>38</td>\n",
       "    </tr>\n",
       "    <tr>\n",
       "      <th>...</th>\n",
       "      <td>...</td>\n",
       "      <td>...</td>\n",
       "      <td>...</td>\n",
       "      <td>...</td>\n",
       "      <td>...</td>\n",
       "      <td>...</td>\n",
       "      <td>...</td>\n",
       "      <td>...</td>\n",
       "      <td>...</td>\n",
       "      <td>...</td>\n",
       "      <td>...</td>\n",
       "      <td>...</td>\n",
       "    </tr>\n",
       "    <tr>\n",
       "      <th>49433</th>\n",
       "      <td>36</td>\n",
       "      <td>3</td>\n",
       "      <td>307.000629</td>\n",
       "      <td>13</td>\n",
       "      <td>2</td>\n",
       "      <td>7</td>\n",
       "      <td>1</td>\n",
       "      <td>0</td>\n",
       "      <td>9.901309</td>\n",
       "      <td>0.0</td>\n",
       "      <td>21</td>\n",
       "      <td>38</td>\n",
       "    </tr>\n",
       "    <tr>\n",
       "      <th>49434</th>\n",
       "      <td>51</td>\n",
       "      <td>3</td>\n",
       "      <td>403.800372</td>\n",
       "      <td>9</td>\n",
       "      <td>2</td>\n",
       "      <td>10</td>\n",
       "      <td>4</td>\n",
       "      <td>1</td>\n",
       "      <td>0.000000</td>\n",
       "      <td>0.0</td>\n",
       "      <td>40</td>\n",
       "      <td>38</td>\n",
       "    </tr>\n",
       "    <tr>\n",
       "      <th>49435</th>\n",
       "      <td>51</td>\n",
       "      <td>3</td>\n",
       "      <td>403.757882</td>\n",
       "      <td>9</td>\n",
       "      <td>1</td>\n",
       "      <td>2</td>\n",
       "      <td>4</td>\n",
       "      <td>1</td>\n",
       "      <td>9.654341</td>\n",
       "      <td>0.0</td>\n",
       "      <td>50</td>\n",
       "      <td>38</td>\n",
       "    </tr>\n",
       "    <tr>\n",
       "      <th>49436</th>\n",
       "      <td>58</td>\n",
       "      <td>3</td>\n",
       "      <td>334.183836</td>\n",
       "      <td>14</td>\n",
       "      <td>2</td>\n",
       "      <td>9</td>\n",
       "      <td>4</td>\n",
       "      <td>1</td>\n",
       "      <td>0.000000</td>\n",
       "      <td>0.0</td>\n",
       "      <td>40</td>\n",
       "      <td>38</td>\n",
       "    </tr>\n",
       "    <tr>\n",
       "      <th>49437</th>\n",
       "      <td>34</td>\n",
       "      <td>5</td>\n",
       "      <td>170.932090</td>\n",
       "      <td>10</td>\n",
       "      <td>2</td>\n",
       "      <td>2</td>\n",
       "      <td>4</td>\n",
       "      <td>1</td>\n",
       "      <td>0.000000</td>\n",
       "      <td>0.0</td>\n",
       "      <td>53</td>\n",
       "      <td>38</td>\n",
       "    </tr>\n",
       "  </tbody>\n",
       "</table>\n",
       "<p>49438 rows × 12 columns</p>\n",
       "</div>"
      ],
      "text/plain": [
       "       Age  Workclass      Fnlwgt  Education_num  Marital_status  Occupation  \\\n",
       "0       50          5  288.636450             13               2           3   \n",
       "1       38          3  464.377002              9               0           5   \n",
       "2       53          3  484.480134              7               2           5   \n",
       "3       28          3  581.729318             13               2           9   \n",
       "4       37          3  533.462276             14               2           3   \n",
       "...    ...        ...         ...            ...             ...         ...   \n",
       "49433   36          3  307.000629             13               2           7   \n",
       "49434   51          3  403.800372              9               2          10   \n",
       "49435   51          3  403.757882              9               1           2   \n",
       "49436   58          3  334.183836             14               2           9   \n",
       "49437   34          5  170.932090             10               2           2   \n",
       "\n",
       "       Race  Sex  Capital_gain  Capital_loss  Hours_per_week  Native_country  \n",
       "0         4    1      0.000000           0.0              13              38  \n",
       "1         4    1      0.000000           0.0              40              38  \n",
       "2         2    1      0.000000           0.0              40              38  \n",
       "3         2    0      0.000000           0.0              40               4  \n",
       "4         4    0      0.000000           0.0              40              38  \n",
       "...     ...  ...           ...           ...             ...             ...  \n",
       "49433     1    0      9.901309           0.0              21              38  \n",
       "49434     4    1      0.000000           0.0              40              38  \n",
       "49435     4    1      9.654341           0.0              50              38  \n",
       "49436     4    1      0.000000           0.0              40              38  \n",
       "49437     4    1      0.000000           0.0              53              38  \n",
       "\n",
       "[49438 rows x 12 columns]"
      ]
     },
     "execution_count": 31,
     "metadata": {},
     "output_type": "execute_result"
    }
   ],
   "source": [
    "x = df.iloc[:,0:-1]\n",
    "x"
   ]
  },
  {
   "cell_type": "code",
   "execution_count": 32,
   "id": "c7e52954",
   "metadata": {},
   "outputs": [
    {
     "data": {
      "text/plain": [
       "0        0\n",
       "1        0\n",
       "2        0\n",
       "3        0\n",
       "4        0\n",
       "        ..\n",
       "49433    1\n",
       "49434    1\n",
       "49435    1\n",
       "49436    1\n",
       "49437    1\n",
       "Name: Income, Length: 49438, dtype: int32"
      ]
     },
     "execution_count": 32,
     "metadata": {},
     "output_type": "execute_result"
    }
   ],
   "source": [
    "y = df.iloc[:,-1]\n",
    "y"
   ]
  },
  {
   "cell_type": "markdown",
   "id": "52dcbc67",
   "metadata": {},
   "source": [
    "### Models"
   ]
  },
  {
   "cell_type": "code",
   "execution_count": 33,
   "id": "f9c3f763",
   "metadata": {},
   "outputs": [],
   "source": [
    "lr = LogisticRegression()\n",
    "knn = KNeighborsClassifier()\n",
    "svc = SVC()\n",
    "dtc = DecisionTreeClassifier()\n",
    "rf = RandomForestClassifier()"
   ]
  },
  {
   "cell_type": "code",
   "execution_count": 34,
   "id": "29960063",
   "metadata": {},
   "outputs": [],
   "source": [
    "models = [lr, knn, svc, dtc, rf]"
   ]
  },
  {
   "cell_type": "markdown",
   "id": "859d5617",
   "metadata": {},
   "source": [
    "### Finding best random state"
   ]
  },
  {
   "cell_type": "code",
   "execution_count": 35,
   "id": "f0c6438f",
   "metadata": {},
   "outputs": [
    {
     "name": "stdout",
     "output_type": "stream",
     "text": [
      "At random score 0, accuracy score is 0.7406957928802589\n",
      "At random score 1, accuracy score is 0.7198624595469255\n",
      "At random score 2, accuracy score is 0.7331108414239482\n",
      "At random score 3, accuracy score is 0.7260315533980582\n",
      "At random score 4, accuracy score is 0.7239077669902912\n",
      "At random score 5, accuracy score is 0.7186488673139159\n",
      "At random score 6, accuracy score is 0.7313915857605178\n",
      "At random score 7, accuracy score is 0.7307847896440129\n",
      "At random score 8, accuracy score is 0.7414037216828478\n",
      "At random score 9, accuracy score is 0.7204692556634305\n",
      "At random score 10, accuracy score is 0.7275485436893204\n",
      "At random score 11, accuracy score is 0.7290655339805825\n",
      "At random score 12, accuracy score is 0.7308859223300971\n",
      "At random score 13, accuracy score is 0.7402912621359223\n",
      "At random score 14, accuracy score is 0.7260315533980582\n",
      "At random score 15, accuracy score is 0.7286610032362459\n",
      "At random score 16, accuracy score is 0.7249190938511327\n",
      "At random score 17, accuracy score is 0.7205703883495146\n",
      "At random score 18, accuracy score is 0.7302791262135923\n",
      "At random score 19, accuracy score is 0.7333131067961165\n",
      "At random score 20, accuracy score is 0.727953074433657\n",
      "At random score 21, accuracy score is 0.7212783171521036\n",
      "At random score 22, accuracy score is 0.7227953074433657\n",
      "At random score 23, accuracy score is 0.7278519417475728\n",
      "At random score 24, accuracy score is 0.7264360841423948\n",
      "At random score 25, accuracy score is 0.7268406148867314\n",
      "At random score 26, accuracy score is 0.7328074433656958\n",
      "At random score 27, accuracy score is 0.7312904530744336\n",
      "At random score 28, accuracy score is 0.7223907766990292\n",
      "At random score 29, accuracy score is 0.720165857605178\n",
      "At random score 30, accuracy score is 0.7230987055016181\n",
      "At random score 31, accuracy score is 0.7271440129449838\n",
      "At random score 32, accuracy score is 0.7248179611650486\n",
      "At random score 33, accuracy score is 0.7273462783171522\n",
      "At random score 34, accuracy score is 0.7274474110032363\n",
      "At random score 35, accuracy score is 0.7240088996763754\n",
      "At random score 36, accuracy score is 0.7406957928802589\n",
      "At random score 37, accuracy score is 0.733717637540453\n",
      "At random score 38, accuracy score is 0.7275485436893204\n",
      "At random score 39, accuracy score is 0.7327063106796117\n",
      "At random score 40, accuracy score is 0.7291666666666666\n",
      "At random score 41, accuracy score is 0.7341221682847896\n",
      "At random score 42, accuracy score is 0.7275485436893204\n",
      "At random score 43, accuracy score is 0.7236043689320388\n",
      "At random score 44, accuracy score is 0.7310881877022654\n",
      "At random score 45, accuracy score is 0.7277508090614887\n",
      "At random score 46, accuracy score is 0.7263349514563107\n",
      "At random score 47, accuracy score is 0.7249190938511327\n",
      "At random score 48, accuracy score is 0.7228964401294499\n",
      "At random score 49, accuracy score is 0.7158171521035599\n",
      "At random score 50, accuracy score is 0.7309870550161812\n",
      "At random score 51, accuracy score is 0.73584142394822\n",
      "At random score 52, accuracy score is 0.7411003236245954\n",
      "At random score 53, accuracy score is 0.7286610032362459\n",
      "At random score 54, accuracy score is 0.7271440129449838\n",
      "At random score 55, accuracy score is 0.7242111650485437\n",
      "At random score 56, accuracy score is 0.7336165048543689\n",
      "At random score 57, accuracy score is 0.731593851132686\n",
      "At random score 58, accuracy score is 0.7220873786407767\n",
      "At random score 59, accuracy score is 0.7357402912621359\n",
      "At random score 60, accuracy score is 0.7271440129449838\n",
      "At random score 61, accuracy score is 0.7270428802588996\n",
      "At random score 62, accuracy score is 0.7309870550161812\n",
      "At random score 63, accuracy score is 0.7226941747572816\n",
      "At random score 64, accuracy score is 0.7278519417475728\n",
      "At random score 65, accuracy score is 0.7278519417475728\n",
      "At random score 66, accuracy score is 0.7259304207119741\n",
      "At random score 67, accuracy score is 0.7244134304207119\n",
      "At random score 68, accuracy score is 0.7393810679611651\n",
      "At random score 69, accuracy score is 0.7222896440129449\n",
      "At random score 70, accuracy score is 0.7330097087378641\n",
      "At random score 71, accuracy score is 0.7326051779935275\n",
      "At random score 72, accuracy score is 0.7216828478964401\n",
      "At random score 73, accuracy score is 0.7223907766990292\n",
      "At random score 74, accuracy score is 0.7328074433656958\n",
      "At random score 75, accuracy score is 0.7347289644012945\n",
      "At random score 76, accuracy score is 0.7351334951456311\n",
      "At random score 77, accuracy score is 0.7204692556634305\n",
      "At random score 78, accuracy score is 0.7262338187702265\n",
      "At random score 79, accuracy score is 0.7240088996763754\n",
      "At random score 80, accuracy score is 0.7295711974110033\n",
      "At random score 81, accuracy score is 0.7176375404530745\n",
      "At random score 82, accuracy score is 0.7369538834951457\n",
      "At random score 83, accuracy score is 0.7226941747572816\n",
      "At random score 84, accuracy score is 0.7268406148867314\n",
      "At random score 85, accuracy score is 0.7233009708737864\n",
      "At random score 86, accuracy score is 0.7236043689320388\n",
      "At random score 87, accuracy score is 0.7248179611650486\n",
      "At random score 88, accuracy score is 0.7291666666666666\n",
      "At random score 89, accuracy score is 0.7285598705501618\n",
      "At random score 90, accuracy score is 0.7311893203883495\n",
      "At random score 91, accuracy score is 0.7240088996763754\n",
      "At random score 92, accuracy score is 0.7319983818770227\n",
      "At random score 93, accuracy score is 0.7314927184466019\n",
      "At random score 94, accuracy score is 0.7323017799352751\n",
      "At random score 95, accuracy score is 0.7306836569579288\n",
      "At random score 96, accuracy score is 0.7267394822006472\n",
      "At random score 97, accuracy score is 0.7297734627831716\n",
      "At random score 98, accuracy score is 0.727953074433657\n",
      "At random score 99, accuracy score is 0.7305825242718447\n",
      "Best score is 0.7414037216828478 at random state 8\n"
     ]
    }
   ],
   "source": [
    "best_random_state = 0\n",
    "best_score = 0\n",
    "for i in range(100):\n",
    "    xtrain,xtest,ytrain,ytest = train_test_split(x,y,test_size=.2, random_state=i)\n",
    "    lr.fit(xtrain,ytrain)\n",
    "    pred = lr.predict(xtest)\n",
    "    score = accuracy_score(ytest, pred)\n",
    "    print(f'At random score {i}, accuracy score is {score}')\n",
    "    if score > best_score:\n",
    "        best_score = score\n",
    "        best_random_state = i\n",
    "print(f'Best score is {best_score} at random state {best_random_state}')"
   ]
  },
  {
   "cell_type": "markdown",
   "id": "4fa9fd73",
   "metadata": {},
   "source": [
    "### We will proceed with random state 8"
   ]
  },
  {
   "cell_type": "code",
   "execution_count": 36,
   "id": "80a32b98",
   "metadata": {},
   "outputs": [],
   "source": [
    "xtrain,xtest,ytrain,ytest = train_test_split(x,y,test_size=.2, random_state=8)"
   ]
  },
  {
   "cell_type": "code",
   "execution_count": 37,
   "id": "34de03be",
   "metadata": {},
   "outputs": [
    {
     "name": "stdout",
     "output_type": "stream",
     "text": [
      "Model LogisticRegression() had training score of 72.74589127686473% and an accuracy score of 0.7414037216828478\n",
      "Model KNeighborsClassifier() had training score of 78.826801517067% and an accuracy score of 0.8048139158576052\n",
      "Model SVC() had training score of 72.95069532237675% and an accuracy score of 0.7372572815533981\n",
      "Model DecisionTreeClassifier() had training score of 83.97724399494312% and an accuracy score of 0.8480987055016181\n",
      "Model RandomForestClassifier() had training score of 88.20733249051833% and an accuracy score of 0.8883495145631068\n"
     ]
    }
   ],
   "source": [
    "for i in models:\n",
    "    i.fit(xtrain,ytrain)\n",
    "    training_score = cross_val_score(i, xtrain, ytrain, cv=5)\n",
    "    pred = i.predict(xtest)\n",
    "    score = accuracy_score(ytest, pred)\n",
    "    print(f'Model {i} had training score of {training_score.mean()*100}% and an accuracy score of {score}')"
   ]
  },
  {
   "cell_type": "markdown",
   "id": "cb552188",
   "metadata": {},
   "source": [
    "### We will proceed with random forest classifier"
   ]
  },
  {
   "cell_type": "code",
   "execution_count": 38,
   "id": "dc747c3d",
   "metadata": {},
   "outputs": [],
   "source": [
    "parameters = { \n",
    "    'n_estimators': [200, 400],\n",
    "    'criterion': ['gini', 'entropy'],\n",
    "    'min_samples_split': [2, 5],\n",
    "    'min_samples_leaf': range(1,3)\n",
    "}"
   ]
  },
  {
   "cell_type": "code",
   "execution_count": 39,
   "id": "8af09599",
   "metadata": {},
   "outputs": [],
   "source": [
    "grid = GridSearchCV(rf, parameters, cv=5, n_jobs=-1)"
   ]
  },
  {
   "cell_type": "code",
   "execution_count": 40,
   "id": "388525ad",
   "metadata": {},
   "outputs": [
    {
     "data": {
      "text/plain": [
       "{'criterion': 'gini',\n",
       " 'min_samples_leaf': 1,\n",
       " 'min_samples_split': 2,\n",
       " 'n_estimators': 400}"
      ]
     },
     "execution_count": 40,
     "metadata": {},
     "output_type": "execute_result"
    }
   ],
   "source": [
    "grid.fit(xtrain, ytrain)\n",
    "grid.best_params_"
   ]
  },
  {
   "cell_type": "markdown",
   "id": "b793b026",
   "metadata": {},
   "source": [
    "### There are the parameters we will put in the model for final training and testing."
   ]
  },
  {
   "cell_type": "code",
   "execution_count": 41,
   "id": "48590816",
   "metadata": {},
   "outputs": [],
   "source": [
    "rf = RandomForestClassifier(criterion='gini', min_samples_leaf=1, min_samples_split=2, n_estimators=400)"
   ]
  },
  {
   "cell_type": "code",
   "execution_count": 42,
   "id": "5513fe2c",
   "metadata": {},
   "outputs": [
    {
     "name": "stdout",
     "output_type": "stream",
     "text": [
      "The cross validated score of this model is: 88.25031605562579\n"
     ]
    }
   ],
   "source": [
    "rf.fit(xtrain, ytrain)\n",
    "pred = rf.predict(xtest)\n",
    "print(f'The cross validated score of this model is: {(cross_val_score(rf, xtrain,ytrain,cv=5).mean())*100}')"
   ]
  },
  {
   "cell_type": "code",
   "execution_count": 43,
   "id": "47cd0a11",
   "metadata": {},
   "outputs": [
    {
     "name": "stdout",
     "output_type": "stream",
     "text": [
      "The accuracy score is 88.91585760517799\n"
     ]
    }
   ],
   "source": [
    "print(f'The accuracy score is {accuracy_score(ytest, pred)*100}')"
   ]
  },
  {
   "cell_type": "code",
   "execution_count": 44,
   "id": "6dac6a15",
   "metadata": {},
   "outputs": [
    {
     "name": "stdout",
     "output_type": "stream",
     "text": [
      "[[4319  669]\n",
      " [ 427 4473]]\n",
      "              precision    recall  f1-score   support\n",
      "\n",
      "           0       0.91      0.87      0.89      4988\n",
      "           1       0.87      0.91      0.89      4900\n",
      "\n",
      "    accuracy                           0.89      9888\n",
      "   macro avg       0.89      0.89      0.89      9888\n",
      "weighted avg       0.89      0.89      0.89      9888\n",
      "\n"
     ]
    }
   ],
   "source": [
    "print(confusion_matrix(ytest, pred))\n",
    "print(classification_report(ytest, pred))"
   ]
  },
  {
   "cell_type": "markdown",
   "id": "3df4bf8e",
   "metadata": {},
   "source": [
    "# AUC-ROC"
   ]
  },
  {
   "cell_type": "code",
   "execution_count": 45,
   "id": "f38b9303",
   "metadata": {},
   "outputs": [],
   "source": [
    "# predict probability of getting 1 with different threshold values\n",
    "pred = rf.predict_proba(xtest)[:,1]"
   ]
  },
  {
   "cell_type": "code",
   "execution_count": 46,
   "id": "4a15dd53",
   "metadata": {},
   "outputs": [
    {
     "data": {
      "text/plain": [
       "array([0.77  , 0.915 , 0.0875, ..., 0.215 , 0.045 , 0.06  ])"
      ]
     },
     "execution_count": 46,
     "metadata": {},
     "output_type": "execute_result"
    }
   ],
   "source": [
    "pred"
   ]
  },
  {
   "cell_type": "code",
   "execution_count": 49,
   "id": "720d54c7",
   "metadata": {},
   "outputs": [],
   "source": [
    "fpr, tpr, thresholds = roc_curve(ytest, pred)"
   ]
  },
  {
   "cell_type": "code",
   "execution_count": 50,
   "id": "d3b98824",
   "metadata": {},
   "outputs": [
    {
     "data": {
      "text/plain": [
       "<function matplotlib.pyplot.show(close=None, block=None)>"
      ]
     },
     "execution_count": 50,
     "metadata": {},
     "output_type": "execute_result"
    },
    {
     "data": {
      "image/png": "[encoded data removed]",
      "text/plain": [
       "<Figure size 432x288 with 1 Axes>"
      ]
     },
     "metadata": {
      "needs_background": "light"
     },
     "output_type": "display_data"
    }
   ],
   "source": [
    "plt.plot([0,1],[0,1], 'k--')\n",
    "plt.plot(fpr, tpr)\n",
    "plt.xlabel('FPR')\n",
    "plt.ylabel('TPR')\n",
    "plt.title('Random Forest Classification with AUC ROC Curve')\n",
    "plt.show"
   ]
  },
  {
   "cell_type": "markdown",
   "id": "69686f53",
   "metadata": {},
   "source": [
    "We can observe that the area under the roc curve is 95% of the total area."
   ]
  },
  {
   "cell_type": "code",
   "execution_count": 51,
   "id": "b13272e3",
   "metadata": {},
   "outputs": [
    {
     "data": {
      "text/plain": [
       "0.958352883655467"
      ]
     },
     "execution_count": 51,
     "metadata": {},
     "output_type": "execute_result"
    }
   ],
   "source": [
    "auc_score = roc_auc_score(ytest, pred)\n",
    "auc_score"
   ]
  },
  {
   "cell_type": "markdown",
   "id": "5a3d79ac",
   "metadata": {},
   "source": [
    "## Conclusion: Random Forest Classifier is the best model with cross val score of 88.25%, and accuracy score of 88.91%, and roc-auc score of 95.83%"
   ]
  },
  {
   "cell_type": "markdown",
   "id": "9c6c7f8b",
   "metadata": {},
   "source": [
    "# Saving the best model"
   ]
  },
  {
   "cell_type": "code",
   "execution_count": 52,
   "id": "be2b318e",
   "metadata": {},
   "outputs": [],
   "source": [
    "import pickle\n",
    "filename = 'censusincome.pkl'\n",
    "pickle.dump(rf, open(filename, 'wb'))"
   ]
  }
 ],
 "metadata": {
  "kernelspec": {
   "display_name": "Python 3 (ipykernel)",
   "language": "python",
   "name": "python3"
  },
  "language_info": {
   "codemirror_mode": {
    "name": "ipython",
    "version": 3
   },
   "file_extension": ".py",
   "mimetype": "text/x-python",
   "name": "python",
   "nbconvert_exporter": "python",
   "pygments_lexer": "ipython3",
   "version": "3.9.7"
  }
 },
 "nbformat": 4,
 "nbformat_minor": 5
}
