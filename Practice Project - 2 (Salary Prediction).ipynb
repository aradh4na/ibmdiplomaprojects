{
 "cells": [
  {
   "cell_type": "code",
   "execution_count": 2,
   "id": "148dabc9",
   "metadata": {},
   "outputs": [],
   "source": [
    "# Importing libraries\n",
    "\n",
    "import pandas as pd\n",
    "import numpy as np\n",
    "import seaborn as sns\n",
    "import matplotlib.pyplot as plt\n",
    "from sklearn.linear_model import LinearRegression\n",
    "from sklearn.metrics import mean_squared_error\n",
    "from sklearn.model_selection import train_test_split\n",
    "from sklearn.preprocessing import OrdinalEncoder"
   ]
  },
  {
   "cell_type": "code",
   "execution_count": 3,
   "id": "169ac24e",
   "metadata": {},
   "outputs": [],
   "source": [
    "import warnings\n",
    "warnings.filterwarnings('ignore')"
   ]
  },
  {
   "cell_type": "code",
   "execution_count": 4,
   "id": "c813808f",
   "metadata": {},
   "outputs": [
    {
     "data": {
      "text/html": [
       "<div>\n",
       "<style scoped>\n",
       "    .dataframe tbody tr th:only-of-type {\n",
       "        vertical-align: middle;\n",
       "    }\n",
       "\n",
       "    .dataframe tbody tr th {\n",
       "        vertical-align: top;\n",
       "    }\n",
       "\n",
       "    .dataframe thead th {\n",
       "        text-align: right;\n",
       "    }\n",
       "</style>\n",
       "<table border=\"1\" class=\"dataframe\">\n",
       "  <thead>\n",
       "    <tr style=\"text-align: right;\">\n",
       "      <th></th>\n",
       "      <th>rank</th>\n",
       "      <th>discipline</th>\n",
       "      <th>yrs.since.phd</th>\n",
       "      <th>yrs.service</th>\n",
       "      <th>sex</th>\n",
       "      <th>salary</th>\n",
       "    </tr>\n",
       "  </thead>\n",
       "  <tbody>\n",
       "    <tr>\n",
       "      <th>0</th>\n",
       "      <td>Prof</td>\n",
       "      <td>B</td>\n",
       "      <td>19</td>\n",
       "      <td>18</td>\n",
       "      <td>Male</td>\n",
       "      <td>139750</td>\n",
       "    </tr>\n",
       "    <tr>\n",
       "      <th>1</th>\n",
       "      <td>Prof</td>\n",
       "      <td>B</td>\n",
       "      <td>20</td>\n",
       "      <td>16</td>\n",
       "      <td>Male</td>\n",
       "      <td>173200</td>\n",
       "    </tr>\n",
       "    <tr>\n",
       "      <th>2</th>\n",
       "      <td>AsstProf</td>\n",
       "      <td>B</td>\n",
       "      <td>4</td>\n",
       "      <td>3</td>\n",
       "      <td>Male</td>\n",
       "      <td>79750</td>\n",
       "    </tr>\n",
       "    <tr>\n",
       "      <th>3</th>\n",
       "      <td>Prof</td>\n",
       "      <td>B</td>\n",
       "      <td>45</td>\n",
       "      <td>39</td>\n",
       "      <td>Male</td>\n",
       "      <td>115000</td>\n",
       "    </tr>\n",
       "    <tr>\n",
       "      <th>4</th>\n",
       "      <td>Prof</td>\n",
       "      <td>B</td>\n",
       "      <td>40</td>\n",
       "      <td>41</td>\n",
       "      <td>Male</td>\n",
       "      <td>141500</td>\n",
       "    </tr>\n",
       "    <tr>\n",
       "      <th>...</th>\n",
       "      <td>...</td>\n",
       "      <td>...</td>\n",
       "      <td>...</td>\n",
       "      <td>...</td>\n",
       "      <td>...</td>\n",
       "      <td>...</td>\n",
       "    </tr>\n",
       "    <tr>\n",
       "      <th>392</th>\n",
       "      <td>Prof</td>\n",
       "      <td>A</td>\n",
       "      <td>33</td>\n",
       "      <td>30</td>\n",
       "      <td>Male</td>\n",
       "      <td>103106</td>\n",
       "    </tr>\n",
       "    <tr>\n",
       "      <th>393</th>\n",
       "      <td>Prof</td>\n",
       "      <td>A</td>\n",
       "      <td>31</td>\n",
       "      <td>19</td>\n",
       "      <td>Male</td>\n",
       "      <td>150564</td>\n",
       "    </tr>\n",
       "    <tr>\n",
       "      <th>394</th>\n",
       "      <td>Prof</td>\n",
       "      <td>A</td>\n",
       "      <td>42</td>\n",
       "      <td>25</td>\n",
       "      <td>Male</td>\n",
       "      <td>101738</td>\n",
       "    </tr>\n",
       "    <tr>\n",
       "      <th>395</th>\n",
       "      <td>Prof</td>\n",
       "      <td>A</td>\n",
       "      <td>25</td>\n",
       "      <td>15</td>\n",
       "      <td>Male</td>\n",
       "      <td>95329</td>\n",
       "    </tr>\n",
       "    <tr>\n",
       "      <th>396</th>\n",
       "      <td>AsstProf</td>\n",
       "      <td>A</td>\n",
       "      <td>8</td>\n",
       "      <td>4</td>\n",
       "      <td>Male</td>\n",
       "      <td>81035</td>\n",
       "    </tr>\n",
       "  </tbody>\n",
       "</table>\n",
       "<p>397 rows × 6 columns</p>\n",
       "</div>"
      ],
      "text/plain": [
       "         rank discipline  yrs.since.phd  yrs.service   sex  salary\n",
       "0        Prof          B             19           18  Male  139750\n",
       "1        Prof          B             20           16  Male  173200\n",
       "2    AsstProf          B              4            3  Male   79750\n",
       "3        Prof          B             45           39  Male  115000\n",
       "4        Prof          B             40           41  Male  141500\n",
       "..        ...        ...            ...          ...   ...     ...\n",
       "392      Prof          A             33           30  Male  103106\n",
       "393      Prof          A             31           19  Male  150564\n",
       "394      Prof          A             42           25  Male  101738\n",
       "395      Prof          A             25           15  Male   95329\n",
       "396  AsstProf          A              8            4  Male   81035\n",
       "\n",
       "[397 rows x 6 columns]"
      ]
     },
     "execution_count": 4,
     "metadata": {},
     "output_type": "execute_result"
    }
   ],
   "source": [
    "# Creating dataframe of the data\n",
    "\n",
    "df = pd.read_csv('https://raw.githubusercontent.com/dsrscientist/dataset3/main/Salaries.csv')\n",
    "df"
   ]
  },
  {
   "cell_type": "code",
   "execution_count": 4,
   "id": "ab5b9c4f",
   "metadata": {},
   "outputs": [
    {
     "data": {
      "text/plain": [
       "(397, 6)"
      ]
     },
     "execution_count": 4,
     "metadata": {},
     "output_type": "execute_result"
    }
   ],
   "source": [
    "df.shape"
   ]
  },
  {
   "cell_type": "code",
   "execution_count": 5,
   "id": "c202c0e9",
   "metadata": {},
   "outputs": [
    {
     "data": {
      "text/plain": [
       "Index(['rank', 'discipline', 'yrs.since.phd', 'yrs.service', 'sex', 'salary'], dtype='object')"
      ]
     },
     "execution_count": 5,
     "metadata": {},
     "output_type": "execute_result"
    }
   ],
   "source": [
    "df.columns"
   ]
  },
  {
   "cell_type": "code",
   "execution_count": 6,
   "id": "a961417d",
   "metadata": {},
   "outputs": [
    {
     "data": {
      "text/plain": [
       "rank             object\n",
       "discipline       object\n",
       "yrs.since.phd     int64\n",
       "yrs.service       int64\n",
       "sex              object\n",
       "salary            int64\n",
       "dtype: object"
      ]
     },
     "execution_count": 6,
     "metadata": {},
     "output_type": "execute_result"
    }
   ],
   "source": [
    "df.dtypes"
   ]
  },
  {
   "cell_type": "markdown",
   "id": "56b92a48",
   "metadata": {},
   "source": [
    "##### Encoding categorical inputs"
   ]
  },
  {
   "cell_type": "code",
   "execution_count": 5,
   "id": "d7a30a61",
   "metadata": {},
   "outputs": [],
   "source": [
    "enc = OrdinalEncoder()\n",
    "list1 = ['rank', 'discipline', 'sex']\n",
    "for i in list1:\n",
    "    df[i] = enc.fit_transform(df[i].values.reshape(-1,1))"
   ]
  },
  {
   "cell_type": "code",
   "execution_count": 6,
   "id": "3d7258ad",
   "metadata": {},
   "outputs": [
    {
     "data": {
      "text/html": [
       "<div>\n",
       "<style scoped>\n",
       "    .dataframe tbody tr th:only-of-type {\n",
       "        vertical-align: middle;\n",
       "    }\n",
       "\n",
       "    .dataframe tbody tr th {\n",
       "        vertical-align: top;\n",
       "    }\n",
       "\n",
       "    .dataframe thead th {\n",
       "        text-align: right;\n",
       "    }\n",
       "</style>\n",
       "<table border=\"1\" class=\"dataframe\">\n",
       "  <thead>\n",
       "    <tr style=\"text-align: right;\">\n",
       "      <th></th>\n",
       "      <th>rank</th>\n",
       "      <th>discipline</th>\n",
       "      <th>yrs.since.phd</th>\n",
       "      <th>yrs.service</th>\n",
       "      <th>sex</th>\n",
       "      <th>salary</th>\n",
       "    </tr>\n",
       "  </thead>\n",
       "  <tbody>\n",
       "    <tr>\n",
       "      <th>0</th>\n",
       "      <td>2.0</td>\n",
       "      <td>1.0</td>\n",
       "      <td>19</td>\n",
       "      <td>18</td>\n",
       "      <td>1.0</td>\n",
       "      <td>139750</td>\n",
       "    </tr>\n",
       "    <tr>\n",
       "      <th>1</th>\n",
       "      <td>2.0</td>\n",
       "      <td>1.0</td>\n",
       "      <td>20</td>\n",
       "      <td>16</td>\n",
       "      <td>1.0</td>\n",
       "      <td>173200</td>\n",
       "    </tr>\n",
       "    <tr>\n",
       "      <th>2</th>\n",
       "      <td>1.0</td>\n",
       "      <td>1.0</td>\n",
       "      <td>4</td>\n",
       "      <td>3</td>\n",
       "      <td>1.0</td>\n",
       "      <td>79750</td>\n",
       "    </tr>\n",
       "    <tr>\n",
       "      <th>3</th>\n",
       "      <td>2.0</td>\n",
       "      <td>1.0</td>\n",
       "      <td>45</td>\n",
       "      <td>39</td>\n",
       "      <td>1.0</td>\n",
       "      <td>115000</td>\n",
       "    </tr>\n",
       "    <tr>\n",
       "      <th>4</th>\n",
       "      <td>2.0</td>\n",
       "      <td>1.0</td>\n",
       "      <td>40</td>\n",
       "      <td>41</td>\n",
       "      <td>1.0</td>\n",
       "      <td>141500</td>\n",
       "    </tr>\n",
       "    <tr>\n",
       "      <th>...</th>\n",
       "      <td>...</td>\n",
       "      <td>...</td>\n",
       "      <td>...</td>\n",
       "      <td>...</td>\n",
       "      <td>...</td>\n",
       "      <td>...</td>\n",
       "    </tr>\n",
       "    <tr>\n",
       "      <th>392</th>\n",
       "      <td>2.0</td>\n",
       "      <td>0.0</td>\n",
       "      <td>33</td>\n",
       "      <td>30</td>\n",
       "      <td>1.0</td>\n",
       "      <td>103106</td>\n",
       "    </tr>\n",
       "    <tr>\n",
       "      <th>393</th>\n",
       "      <td>2.0</td>\n",
       "      <td>0.0</td>\n",
       "      <td>31</td>\n",
       "      <td>19</td>\n",
       "      <td>1.0</td>\n",
       "      <td>150564</td>\n",
       "    </tr>\n",
       "    <tr>\n",
       "      <th>394</th>\n",
       "      <td>2.0</td>\n",
       "      <td>0.0</td>\n",
       "      <td>42</td>\n",
       "      <td>25</td>\n",
       "      <td>1.0</td>\n",
       "      <td>101738</td>\n",
       "    </tr>\n",
       "    <tr>\n",
       "      <th>395</th>\n",
       "      <td>2.0</td>\n",
       "      <td>0.0</td>\n",
       "      <td>25</td>\n",
       "      <td>15</td>\n",
       "      <td>1.0</td>\n",
       "      <td>95329</td>\n",
       "    </tr>\n",
       "    <tr>\n",
       "      <th>396</th>\n",
       "      <td>1.0</td>\n",
       "      <td>0.0</td>\n",
       "      <td>8</td>\n",
       "      <td>4</td>\n",
       "      <td>1.0</td>\n",
       "      <td>81035</td>\n",
       "    </tr>\n",
       "  </tbody>\n",
       "</table>\n",
       "<p>397 rows × 6 columns</p>\n",
       "</div>"
      ],
      "text/plain": [
       "     rank  discipline  yrs.since.phd  yrs.service  sex  salary\n",
       "0     2.0         1.0             19           18  1.0  139750\n",
       "1     2.0         1.0             20           16  1.0  173200\n",
       "2     1.0         1.0              4            3  1.0   79750\n",
       "3     2.0         1.0             45           39  1.0  115000\n",
       "4     2.0         1.0             40           41  1.0  141500\n",
       "..    ...         ...            ...          ...  ...     ...\n",
       "392   2.0         0.0             33           30  1.0  103106\n",
       "393   2.0         0.0             31           19  1.0  150564\n",
       "394   2.0         0.0             42           25  1.0  101738\n",
       "395   2.0         0.0             25           15  1.0   95329\n",
       "396   1.0         0.0              8            4  1.0   81035\n",
       "\n",
       "[397 rows x 6 columns]"
      ]
     },
     "execution_count": 6,
     "metadata": {},
     "output_type": "execute_result"
    }
   ],
   "source": [
    "df"
   ]
  },
  {
   "cell_type": "code",
   "execution_count": 9,
   "id": "20790e18",
   "metadata": {},
   "outputs": [
    {
     "data": {
      "text/plain": [
       "rank             0\n",
       "discipline       0\n",
       "yrs.since.phd    0\n",
       "yrs.service      0\n",
       "sex              0\n",
       "salary           0\n",
       "dtype: int64"
      ]
     },
     "execution_count": 9,
     "metadata": {},
     "output_type": "execute_result"
    }
   ],
   "source": [
    "df.isnull().sum()"
   ]
  },
  {
   "cell_type": "code",
   "execution_count": 7,
   "id": "a8424484",
   "metadata": {},
   "outputs": [
    {
     "data": {
      "text/html": [
       "<div>\n",
       "<style scoped>\n",
       "    .dataframe tbody tr th:only-of-type {\n",
       "        vertical-align: middle;\n",
       "    }\n",
       "\n",
       "    .dataframe tbody tr th {\n",
       "        vertical-align: top;\n",
       "    }\n",
       "\n",
       "    .dataframe thead th {\n",
       "        text-align: right;\n",
       "    }\n",
       "</style>\n",
       "<table border=\"1\" class=\"dataframe\">\n",
       "  <thead>\n",
       "    <tr style=\"text-align: right;\">\n",
       "      <th></th>\n",
       "      <th>rank</th>\n",
       "      <th>discipline</th>\n",
       "      <th>yrs.since.phd</th>\n",
       "      <th>yrs.service</th>\n",
       "      <th>sex</th>\n",
       "      <th>salary</th>\n",
       "    </tr>\n",
       "  </thead>\n",
       "  <tbody>\n",
       "  </tbody>\n",
       "</table>\n",
       "</div>"
      ],
      "text/plain": [
       "Empty DataFrame\n",
       "Columns: [rank, discipline, yrs.since.phd, yrs.service, sex, salary]\n",
       "Index: []"
      ]
     },
     "execution_count": 7,
     "metadata": {},
     "output_type": "execute_result"
    }
   ],
   "source": [
    "df.loc[df['salary'] == \" \"]"
   ]
  },
  {
   "cell_type": "code",
   "execution_count": 18,
   "id": "01c627e7",
   "metadata": {},
   "outputs": [
    {
     "data": {
      "text/html": [
       "<div>\n",
       "<style scoped>\n",
       "    .dataframe tbody tr th:only-of-type {\n",
       "        vertical-align: middle;\n",
       "    }\n",
       "\n",
       "    .dataframe tbody tr th {\n",
       "        vertical-align: top;\n",
       "    }\n",
       "\n",
       "    .dataframe thead th {\n",
       "        text-align: right;\n",
       "    }\n",
       "</style>\n",
       "<table border=\"1\" class=\"dataframe\">\n",
       "  <thead>\n",
       "    <tr style=\"text-align: right;\">\n",
       "      <th></th>\n",
       "      <th>rank</th>\n",
       "      <th>discipline</th>\n",
       "      <th>yrs.since.phd</th>\n",
       "      <th>yrs.service</th>\n",
       "      <th>sex</th>\n",
       "      <th>salary</th>\n",
       "    </tr>\n",
       "  </thead>\n",
       "  <tbody>\n",
       "    <tr>\n",
       "      <th>count</th>\n",
       "      <td>397.000000</td>\n",
       "      <td>397.000000</td>\n",
       "      <td>397.000000</td>\n",
       "      <td>397.000000</td>\n",
       "      <td>397.000000</td>\n",
       "      <td>397.000000</td>\n",
       "    </tr>\n",
       "    <tr>\n",
       "      <th>mean</th>\n",
       "      <td>1.508816</td>\n",
       "      <td>0.544081</td>\n",
       "      <td>22.314861</td>\n",
       "      <td>17.614610</td>\n",
       "      <td>0.901763</td>\n",
       "      <td>113706.458438</td>\n",
       "    </tr>\n",
       "    <tr>\n",
       "      <th>std</th>\n",
       "      <td>0.757486</td>\n",
       "      <td>0.498682</td>\n",
       "      <td>12.887003</td>\n",
       "      <td>13.006024</td>\n",
       "      <td>0.298010</td>\n",
       "      <td>30289.038695</td>\n",
       "    </tr>\n",
       "    <tr>\n",
       "      <th>min</th>\n",
       "      <td>0.000000</td>\n",
       "      <td>0.000000</td>\n",
       "      <td>1.000000</td>\n",
       "      <td>0.000000</td>\n",
       "      <td>0.000000</td>\n",
       "      <td>57800.000000</td>\n",
       "    </tr>\n",
       "    <tr>\n",
       "      <th>25%</th>\n",
       "      <td>1.000000</td>\n",
       "      <td>0.000000</td>\n",
       "      <td>12.000000</td>\n",
       "      <td>7.000000</td>\n",
       "      <td>1.000000</td>\n",
       "      <td>91000.000000</td>\n",
       "    </tr>\n",
       "    <tr>\n",
       "      <th>50%</th>\n",
       "      <td>2.000000</td>\n",
       "      <td>1.000000</td>\n",
       "      <td>21.000000</td>\n",
       "      <td>16.000000</td>\n",
       "      <td>1.000000</td>\n",
       "      <td>107300.000000</td>\n",
       "    </tr>\n",
       "    <tr>\n",
       "      <th>75%</th>\n",
       "      <td>2.000000</td>\n",
       "      <td>1.000000</td>\n",
       "      <td>32.000000</td>\n",
       "      <td>27.000000</td>\n",
       "      <td>1.000000</td>\n",
       "      <td>134185.000000</td>\n",
       "    </tr>\n",
       "    <tr>\n",
       "      <th>max</th>\n",
       "      <td>2.000000</td>\n",
       "      <td>1.000000</td>\n",
       "      <td>56.000000</td>\n",
       "      <td>60.000000</td>\n",
       "      <td>1.000000</td>\n",
       "      <td>231545.000000</td>\n",
       "    </tr>\n",
       "  </tbody>\n",
       "</table>\n",
       "</div>"
      ],
      "text/plain": [
       "             rank  discipline  yrs.since.phd  yrs.service         sex  \\\n",
       "count  397.000000  397.000000     397.000000   397.000000  397.000000   \n",
       "mean     1.508816    0.544081      22.314861    17.614610    0.901763   \n",
       "std      0.757486    0.498682      12.887003    13.006024    0.298010   \n",
       "min      0.000000    0.000000       1.000000     0.000000    0.000000   \n",
       "25%      1.000000    0.000000      12.000000     7.000000    1.000000   \n",
       "50%      2.000000    1.000000      21.000000    16.000000    1.000000   \n",
       "75%      2.000000    1.000000      32.000000    27.000000    1.000000   \n",
       "max      2.000000    1.000000      56.000000    60.000000    1.000000   \n",
       "\n",
       "              salary  \n",
       "count     397.000000  \n",
       "mean   113706.458438  \n",
       "std     30289.038695  \n",
       "min     57800.000000  \n",
       "25%     91000.000000  \n",
       "50%    107300.000000  \n",
       "75%    134185.000000  \n",
       "max    231545.000000  "
      ]
     },
     "execution_count": 18,
     "metadata": {},
     "output_type": "execute_result"
    }
   ],
   "source": [
    "df.describe()"
   ]
  },
  {
   "cell_type": "code",
   "execution_count": 11,
   "id": "c78e0e52",
   "metadata": {},
   "outputs": [
    {
     "data": {
      "text/plain": [
       "rank            -1.151164\n",
       "discipline      -0.177684\n",
       "yrs.since.phd    0.300880\n",
       "yrs.service      0.650569\n",
       "sex             -2.709958\n",
       "salary           0.714568\n",
       "dtype: float64"
      ]
     },
     "execution_count": 11,
     "metadata": {},
     "output_type": "execute_result"
    }
   ],
   "source": [
    "df.skew()"
   ]
  },
  {
   "cell_type": "code",
   "execution_count": 12,
   "id": "1df34182",
   "metadata": {},
   "outputs": [
    {
     "data": {
      "text/html": [
       "<div>\n",
       "<style scoped>\n",
       "    .dataframe tbody tr th:only-of-type {\n",
       "        vertical-align: middle;\n",
       "    }\n",
       "\n",
       "    .dataframe tbody tr th {\n",
       "        vertical-align: top;\n",
       "    }\n",
       "\n",
       "    .dataframe thead th {\n",
       "        text-align: right;\n",
       "    }\n",
       "</style>\n",
       "<table border=\"1\" class=\"dataframe\">\n",
       "  <thead>\n",
       "    <tr style=\"text-align: right;\">\n",
       "      <th></th>\n",
       "      <th>rank</th>\n",
       "      <th>discipline</th>\n",
       "      <th>yrs.since.phd</th>\n",
       "      <th>yrs.service</th>\n",
       "      <th>sex</th>\n",
       "      <th>salary</th>\n",
       "    </tr>\n",
       "  </thead>\n",
       "  <tbody>\n",
       "    <tr>\n",
       "      <th>rank</th>\n",
       "      <td>1.000000</td>\n",
       "      <td>-0.086266</td>\n",
       "      <td>0.525500</td>\n",
       "      <td>0.447499</td>\n",
       "      <td>0.132492</td>\n",
       "      <td>0.522207</td>\n",
       "    </tr>\n",
       "    <tr>\n",
       "      <th>discipline</th>\n",
       "      <td>-0.086266</td>\n",
       "      <td>1.000000</td>\n",
       "      <td>-0.218087</td>\n",
       "      <td>-0.164599</td>\n",
       "      <td>0.003724</td>\n",
       "      <td>0.156084</td>\n",
       "    </tr>\n",
       "    <tr>\n",
       "      <th>yrs.since.phd</th>\n",
       "      <td>0.525500</td>\n",
       "      <td>-0.218087</td>\n",
       "      <td>1.000000</td>\n",
       "      <td>0.909649</td>\n",
       "      <td>0.148788</td>\n",
       "      <td>0.419231</td>\n",
       "    </tr>\n",
       "    <tr>\n",
       "      <th>yrs.service</th>\n",
       "      <td>0.447499</td>\n",
       "      <td>-0.164599</td>\n",
       "      <td>0.909649</td>\n",
       "      <td>1.000000</td>\n",
       "      <td>0.153740</td>\n",
       "      <td>0.334745</td>\n",
       "    </tr>\n",
       "    <tr>\n",
       "      <th>sex</th>\n",
       "      <td>0.132492</td>\n",
       "      <td>0.003724</td>\n",
       "      <td>0.148788</td>\n",
       "      <td>0.153740</td>\n",
       "      <td>1.000000</td>\n",
       "      <td>0.138610</td>\n",
       "    </tr>\n",
       "    <tr>\n",
       "      <th>salary</th>\n",
       "      <td>0.522207</td>\n",
       "      <td>0.156084</td>\n",
       "      <td>0.419231</td>\n",
       "      <td>0.334745</td>\n",
       "      <td>0.138610</td>\n",
       "      <td>1.000000</td>\n",
       "    </tr>\n",
       "  </tbody>\n",
       "</table>\n",
       "</div>"
      ],
      "text/plain": [
       "                   rank  discipline  yrs.since.phd  yrs.service       sex  \\\n",
       "rank           1.000000   -0.086266       0.525500     0.447499  0.132492   \n",
       "discipline    -0.086266    1.000000      -0.218087    -0.164599  0.003724   \n",
       "yrs.since.phd  0.525500   -0.218087       1.000000     0.909649  0.148788   \n",
       "yrs.service    0.447499   -0.164599       0.909649     1.000000  0.153740   \n",
       "sex            0.132492    0.003724       0.148788     0.153740  1.000000   \n",
       "salary         0.522207    0.156084       0.419231     0.334745  0.138610   \n",
       "\n",
       "                 salary  \n",
       "rank           0.522207  \n",
       "discipline     0.156084  \n",
       "yrs.since.phd  0.419231  \n",
       "yrs.service    0.334745  \n",
       "sex            0.138610  \n",
       "salary         1.000000  "
      ]
     },
     "execution_count": 12,
     "metadata": {},
     "output_type": "execute_result"
    }
   ],
   "source": [
    "df.corr()"
   ]
  },
  {
   "cell_type": "code",
   "execution_count": 13,
   "id": "1c3a52e7",
   "metadata": {},
   "outputs": [
    {
     "data": {
      "text/plain": [
       "<AxesSubplot:>"
      ]
     },
     "execution_count": 13,
     "metadata": {},
     "output_type": "execute_result"
    },
    {
     "data": {
      "image/png": "[encoded data removed]",
      "text/plain": [
       "<Figure size 432x288 with 2 Axes>"
      ]
     },
     "metadata": {
      "needs_background": "light"
     },
     "output_type": "display_data"
    }
   ],
   "source": [
    "sns.heatmap(df.corr(), annot=True)"
   ]
  },
  {
   "cell_type": "markdown",
   "id": "d51548dc",
   "metadata": {},
   "source": [
    "### Univariate Analysis"
   ]
  },
  {
   "cell_type": "code",
   "execution_count": 14,
   "id": "c5b8509a",
   "metadata": {},
   "outputs": [
    {
     "data": {
      "text/plain": [
       "rank                AxesSubplot(0.125,0.536818;0.133621x0.343182)\n",
       "discipline       AxesSubplot(0.285345,0.536818;0.133621x0.343182)\n",
       "yrs.since.phd     AxesSubplot(0.44569,0.536818;0.133621x0.343182)\n",
       "yrs.service      AxesSubplot(0.606034,0.536818;0.133621x0.343182)\n",
       "sex              AxesSubplot(0.766379,0.536818;0.133621x0.343182)\n",
       "salary                 AxesSubplot(0.125,0.125;0.133621x0.343182)\n",
       "dtype: object"
      ]
     },
     "execution_count": 14,
     "metadata": {},
     "output_type": "execute_result"
    },
    {
     "data": {
      "image/png": "[encoded data removed]",
      "text/plain": [
       "<Figure size 432x288 with 10 Axes>"
      ]
     },
     "metadata": {
      "needs_background": "light"
     },
     "output_type": "display_data"
    }
   ],
   "source": [
    "df.plot(kind='box', subplots=True, layout=(2, 5))"
   ]
  },
  {
   "cell_type": "code",
   "execution_count": 15,
   "id": "a3e21833",
   "metadata": {},
   "outputs": [
    {
     "data": {
      "text/plain": [
       "<AxesSubplot:xlabel='sex', ylabel='count'>"
      ]
     },
     "execution_count": 15,
     "metadata": {},
     "output_type": "execute_result"
    },
    {
     "data": {
      "image/png": "[encoded data removed]",
      "text/plain": [
       "<Figure size 432x288 with 1 Axes>"
      ]
     },
     "metadata": {
      "needs_background": "light"
     },
     "output_type": "display_data"
    }
   ],
   "source": [
    "sns.countplot(df.sex)"
   ]
  },
  {
   "cell_type": "code",
   "execution_count": 16,
   "id": "e3fcd04c",
   "metadata": {},
   "outputs": [
    {
     "data": {
      "text/plain": [
       "<AxesSubplot:>"
      ]
     },
     "execution_count": 16,
     "metadata": {},
     "output_type": "execute_result"
    },
    {
     "data": {
      "image/png": "[encoded data removed]",
      "text/plain": [
       "<Figure size 432x288 with 1 Axes>"
      ]
     },
     "metadata": {
      "needs_background": "light"
     },
     "output_type": "display_data"
    }
   ],
   "source": [
    "df.sex.plot.box()"
   ]
  },
  {
   "cell_type": "code",
   "execution_count": 17,
   "id": "dadee87f",
   "metadata": {},
   "outputs": [
    {
     "data": {
      "text/plain": [
       "<Figure size 432x288 with 0 Axes>"
      ]
     },
     "metadata": {},
     "output_type": "display_data"
    },
    {
     "data": {
      "image/png": "[encoded data removed]",
      "text/plain": [
       "<Figure size 360x360 with 1 Axes>"
      ]
     },
     "metadata": {
      "needs_background": "light"
     },
     "output_type": "display_data"
    },
    {
     "data": {
      "text/plain": [
       "<Figure size 432x288 with 0 Axes>"
      ]
     },
     "metadata": {},
     "output_type": "display_data"
    },
    {
     "data": {
      "image/png": "[encoded data removed]",
      "text/plain": [
       "<Figure size 360x360 with 1 Axes>"
      ]
     },
     "metadata": {
      "needs_background": "light"
     },
     "output_type": "display_data"
    },
    {
     "data": {
      "text/plain": [
       "<Figure size 432x288 with 0 Axes>"
      ]
     },
     "metadata": {},
     "output_type": "display_data"
    },
    {
     "data": {
      "image/png": "[encoded data removed]",
      "text/plain": [
       "<Figure size 360x360 with 1 Axes>"
      ]
     },
     "metadata": {
      "needs_background": "light"
     },
     "output_type": "display_data"
    },
    {
     "data": {
      "text/plain": [
       "<Figure size 432x288 with 0 Axes>"
      ]
     },
     "metadata": {},
     "output_type": "display_data"
    },
    {
     "data": {
      "image/png": "[encoded data removed]",
      "text/plain": [
       "<Figure size 360x360 with 1 Axes>"
      ]
     },
     "metadata": {
      "needs_background": "light"
     },
     "output_type": "display_data"
    },
    {
     "data": {
      "text/plain": [
       "<Figure size 432x288 with 0 Axes>"
      ]
     },
     "metadata": {},
     "output_type": "display_data"
    },
    {
     "data": {
      "image/png": "[encoded data removed]",
      "text/plain": [
       "<Figure size 360x360 with 1 Axes>"
      ]
     },
     "metadata": {
      "needs_background": "light"
     },
     "output_type": "display_data"
    },
    {
     "data": {
      "text/plain": [
       "<Figure size 432x288 with 0 Axes>"
      ]
     },
     "metadata": {},
     "output_type": "display_data"
    },
    {
     "data": {
      "image/png": "[encoded data removed]",
      "text/plain": [
       "<Figure size 360x360 with 1 Axes>"
      ]
     },
     "metadata": {
      "needs_background": "light"
     },
     "output_type": "display_data"
    }
   ],
   "source": [
    "for i in df.columns:\n",
    "    plt.figure()\n",
    "    sns.displot(df[i])"
   ]
  },
  {
   "cell_type": "markdown",
   "id": "07d1a12c",
   "metadata": {},
   "source": [
    "### Bivariate Analysis"
   ]
  },
  {
   "cell_type": "code",
   "execution_count": 18,
   "id": "b8f01e7c",
   "metadata": {},
   "outputs": [
    {
     "data": {
      "image/png": "[encoded data removed]",
      "text/plain": [
       "<Figure size 432x288 with 1 Axes>"
      ]
     },
     "metadata": {
      "needs_background": "light"
     },
     "output_type": "display_data"
    }
   ],
   "source": [
    "# rank and salary\n",
    "\n",
    "sns.barplot(x=df['rank'], y=df['salary'])\n",
    "plt.xlabel('Rank')\n",
    "plt.ylabel('Salary')\n",
    "plt.title('Salary on the basis of rank')\n",
    "plt.show()"
   ]
  },
  {
   "cell_type": "code",
   "execution_count": 19,
   "id": "2ab50bda",
   "metadata": {},
   "outputs": [
    {
     "data": {
      "image/png": "[encoded data removed]",
      "text/plain": [
       "<Figure size 432x288 with 1 Axes>"
      ]
     },
     "metadata": {
      "needs_background": "light"
     },
     "output_type": "display_data"
    }
   ],
   "source": [
    "# sex and salary\n",
    "\n",
    "sns.barplot(x=df['sex'], y=df['salary'])\n",
    "plt.xlabel('Sex')\n",
    "plt.ylabel('Salary')\n",
    "plt.title('Salary on the basis of sex')\n",
    "plt.show()"
   ]
  },
  {
   "cell_type": "code",
   "execution_count": 20,
   "id": "c663dfd0",
   "metadata": {},
   "outputs": [
    {
     "data": {
      "image/png": "[encoded data removed]",
      "text/plain": [
       "<Figure size 432x288 with 1 Axes>"
      ]
     },
     "metadata": {
      "needs_background": "light"
     },
     "output_type": "display_data"
    }
   ],
   "source": [
    "# salary and discipline\n",
    "\n",
    "sns.regplot(df.discipline,df.salary,df)\n",
    "plt.xlabel('Discipline')\n",
    "plt.ylabel('Salary')\n",
    "plt.title('Salary on the basis of discipline')\n",
    "plt.show()"
   ]
  },
  {
   "cell_type": "code",
   "execution_count": 21,
   "id": "f54bb3a9",
   "metadata": {},
   "outputs": [
    {
     "data": {
      "image/png": "[encoded data removed]",
      "text/plain": [
       "<Figure size 432x288 with 1 Axes>"
      ]
     },
     "metadata": {
      "needs_background": "light"
     },
     "output_type": "display_data"
    }
   ],
   "source": [
    "# rank and years since phd\n",
    "\n",
    "\n",
    "plt.scatter(df['rank'],df['yrs.since.phd'])\n",
    "plt.xlabel('Rank')\n",
    "plt.ylabel('Years Since PhD')\n",
    "plt.title('Rank on the basis of years since PhD')\n",
    "plt.show()"
   ]
  },
  {
   "cell_type": "code",
   "execution_count": 10,
   "id": "99df9a00",
   "metadata": {},
   "outputs": [
    {
     "data": {
      "image/png": "[encoded data removed]",
      "text/plain": [
       "<Figure size 720x504 with 1 Axes>"
      ]
     },
     "metadata": {
      "needs_background": "light"
     },
     "output_type": "display_data"
    }
   ],
   "source": [
    "plt.figure(figsize=(10,7))\n",
    "df.corr()['salary'].sort_values(ascending=False).drop(['salary']).plot(kind='bar',color='c')\n",
    "plt.xlabel('Features')\n",
    "plt.ylabel('Amount of correlation with salary')\n",
    "plt.title('correlation')\n",
    "plt.show()"
   ]
  },
  {
   "cell_type": "markdown",
   "id": "eae85c3c",
   "metadata": {},
   "source": [
    "### outliers"
   ]
  },
  {
   "cell_type": "code",
   "execution_count": 15,
   "id": "466bf4fb",
   "metadata": {},
   "outputs": [
    {
     "data": {
      "text/plain": [
       "rank                AxesSubplot(0.125,0.536818;0.168478x0.343182)\n",
       "discipline       AxesSubplot(0.327174,0.536818;0.168478x0.343182)\n",
       "yrs.since.phd    AxesSubplot(0.529348,0.536818;0.168478x0.343182)\n",
       "yrs.service      AxesSubplot(0.731522,0.536818;0.168478x0.343182)\n",
       "sex                    AxesSubplot(0.125,0.125;0.168478x0.343182)\n",
       "salary              AxesSubplot(0.327174,0.125;0.168478x0.343182)\n",
       "dtype: object"
      ]
     },
     "execution_count": 15,
     "metadata": {},
     "output_type": "execute_result"
    },
    {
     "data": {
      "image/png": "[encoded data removed]",
      "text/plain": [
       "<Figure size 432x288 with 8 Axes>"
      ]
     },
     "metadata": {
      "needs_background": "light"
     },
     "output_type": "display_data"
    }
   ],
   "source": [
    "df.plot(kind='box', subplots=True, layout=(2, 4))"
   ]
  },
  {
   "cell_type": "code",
   "execution_count": 16,
   "id": "1c8709bd",
   "metadata": {},
   "outputs": [
    {
     "name": "stdout",
     "output_type": "stream",
     "text": [
      "2\n"
     ]
    }
   ],
   "source": [
    "from scipy.stats import zscore\n",
    "\n",
    "z = np.abs(zscore(df))\n",
    "\n",
    "print(len(np.where(z > 3)))"
   ]
  },
  {
   "cell_type": "code",
   "execution_count": 17,
   "id": "2c6a9d67",
   "metadata": {},
   "outputs": [
    {
     "name": "stdout",
     "output_type": "stream",
     "text": [
      "1\n"
     ]
    }
   ],
   "source": [
    "z = np.abs(zscore(df['sex']))\n",
    "\n",
    "print(len(np.where(z > 3)))"
   ]
  },
  {
   "cell_type": "markdown",
   "id": "b31890c5",
   "metadata": {},
   "source": [
    "As the data is categorical and the there are very few outliers, we will leave it as is."
   ]
  },
  {
   "cell_type": "markdown",
   "id": "06692f84",
   "metadata": {},
   "source": [
    "### Skewness"
   ]
  },
  {
   "cell_type": "code",
   "execution_count": 19,
   "id": "860606fd",
   "metadata": {},
   "outputs": [
    {
     "data": {
      "text/plain": [
       "rank            -1.151164\n",
       "discipline      -0.177684\n",
       "yrs.since.phd    0.300880\n",
       "yrs.service      0.650569\n",
       "sex             -2.709958\n",
       "salary           0.714568\n",
       "dtype: float64"
      ]
     },
     "execution_count": 19,
     "metadata": {},
     "output_type": "execute_result"
    }
   ],
   "source": [
    "df.skew()"
   ]
  },
  {
   "cell_type": "markdown",
   "id": "01ae2f2b",
   "metadata": {},
   "source": [
    "There is skewness in sex and rank which are both categorical data. To avoid bias in our model, we will not remove this skewness."
   ]
  },
  {
   "cell_type": "markdown",
   "id": "91ec9be5",
   "metadata": {},
   "source": [
    "### Testing and Training the model"
   ]
  },
  {
   "cell_type": "markdown",
   "id": "6f5ab592",
   "metadata": {},
   "source": [
    "##### Splitting data into features and target"
   ]
  },
  {
   "cell_type": "code",
   "execution_count": 25,
   "id": "5f32691b",
   "metadata": {},
   "outputs": [],
   "source": [
    "x = df.iloc[:,:-1]\n",
    "y = df.iloc[:, -1]"
   ]
  },
  {
   "cell_type": "code",
   "execution_count": 26,
   "id": "38948ab6",
   "metadata": {},
   "outputs": [
    {
     "data": {
      "text/html": [
       "<div>\n",
       "<style scoped>\n",
       "    .dataframe tbody tr th:only-of-type {\n",
       "        vertical-align: middle;\n",
       "    }\n",
       "\n",
       "    .dataframe tbody tr th {\n",
       "        vertical-align: top;\n",
       "    }\n",
       "\n",
       "    .dataframe thead th {\n",
       "        text-align: right;\n",
       "    }\n",
       "</style>\n",
       "<table border=\"1\" class=\"dataframe\">\n",
       "  <thead>\n",
       "    <tr style=\"text-align: right;\">\n",
       "      <th></th>\n",
       "      <th>rank</th>\n",
       "      <th>discipline</th>\n",
       "      <th>yrs.since.phd</th>\n",
       "      <th>yrs.service</th>\n",
       "      <th>sex</th>\n",
       "    </tr>\n",
       "  </thead>\n",
       "  <tbody>\n",
       "    <tr>\n",
       "      <th>0</th>\n",
       "      <td>2.0</td>\n",
       "      <td>1.0</td>\n",
       "      <td>19</td>\n",
       "      <td>18</td>\n",
       "      <td>1.0</td>\n",
       "    </tr>\n",
       "    <tr>\n",
       "      <th>1</th>\n",
       "      <td>2.0</td>\n",
       "      <td>1.0</td>\n",
       "      <td>20</td>\n",
       "      <td>16</td>\n",
       "      <td>1.0</td>\n",
       "    </tr>\n",
       "    <tr>\n",
       "      <th>2</th>\n",
       "      <td>1.0</td>\n",
       "      <td>1.0</td>\n",
       "      <td>4</td>\n",
       "      <td>3</td>\n",
       "      <td>1.0</td>\n",
       "    </tr>\n",
       "    <tr>\n",
       "      <th>3</th>\n",
       "      <td>2.0</td>\n",
       "      <td>1.0</td>\n",
       "      <td>45</td>\n",
       "      <td>39</td>\n",
       "      <td>1.0</td>\n",
       "    </tr>\n",
       "    <tr>\n",
       "      <th>4</th>\n",
       "      <td>2.0</td>\n",
       "      <td>1.0</td>\n",
       "      <td>40</td>\n",
       "      <td>41</td>\n",
       "      <td>1.0</td>\n",
       "    </tr>\n",
       "    <tr>\n",
       "      <th>...</th>\n",
       "      <td>...</td>\n",
       "      <td>...</td>\n",
       "      <td>...</td>\n",
       "      <td>...</td>\n",
       "      <td>...</td>\n",
       "    </tr>\n",
       "    <tr>\n",
       "      <th>392</th>\n",
       "      <td>2.0</td>\n",
       "      <td>0.0</td>\n",
       "      <td>33</td>\n",
       "      <td>30</td>\n",
       "      <td>1.0</td>\n",
       "    </tr>\n",
       "    <tr>\n",
       "      <th>393</th>\n",
       "      <td>2.0</td>\n",
       "      <td>0.0</td>\n",
       "      <td>31</td>\n",
       "      <td>19</td>\n",
       "      <td>1.0</td>\n",
       "    </tr>\n",
       "    <tr>\n",
       "      <th>394</th>\n",
       "      <td>2.0</td>\n",
       "      <td>0.0</td>\n",
       "      <td>42</td>\n",
       "      <td>25</td>\n",
       "      <td>1.0</td>\n",
       "    </tr>\n",
       "    <tr>\n",
       "      <th>395</th>\n",
       "      <td>2.0</td>\n",
       "      <td>0.0</td>\n",
       "      <td>25</td>\n",
       "      <td>15</td>\n",
       "      <td>1.0</td>\n",
       "    </tr>\n",
       "    <tr>\n",
       "      <th>396</th>\n",
       "      <td>1.0</td>\n",
       "      <td>0.0</td>\n",
       "      <td>8</td>\n",
       "      <td>4</td>\n",
       "      <td>1.0</td>\n",
       "    </tr>\n",
       "  </tbody>\n",
       "</table>\n",
       "<p>397 rows × 5 columns</p>\n",
       "</div>"
      ],
      "text/plain": [
       "     rank  discipline  yrs.since.phd  yrs.service  sex\n",
       "0     2.0         1.0             19           18  1.0\n",
       "1     2.0         1.0             20           16  1.0\n",
       "2     1.0         1.0              4            3  1.0\n",
       "3     2.0         1.0             45           39  1.0\n",
       "4     2.0         1.0             40           41  1.0\n",
       "..    ...         ...            ...          ...  ...\n",
       "392   2.0         0.0             33           30  1.0\n",
       "393   2.0         0.0             31           19  1.0\n",
       "394   2.0         0.0             42           25  1.0\n",
       "395   2.0         0.0             25           15  1.0\n",
       "396   1.0         0.0              8            4  1.0\n",
       "\n",
       "[397 rows x 5 columns]"
      ]
     },
     "execution_count": 26,
     "metadata": {},
     "output_type": "execute_result"
    }
   ],
   "source": [
    "x"
   ]
  },
  {
   "cell_type": "code",
   "execution_count": 27,
   "id": "1ceca92d",
   "metadata": {},
   "outputs": [
    {
     "data": {
      "text/plain": [
       "0      139750\n",
       "1      173200\n",
       "2       79750\n",
       "3      115000\n",
       "4      141500\n",
       "        ...  \n",
       "392    103106\n",
       "393    150564\n",
       "394    101738\n",
       "395     95329\n",
       "396     81035\n",
       "Name: salary, Length: 397, dtype: int64"
      ]
     },
     "execution_count": 27,
     "metadata": {},
     "output_type": "execute_result"
    }
   ],
   "source": [
    "y"
   ]
  },
  {
   "cell_type": "markdown",
   "id": "036f44c4",
   "metadata": {},
   "source": [
    "###### Linear Regression"
   ]
  },
  {
   "cell_type": "code",
   "execution_count": 28,
   "id": "dfa14492",
   "metadata": {},
   "outputs": [],
   "source": [
    "lr = LinearRegression()\n",
    "from sklearn.metrics import r2_score"
   ]
  },
  {
   "cell_type": "code",
   "execution_count": 30,
   "id": "c94e530d",
   "metadata": {},
   "outputs": [
    {
     "name": "stdout",
     "output_type": "stream",
     "text": [
      "At random state 0, the training accuracy is: 0.35238978918304\n",
      "At random state 0, the testing accuracy is: 0.3944705006995439\n",
      "\n",
      "\n",
      "At random state 1, the training accuracy is: 0.37981683378332454\n",
      "At random state 1, the testing accuracy is: 0.3175095677056925\n",
      "\n",
      "\n",
      "At random state 2, the training accuracy is: 0.41023070933432815\n",
      "At random state 2, the testing accuracy is: 0.232111211405579\n",
      "\n",
      "\n",
      "At random state 3, the training accuracy is: 0.3849700365272737\n",
      "At random state 3, the testing accuracy is: 0.33785299194050067\n",
      "\n",
      "\n",
      "At random state 4, the training accuracy is: 0.38484712069927296\n",
      "At random state 4, the testing accuracy is: 0.30745500516689084\n",
      "\n",
      "\n",
      "At random state 5, the training accuracy is: 0.4197135328568442\n",
      "At random state 5, the testing accuracy is: 0.21891674562236862\n",
      "\n",
      "\n",
      "At random state 6, the training accuracy is: 0.3770581841035513\n",
      "At random state 6, the testing accuracy is: 0.3513506580306237\n",
      "\n",
      "\n",
      "At random state 7, the training accuracy is: 0.3526070609258284\n",
      "At random state 7, the testing accuracy is: 0.4231971508049397\n",
      "\n",
      "\n",
      "At random state 8, the training accuracy is: 0.4063090336204742\n",
      "At random state 8, the testing accuracy is: 0.21035260210730633\n",
      "\n",
      "\n",
      "At random state 9, the training accuracy is: 0.3902509360477865\n",
      "At random state 9, the testing accuracy is: 0.32105342796869507\n",
      "\n",
      "\n",
      "At random state 10, the training accuracy is: 0.3736660312816864\n",
      "At random state 10, the testing accuracy is: 0.3589888047331463\n",
      "\n",
      "\n",
      "At random state 11, the training accuracy is: 0.41313937945331336\n",
      "At random state 11, the testing accuracy is: 0.27654308171801156\n",
      "\n",
      "\n",
      "At random state 12, the training accuracy is: 0.3824949062394384\n",
      "At random state 12, the testing accuracy is: 0.34245959683980254\n",
      "\n",
      "\n",
      "At random state 13, the training accuracy is: 0.38528135146697984\n",
      "At random state 13, the testing accuracy is: 0.2666412996846934\n",
      "\n",
      "\n",
      "At random state 14, the training accuracy is: 0.4221984546477988\n",
      "At random state 14, the testing accuracy is: 0.19245710855609321\n",
      "\n",
      "\n",
      "At random state 15, the training accuracy is: 0.37717937779538213\n",
      "At random state 15, the testing accuracy is: 0.3203972940529718\n",
      "\n",
      "\n",
      "At random state 16, the training accuracy is: 0.3828607929404554\n",
      "At random state 16, the testing accuracy is: 0.3291314313157918\n",
      "\n",
      "\n",
      "At random state 17, the training accuracy is: 0.37626212801310366\n",
      "At random state 17, the testing accuracy is: 0.3409727056591968\n",
      "\n",
      "\n",
      "At random state 18, the training accuracy is: 0.3613942342205101\n",
      "At random state 18, the testing accuracy is: 0.38504545075910224\n",
      "\n",
      "\n",
      "At random state 19, the training accuracy is: 0.3663979249362803\n",
      "At random state 19, the testing accuracy is: 0.3797036122088473\n",
      "\n",
      "\n",
      "At random state 20, the training accuracy is: 0.36761275233465807\n",
      "At random state 20, the testing accuracy is: 0.37318098275665856\n",
      "\n",
      "\n",
      "At random state 21, the training accuracy is: 0.36871454017004246\n",
      "At random state 21, the testing accuracy is: 0.37329111302496853\n",
      "\n",
      "\n",
      "At random state 22, the training accuracy is: 0.3783462544682885\n",
      "At random state 22, the testing accuracy is: 0.3450362835431706\n",
      "\n",
      "\n",
      "At random state 23, the training accuracy is: 0.40120809273372005\n",
      "At random state 23, the testing accuracy is: 0.30193362369404475\n",
      "\n",
      "\n",
      "At random state 24, the training accuracy is: 0.41906207075990487\n",
      "At random state 24, the testing accuracy is: 0.24370493269115823\n",
      "\n",
      "\n",
      "At random state 25, the training accuracy is: 0.4063538106282183\n",
      "At random state 25, the testing accuracy is: 0.2541412613278683\n",
      "\n",
      "\n",
      "At random state 26, the training accuracy is: 0.3710058621860578\n",
      "At random state 26, the testing accuracy is: 0.34559864696429476\n",
      "\n",
      "\n",
      "At random state 27, the training accuracy is: 0.3834192366224449\n",
      "At random state 27, the testing accuracy is: 0.33867201501847755\n",
      "\n",
      "\n",
      "At random state 28, the training accuracy is: 0.40634990029593343\n",
      "At random state 28, the testing accuracy is: 0.27116698863693756\n",
      "\n",
      "\n",
      "At random state 29, the training accuracy is: 0.40163062393703075\n",
      "At random state 29, the testing accuracy is: 0.27952785328959184\n",
      "\n",
      "\n",
      "At random state 30, the training accuracy is: 0.3756743871844712\n",
      "At random state 30, the testing accuracy is: 0.35416031708075213\n",
      "\n",
      "\n",
      "At random state 31, the training accuracy is: 0.3802262487355931\n",
      "At random state 31, the testing accuracy is: 0.34093360554946117\n",
      "\n",
      "\n",
      "At random state 32, the training accuracy is: 0.39391762040280875\n",
      "At random state 32, the testing accuracy is: 0.2839658049170226\n",
      "\n",
      "\n",
      "At random state 33, the training accuracy is: 0.3833105069379913\n",
      "At random state 33, the testing accuracy is: 0.3386534432673928\n",
      "\n",
      "\n",
      "At random state 34, the training accuracy is: 0.39533382456775823\n",
      "At random state 34, the testing accuracy is: 0.3082064382351063\n",
      "\n",
      "\n",
      "At random state 35, the training accuracy is: 0.3780069676987222\n",
      "At random state 35, the testing accuracy is: 0.32786012523417174\n",
      "\n",
      "\n",
      "At random state 36, the training accuracy is: 0.393856797180412\n",
      "At random state 36, the testing accuracy is: 0.24106796584507184\n",
      "\n",
      "\n",
      "At random state 37, the training accuracy is: 0.32839435637495407\n",
      "At random state 37, the testing accuracy is: 0.42086962436250985\n",
      "\n",
      "\n",
      "At random state 38, the training accuracy is: 0.38567145030370686\n",
      "At random state 38, the testing accuracy is: 0.31421546122073374\n",
      "\n",
      "\n",
      "At random state 39, the training accuracy is: 0.36879962571552105\n",
      "At random state 39, the testing accuracy is: 0.3769398895870113\n",
      "\n",
      "\n",
      "At random state 40, the training accuracy is: 0.381338615195819\n",
      "At random state 40, the testing accuracy is: 0.34838031661306834\n",
      "\n",
      "\n",
      "At random state 41, the training accuracy is: 0.3609973399448273\n",
      "At random state 41, the testing accuracy is: 0.38868931044654054\n",
      "\n",
      "\n",
      "At random state 42, the training accuracy is: 0.41796329470233706\n",
      "At random state 42, the testing accuracy is: 0.22334860140435908\n",
      "\n",
      "\n",
      "At random state 43, the training accuracy is: 0.38702534954523293\n",
      "At random state 43, the testing accuracy is: 0.3346126156925928\n",
      "\n",
      "\n",
      "At random state 44, the training accuracy is: 0.3833191470773498\n",
      "At random state 44, the testing accuracy is: 0.3272759349547312\n",
      "\n",
      "\n",
      "At random state 45, the training accuracy is: 0.4271394320002466\n",
      "At random state 45, the testing accuracy is: 0.24469269295805263\n",
      "\n",
      "\n",
      "At random state 46, the training accuracy is: 0.3595297955435316\n",
      "At random state 46, the testing accuracy is: 0.3740063297785162\n",
      "\n",
      "\n",
      "At random state 47, the training accuracy is: 0.3515072259823704\n",
      "At random state 47, the testing accuracy is: 0.4037541712586129\n",
      "\n",
      "\n",
      "At random state 48, the training accuracy is: 0.40898908716597593\n",
      "At random state 48, the testing accuracy is: 0.23684621143786788\n",
      "\n",
      "\n",
      "At random state 49, the training accuracy is: 0.36692349531482304\n",
      "At random state 49, the testing accuracy is: 0.34717851999122984\n",
      "\n",
      "\n",
      "At random state 50, the training accuracy is: 0.3886271511226549\n",
      "At random state 50, the testing accuracy is: 0.32036405695152304\n",
      "\n",
      "\n",
      "At random state 51, the training accuracy is: 0.3633247409346535\n",
      "At random state 51, the testing accuracy is: 0.38465772197691117\n",
      "\n",
      "\n",
      "At random state 52, the training accuracy is: 0.4065640660192177\n",
      "At random state 52, the testing accuracy is: 0.2894112340037298\n",
      "\n",
      "\n",
      "At random state 53, the training accuracy is: 0.3870723242842212\n",
      "At random state 53, the testing accuracy is: 0.30447298662654354\n",
      "\n",
      "\n",
      "At random state 54, the training accuracy is: 0.3869991207336051\n",
      "At random state 54, the testing accuracy is: 0.31053594480835556\n",
      "\n",
      "\n",
      "At random state 55, the training accuracy is: 0.4032246327424487\n",
      "At random state 55, the testing accuracy is: 0.286285024124295\n",
      "\n",
      "\n",
      "At random state 56, the training accuracy is: 0.3890093993680064\n",
      "At random state 56, the testing accuracy is: 0.31536916733706377\n",
      "\n",
      "\n",
      "At random state 57, the training accuracy is: 0.3614359333953241\n",
      "At random state 57, the testing accuracy is: 0.392639742317314\n",
      "\n",
      "\n",
      "At random state 58, the training accuracy is: 0.37451265993025395\n",
      "At random state 58, the testing accuracy is: 0.36050754623185133\n",
      "\n",
      "\n",
      "At random state 59, the training accuracy is: 0.3725326589313568\n",
      "At random state 59, the testing accuracy is: 0.3590065774131612\n",
      "\n",
      "\n",
      "At random state 60, the training accuracy is: 0.36437455019972\n",
      "At random state 60, the testing accuracy is: 0.39080714954569096\n",
      "\n",
      "\n",
      "At random state 61, the training accuracy is: 0.3578429874992357\n",
      "At random state 61, the testing accuracy is: 0.40296866912403917\n",
      "\n",
      "\n",
      "At random state 62, the training accuracy is: 0.3732730923231322\n",
      "At random state 62, the testing accuracy is: 0.34167214774794696\n",
      "\n",
      "\n",
      "At random state 63, the training accuracy is: 0.366461829801902\n",
      "At random state 63, the testing accuracy is: 0.38314243059990427\n",
      "\n",
      "\n",
      "At random state 64, the training accuracy is: 0.3367235737616394\n",
      "At random state 64, the testing accuracy is: 0.44344625038013297\n",
      "\n",
      "\n",
      "At random state 65, the training accuracy is: 0.37874973449052385\n",
      "At random state 65, the testing accuracy is: 0.33460327709017357\n",
      "\n",
      "\n",
      "At random state 66, the training accuracy is: 0.3583066945698872\n",
      "At random state 66, the testing accuracy is: 0.3936691957907883\n",
      "\n",
      "\n",
      "At random state 67, the training accuracy is: 0.3491732638905203\n",
      "At random state 67, the testing accuracy is: 0.41329598297747516\n",
      "\n",
      "\n",
      "At random state 68, the training accuracy is: 0.4333326545785259\n",
      "At random state 68, the testing accuracy is: 0.17482189885830246\n",
      "\n",
      "\n",
      "At random state 69, the training accuracy is: 0.37524421622223625\n",
      "At random state 69, the testing accuracy is: 0.2925925460828096\n",
      "\n",
      "\n",
      "At random state 70, the training accuracy is: 0.421539166877159\n",
      "At random state 70, the testing accuracy is: 0.2025844556616182\n",
      "\n",
      "\n",
      "At random state 71, the training accuracy is: 0.40659727587132843\n",
      "At random state 71, the testing accuracy is: 0.2805780808615965\n",
      "\n",
      "\n",
      "At random state 72, the training accuracy is: 0.3620125024176081\n",
      "At random state 72, the testing accuracy is: 0.35648733011725\n",
      "\n",
      "\n",
      "At random state 73, the training accuracy is: 0.3734940085509464\n",
      "At random state 73, the testing accuracy is: 0.3610462709919996\n",
      "\n",
      "\n",
      "At random state 74, the training accuracy is: 0.35178076306101547\n",
      "At random state 74, the testing accuracy is: 0.4105825393470305\n",
      "\n",
      "\n",
      "At random state 75, the training accuracy is: 0.3836854141219732\n",
      "At random state 75, the testing accuracy is: 0.34583478885662333\n",
      "\n",
      "\n"
     ]
    },
    {
     "name": "stdout",
     "output_type": "stream",
     "text": [
      "At random state 76, the training accuracy is: 0.39619691936532064\n",
      "At random state 76, the testing accuracy is: 0.26978294895376076\n",
      "\n",
      "\n",
      "At random state 77, the training accuracy is: 0.3849378488209082\n",
      "At random state 77, the testing accuracy is: 0.3033804271587591\n",
      "\n",
      "\n",
      "At random state 78, the training accuracy is: 0.3809094001399288\n",
      "At random state 78, the testing accuracy is: 0.33766300533281823\n",
      "\n",
      "\n",
      "At random state 79, the training accuracy is: 0.34838108023623193\n",
      "At random state 79, the testing accuracy is: 0.415469339763908\n",
      "\n",
      "\n",
      "At random state 80, the training accuracy is: 0.3481987236486287\n",
      "At random state 80, the testing accuracy is: 0.4450787110648239\n",
      "\n",
      "\n",
      "At random state 81, the training accuracy is: 0.3472333600608519\n",
      "At random state 81, the testing accuracy is: 0.42279186237072386\n",
      "\n",
      "\n",
      "At random state 82, the training accuracy is: 0.38597750796388186\n",
      "At random state 82, the testing accuracy is: 0.31263128406241314\n",
      "\n",
      "\n",
      "At random state 83, the training accuracy is: 0.3844153336701147\n",
      "At random state 83, the testing accuracy is: 0.31039226634228245\n",
      "\n",
      "\n",
      "At random state 84, the training accuracy is: 0.37658595598127076\n",
      "At random state 84, the testing accuracy is: 0.3335452157048874\n",
      "\n",
      "\n",
      "At random state 85, the training accuracy is: 0.382391831388314\n",
      "At random state 85, the testing accuracy is: 0.34517546064212146\n",
      "\n",
      "\n",
      "At random state 86, the training accuracy is: 0.40776086954521573\n",
      "At random state 86, the testing accuracy is: 0.286781595597176\n",
      "\n",
      "\n",
      "At random state 87, the training accuracy is: 0.3891905126218417\n",
      "At random state 87, the testing accuracy is: 0.3204870645218717\n",
      "\n",
      "\n",
      "At random state 88, the training accuracy is: 0.3352156293348948\n",
      "At random state 88, the testing accuracy is: 0.45906849618811196\n",
      "\n",
      "\n",
      "At random state 89, the training accuracy is: 0.4059562181967351\n",
      "At random state 89, the testing accuracy is: 0.23821827511857674\n",
      "\n",
      "\n",
      "At random state 90, the training accuracy is: 0.3804937399669517\n",
      "At random state 90, the testing accuracy is: 0.3522538659663259\n",
      "\n",
      "\n",
      "At random state 91, the training accuracy is: 0.3919156135170363\n",
      "At random state 91, the testing accuracy is: 0.32098088875593855\n",
      "\n",
      "\n",
      "At random state 92, the training accuracy is: 0.35696910921827585\n",
      "At random state 92, the testing accuracy is: 0.4068888552331891\n",
      "\n",
      "\n",
      "At random state 93, the training accuracy is: 0.39455940732936934\n",
      "At random state 93, the testing accuracy is: 0.30721099859938716\n",
      "\n",
      "\n",
      "At random state 94, the training accuracy is: 0.43004805699785964\n",
      "At random state 94, the testing accuracy is: 0.18359451123624582\n",
      "\n",
      "\n",
      "At random state 95, the training accuracy is: 0.3940468105442184\n",
      "At random state 95, the testing accuracy is: 0.3130720755855223\n",
      "\n",
      "\n",
      "At random state 96, the training accuracy is: 0.37076477686302134\n",
      "At random state 96, the testing accuracy is: 0.37143503196128413\n",
      "\n",
      "\n",
      "At random state 97, the training accuracy is: 0.36531500861282895\n",
      "At random state 97, the testing accuracy is: 0.341882147371925\n",
      "\n",
      "\n",
      "At random state 98, the training accuracy is: 0.33471672800626895\n",
      "At random state 98, the testing accuracy is: 0.4320260326583315\n",
      "\n",
      "\n",
      "At random state 99, the training accuracy is: 0.3767393671050667\n",
      "At random state 99, the testing accuracy is: 0.3537511005851164\n",
      "\n",
      "\n",
      "0.4333326545785259\n",
      "0.45906849618811196\n",
      "88\n"
     ]
    }
   ],
   "source": [
    "best_train_score  = 0\n",
    "best_test_score  = 0\n",
    "best_random_state_test = 0\n",
    "for i in range(100):\n",
    "    xtrain,xtest,ytrain,ytest = train_test_split(x,y,test_size=.3, random_state=i)\n",
    "    lr.fit(xtrain,ytrain)\n",
    "    pred_train = lr.predict(xtrain)\n",
    "    pred_test = lr.predict(xtest)\n",
    "    print(f\"At random state {i}, the training accuracy is: {r2_score(ytrain, pred_train)}\")\n",
    "    print(f\"At random state {i}, the testing accuracy is: {r2_score(ytest, pred_test)}\")\n",
    "    print('\\n')\n",
    "    if r2_score(ytrain, pred_train) > best_train_score:\n",
    "        best_train_score = r2_score(ytrain, pred_train)\n",
    "    if r2_score(ytest, pred_test) > best_test_score:\n",
    "        best_test_score = r2_score(ytest, pred_test)\n",
    "        best_random_state_test = i\n",
    "        \n",
    "print(best_train_score)\n",
    "print(best_test_score)\n",
    "print(best_random_state_test)"
   ]
  },
  {
   "cell_type": "code",
   "execution_count": 32,
   "id": "19b2e39c",
   "metadata": {},
   "outputs": [],
   "source": [
    "xtrain,xtest,ytrain,ytest = train_test_split(x,y,test_size=.3, random_state=88)"
   ]
  },
  {
   "cell_type": "code",
   "execution_count": 37,
   "id": "ca9a09fb",
   "metadata": {},
   "outputs": [
    {
     "data": {
      "text/plain": [
       "0.45906849618811196"
      ]
     },
     "execution_count": 37,
     "metadata": {},
     "output_type": "execute_result"
    }
   ],
   "source": [
    "lr.fit(xtrain,ytrain)\n",
    "pred_train = lr.predict(xtrain)\n",
    "pred_test = lr.predict(xtest)\n",
    "r2_score(ytest,pred_test)"
   ]
  },
  {
   "cell_type": "markdown",
   "id": "f6521b00",
   "metadata": {},
   "source": [
    "### cross validation of model"
   ]
  },
  {
   "cell_type": "code",
   "execution_count": 39,
   "id": "59a03908",
   "metadata": {},
   "outputs": [
    {
     "name": "stdout",
     "output_type": "stream",
     "text": [
      "At cross fold 2 the cv score is 0.3270801167406513 and accuracy for training is 0.3352156293348948, and accuracy for testing is 0.45906849618811196\n",
      "\n",
      "\n",
      "At cross fold 3 the cv score is 0.32033286730598803 and accuracy for training is 0.3352156293348948, and accuracy for testing is 0.45906849618811196\n",
      "\n",
      "\n",
      "At cross fold 4 the cv score is 0.321819669376836 and accuracy for training is 0.3352156293348948, and accuracy for testing is 0.45906849618811196\n",
      "\n",
      "\n",
      "At cross fold 5 the cv score is 0.29569928663871775 and accuracy for training is 0.3352156293348948, and accuracy for testing is 0.45906849618811196\n",
      "\n",
      "\n",
      "At cross fold 6 the cv score is 0.33096341839295546 and accuracy for training is 0.3352156293348948, and accuracy for testing is 0.45906849618811196\n",
      "\n",
      "\n",
      "At cross fold 7 the cv score is 0.3257704419996536 and accuracy for training is 0.3352156293348948, and accuracy for testing is 0.45906849618811196\n",
      "\n",
      "\n",
      "At cross fold 8 the cv score is 0.3310060584513582 and accuracy for training is 0.3352156293348948, and accuracy for testing is 0.45906849618811196\n",
      "\n",
      "\n",
      "At cross fold 9 the cv score is 0.3043911239889371 and accuracy for training is 0.3352156293348948, and accuracy for testing is 0.45906849618811196\n",
      "\n",
      "\n"
     ]
    }
   ],
   "source": [
    "train_accuracy = r2_score(ytrain, pred_train)\n",
    "test_accuracy = r2_score(ytest, pred_test)\n",
    "\n",
    "from sklearn.model_selection import cross_val_score\n",
    "for j in range(2,10):\n",
    "    cv_score = cross_val_score(lr, x, y, cv=j)\n",
    "    cv_mean = cv_score.mean()\n",
    "    print(f'At cross fold {j} the cv score is {cv_mean} and accuracy for training is {train_accuracy}, and accuracy for testing is {test_accuracy}')\n",
    "    print('\\n')"
   ]
  },
  {
   "cell_type": "markdown",
   "id": "11bc181e",
   "metadata": {},
   "source": [
    "cv = 8 chosen"
   ]
  },
  {
   "cell_type": "code",
   "execution_count": 40,
   "id": "54de5e59",
   "metadata": {},
   "outputs": [
    {
     "data": {
      "image/png": "[encoded data removed]",
      "text/plain": [
       "<Figure size 576x432 with 1 Axes>"
      ]
     },
     "metadata": {
      "needs_background": "light"
     },
     "output_type": "display_data"
    }
   ],
   "source": [
    "plt.figure(figsize = (8,6))\n",
    "plt.scatter(x=ytest, y=pred_test, color='r')\n",
    "plt.plot(ytest, ytest, color='b')\n",
    "plt.xlabel('Actual salary')\n",
    "plt.ylabel('Predicted salary')\n",
    "plt.title('Linear Regression')\n",
    "plt.show()"
   ]
  },
  {
   "cell_type": "markdown",
   "id": "e9cce14a",
   "metadata": {},
   "source": [
    "We can see that the best fit line misses most points, which means there is high bias in the model"
   ]
  },
  {
   "cell_type": "markdown",
   "id": "d5921dc0",
   "metadata": {},
   "source": [
    "### Regularization"
   ]
  },
  {
   "cell_type": "markdown",
   "id": "83b4d302",
   "metadata": {},
   "source": [
    "###### Lasso"
   ]
  },
  {
   "cell_type": "code",
   "execution_count": 41,
   "id": "d8390b39",
   "metadata": {},
   "outputs": [
    {
     "name": "stdout",
     "output_type": "stream",
     "text": [
      "GridSearchCV(estimator=Lasso(),\n",
      "             param_grid={'alpha': [1, 0.1, 0.01, 0.001, 0.0001, 0, 10, 100,\n",
      "                                   1000, 10000, 1e-05],\n",
      "                         'random_state': [0, 1, 2, 3, 4, 5, 6, 7, 8, 9, 10, 11,\n",
      "                                          12, 13, 14, 15, 16, 17, 18, 19, 20,\n",
      "                                          21, 22, 23, 24, 25, 26, 27, 28, 29, ...]})\n",
      "0.19114804673057828\n",
      "{'alpha': 100, 'random_state': 0}\n"
     ]
    }
   ],
   "source": [
    "from sklearn.model_selection import GridSearchCV\n",
    "from sklearn.linear_model import Lasso, Ridge, ElasticNet\n",
    "\n",
    "parameters = {'alpha':[1,0.1,0.01,0.001,0.0001,0, 10, 100, 1000, 10000, 0.00001], 'random_state':list(range(0,100))}\n",
    "model = Lasso()\n",
    "\n",
    "grid = GridSearchCV(estimator=model, param_grid=parameters)\n",
    "\n",
    "grid.fit(xtrain, ytrain)\n",
    "\n",
    "print(grid)\n",
    "\n",
    "print(grid.best_score_)\n",
    "print(grid.best_params_)"
   ]
  },
  {
   "cell_type": "code",
   "execution_count": 60,
   "id": "321b157f",
   "metadata": {},
   "outputs": [
    {
     "name": "stdout",
     "output_type": "stream",
     "text": [
      "0.33503832159256786\n"
     ]
    },
    {
     "data": {
      "text/plain": [
       "0.46106553122180793"
      ]
     },
     "execution_count": 60,
     "metadata": {},
     "output_type": "execute_result"
    }
   ],
   "source": [
    "ls = Lasso(alpha=100, random_state=0)\n",
    "\n",
    "ls.fit(xtrain,ytrain)\n",
    "print(ls.score(xtrain,ytrain))\n",
    "predlasso = ls.predict(xtest)\n",
    "r2_score(ytest, predlasso)"
   ]
  },
  {
   "cell_type": "markdown",
   "id": "f8f7d0c0",
   "metadata": {},
   "source": [
    "###### Ridge"
   ]
  },
  {
   "cell_type": "code",
   "execution_count": 43,
   "id": "a7bd107b",
   "metadata": {
    "scrolled": true
   },
   "outputs": [
    {
     "name": "stdout",
     "output_type": "stream",
     "text": [
      "GridSearchCV(estimator=Ridge(),\n",
      "             param_grid={'alpha': [1, 0.1, 0.01, 0.001, 0.0001, 0, 10, 100,\n",
      "                                   1000, 10000, 1e-05],\n",
      "                         'random_state': [0, 1, 2, 3, 4, 5, 6, 7, 8, 9, 10, 11,\n",
      "                                          12, 13, 14, 15, 16, 17, 18, 19, 20,\n",
      "                                          21, 22, 23, 24, 25, 26, 27, 28, 29, ...]})\n",
      "0.19710092894309425\n",
      "{'alpha': 10, 'random_state': 0}\n"
     ]
    }
   ],
   "source": [
    "parameters = {'alpha':[1,0.1,0.01,0.001,0.0001,0, 10, 100, 1000, 10000, 0.00001], 'random_state':list(range(0,100))}\n",
    "model = Ridge()\n",
    "\n",
    "grid = GridSearchCV(estimator=model, param_grid=parameters)\n",
    "\n",
    "grid.fit(xtrain, ytrain)\n",
    "\n",
    "print(grid)\n",
    "\n",
    "print(grid.best_score_)\n",
    "print(grid.best_params_)"
   ]
  },
  {
   "cell_type": "code",
   "execution_count": 45,
   "id": "312e6b98",
   "metadata": {},
   "outputs": [
    {
     "name": "stdout",
     "output_type": "stream",
     "text": [
      "0.33319337780322356\n"
     ]
    },
    {
     "data": {
      "text/plain": [
       "0.4594670170695534"
      ]
     },
     "execution_count": 45,
     "metadata": {},
     "output_type": "execute_result"
    }
   ],
   "source": [
    "rd = Ridge(alpha=10, random_state=0)\n",
    "\n",
    "rd.fit(xtrain,ytrain)\n",
    "print(rd.score(xtrain,ytrain))\n",
    "predridge = rd.predict(xtest)\n",
    "r2_score(ytest, predridge)"
   ]
  },
  {
   "cell_type": "markdown",
   "id": "e92e9172",
   "metadata": {},
   "source": [
    "###### Elastic Net"
   ]
  },
  {
   "cell_type": "code",
   "execution_count": 46,
   "id": "010bd7b7",
   "metadata": {},
   "outputs": [
    {
     "name": "stdout",
     "output_type": "stream",
     "text": [
      "GridSearchCV(estimator=ElasticNet(),\n",
      "             param_grid={'alpha': [1, 0.1, 0.01, 0.001, 0.0001, 0, 10, 100,\n",
      "                                   1000, 10000, 1e-05],\n",
      "                         'random_state': [0, 1, 2, 3, 4, 5, 6, 7, 8, 9, 10, 11,\n",
      "                                          12, 13, 14, 15, 16, 17, 18, 19, 20,\n",
      "                                          21, 22, 23, 24, 25, 26, 27, 28, 29, ...]})\n",
      "0.19738717934848926\n",
      "{'alpha': 0.1, 'random_state': 0}\n"
     ]
    }
   ],
   "source": [
    "parameters = {'alpha':[1,0.1,0.01,0.001,0.0001,0, 10, 100, 1000, 10000, 0.00001], 'random_state':list(range(0,100))}\n",
    "model = ElasticNet()\n",
    "\n",
    "grid = GridSearchCV(estimator=model, param_grid=parameters)\n",
    "\n",
    "grid.fit(xtrain, ytrain)\n",
    "\n",
    "print(grid)\n",
    "\n",
    "print(grid.best_score_)\n",
    "print(grid.best_params_)"
   ]
  },
  {
   "cell_type": "code",
   "execution_count": 47,
   "id": "244d8627",
   "metadata": {},
   "outputs": [
    {
     "name": "stdout",
     "output_type": "stream",
     "text": [
      "0.33175057653278195\n"
     ]
    },
    {
     "data": {
      "text/plain": [
       "0.4581327162629374"
      ]
     },
     "execution_count": 47,
     "metadata": {},
     "output_type": "execute_result"
    }
   ],
   "source": [
    "el = ElasticNet(alpha=0.1, random_state=0)\n",
    "el.fit(xtrain,ytrain)\n",
    "print(el.score(xtrain,ytrain))\n",
    "predel = el.predict(xtest)\n",
    "r2_score(ytest, predel)"
   ]
  },
  {
   "cell_type": "markdown",
   "id": "0938d357",
   "metadata": {},
   "source": [
    "### Ensemble Technique"
   ]
  },
  {
   "cell_type": "code",
   "execution_count": 48,
   "id": "ee458997",
   "metadata": {},
   "outputs": [
    {
     "name": "stdout",
     "output_type": "stream",
     "text": [
      "{'criterion': 'mae', 'max_features': 'log2'}\n"
     ]
    }
   ],
   "source": [
    "from sklearn.ensemble import RandomForestRegressor\n",
    "\n",
    "parameters = {'criterion': ['mse', 'mae'],'max_features':['auto','sqrt','log2']}\n",
    "rf = RandomForestRegressor()\n",
    "clf = GridSearchCV(rf, parameters)\n",
    "clf.fit(xtrain, ytrain)\n",
    "\n",
    "print(clf.best_params_)"
   ]
  },
  {
   "cell_type": "code",
   "execution_count": 59,
   "id": "ce8efcef",
   "metadata": {},
   "outputs": [
    {
     "name": "stdout",
     "output_type": "stream",
     "text": [
      "R2 score:  43.84634271502522\n",
      "cross val score:  38.397039667417964\n"
     ]
    }
   ],
   "source": [
    "rf = RandomForestRegressor(criterion='mae', max_features='log2')\n",
    "rf.fit(xtrain, ytrain)\n",
    "rf.score(xtrain, ytrain)\n",
    "pred = rf.predict(xtest)\n",
    "\n",
    "print('R2 score: ',r2_score(ytest, pred)*100)\n",
    "\n",
    "rfs = cross_val_score(rf, x, y, cv=8)\n",
    "rfc = rfs.mean()\n",
    "print('cross val score: ',rfc*100)"
   ]
  },
  {
   "cell_type": "markdown",
   "id": "8cff7744",
   "metadata": {},
   "source": [
    "Best model is Lasso as it returns the highest r2 score."
   ]
  },
  {
   "cell_type": "markdown",
   "id": "e32ed777",
   "metadata": {},
   "source": [
    "## exporting model"
   ]
  },
  {
   "cell_type": "code",
   "execution_count": 61,
   "id": "a8cf10ee",
   "metadata": {},
   "outputs": [],
   "source": [
    "import pickle\n",
    "filename = 'salary.pkl'\n",
    "pickle.dump(ls, open(filename, 'wb'))"
   ]
  },
  {
   "cell_type": "markdown",
   "id": "b5d41398",
   "metadata": {},
   "source": [
    "##### loading it back"
   ]
  },
  {
   "cell_type": "code",
   "execution_count": 62,
   "id": "04affce1",
   "metadata": {},
   "outputs": [],
   "source": [
    "model = pickle.load(open('salary.pkl', 'rb'))"
   ]
  },
  {
   "cell_type": "code",
   "execution_count": 63,
   "id": "2bf45f05",
   "metadata": {},
   "outputs": [
    {
     "data": {
      "text/plain": [
       "0.46106553122180793"
      ]
     },
     "execution_count": 63,
     "metadata": {},
     "output_type": "execute_result"
    }
   ],
   "source": [
    "model.fit(xtrain, ytrain)\n",
    "pred = model.predict(xtest)\n",
    "r2_score(ytest, pred)"
   ]
  }
 ],
 "metadata": {
  "kernelspec": {
   "display_name": "Python 3 (ipykernel)",
   "language": "python",
   "name": "python3"
  },
  "language_info": {
   "codemirror_mode": {
    "name": "ipython",
    "version": 3
   },
   "file_extension": ".py",
   "mimetype": "text/x-python",
   "name": "python",
   "nbconvert_exporter": "python",
   "pygments_lexer": "ipython3",
   "version": "3.9.7"
  }
 },
 "nbformat": 4,
 "nbformat_minor": 5
}
