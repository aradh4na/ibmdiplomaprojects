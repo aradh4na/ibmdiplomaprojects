{
 "cells": [
  {
   "cell_type": "code",
   "execution_count": 1,
   "id": "6f9a5d76",
   "metadata": {},
   "outputs": [],
   "source": [
    "# Importing libraries\n",
    "\n",
    "import pandas as pd\n",
    "import numpy as np\n",
    "import seaborn as sns\n",
    "import matplotlib.pyplot as plt\n",
    "from sklearn.linear_model import LinearRegression\n",
    "from sklearn.metrics import mean_squared_error\n",
    "from sklearn.model_selection import train_test_split\n",
    "from sklearn.preprocessing import LabelEncoder\n",
    "from sklearn.preprocessing import StandardScaler"
   ]
  },
  {
   "cell_type": "code",
   "execution_count": 25,
   "id": "a0aef350",
   "metadata": {},
   "outputs": [],
   "source": [
    "import warnings\n",
    "warnings.filterwarnings('ignore')"
   ]
  },
  {
   "cell_type": "code",
   "execution_count": 3,
   "id": "00a08e51",
   "metadata": {},
   "outputs": [
    {
     "data": {
      "text/html": [
       "<div>\n",
       "<style scoped>\n",
       "    .dataframe tbody tr th:only-of-type {\n",
       "        vertical-align: middle;\n",
       "    }\n",
       "\n",
       "    .dataframe tbody tr th {\n",
       "        vertical-align: top;\n",
       "    }\n",
       "\n",
       "    .dataframe thead th {\n",
       "        text-align: right;\n",
       "    }\n",
       "</style>\n",
       "<table border=\"1\" class=\"dataframe\">\n",
       "  <thead>\n",
       "    <tr style=\"text-align: right;\">\n",
       "      <th></th>\n",
       "      <th>Country</th>\n",
       "      <th>Region</th>\n",
       "      <th>Happiness Rank</th>\n",
       "      <th>Happiness Score</th>\n",
       "      <th>Standard Error</th>\n",
       "      <th>Economy (GDP per Capita)</th>\n",
       "      <th>Family</th>\n",
       "      <th>Health (Life Expectancy)</th>\n",
       "      <th>Freedom</th>\n",
       "      <th>Trust (Government Corruption)</th>\n",
       "      <th>Generosity</th>\n",
       "      <th>Dystopia Residual</th>\n",
       "    </tr>\n",
       "  </thead>\n",
       "  <tbody>\n",
       "    <tr>\n",
       "      <th>0</th>\n",
       "      <td>Switzerland</td>\n",
       "      <td>Western Europe</td>\n",
       "      <td>1</td>\n",
       "      <td>7.587</td>\n",
       "      <td>0.03411</td>\n",
       "      <td>1.39651</td>\n",
       "      <td>1.34951</td>\n",
       "      <td>0.94143</td>\n",
       "      <td>0.66557</td>\n",
       "      <td>0.41978</td>\n",
       "      <td>0.29678</td>\n",
       "      <td>2.51738</td>\n",
       "    </tr>\n",
       "    <tr>\n",
       "      <th>1</th>\n",
       "      <td>Iceland</td>\n",
       "      <td>Western Europe</td>\n",
       "      <td>2</td>\n",
       "      <td>7.561</td>\n",
       "      <td>0.04884</td>\n",
       "      <td>1.30232</td>\n",
       "      <td>1.40223</td>\n",
       "      <td>0.94784</td>\n",
       "      <td>0.62877</td>\n",
       "      <td>0.14145</td>\n",
       "      <td>0.43630</td>\n",
       "      <td>2.70201</td>\n",
       "    </tr>\n",
       "    <tr>\n",
       "      <th>2</th>\n",
       "      <td>Denmark</td>\n",
       "      <td>Western Europe</td>\n",
       "      <td>3</td>\n",
       "      <td>7.527</td>\n",
       "      <td>0.03328</td>\n",
       "      <td>1.32548</td>\n",
       "      <td>1.36058</td>\n",
       "      <td>0.87464</td>\n",
       "      <td>0.64938</td>\n",
       "      <td>0.48357</td>\n",
       "      <td>0.34139</td>\n",
       "      <td>2.49204</td>\n",
       "    </tr>\n",
       "    <tr>\n",
       "      <th>3</th>\n",
       "      <td>Norway</td>\n",
       "      <td>Western Europe</td>\n",
       "      <td>4</td>\n",
       "      <td>7.522</td>\n",
       "      <td>0.03880</td>\n",
       "      <td>1.45900</td>\n",
       "      <td>1.33095</td>\n",
       "      <td>0.88521</td>\n",
       "      <td>0.66973</td>\n",
       "      <td>0.36503</td>\n",
       "      <td>0.34699</td>\n",
       "      <td>2.46531</td>\n",
       "    </tr>\n",
       "    <tr>\n",
       "      <th>4</th>\n",
       "      <td>Canada</td>\n",
       "      <td>North America</td>\n",
       "      <td>5</td>\n",
       "      <td>7.427</td>\n",
       "      <td>0.03553</td>\n",
       "      <td>1.32629</td>\n",
       "      <td>1.32261</td>\n",
       "      <td>0.90563</td>\n",
       "      <td>0.63297</td>\n",
       "      <td>0.32957</td>\n",
       "      <td>0.45811</td>\n",
       "      <td>2.45176</td>\n",
       "    </tr>\n",
       "    <tr>\n",
       "      <th>...</th>\n",
       "      <td>...</td>\n",
       "      <td>...</td>\n",
       "      <td>...</td>\n",
       "      <td>...</td>\n",
       "      <td>...</td>\n",
       "      <td>...</td>\n",
       "      <td>...</td>\n",
       "      <td>...</td>\n",
       "      <td>...</td>\n",
       "      <td>...</td>\n",
       "      <td>...</td>\n",
       "      <td>...</td>\n",
       "    </tr>\n",
       "    <tr>\n",
       "      <th>153</th>\n",
       "      <td>Rwanda</td>\n",
       "      <td>Sub-Saharan Africa</td>\n",
       "      <td>154</td>\n",
       "      <td>3.465</td>\n",
       "      <td>0.03464</td>\n",
       "      <td>0.22208</td>\n",
       "      <td>0.77370</td>\n",
       "      <td>0.42864</td>\n",
       "      <td>0.59201</td>\n",
       "      <td>0.55191</td>\n",
       "      <td>0.22628</td>\n",
       "      <td>0.67042</td>\n",
       "    </tr>\n",
       "    <tr>\n",
       "      <th>154</th>\n",
       "      <td>Benin</td>\n",
       "      <td>Sub-Saharan Africa</td>\n",
       "      <td>155</td>\n",
       "      <td>3.340</td>\n",
       "      <td>0.03656</td>\n",
       "      <td>0.28665</td>\n",
       "      <td>0.35386</td>\n",
       "      <td>0.31910</td>\n",
       "      <td>0.48450</td>\n",
       "      <td>0.08010</td>\n",
       "      <td>0.18260</td>\n",
       "      <td>1.63328</td>\n",
       "    </tr>\n",
       "    <tr>\n",
       "      <th>155</th>\n",
       "      <td>Syria</td>\n",
       "      <td>Middle East and Northern Africa</td>\n",
       "      <td>156</td>\n",
       "      <td>3.006</td>\n",
       "      <td>0.05015</td>\n",
       "      <td>0.66320</td>\n",
       "      <td>0.47489</td>\n",
       "      <td>0.72193</td>\n",
       "      <td>0.15684</td>\n",
       "      <td>0.18906</td>\n",
       "      <td>0.47179</td>\n",
       "      <td>0.32858</td>\n",
       "    </tr>\n",
       "    <tr>\n",
       "      <th>156</th>\n",
       "      <td>Burundi</td>\n",
       "      <td>Sub-Saharan Africa</td>\n",
       "      <td>157</td>\n",
       "      <td>2.905</td>\n",
       "      <td>0.08658</td>\n",
       "      <td>0.01530</td>\n",
       "      <td>0.41587</td>\n",
       "      <td>0.22396</td>\n",
       "      <td>0.11850</td>\n",
       "      <td>0.10062</td>\n",
       "      <td>0.19727</td>\n",
       "      <td>1.83302</td>\n",
       "    </tr>\n",
       "    <tr>\n",
       "      <th>157</th>\n",
       "      <td>Togo</td>\n",
       "      <td>Sub-Saharan Africa</td>\n",
       "      <td>158</td>\n",
       "      <td>2.839</td>\n",
       "      <td>0.06727</td>\n",
       "      <td>0.20868</td>\n",
       "      <td>0.13995</td>\n",
       "      <td>0.28443</td>\n",
       "      <td>0.36453</td>\n",
       "      <td>0.10731</td>\n",
       "      <td>0.16681</td>\n",
       "      <td>1.56726</td>\n",
       "    </tr>\n",
       "  </tbody>\n",
       "</table>\n",
       "<p>158 rows × 12 columns</p>\n",
       "</div>"
      ],
      "text/plain": [
       "         Country                           Region  Happiness Rank  \\\n",
       "0    Switzerland                   Western Europe               1   \n",
       "1        Iceland                   Western Europe               2   \n",
       "2        Denmark                   Western Europe               3   \n",
       "3         Norway                   Western Europe               4   \n",
       "4         Canada                    North America               5   \n",
       "..           ...                              ...             ...   \n",
       "153       Rwanda               Sub-Saharan Africa             154   \n",
       "154        Benin               Sub-Saharan Africa             155   \n",
       "155        Syria  Middle East and Northern Africa             156   \n",
       "156      Burundi               Sub-Saharan Africa             157   \n",
       "157         Togo               Sub-Saharan Africa             158   \n",
       "\n",
       "     Happiness Score  Standard Error  Economy (GDP per Capita)   Family  \\\n",
       "0              7.587         0.03411                   1.39651  1.34951   \n",
       "1              7.561         0.04884                   1.30232  1.40223   \n",
       "2              7.527         0.03328                   1.32548  1.36058   \n",
       "3              7.522         0.03880                   1.45900  1.33095   \n",
       "4              7.427         0.03553                   1.32629  1.32261   \n",
       "..               ...             ...                       ...      ...   \n",
       "153            3.465         0.03464                   0.22208  0.77370   \n",
       "154            3.340         0.03656                   0.28665  0.35386   \n",
       "155            3.006         0.05015                   0.66320  0.47489   \n",
       "156            2.905         0.08658                   0.01530  0.41587   \n",
       "157            2.839         0.06727                   0.20868  0.13995   \n",
       "\n",
       "     Health (Life Expectancy)  Freedom  Trust (Government Corruption)  \\\n",
       "0                     0.94143  0.66557                        0.41978   \n",
       "1                     0.94784  0.62877                        0.14145   \n",
       "2                     0.87464  0.64938                        0.48357   \n",
       "3                     0.88521  0.66973                        0.36503   \n",
       "4                     0.90563  0.63297                        0.32957   \n",
       "..                        ...      ...                            ...   \n",
       "153                   0.42864  0.59201                        0.55191   \n",
       "154                   0.31910  0.48450                        0.08010   \n",
       "155                   0.72193  0.15684                        0.18906   \n",
       "156                   0.22396  0.11850                        0.10062   \n",
       "157                   0.28443  0.36453                        0.10731   \n",
       "\n",
       "     Generosity  Dystopia Residual  \n",
       "0       0.29678            2.51738  \n",
       "1       0.43630            2.70201  \n",
       "2       0.34139            2.49204  \n",
       "3       0.34699            2.46531  \n",
       "4       0.45811            2.45176  \n",
       "..          ...                ...  \n",
       "153     0.22628            0.67042  \n",
       "154     0.18260            1.63328  \n",
       "155     0.47179            0.32858  \n",
       "156     0.19727            1.83302  \n",
       "157     0.16681            1.56726  \n",
       "\n",
       "[158 rows x 12 columns]"
      ]
     },
     "execution_count": 3,
     "metadata": {},
     "output_type": "execute_result"
    }
   ],
   "source": [
    "# Creating dataframe of the data\n",
    "\n",
    "df = pd.read_csv('https://raw.githubusercontent.com/dsrscientist/DSData/master/happiness_score_dataset.csv')\n",
    "df"
   ]
  },
  {
   "cell_type": "code",
   "execution_count": 4,
   "id": "8b73284d",
   "metadata": {},
   "outputs": [
    {
     "data": {
      "text/plain": [
       "(158, 12)"
      ]
     },
     "execution_count": 4,
     "metadata": {},
     "output_type": "execute_result"
    }
   ],
   "source": [
    "df.shape"
   ]
  },
  {
   "cell_type": "code",
   "execution_count": 5,
   "id": "e6b0f9fa",
   "metadata": {},
   "outputs": [
    {
     "data": {
      "text/plain": [
       "Index(['Country', 'Region', 'Happiness Rank', 'Happiness Score',\n",
       "       'Standard Error', 'Economy (GDP per Capita)', 'Family',\n",
       "       'Health (Life Expectancy)', 'Freedom', 'Trust (Government Corruption)',\n",
       "       'Generosity', 'Dystopia Residual'],\n",
       "      dtype='object')"
      ]
     },
     "execution_count": 5,
     "metadata": {},
     "output_type": "execute_result"
    }
   ],
   "source": [
    "df.columns"
   ]
  },
  {
   "cell_type": "code",
   "execution_count": 4,
   "id": "368e9ba4",
   "metadata": {},
   "outputs": [
    {
     "data": {
      "text/plain": [
       "Index(['Country', 'Region', 'Happiness_Rank', 'Happiness_Score',\n",
       "       'Standard_Error', 'Economy', 'Family', 'Health', 'Freedom', 'Trust',\n",
       "       'Generosity', 'Dystopia_Residual'],\n",
       "      dtype='object')"
      ]
     },
     "execution_count": 4,
     "metadata": {},
     "output_type": "execute_result"
    }
   ],
   "source": [
    "# renaming columns for ease of calling\n",
    "\n",
    "df.columns=[i.split()[0] if(len(i.split())>2) else i.replace(\" \",\"_\") for i in df.columns]\n",
    "df.columns"
   ]
  },
  {
   "cell_type": "code",
   "execution_count": 7,
   "id": "8102a861",
   "metadata": {},
   "outputs": [
    {
     "data": {
      "text/plain": [
       "Country               object\n",
       "Region                object\n",
       "Happiness_Rank         int64\n",
       "Happiness_Score      float64\n",
       "Standard_Error       float64\n",
       "Economy              float64\n",
       "Family               float64\n",
       "Health               float64\n",
       "Freedom              float64\n",
       "Trust                float64\n",
       "Generosity           float64\n",
       "Dystopia_Residual    float64\n",
       "dtype: object"
      ]
     },
     "execution_count": 7,
     "metadata": {},
     "output_type": "execute_result"
    }
   ],
   "source": [
    "df.dtypes"
   ]
  },
  {
   "cell_type": "code",
   "execution_count": 8,
   "id": "cfd7dc07",
   "metadata": {},
   "outputs": [
    {
     "data": {
      "text/plain": [
       "Country              0\n",
       "Region               0\n",
       "Happiness_Rank       0\n",
       "Happiness_Score      0\n",
       "Standard_Error       0\n",
       "Economy              0\n",
       "Family               0\n",
       "Health               0\n",
       "Freedom              0\n",
       "Trust                0\n",
       "Generosity           0\n",
       "Dystopia_Residual    0\n",
       "dtype: int64"
      ]
     },
     "execution_count": 8,
     "metadata": {},
     "output_type": "execute_result"
    }
   ],
   "source": [
    "df.isnull().sum()"
   ]
  },
  {
   "cell_type": "code",
   "execution_count": 9,
   "id": "faaace1d",
   "metadata": {},
   "outputs": [
    {
     "data": {
      "text/html": [
       "<div>\n",
       "<style scoped>\n",
       "    .dataframe tbody tr th:only-of-type {\n",
       "        vertical-align: middle;\n",
       "    }\n",
       "\n",
       "    .dataframe tbody tr th {\n",
       "        vertical-align: top;\n",
       "    }\n",
       "\n",
       "    .dataframe thead th {\n",
       "        text-align: right;\n",
       "    }\n",
       "</style>\n",
       "<table border=\"1\" class=\"dataframe\">\n",
       "  <thead>\n",
       "    <tr style=\"text-align: right;\">\n",
       "      <th></th>\n",
       "      <th>Happiness_Rank</th>\n",
       "      <th>Happiness_Score</th>\n",
       "      <th>Standard_Error</th>\n",
       "      <th>Economy</th>\n",
       "      <th>Family</th>\n",
       "      <th>Health</th>\n",
       "      <th>Freedom</th>\n",
       "      <th>Trust</th>\n",
       "      <th>Generosity</th>\n",
       "      <th>Dystopia_Residual</th>\n",
       "    </tr>\n",
       "  </thead>\n",
       "  <tbody>\n",
       "    <tr>\n",
       "      <th>count</th>\n",
       "      <td>158.000000</td>\n",
       "      <td>158.000000</td>\n",
       "      <td>158.000000</td>\n",
       "      <td>158.000000</td>\n",
       "      <td>158.000000</td>\n",
       "      <td>158.000000</td>\n",
       "      <td>158.000000</td>\n",
       "      <td>158.000000</td>\n",
       "      <td>158.000000</td>\n",
       "      <td>158.000000</td>\n",
       "    </tr>\n",
       "    <tr>\n",
       "      <th>mean</th>\n",
       "      <td>79.493671</td>\n",
       "      <td>5.375734</td>\n",
       "      <td>0.047885</td>\n",
       "      <td>0.846137</td>\n",
       "      <td>0.991046</td>\n",
       "      <td>0.630259</td>\n",
       "      <td>0.428615</td>\n",
       "      <td>0.143422</td>\n",
       "      <td>0.237296</td>\n",
       "      <td>2.098977</td>\n",
       "    </tr>\n",
       "    <tr>\n",
       "      <th>std</th>\n",
       "      <td>45.754363</td>\n",
       "      <td>1.145010</td>\n",
       "      <td>0.017146</td>\n",
       "      <td>0.403121</td>\n",
       "      <td>0.272369</td>\n",
       "      <td>0.247078</td>\n",
       "      <td>0.150693</td>\n",
       "      <td>0.120034</td>\n",
       "      <td>0.126685</td>\n",
       "      <td>0.553550</td>\n",
       "    </tr>\n",
       "    <tr>\n",
       "      <th>min</th>\n",
       "      <td>1.000000</td>\n",
       "      <td>2.839000</td>\n",
       "      <td>0.018480</td>\n",
       "      <td>0.000000</td>\n",
       "      <td>0.000000</td>\n",
       "      <td>0.000000</td>\n",
       "      <td>0.000000</td>\n",
       "      <td>0.000000</td>\n",
       "      <td>0.000000</td>\n",
       "      <td>0.328580</td>\n",
       "    </tr>\n",
       "    <tr>\n",
       "      <th>25%</th>\n",
       "      <td>40.250000</td>\n",
       "      <td>4.526000</td>\n",
       "      <td>0.037268</td>\n",
       "      <td>0.545808</td>\n",
       "      <td>0.856823</td>\n",
       "      <td>0.439185</td>\n",
       "      <td>0.328330</td>\n",
       "      <td>0.061675</td>\n",
       "      <td>0.150553</td>\n",
       "      <td>1.759410</td>\n",
       "    </tr>\n",
       "    <tr>\n",
       "      <th>50%</th>\n",
       "      <td>79.500000</td>\n",
       "      <td>5.232500</td>\n",
       "      <td>0.043940</td>\n",
       "      <td>0.910245</td>\n",
       "      <td>1.029510</td>\n",
       "      <td>0.696705</td>\n",
       "      <td>0.435515</td>\n",
       "      <td>0.107220</td>\n",
       "      <td>0.216130</td>\n",
       "      <td>2.095415</td>\n",
       "    </tr>\n",
       "    <tr>\n",
       "      <th>75%</th>\n",
       "      <td>118.750000</td>\n",
       "      <td>6.243750</td>\n",
       "      <td>0.052300</td>\n",
       "      <td>1.158448</td>\n",
       "      <td>1.214405</td>\n",
       "      <td>0.811013</td>\n",
       "      <td>0.549092</td>\n",
       "      <td>0.180255</td>\n",
       "      <td>0.309883</td>\n",
       "      <td>2.462415</td>\n",
       "    </tr>\n",
       "    <tr>\n",
       "      <th>max</th>\n",
       "      <td>158.000000</td>\n",
       "      <td>7.587000</td>\n",
       "      <td>0.136930</td>\n",
       "      <td>1.690420</td>\n",
       "      <td>1.402230</td>\n",
       "      <td>1.025250</td>\n",
       "      <td>0.669730</td>\n",
       "      <td>0.551910</td>\n",
       "      <td>0.795880</td>\n",
       "      <td>3.602140</td>\n",
       "    </tr>\n",
       "  </tbody>\n",
       "</table>\n",
       "</div>"
      ],
      "text/plain": [
       "       Happiness_Rank  Happiness_Score  Standard_Error     Economy  \\\n",
       "count      158.000000       158.000000      158.000000  158.000000   \n",
       "mean        79.493671         5.375734        0.047885    0.846137   \n",
       "std         45.754363         1.145010        0.017146    0.403121   \n",
       "min          1.000000         2.839000        0.018480    0.000000   \n",
       "25%         40.250000         4.526000        0.037268    0.545808   \n",
       "50%         79.500000         5.232500        0.043940    0.910245   \n",
       "75%        118.750000         6.243750        0.052300    1.158448   \n",
       "max        158.000000         7.587000        0.136930    1.690420   \n",
       "\n",
       "           Family      Health     Freedom       Trust  Generosity  \\\n",
       "count  158.000000  158.000000  158.000000  158.000000  158.000000   \n",
       "mean     0.991046    0.630259    0.428615    0.143422    0.237296   \n",
       "std      0.272369    0.247078    0.150693    0.120034    0.126685   \n",
       "min      0.000000    0.000000    0.000000    0.000000    0.000000   \n",
       "25%      0.856823    0.439185    0.328330    0.061675    0.150553   \n",
       "50%      1.029510    0.696705    0.435515    0.107220    0.216130   \n",
       "75%      1.214405    0.811013    0.549092    0.180255    0.309883   \n",
       "max      1.402230    1.025250    0.669730    0.551910    0.795880   \n",
       "\n",
       "       Dystopia_Residual  \n",
       "count         158.000000  \n",
       "mean            2.098977  \n",
       "std             0.553550  \n",
       "min             0.328580  \n",
       "25%             1.759410  \n",
       "50%             2.095415  \n",
       "75%             2.462415  \n",
       "max             3.602140  "
      ]
     },
     "execution_count": 9,
     "metadata": {},
     "output_type": "execute_result"
    }
   ],
   "source": [
    "df.describe()"
   ]
  },
  {
   "cell_type": "code",
   "execution_count": 10,
   "id": "72cd74f4",
   "metadata": {},
   "outputs": [
    {
     "data": {
      "text/plain": [
       "Happiness_Rank       0.000418\n",
       "Happiness_Score      0.097769\n",
       "Standard_Error       1.983439\n",
       "Economy             -0.317575\n",
       "Family              -1.006893\n",
       "Health              -0.705328\n",
       "Freedom             -0.413462\n",
       "Trust                1.385463\n",
       "Generosity           1.001961\n",
       "Dystopia_Residual   -0.238911\n",
       "dtype: float64"
      ]
     },
     "execution_count": 10,
     "metadata": {},
     "output_type": "execute_result"
    }
   ],
   "source": [
    "df.skew()"
   ]
  },
  {
   "cell_type": "code",
   "execution_count": 11,
   "id": "adc2a1cb",
   "metadata": {},
   "outputs": [
    {
     "data": {
      "text/plain": [
       "<function matplotlib.pyplot.show(close=None, block=None)>"
      ]
     },
     "execution_count": 11,
     "metadata": {},
     "output_type": "execute_result"
    },
    {
     "data": {
      "image/png": "[encoded data removed]",
      "text/plain": [
       "<Figure size 720x720 with 2 Axes>"
      ]
     },
     "metadata": {
      "needs_background": "light"
     },
     "output_type": "display_data"
    }
   ],
   "source": [
    "plt.figure(figsize=(10,10))\n",
    "sns.heatmap(df.corr(),annot=True)\n",
    "plt.show"
   ]
  },
  {
   "cell_type": "code",
   "execution_count": 5,
   "id": "142e5c1b",
   "metadata": {},
   "outputs": [],
   "source": [
    "# dropping happiness rank because it is very negatively correlated to happiness score and it has high standard deviation\n",
    "# it is also redundant because the countries are in order of rank already\n",
    "\n",
    "df.drop(['Happiness_Rank'], axis=1, inplace=True)"
   ]
  },
  {
   "cell_type": "code",
   "execution_count": 22,
   "id": "d033af22",
   "metadata": {},
   "outputs": [
    {
     "data": {
      "text/html": [
       "<div>\n",
       "<style scoped>\n",
       "    .dataframe tbody tr th:only-of-type {\n",
       "        vertical-align: middle;\n",
       "    }\n",
       "\n",
       "    .dataframe tbody tr th {\n",
       "        vertical-align: top;\n",
       "    }\n",
       "\n",
       "    .dataframe thead th {\n",
       "        text-align: right;\n",
       "    }\n",
       "</style>\n",
       "<table border=\"1\" class=\"dataframe\">\n",
       "  <thead>\n",
       "    <tr style=\"text-align: right;\">\n",
       "      <th></th>\n",
       "      <th>Country</th>\n",
       "      <th>Region</th>\n",
       "      <th>Happiness_Score</th>\n",
       "      <th>Standard_Error</th>\n",
       "      <th>Economy</th>\n",
       "      <th>Family</th>\n",
       "      <th>Health</th>\n",
       "      <th>Freedom</th>\n",
       "      <th>Trust</th>\n",
       "      <th>Generosity</th>\n",
       "      <th>Dystopia_Residual</th>\n",
       "    </tr>\n",
       "  </thead>\n",
       "  <tbody>\n",
       "    <tr>\n",
       "      <th>0</th>\n",
       "      <td>Switzerland</td>\n",
       "      <td>Western Europe</td>\n",
       "      <td>7.587</td>\n",
       "      <td>0.03411</td>\n",
       "      <td>1.39651</td>\n",
       "      <td>1.34951</td>\n",
       "      <td>0.94143</td>\n",
       "      <td>0.66557</td>\n",
       "      <td>0.41978</td>\n",
       "      <td>0.29678</td>\n",
       "      <td>2.51738</td>\n",
       "    </tr>\n",
       "    <tr>\n",
       "      <th>1</th>\n",
       "      <td>Iceland</td>\n",
       "      <td>Western Europe</td>\n",
       "      <td>7.561</td>\n",
       "      <td>0.04884</td>\n",
       "      <td>1.30232</td>\n",
       "      <td>1.40223</td>\n",
       "      <td>0.94784</td>\n",
       "      <td>0.62877</td>\n",
       "      <td>0.14145</td>\n",
       "      <td>0.43630</td>\n",
       "      <td>2.70201</td>\n",
       "    </tr>\n",
       "    <tr>\n",
       "      <th>2</th>\n",
       "      <td>Denmark</td>\n",
       "      <td>Western Europe</td>\n",
       "      <td>7.527</td>\n",
       "      <td>0.03328</td>\n",
       "      <td>1.32548</td>\n",
       "      <td>1.36058</td>\n",
       "      <td>0.87464</td>\n",
       "      <td>0.64938</td>\n",
       "      <td>0.48357</td>\n",
       "      <td>0.34139</td>\n",
       "      <td>2.49204</td>\n",
       "    </tr>\n",
       "    <tr>\n",
       "      <th>3</th>\n",
       "      <td>Norway</td>\n",
       "      <td>Western Europe</td>\n",
       "      <td>7.522</td>\n",
       "      <td>0.03880</td>\n",
       "      <td>1.45900</td>\n",
       "      <td>1.33095</td>\n",
       "      <td>0.88521</td>\n",
       "      <td>0.66973</td>\n",
       "      <td>0.36503</td>\n",
       "      <td>0.34699</td>\n",
       "      <td>2.46531</td>\n",
       "    </tr>\n",
       "    <tr>\n",
       "      <th>4</th>\n",
       "      <td>Canada</td>\n",
       "      <td>North America</td>\n",
       "      <td>7.427</td>\n",
       "      <td>0.03553</td>\n",
       "      <td>1.32629</td>\n",
       "      <td>1.32261</td>\n",
       "      <td>0.90563</td>\n",
       "      <td>0.63297</td>\n",
       "      <td>0.32957</td>\n",
       "      <td>0.45811</td>\n",
       "      <td>2.45176</td>\n",
       "    </tr>\n",
       "  </tbody>\n",
       "</table>\n",
       "</div>"
      ],
      "text/plain": [
       "       Country          Region  Happiness_Score  Standard_Error  Economy  \\\n",
       "0  Switzerland  Western Europe            7.587         0.03411  1.39651   \n",
       "1      Iceland  Western Europe            7.561         0.04884  1.30232   \n",
       "2      Denmark  Western Europe            7.527         0.03328  1.32548   \n",
       "3       Norway  Western Europe            7.522         0.03880  1.45900   \n",
       "4       Canada   North America            7.427         0.03553  1.32629   \n",
       "\n",
       "    Family   Health  Freedom    Trust  Generosity  Dystopia_Residual  \n",
       "0  1.34951  0.94143  0.66557  0.41978     0.29678            2.51738  \n",
       "1  1.40223  0.94784  0.62877  0.14145     0.43630            2.70201  \n",
       "2  1.36058  0.87464  0.64938  0.48357     0.34139            2.49204  \n",
       "3  1.33095  0.88521  0.66973  0.36503     0.34699            2.46531  \n",
       "4  1.32261  0.90563  0.63297  0.32957     0.45811            2.45176  "
      ]
     },
     "execution_count": 22,
     "metadata": {},
     "output_type": "execute_result"
    }
   ],
   "source": [
    "df.head()"
   ]
  },
  {
   "cell_type": "markdown",
   "id": "36307af1",
   "metadata": {},
   "source": [
    "## Univariate Analysis"
   ]
  },
  {
   "cell_type": "code",
   "execution_count": 23,
   "id": "27f35d98",
   "metadata": {},
   "outputs": [
    {
     "data": {
      "text/plain": [
       "Happiness_Score         AxesSubplot(0.125,0.536818;0.133621x0.343182)\n",
       "Standard_Error       AxesSubplot(0.285345,0.536818;0.133621x0.343182)\n",
       "Economy               AxesSubplot(0.44569,0.536818;0.133621x0.343182)\n",
       "Family               AxesSubplot(0.606034,0.536818;0.133621x0.343182)\n",
       "Health               AxesSubplot(0.766379,0.536818;0.133621x0.343182)\n",
       "Freedom                    AxesSubplot(0.125,0.125;0.133621x0.343182)\n",
       "Trust                   AxesSubplot(0.285345,0.125;0.133621x0.343182)\n",
       "Generosity               AxesSubplot(0.44569,0.125;0.133621x0.343182)\n",
       "Dystopia_Residual       AxesSubplot(0.606034,0.125;0.133621x0.343182)\n",
       "dtype: object"
      ]
     },
     "execution_count": 23,
     "metadata": {},
     "output_type": "execute_result"
    },
    {
     "data": {
      "image/png": "[encoded data removed]",
      "text/plain": [
       "<Figure size 432x288 with 10 Axes>"
      ]
     },
     "metadata": {
      "needs_background": "light"
     },
     "output_type": "display_data"
    }
   ],
   "source": [
    "df.plot(kind='box', subplots=True, layout=(2, 5))"
   ]
  },
  {
   "cell_type": "code",
   "execution_count": 15,
   "id": "274acd51",
   "metadata": {},
   "outputs": [
    {
     "data": {
      "text/plain": [
       "<AxesSubplot:>"
      ]
     },
     "execution_count": 15,
     "metadata": {},
     "output_type": "execute_result"
    },
    {
     "data": {
      "image/png": "[encoded data removed]",
      "text/plain": [
       "<Figure size 432x288 with 1 Axes>"
      ]
     },
     "metadata": {
      "needs_background": "light"
     },
     "output_type": "display_data"
    }
   ],
   "source": [
    "df['Standard_Error'].plot.box()"
   ]
  },
  {
   "cell_type": "code",
   "execution_count": 16,
   "id": "4afc0a87",
   "metadata": {},
   "outputs": [
    {
     "data": {
      "text/plain": [
       "<AxesSubplot:>"
      ]
     },
     "execution_count": 16,
     "metadata": {},
     "output_type": "execute_result"
    },
    {
     "data": {
      "image/png": "[encoded data removed]",
      "text/plain": [
       "<Figure size 432x288 with 1 Axes>"
      ]
     },
     "metadata": {
      "needs_background": "light"
     },
     "output_type": "display_data"
    }
   ],
   "source": [
    "df['Trust'].plot.box()"
   ]
  },
  {
   "cell_type": "code",
   "execution_count": 17,
   "id": "c98843db",
   "metadata": {},
   "outputs": [
    {
     "data": {
      "text/plain": [
       "<AxesSubplot:ylabel='Frequency'>"
      ]
     },
     "execution_count": 17,
     "metadata": {},
     "output_type": "execute_result"
    },
    {
     "data": {
      "image/png": "[encoded data removed]",
      "text/plain": [
       "<Figure size 432x288 with 1 Axes>"
      ]
     },
     "metadata": {
      "needs_background": "light"
     },
     "output_type": "display_data"
    }
   ],
   "source": [
    "df['Standard_Error'].plot.hist()"
   ]
  },
  {
   "cell_type": "code",
   "execution_count": 18,
   "id": "5b92f93e",
   "metadata": {},
   "outputs": [
    {
     "data": {
      "text/plain": [
       "<AxesSubplot:ylabel='Frequency'>"
      ]
     },
     "execution_count": 18,
     "metadata": {},
     "output_type": "execute_result"
    },
    {
     "data": {
      "image/png": "[encoded data removed]",
      "text/plain": [
       "<Figure size 432x288 with 1 Axes>"
      ]
     },
     "metadata": {
      "needs_background": "light"
     },
     "output_type": "display_data"
    }
   ],
   "source": [
    "df['Trust'].plot.hist()"
   ]
  },
  {
   "cell_type": "code",
   "execution_count": 19,
   "id": "e277278d",
   "metadata": {},
   "outputs": [
    {
     "data": {
      "text/plain": [
       "<Figure size 432x288 with 0 Axes>"
      ]
     },
     "metadata": {},
     "output_type": "display_data"
    },
    {
     "data": {
      "image/png": "[encoded data removed]",
      "text/plain": [
       "<Figure size 360x360 with 1 Axes>"
      ]
     },
     "metadata": {
      "needs_background": "light"
     },
     "output_type": "display_data"
    },
    {
     "data": {
      "text/plain": [
       "<Figure size 432x288 with 0 Axes>"
      ]
     },
     "metadata": {},
     "output_type": "display_data"
    },
    {
     "data": {
      "image/png": "[encoded data removed]",
      "text/plain": [
       "<Figure size 360x360 with 1 Axes>"
      ]
     },
     "metadata": {
      "needs_background": "light"
     },
     "output_type": "display_data"
    },
    {
     "data": {
      "text/plain": [
       "<Figure size 432x288 with 0 Axes>"
      ]
     },
     "metadata": {},
     "output_type": "display_data"
    },
    {
     "data": {
      "image/png": "[encoded data removed]",
      "text/plain": [
       "<Figure size 360x360 with 1 Axes>"
      ]
     },
     "metadata": {
      "needs_background": "light"
     },
     "output_type": "display_data"
    },
    {
     "data": {
      "text/plain": [
       "<Figure size 432x288 with 0 Axes>"
      ]
     },
     "metadata": {},
     "output_type": "display_data"
    },
    {
     "data": {
      "image/png": "[encoded data removed]",
      "text/plain": [
       "<Figure size 360x360 with 1 Axes>"
      ]
     },
     "metadata": {
      "needs_background": "light"
     },
     "output_type": "display_data"
    },
    {
     "data": {
      "text/plain": [
       "<Figure size 432x288 with 0 Axes>"
      ]
     },
     "metadata": {},
     "output_type": "display_data"
    },
    {
     "data": {
      "image/png": "[encoded data removed]",
      "text/plain": [
       "<Figure size 360x360 with 1 Axes>"
      ]
     },
     "metadata": {
      "needs_background": "light"
     },
     "output_type": "display_data"
    },
    {
     "data": {
      "text/plain": [
       "<Figure size 432x288 with 0 Axes>"
      ]
     },
     "metadata": {},
     "output_type": "display_data"
    },
    {
     "data": {
      "image/png": "[encoded data removed]",
      "text/plain": [
       "<Figure size 360x360 with 1 Axes>"
      ]
     },
     "metadata": {
      "needs_background": "light"
     },
     "output_type": "display_data"
    },
    {
     "data": {
      "text/plain": [
       "<Figure size 432x288 with 0 Axes>"
      ]
     },
     "metadata": {},
     "output_type": "display_data"
    },
    {
     "data": {
      "image/png": "[encoded data removed]",
      "text/plain": [
       "<Figure size 360x360 with 1 Axes>"
      ]
     },
     "metadata": {
      "needs_background": "light"
     },
     "output_type": "display_data"
    },
    {
     "data": {
      "text/plain": [
       "<Figure size 432x288 with 0 Axes>"
      ]
     },
     "metadata": {},
     "output_type": "display_data"
    },
    {
     "data": {
      "image/png": "[encoded data removed]",
      "text/plain": [
       "<Figure size 360x360 with 1 Axes>"
      ]
     },
     "metadata": {
      "needs_background": "light"
     },
     "output_type": "display_data"
    },
    {
     "data": {
      "text/plain": [
       "<Figure size 432x288 with 0 Axes>"
      ]
     },
     "metadata": {},
     "output_type": "display_data"
    },
    {
     "data": {
      "image/png": "[encoded data removed]",
      "text/plain": [
       "<Figure size 360x360 with 1 Axes>"
      ]
     },
     "metadata": {
      "needs_background": "light"
     },
     "output_type": "display_data"
    }
   ],
   "source": [
    "for i in df.columns[2:]:\n",
    "    plt.figure()\n",
    "    sns.displot(df[i])"
   ]
  },
  {
   "cell_type": "markdown",
   "id": "53729cd6",
   "metadata": {},
   "source": [
    "Conclusion: Very few outliers but some skewness is present in the data set."
   ]
  },
  {
   "cell_type": "markdown",
   "id": "359e109e",
   "metadata": {},
   "source": [
    "### Bivariate Analysis"
   ]
  },
  {
   "cell_type": "code",
   "execution_count": 20,
   "id": "f3b70edc",
   "metadata": {},
   "outputs": [
    {
     "data": {
      "text/plain": [
       "<AxesSubplot:xlabel='Region', ylabel='count'>"
      ]
     },
     "execution_count": 20,
     "metadata": {},
     "output_type": "execute_result"
    },
    {
     "data": {
      "image/png": "[encoded data removed]",
      "text/plain": [
       "<Figure size 432x288 with 1 Axes>"
      ]
     },
     "metadata": {
      "needs_background": "light"
     },
     "output_type": "display_data"
    }
   ],
   "source": [
    "# count plot to see number of countries in each region\n",
    "\n",
    "# rotating region names for better visualisation\n",
    "plt.xticks(rotation= 90)\n",
    "sns.countplot(df.Region)"
   ]
  },
  {
   "cell_type": "code",
   "execution_count": 21,
   "id": "7287f5e6",
   "metadata": {},
   "outputs": [
    {
     "data": {
      "image/png": "[encoded data removed]",
      "text/plain": [
       "<Figure size 432x288 with 1 Axes>"
      ]
     },
     "metadata": {
      "needs_background": "light"
     },
     "output_type": "display_data"
    }
   ],
   "source": [
    "# Barplot to visualize happiness score in regions\n",
    "\n",
    "sns.barplot(x=df.Region, y=df.Happiness_Score)\n",
    "plt.xticks(rotation= 90)\n",
    "plt.xlabel('Region')\n",
    "plt.ylabel('Region Happiness Score')\n",
    "plt.title('Happiness rate for regions')\n",
    "plt.show()"
   ]
  },
  {
   "cell_type": "code",
   "execution_count": 23,
   "id": "0b956695",
   "metadata": {},
   "outputs": [
    {
     "data": {
      "image/png": "[encoded data removed]",
      "text/plain": [
       "<Figure size 432x288 with 1 Axes>"
      ]
     },
     "metadata": {
      "needs_background": "light"
     },
     "output_type": "display_data"
    }
   ],
   "source": [
    "# Scatterplot visualising economy in regions\n",
    "\n",
    "plt.scatter(df.Region, df.Economy)\n",
    "plt.xticks(rotation= 90)\n",
    "plt.show()"
   ]
  },
  {
   "cell_type": "code",
   "execution_count": 24,
   "id": "a876eb3c",
   "metadata": {},
   "outputs": [
    {
     "data": {
      "text/plain": [
       "<AxesSubplot:xlabel='Economy', ylabel='Health'>"
      ]
     },
     "execution_count": 24,
     "metadata": {},
     "output_type": "execute_result"
    },
    {
     "data": {
      "image/png": "[encoded data removed]",
      "text/plain": [
       "<Figure size 432x288 with 1 Axes>"
      ]
     },
     "metadata": {
      "needs_background": "light"
     },
     "output_type": "display_data"
    }
   ],
   "source": [
    "sns.regplot(df.Economy,df.Health,df)"
   ]
  },
  {
   "cell_type": "code",
   "execution_count": 25,
   "id": "007902f5",
   "metadata": {},
   "outputs": [
    {
     "data": {
      "text/plain": [
       "<AxesSubplot:xlabel='Freedom', ylabel='Trust'>"
      ]
     },
     "execution_count": 25,
     "metadata": {},
     "output_type": "execute_result"
    },
    {
     "data": {
      "image/png": "[encoded data removed]",
      "text/plain": [
       "<Figure size 432x288 with 1 Axes>"
      ]
     },
     "metadata": {
      "needs_background": "light"
     },
     "output_type": "display_data"
    }
   ],
   "source": [
    "sns.regplot(df.Freedom,df.Trust,df)"
   ]
  },
  {
   "cell_type": "markdown",
   "id": "5b706a6d",
   "metadata": {},
   "source": [
    "### Encoding the categorical inputs"
   ]
  },
  {
   "cell_type": "code",
   "execution_count": 26,
   "id": "9b5b42b4",
   "metadata": {},
   "outputs": [
    {
     "data": {
      "text/plain": [
       "Country               object\n",
       "Region                object\n",
       "Happiness_Score      float64\n",
       "Standard_Error       float64\n",
       "Economy              float64\n",
       "Family               float64\n",
       "Health               float64\n",
       "Freedom              float64\n",
       "Trust                float64\n",
       "Generosity           float64\n",
       "Dystopia_Residual    float64\n",
       "dtype: object"
      ]
     },
     "execution_count": 26,
     "metadata": {},
     "output_type": "execute_result"
    }
   ],
   "source": [
    "df.dtypes"
   ]
  },
  {
   "cell_type": "code",
   "execution_count": 6,
   "id": "02b8839a",
   "metadata": {},
   "outputs": [
    {
     "data": {
      "text/html": [
       "<div>\n",
       "<style scoped>\n",
       "    .dataframe tbody tr th:only-of-type {\n",
       "        vertical-align: middle;\n",
       "    }\n",
       "\n",
       "    .dataframe tbody tr th {\n",
       "        vertical-align: top;\n",
       "    }\n",
       "\n",
       "    .dataframe thead th {\n",
       "        text-align: right;\n",
       "    }\n",
       "</style>\n",
       "<table border=\"1\" class=\"dataframe\">\n",
       "  <thead>\n",
       "    <tr style=\"text-align: right;\">\n",
       "      <th></th>\n",
       "      <th>Country</th>\n",
       "      <th>Region</th>\n",
       "      <th>Happiness_Score</th>\n",
       "      <th>Standard_Error</th>\n",
       "      <th>Economy</th>\n",
       "      <th>Family</th>\n",
       "      <th>Health</th>\n",
       "      <th>Freedom</th>\n",
       "      <th>Trust</th>\n",
       "      <th>Generosity</th>\n",
       "      <th>Dystopia_Residual</th>\n",
       "    </tr>\n",
       "  </thead>\n",
       "  <tbody>\n",
       "    <tr>\n",
       "      <th>0</th>\n",
       "      <td>135</td>\n",
       "      <td>9</td>\n",
       "      <td>7.587</td>\n",
       "      <td>0.03411</td>\n",
       "      <td>1.39651</td>\n",
       "      <td>1.34951</td>\n",
       "      <td>0.94143</td>\n",
       "      <td>0.66557</td>\n",
       "      <td>0.41978</td>\n",
       "      <td>0.29678</td>\n",
       "      <td>2.51738</td>\n",
       "    </tr>\n",
       "    <tr>\n",
       "      <th>1</th>\n",
       "      <td>58</td>\n",
       "      <td>9</td>\n",
       "      <td>7.561</td>\n",
       "      <td>0.04884</td>\n",
       "      <td>1.30232</td>\n",
       "      <td>1.40223</td>\n",
       "      <td>0.94784</td>\n",
       "      <td>0.62877</td>\n",
       "      <td>0.14145</td>\n",
       "      <td>0.43630</td>\n",
       "      <td>2.70201</td>\n",
       "    </tr>\n",
       "    <tr>\n",
       "      <th>2</th>\n",
       "      <td>37</td>\n",
       "      <td>9</td>\n",
       "      <td>7.527</td>\n",
       "      <td>0.03328</td>\n",
       "      <td>1.32548</td>\n",
       "      <td>1.36058</td>\n",
       "      <td>0.87464</td>\n",
       "      <td>0.64938</td>\n",
       "      <td>0.48357</td>\n",
       "      <td>0.34139</td>\n",
       "      <td>2.49204</td>\n",
       "    </tr>\n",
       "    <tr>\n",
       "      <th>3</th>\n",
       "      <td>105</td>\n",
       "      <td>9</td>\n",
       "      <td>7.522</td>\n",
       "      <td>0.03880</td>\n",
       "      <td>1.45900</td>\n",
       "      <td>1.33095</td>\n",
       "      <td>0.88521</td>\n",
       "      <td>0.66973</td>\n",
       "      <td>0.36503</td>\n",
       "      <td>0.34699</td>\n",
       "      <td>2.46531</td>\n",
       "    </tr>\n",
       "    <tr>\n",
       "      <th>4</th>\n",
       "      <td>24</td>\n",
       "      <td>5</td>\n",
       "      <td>7.427</td>\n",
       "      <td>0.03553</td>\n",
       "      <td>1.32629</td>\n",
       "      <td>1.32261</td>\n",
       "      <td>0.90563</td>\n",
       "      <td>0.63297</td>\n",
       "      <td>0.32957</td>\n",
       "      <td>0.45811</td>\n",
       "      <td>2.45176</td>\n",
       "    </tr>\n",
       "    <tr>\n",
       "      <th>...</th>\n",
       "      <td>...</td>\n",
       "      <td>...</td>\n",
       "      <td>...</td>\n",
       "      <td>...</td>\n",
       "      <td>...</td>\n",
       "      <td>...</td>\n",
       "      <td>...</td>\n",
       "      <td>...</td>\n",
       "      <td>...</td>\n",
       "      <td>...</td>\n",
       "      <td>...</td>\n",
       "    </tr>\n",
       "    <tr>\n",
       "      <th>153</th>\n",
       "      <td>118</td>\n",
       "      <td>8</td>\n",
       "      <td>3.465</td>\n",
       "      <td>0.03464</td>\n",
       "      <td>0.22208</td>\n",
       "      <td>0.77370</td>\n",
       "      <td>0.42864</td>\n",
       "      <td>0.59201</td>\n",
       "      <td>0.55191</td>\n",
       "      <td>0.22628</td>\n",
       "      <td>0.67042</td>\n",
       "    </tr>\n",
       "    <tr>\n",
       "      <th>154</th>\n",
       "      <td>13</td>\n",
       "      <td>8</td>\n",
       "      <td>3.340</td>\n",
       "      <td>0.03656</td>\n",
       "      <td>0.28665</td>\n",
       "      <td>0.35386</td>\n",
       "      <td>0.31910</td>\n",
       "      <td>0.48450</td>\n",
       "      <td>0.08010</td>\n",
       "      <td>0.18260</td>\n",
       "      <td>1.63328</td>\n",
       "    </tr>\n",
       "    <tr>\n",
       "      <th>155</th>\n",
       "      <td>136</td>\n",
       "      <td>4</td>\n",
       "      <td>3.006</td>\n",
       "      <td>0.05015</td>\n",
       "      <td>0.66320</td>\n",
       "      <td>0.47489</td>\n",
       "      <td>0.72193</td>\n",
       "      <td>0.15684</td>\n",
       "      <td>0.18906</td>\n",
       "      <td>0.47179</td>\n",
       "      <td>0.32858</td>\n",
       "    </tr>\n",
       "    <tr>\n",
       "      <th>156</th>\n",
       "      <td>21</td>\n",
       "      <td>8</td>\n",
       "      <td>2.905</td>\n",
       "      <td>0.08658</td>\n",
       "      <td>0.01530</td>\n",
       "      <td>0.41587</td>\n",
       "      <td>0.22396</td>\n",
       "      <td>0.11850</td>\n",
       "      <td>0.10062</td>\n",
       "      <td>0.19727</td>\n",
       "      <td>1.83302</td>\n",
       "    </tr>\n",
       "    <tr>\n",
       "      <th>157</th>\n",
       "      <td>141</td>\n",
       "      <td>8</td>\n",
       "      <td>2.839</td>\n",
       "      <td>0.06727</td>\n",
       "      <td>0.20868</td>\n",
       "      <td>0.13995</td>\n",
       "      <td>0.28443</td>\n",
       "      <td>0.36453</td>\n",
       "      <td>0.10731</td>\n",
       "      <td>0.16681</td>\n",
       "      <td>1.56726</td>\n",
       "    </tr>\n",
       "  </tbody>\n",
       "</table>\n",
       "<p>158 rows × 11 columns</p>\n",
       "</div>"
      ],
      "text/plain": [
       "     Country  Region  Happiness_Score  Standard_Error  Economy   Family  \\\n",
       "0        135       9            7.587         0.03411  1.39651  1.34951   \n",
       "1         58       9            7.561         0.04884  1.30232  1.40223   \n",
       "2         37       9            7.527         0.03328  1.32548  1.36058   \n",
       "3        105       9            7.522         0.03880  1.45900  1.33095   \n",
       "4         24       5            7.427         0.03553  1.32629  1.32261   \n",
       "..       ...     ...              ...             ...      ...      ...   \n",
       "153      118       8            3.465         0.03464  0.22208  0.77370   \n",
       "154       13       8            3.340         0.03656  0.28665  0.35386   \n",
       "155      136       4            3.006         0.05015  0.66320  0.47489   \n",
       "156       21       8            2.905         0.08658  0.01530  0.41587   \n",
       "157      141       8            2.839         0.06727  0.20868  0.13995   \n",
       "\n",
       "      Health  Freedom    Trust  Generosity  Dystopia_Residual  \n",
       "0    0.94143  0.66557  0.41978     0.29678            2.51738  \n",
       "1    0.94784  0.62877  0.14145     0.43630            2.70201  \n",
       "2    0.87464  0.64938  0.48357     0.34139            2.49204  \n",
       "3    0.88521  0.66973  0.36503     0.34699            2.46531  \n",
       "4    0.90563  0.63297  0.32957     0.45811            2.45176  \n",
       "..       ...      ...      ...         ...                ...  \n",
       "153  0.42864  0.59201  0.55191     0.22628            0.67042  \n",
       "154  0.31910  0.48450  0.08010     0.18260            1.63328  \n",
       "155  0.72193  0.15684  0.18906     0.47179            0.32858  \n",
       "156  0.22396  0.11850  0.10062     0.19727            1.83302  \n",
       "157  0.28443  0.36453  0.10731     0.16681            1.56726  \n",
       "\n",
       "[158 rows x 11 columns]"
      ]
     },
     "execution_count": 6,
     "metadata": {},
     "output_type": "execute_result"
    }
   ],
   "source": [
    "le = LabelEncoder()\n",
    "\n",
    "list1 = ['Country', 'Region']\n",
    "for i in list1:\n",
    "    df[i] = le.fit_transform(df[i].astype(str))\n",
    "    \n",
    "df"
   ]
  },
  {
   "cell_type": "markdown",
   "id": "0775204a",
   "metadata": {},
   "source": [
    "### Removing outliers"
   ]
  },
  {
   "cell_type": "code",
   "execution_count": 31,
   "id": "26ea51bb",
   "metadata": {},
   "outputs": [
    {
     "data": {
      "text/plain": [
       "Country                 AxesSubplot(0.125,0.536818;0.110714x0.343182)\n",
       "Region               AxesSubplot(0.257857,0.536818;0.110714x0.343182)\n",
       "Happiness_Score      AxesSubplot(0.390714,0.536818;0.110714x0.343182)\n",
       "Standard_Error       AxesSubplot(0.523571,0.536818;0.110714x0.343182)\n",
       "Economy              AxesSubplot(0.656429,0.536818;0.110714x0.343182)\n",
       "Family               AxesSubplot(0.789286,0.536818;0.110714x0.343182)\n",
       "Health                     AxesSubplot(0.125,0.125;0.110714x0.343182)\n",
       "Freedom                 AxesSubplot(0.257857,0.125;0.110714x0.343182)\n",
       "Trust                   AxesSubplot(0.390714,0.125;0.110714x0.343182)\n",
       "Generosity              AxesSubplot(0.523571,0.125;0.110714x0.343182)\n",
       "Dystopia_Residual       AxesSubplot(0.656429,0.125;0.110714x0.343182)\n",
       "dtype: object"
      ]
     },
     "execution_count": 31,
     "metadata": {},
     "output_type": "execute_result"
    },
    {
     "data": {
      "image/png": "[encoded data removed]",
      "text/plain": [
       "<Figure size 432x288 with 12 Axes>"
      ]
     },
     "metadata": {
      "needs_background": "light"
     },
     "output_type": "display_data"
    }
   ],
   "source": [
    "df.plot(kind='box', subplots=True, layout=(2, 6))"
   ]
  },
  {
   "cell_type": "code",
   "execution_count": 7,
   "id": "ade73cac",
   "metadata": {},
   "outputs": [
    {
     "name": "stdout",
     "output_type": "stream",
     "text": [
      "(array([ 27,  40,  64, 115, 128, 147, 153, 155, 157], dtype=int64), array([ 8,  3,  3,  3,  9,  5,  8, 10,  5], dtype=int64))\n"
     ]
    }
   ],
   "source": [
    "from scipy.stats import zscore\n",
    "\n",
    "z = np.abs(zscore(df))\n",
    "\n",
    "print(np.where(z > 3))"
   ]
  },
  {
   "cell_type": "code",
   "execution_count": 8,
   "id": "95beaca6",
   "metadata": {},
   "outputs": [
    {
     "data": {
      "text/plain": [
       "(158, 11)"
      ]
     },
     "execution_count": 8,
     "metadata": {},
     "output_type": "execute_result"
    }
   ],
   "source": [
    "df.shape"
   ]
  },
  {
   "cell_type": "code",
   "execution_count": 9,
   "id": "9ffd309d",
   "metadata": {},
   "outputs": [
    {
     "data": {
      "text/plain": [
       "9"
      ]
     },
     "execution_count": 9,
     "metadata": {},
     "output_type": "execute_result"
    }
   ],
   "source": [
    "len(np.where(z > 3)[0])"
   ]
  },
  {
   "cell_type": "code",
   "execution_count": 10,
   "id": "97f87223",
   "metadata": {},
   "outputs": [],
   "source": [
    "df = df[(z<3).all(axis=1)]"
   ]
  },
  {
   "cell_type": "code",
   "execution_count": 11,
   "id": "a1409ec8",
   "metadata": {},
   "outputs": [
    {
     "data": {
      "text/plain": [
       "(149, 11)"
      ]
     },
     "execution_count": 11,
     "metadata": {},
     "output_type": "execute_result"
    }
   ],
   "source": [
    "df.shape"
   ]
  },
  {
   "cell_type": "markdown",
   "id": "8ac18adf",
   "metadata": {},
   "source": [
    "### Training and testing model"
   ]
  },
  {
   "cell_type": "code",
   "execution_count": 12,
   "id": "4856e6d6",
   "metadata": {},
   "outputs": [],
   "source": [
    "x = df.drop('Happiness_Score',axis=1)\n",
    "y = df['Happiness_Score']"
   ]
  },
  {
   "cell_type": "code",
   "execution_count": 13,
   "id": "dfbfab51",
   "metadata": {},
   "outputs": [
    {
     "data": {
      "text/html": [
       "<div>\n",
       "<style scoped>\n",
       "    .dataframe tbody tr th:only-of-type {\n",
       "        vertical-align: middle;\n",
       "    }\n",
       "\n",
       "    .dataframe tbody tr th {\n",
       "        vertical-align: top;\n",
       "    }\n",
       "\n",
       "    .dataframe thead th {\n",
       "        text-align: right;\n",
       "    }\n",
       "</style>\n",
       "<table border=\"1\" class=\"dataframe\">\n",
       "  <thead>\n",
       "    <tr style=\"text-align: right;\">\n",
       "      <th></th>\n",
       "      <th>Country</th>\n",
       "      <th>Region</th>\n",
       "      <th>Standard_Error</th>\n",
       "      <th>Economy</th>\n",
       "      <th>Family</th>\n",
       "      <th>Health</th>\n",
       "      <th>Freedom</th>\n",
       "      <th>Trust</th>\n",
       "      <th>Generosity</th>\n",
       "      <th>Dystopia_Residual</th>\n",
       "    </tr>\n",
       "  </thead>\n",
       "  <tbody>\n",
       "    <tr>\n",
       "      <th>0</th>\n",
       "      <td>135</td>\n",
       "      <td>9</td>\n",
       "      <td>0.03411</td>\n",
       "      <td>1.39651</td>\n",
       "      <td>1.34951</td>\n",
       "      <td>0.94143</td>\n",
       "      <td>0.66557</td>\n",
       "      <td>0.41978</td>\n",
       "      <td>0.29678</td>\n",
       "      <td>2.51738</td>\n",
       "    </tr>\n",
       "    <tr>\n",
       "      <th>1</th>\n",
       "      <td>58</td>\n",
       "      <td>9</td>\n",
       "      <td>0.04884</td>\n",
       "      <td>1.30232</td>\n",
       "      <td>1.40223</td>\n",
       "      <td>0.94784</td>\n",
       "      <td>0.62877</td>\n",
       "      <td>0.14145</td>\n",
       "      <td>0.43630</td>\n",
       "      <td>2.70201</td>\n",
       "    </tr>\n",
       "    <tr>\n",
       "      <th>2</th>\n",
       "      <td>37</td>\n",
       "      <td>9</td>\n",
       "      <td>0.03328</td>\n",
       "      <td>1.32548</td>\n",
       "      <td>1.36058</td>\n",
       "      <td>0.87464</td>\n",
       "      <td>0.64938</td>\n",
       "      <td>0.48357</td>\n",
       "      <td>0.34139</td>\n",
       "      <td>2.49204</td>\n",
       "    </tr>\n",
       "    <tr>\n",
       "      <th>3</th>\n",
       "      <td>105</td>\n",
       "      <td>9</td>\n",
       "      <td>0.03880</td>\n",
       "      <td>1.45900</td>\n",
       "      <td>1.33095</td>\n",
       "      <td>0.88521</td>\n",
       "      <td>0.66973</td>\n",
       "      <td>0.36503</td>\n",
       "      <td>0.34699</td>\n",
       "      <td>2.46531</td>\n",
       "    </tr>\n",
       "    <tr>\n",
       "      <th>4</th>\n",
       "      <td>24</td>\n",
       "      <td>5</td>\n",
       "      <td>0.03553</td>\n",
       "      <td>1.32629</td>\n",
       "      <td>1.32261</td>\n",
       "      <td>0.90563</td>\n",
       "      <td>0.63297</td>\n",
       "      <td>0.32957</td>\n",
       "      <td>0.45811</td>\n",
       "      <td>2.45176</td>\n",
       "    </tr>\n",
       "    <tr>\n",
       "      <th>...</th>\n",
       "      <td>...</td>\n",
       "      <td>...</td>\n",
       "      <td>...</td>\n",
       "      <td>...</td>\n",
       "      <td>...</td>\n",
       "      <td>...</td>\n",
       "      <td>...</td>\n",
       "      <td>...</td>\n",
       "      <td>...</td>\n",
       "      <td>...</td>\n",
       "    </tr>\n",
       "    <tr>\n",
       "      <th>150</th>\n",
       "      <td>66</td>\n",
       "      <td>8</td>\n",
       "      <td>0.05141</td>\n",
       "      <td>0.46534</td>\n",
       "      <td>0.77115</td>\n",
       "      <td>0.15185</td>\n",
       "      <td>0.46866</td>\n",
       "      <td>0.17922</td>\n",
       "      <td>0.20165</td>\n",
       "      <td>1.41723</td>\n",
       "    </tr>\n",
       "    <tr>\n",
       "      <th>151</th>\n",
       "      <td>20</td>\n",
       "      <td>8</td>\n",
       "      <td>0.04324</td>\n",
       "      <td>0.25812</td>\n",
       "      <td>0.85188</td>\n",
       "      <td>0.27125</td>\n",
       "      <td>0.39493</td>\n",
       "      <td>0.12832</td>\n",
       "      <td>0.21747</td>\n",
       "      <td>1.46494</td>\n",
       "    </tr>\n",
       "    <tr>\n",
       "      <th>152</th>\n",
       "      <td>0</td>\n",
       "      <td>7</td>\n",
       "      <td>0.03084</td>\n",
       "      <td>0.31982</td>\n",
       "      <td>0.30285</td>\n",
       "      <td>0.30335</td>\n",
       "      <td>0.23414</td>\n",
       "      <td>0.09719</td>\n",
       "      <td>0.36510</td>\n",
       "      <td>1.95210</td>\n",
       "    </tr>\n",
       "    <tr>\n",
       "      <th>154</th>\n",
       "      <td>13</td>\n",
       "      <td>8</td>\n",
       "      <td>0.03656</td>\n",
       "      <td>0.28665</td>\n",
       "      <td>0.35386</td>\n",
       "      <td>0.31910</td>\n",
       "      <td>0.48450</td>\n",
       "      <td>0.08010</td>\n",
       "      <td>0.18260</td>\n",
       "      <td>1.63328</td>\n",
       "    </tr>\n",
       "    <tr>\n",
       "      <th>156</th>\n",
       "      <td>21</td>\n",
       "      <td>8</td>\n",
       "      <td>0.08658</td>\n",
       "      <td>0.01530</td>\n",
       "      <td>0.41587</td>\n",
       "      <td>0.22396</td>\n",
       "      <td>0.11850</td>\n",
       "      <td>0.10062</td>\n",
       "      <td>0.19727</td>\n",
       "      <td>1.83302</td>\n",
       "    </tr>\n",
       "  </tbody>\n",
       "</table>\n",
       "<p>149 rows × 10 columns</p>\n",
       "</div>"
      ],
      "text/plain": [
       "     Country  Region  Standard_Error  Economy   Family   Health  Freedom  \\\n",
       "0        135       9         0.03411  1.39651  1.34951  0.94143  0.66557   \n",
       "1         58       9         0.04884  1.30232  1.40223  0.94784  0.62877   \n",
       "2         37       9         0.03328  1.32548  1.36058  0.87464  0.64938   \n",
       "3        105       9         0.03880  1.45900  1.33095  0.88521  0.66973   \n",
       "4         24       5         0.03553  1.32629  1.32261  0.90563  0.63297   \n",
       "..       ...     ...             ...      ...      ...      ...      ...   \n",
       "150       66       8         0.05141  0.46534  0.77115  0.15185  0.46866   \n",
       "151       20       8         0.04324  0.25812  0.85188  0.27125  0.39493   \n",
       "152        0       7         0.03084  0.31982  0.30285  0.30335  0.23414   \n",
       "154       13       8         0.03656  0.28665  0.35386  0.31910  0.48450   \n",
       "156       21       8         0.08658  0.01530  0.41587  0.22396  0.11850   \n",
       "\n",
       "       Trust  Generosity  Dystopia_Residual  \n",
       "0    0.41978     0.29678            2.51738  \n",
       "1    0.14145     0.43630            2.70201  \n",
       "2    0.48357     0.34139            2.49204  \n",
       "3    0.36503     0.34699            2.46531  \n",
       "4    0.32957     0.45811            2.45176  \n",
       "..       ...         ...                ...  \n",
       "150  0.17922     0.20165            1.41723  \n",
       "151  0.12832     0.21747            1.46494  \n",
       "152  0.09719     0.36510            1.95210  \n",
       "154  0.08010     0.18260            1.63328  \n",
       "156  0.10062     0.19727            1.83302  \n",
       "\n",
       "[149 rows x 10 columns]"
      ]
     },
     "execution_count": 13,
     "metadata": {},
     "output_type": "execute_result"
    }
   ],
   "source": [
    "x"
   ]
  },
  {
   "cell_type": "code",
   "execution_count": 14,
   "id": "ace839a1",
   "metadata": {},
   "outputs": [
    {
     "data": {
      "text/plain": [
       "0      7.587\n",
       "1      7.561\n",
       "2      7.527\n",
       "3      7.522\n",
       "4      7.427\n",
       "       ...  \n",
       "150    3.655\n",
       "151    3.587\n",
       "152    3.575\n",
       "154    3.340\n",
       "156    2.905\n",
       "Name: Happiness_Score, Length: 149, dtype: float64"
      ]
     },
     "execution_count": 14,
     "metadata": {},
     "output_type": "execute_result"
    }
   ],
   "source": [
    "y"
   ]
  },
  {
   "cell_type": "code",
   "execution_count": 16,
   "id": "efa5c577",
   "metadata": {},
   "outputs": [],
   "source": [
    "lr = LinearRegression()"
   ]
  },
  {
   "cell_type": "code",
   "execution_count": 18,
   "id": "30cffecf",
   "metadata": {},
   "outputs": [],
   "source": [
    "from sklearn.metrics import r2_score"
   ]
  },
  {
   "cell_type": "code",
   "execution_count": 19,
   "id": "769d10ea",
   "metadata": {},
   "outputs": [
    {
     "name": "stdout",
     "output_type": "stream",
     "text": [
      "At random state 0, the training accuracy is: 0.99999994284572\n",
      "At random state 0, the testing accuracy is: 0.9999999298977803\n",
      "\n",
      "\n",
      "At random state 1, the training accuracy is: 0.9999999484330332\n",
      "At random state 1, the testing accuracy is: 0.9999999111807791\n",
      "\n",
      "\n",
      "At random state 2, the training accuracy is: 0.9999999419321156\n",
      "At random state 2, the testing accuracy is: 0.9999999330433341\n",
      "\n",
      "\n",
      "At random state 3, the training accuracy is: 0.9999999405249979\n",
      "At random state 3, the testing accuracy is: 0.9999999292422005\n",
      "\n",
      "\n",
      "At random state 4, the training accuracy is: 0.9999999260269514\n",
      "At random state 4, the testing accuracy is: 0.999999947861831\n",
      "\n",
      "\n",
      "At random state 5, the training accuracy is: 0.9999999380819068\n",
      "At random state 5, the testing accuracy is: 0.9999999382762627\n",
      "\n",
      "\n",
      "At random state 6, the training accuracy is: 0.9999999467814856\n",
      "At random state 6, the testing accuracy is: 0.9999999126954324\n",
      "\n",
      "\n",
      "At random state 7, the training accuracy is: 0.9999999525328123\n",
      "At random state 7, the testing accuracy is: 0.9999998843764608\n",
      "\n",
      "\n",
      "At random state 8, the training accuracy is: 0.9999999318958256\n",
      "At random state 8, the testing accuracy is: 0.9999999522048741\n",
      "\n",
      "\n",
      "At random state 9, the training accuracy is: 0.999999945051558\n",
      "At random state 9, the testing accuracy is: 0.9999999125801303\n",
      "\n",
      "\n",
      "At random state 10, the training accuracy is: 0.9999999455116593\n",
      "At random state 10, the testing accuracy is: 0.9999999129028181\n",
      "\n",
      "\n",
      "At random state 11, the training accuracy is: 0.9999999401076454\n",
      "At random state 11, the testing accuracy is: 0.9999999299030333\n",
      "\n",
      "\n",
      "At random state 12, the training accuracy is: 0.9999999361487051\n",
      "At random state 12, the testing accuracy is: 0.9999999371899648\n",
      "\n",
      "\n",
      "At random state 13, the training accuracy is: 0.9999999378569981\n",
      "At random state 13, the testing accuracy is: 0.9999999368267242\n",
      "\n",
      "\n",
      "At random state 14, the training accuracy is: 0.9999999467944478\n",
      "At random state 14, the testing accuracy is: 0.9999999150172507\n",
      "\n",
      "\n",
      "At random state 15, the training accuracy is: 0.9999999484314521\n",
      "At random state 15, the testing accuracy is: 0.9999999117771345\n",
      "\n",
      "\n",
      "At random state 16, the training accuracy is: 0.9999999469268532\n",
      "At random state 16, the testing accuracy is: 0.9999999133102039\n",
      "\n",
      "\n",
      "At random state 17, the training accuracy is: 0.9999999450931742\n",
      "At random state 17, the testing accuracy is: 0.9999999158283038\n",
      "\n",
      "\n",
      "At random state 18, the training accuracy is: 0.9999999449753036\n",
      "At random state 18, the testing accuracy is: 0.9999999223683096\n",
      "\n",
      "\n",
      "At random state 19, the training accuracy is: 0.9999999345200561\n",
      "At random state 19, the testing accuracy is: 0.9999999437075987\n",
      "\n",
      "\n",
      "At random state 20, the training accuracy is: 0.999999945795851\n",
      "At random state 20, the testing accuracy is: 0.9999999206357711\n",
      "\n",
      "\n",
      "At random state 21, the training accuracy is: 0.9999999447662509\n",
      "At random state 21, the testing accuracy is: 0.9999999195134576\n",
      "\n",
      "\n",
      "At random state 22, the training accuracy is: 0.9999999435439956\n",
      "At random state 22, the testing accuracy is: 0.9999999185532112\n",
      "\n",
      "\n",
      "At random state 23, the training accuracy is: 0.9999999416527346\n",
      "At random state 23, the testing accuracy is: 0.9999999243905573\n",
      "\n",
      "\n",
      "At random state 24, the training accuracy is: 0.9999999493619152\n",
      "At random state 24, the testing accuracy is: 0.9999999036399537\n",
      "\n",
      "\n",
      "At random state 25, the training accuracy is: 0.9999999408242873\n",
      "At random state 25, the testing accuracy is: 0.9999999331703121\n",
      "\n",
      "\n",
      "At random state 26, the training accuracy is: 0.9999999317546795\n",
      "At random state 26, the testing accuracy is: 0.9999999478847427\n",
      "\n",
      "\n",
      "At random state 27, the training accuracy is: 0.9999999400388079\n",
      "At random state 27, the testing accuracy is: 0.999999934263875\n",
      "\n",
      "\n",
      "At random state 28, the training accuracy is: 0.99999994555739\n",
      "At random state 28, the testing accuracy is: 0.9999999120441534\n",
      "\n",
      "\n",
      "At random state 29, the training accuracy is: 0.9999999401883873\n",
      "At random state 29, the testing accuracy is: 0.9999999331233177\n",
      "\n",
      "\n",
      "At random state 30, the training accuracy is: 0.9999999340213381\n",
      "At random state 30, the testing accuracy is: 0.9999999466949712\n",
      "\n",
      "\n",
      "At random state 31, the training accuracy is: 0.9999999444780062\n",
      "At random state 31, the testing accuracy is: 0.9999999188395031\n",
      "\n",
      "\n",
      "At random state 32, the training accuracy is: 0.9999999374040331\n",
      "At random state 32, the testing accuracy is: 0.9999999389285968\n",
      "\n",
      "\n",
      "At random state 33, the training accuracy is: 0.9999999358590098\n",
      "At random state 33, the testing accuracy is: 0.9999999305887876\n",
      "\n",
      "\n",
      "At random state 34, the training accuracy is: 0.999999941151638\n",
      "At random state 34, the testing accuracy is: 0.9999999217811485\n",
      "\n",
      "\n",
      "At random state 35, the training accuracy is: 0.9999999427171871\n",
      "At random state 35, the testing accuracy is: 0.9999999293874512\n",
      "\n",
      "\n",
      "At random state 36, the training accuracy is: 0.9999999428404451\n",
      "At random state 36, the testing accuracy is: 0.9999999266424648\n",
      "\n",
      "\n",
      "At random state 37, the training accuracy is: 0.9999999347183697\n",
      "At random state 37, the testing accuracy is: 0.9999999458959813\n",
      "\n",
      "\n",
      "At random state 38, the training accuracy is: 0.9999999408604682\n",
      "At random state 38, the testing accuracy is: 0.9999999331900556\n",
      "\n",
      "\n",
      "At random state 39, the training accuracy is: 0.9999999460664404\n",
      "At random state 39, the testing accuracy is: 0.9999999198126472\n",
      "\n",
      "\n",
      "At random state 40, the training accuracy is: 0.9999999415551928\n",
      "At random state 40, the testing accuracy is: 0.9999999309777989\n",
      "\n",
      "\n",
      "At random state 41, the training accuracy is: 0.9999999456031683\n",
      "At random state 41, the testing accuracy is: 0.9999999137580813\n",
      "\n",
      "\n",
      "At random state 42, the training accuracy is: 0.9999999369463708\n",
      "At random state 42, the testing accuracy is: 0.9999999370149327\n",
      "\n",
      "\n",
      "At random state 43, the training accuracy is: 0.9999999463066321\n",
      "At random state 43, the testing accuracy is: 0.999999914968702\n",
      "\n",
      "\n",
      "At random state 44, the training accuracy is: 0.9999999431546737\n",
      "At random state 44, the testing accuracy is: 0.9999999234202176\n",
      "\n",
      "\n",
      "At random state 45, the training accuracy is: 0.9999999423103091\n",
      "At random state 45, the testing accuracy is: 0.9999999288563854\n",
      "\n",
      "\n",
      "At random state 46, the training accuracy is: 0.9999999389120552\n",
      "At random state 46, the testing accuracy is: 0.9999999382617909\n",
      "\n",
      "\n",
      "At random state 47, the training accuracy is: 0.9999999365981586\n",
      "At random state 47, the testing accuracy is: 0.9999999369554168\n",
      "\n",
      "\n",
      "At random state 48, the training accuracy is: 0.99999994913897\n",
      "At random state 48, the testing accuracy is: 0.9999999052504016\n",
      "\n",
      "\n",
      "At random state 49, the training accuracy is: 0.9999999405113099\n",
      "At random state 49, the testing accuracy is: 0.9999999281588108\n",
      "\n",
      "\n",
      "At random state 50, the training accuracy is: 0.9999999462757626\n",
      "At random state 50, the testing accuracy is: 0.9999999225087105\n",
      "\n",
      "\n",
      "At random state 51, the training accuracy is: 0.999999947873674\n",
      "At random state 51, the testing accuracy is: 0.9999999006125869\n",
      "\n",
      "\n",
      "At random state 52, the training accuracy is: 0.9999999527320305\n",
      "At random state 52, the testing accuracy is: 0.9999998909354162\n",
      "\n",
      "\n",
      "At random state 53, the training accuracy is: 0.9999999417322151\n",
      "At random state 53, the testing accuracy is: 0.9999999283691929\n",
      "\n",
      "\n",
      "At random state 54, the training accuracy is: 0.9999999463835465\n",
      "At random state 54, the testing accuracy is: 0.9999999046477335\n",
      "\n",
      "\n",
      "At random state 55, the training accuracy is: 0.9999999385769189\n",
      "At random state 55, the testing accuracy is: 0.9999999284887173\n",
      "\n",
      "\n",
      "At random state 56, the training accuracy is: 0.9999999436882032\n",
      "At random state 56, the testing accuracy is: 0.9999999122828784\n",
      "\n",
      "\n",
      "At random state 57, the training accuracy is: 0.9999999470440779\n",
      "At random state 57, the testing accuracy is: 0.9999999139445408\n",
      "\n",
      "\n",
      "At random state 58, the training accuracy is: 0.9999999444466184\n",
      "At random state 58, the testing accuracy is: 0.9999999243258071\n",
      "\n",
      "\n",
      "At random state 59, the training accuracy is: 0.9999999358751279\n",
      "At random state 59, the testing accuracy is: 0.9999999383733289\n",
      "\n",
      "\n",
      "At random state 60, the training accuracy is: 0.9999999375253139\n",
      "At random state 60, the testing accuracy is: 0.999999931590367\n",
      "\n",
      "\n",
      "At random state 61, the training accuracy is: 0.9999999397363597\n",
      "At random state 61, the testing accuracy is: 0.9999999375284031\n",
      "\n",
      "\n",
      "At random state 62, the training accuracy is: 0.9999999432349396\n",
      "At random state 62, the testing accuracy is: 0.9999999243716144\n",
      "\n",
      "\n",
      "At random state 63, the training accuracy is: 0.9999999426632749\n",
      "At random state 63, the testing accuracy is: 0.9999999251646651\n",
      "\n",
      "\n",
      "At random state 64, the training accuracy is: 0.9999999440035712\n",
      "At random state 64, the testing accuracy is: 0.9999999220756135\n",
      "\n",
      "\n",
      "At random state 65, the training accuracy is: 0.9999999366709922\n",
      "At random state 65, the testing accuracy is: 0.9999999458051894\n",
      "\n",
      "\n",
      "At random state 66, the training accuracy is: 0.9999999482350518\n",
      "At random state 66, the testing accuracy is: 0.9999999115498656\n",
      "\n",
      "\n",
      "At random state 67, the training accuracy is: 0.999999942823416\n",
      "At random state 67, the testing accuracy is: 0.9999999264159889\n",
      "\n",
      "\n",
      "At random state 68, the training accuracy is: 0.9999999391196517\n",
      "At random state 68, the testing accuracy is: 0.9999999348802487\n",
      "\n",
      "\n",
      "At random state 69, the training accuracy is: 0.9999999465840755\n",
      "At random state 69, the testing accuracy is: 0.9999999093065276\n",
      "\n",
      "\n",
      "At random state 70, the training accuracy is: 0.9999999430291587\n",
      "At random state 70, the testing accuracy is: 0.9999999237481624\n",
      "\n",
      "\n",
      "At random state 71, the training accuracy is: 0.9999999451810894\n",
      "At random state 71, the testing accuracy is: 0.9999999193786674\n",
      "\n",
      "\n",
      "At random state 72, the training accuracy is: 0.9999999339024321\n",
      "At random state 72, the testing accuracy is: 0.9999999430152875\n",
      "\n",
      "\n",
      "At random state 73, the training accuracy is: 0.9999999417439899\n",
      "At random state 73, the testing accuracy is: 0.9999999323247616\n",
      "\n",
      "\n",
      "At random state 74, the training accuracy is: 0.999999941366388\n",
      "At random state 74, the testing accuracy is: 0.9999999326146818\n",
      "\n",
      "\n",
      "At random state 75, the training accuracy is: 0.999999946543075\n",
      "At random state 75, the testing accuracy is: 0.9999999071764845\n",
      "\n",
      "\n",
      "At random state 76, the training accuracy is: 0.9999999396352459\n",
      "At random state 76, the testing accuracy is: 0.9999999312726228\n",
      "\n",
      "\n"
     ]
    },
    {
     "name": "stdout",
     "output_type": "stream",
     "text": [
      "At random state 77, the training accuracy is: 0.9999999438641136\n",
      "At random state 77, the testing accuracy is: 0.999999917566814\n",
      "\n",
      "\n",
      "At random state 78, the training accuracy is: 0.9999999511214118\n",
      "At random state 78, the testing accuracy is: 0.9999998930313535\n",
      "\n",
      "\n",
      "At random state 79, the training accuracy is: 0.9999999451105746\n",
      "At random state 79, the testing accuracy is: 0.9999999174215555\n",
      "\n",
      "\n",
      "At random state 80, the training accuracy is: 0.9999999426132562\n",
      "At random state 80, the testing accuracy is: 0.9999999248804136\n",
      "\n",
      "\n",
      "At random state 81, the training accuracy is: 0.9999999503523541\n",
      "At random state 81, the testing accuracy is: 0.9999998932284309\n",
      "\n",
      "\n",
      "At random state 82, the training accuracy is: 0.9999999390217648\n",
      "At random state 82, the testing accuracy is: 0.9999999395529671\n",
      "\n",
      "\n",
      "At random state 83, the training accuracy is: 0.9999999496212985\n",
      "At random state 83, the testing accuracy is: 0.9999999049931885\n",
      "\n",
      "\n",
      "At random state 84, the training accuracy is: 0.9999999354068725\n",
      "At random state 84, the testing accuracy is: 0.9999999448536527\n",
      "\n",
      "\n",
      "At random state 85, the training accuracy is: 0.9999999357506245\n",
      "At random state 85, the testing accuracy is: 0.9999999412577201\n",
      "\n",
      "\n",
      "At random state 86, the training accuracy is: 0.9999999526392578\n",
      "At random state 86, the testing accuracy is: 0.999999890337436\n",
      "\n",
      "\n",
      "At random state 87, the training accuracy is: 0.9999999425179592\n",
      "At random state 87, the testing accuracy is: 0.9999999306005057\n",
      "\n",
      "\n",
      "At random state 88, the training accuracy is: 0.9999999465952157\n",
      "At random state 88, the testing accuracy is: 0.999999912017251\n",
      "\n",
      "\n",
      "At random state 89, the training accuracy is: 0.9999999450364052\n",
      "At random state 89, the testing accuracy is: 0.9999999208891899\n",
      "\n",
      "\n",
      "At random state 90, the training accuracy is: 0.9999999474002095\n",
      "At random state 90, the testing accuracy is: 0.9999999116125504\n",
      "\n",
      "\n",
      "At random state 91, the training accuracy is: 0.9999999510469688\n",
      "At random state 91, the testing accuracy is: 0.9999998858084459\n",
      "\n",
      "\n",
      "At random state 92, the training accuracy is: 0.9999999374231576\n",
      "At random state 92, the testing accuracy is: 0.9999999414747417\n",
      "\n",
      "\n",
      "At random state 93, the training accuracy is: 0.9999999416225276\n",
      "At random state 93, the testing accuracy is: 0.9999999305436887\n",
      "\n",
      "\n",
      "At random state 94, the training accuracy is: 0.99999994428838\n",
      "At random state 94, the testing accuracy is: 0.9999999143742961\n",
      "\n",
      "\n",
      "At random state 95, the training accuracy is: 0.9999999437668704\n",
      "At random state 95, the testing accuracy is: 0.9999999258736346\n",
      "\n",
      "\n",
      "At random state 96, the training accuracy is: 0.9999999404232514\n",
      "At random state 96, the testing accuracy is: 0.9999999209642468\n",
      "\n",
      "\n",
      "At random state 97, the training accuracy is: 0.9999999424498482\n",
      "At random state 97, the testing accuracy is: 0.9999999292887973\n",
      "\n",
      "\n",
      "At random state 98, the training accuracy is: 0.9999999464819904\n",
      "At random state 98, the testing accuracy is: 0.9999999080267122\n",
      "\n",
      "\n",
      "At random state 99, the training accuracy is: 0.9999999423365031\n",
      "At random state 99, the testing accuracy is: 0.9999999302978734\n",
      "\n",
      "\n",
      "0.9999999527320305\n",
      "0.9999999522048741\n",
      "8\n"
     ]
    }
   ],
   "source": [
    "best_train_score  = 0\n",
    "best_test_score  = 0\n",
    "best_random_state_test = 0\n",
    "for i in range(100):\n",
    "    xtrain,xtest,ytrain,ytest = train_test_split(x,y,test_size=.3, random_state=i)\n",
    "    lr.fit(xtrain,ytrain)\n",
    "    pred_train = lr.predict(xtrain)\n",
    "    pred_test = lr.predict(xtest)\n",
    "    print(f\"At random state {i}, the training accuracy is: {r2_score(ytrain, pred_train)}\")\n",
    "    print(f\"At random state {i}, the testing accuracy is: {r2_score(ytest, pred_test)}\")\n",
    "    print('\\n')\n",
    "    if r2_score(ytrain, pred_train) > best_train_score:\n",
    "        best_train_score = r2_score(ytrain, pred_train)\n",
    "    if r2_score(ytest, pred_test) > best_test_score:\n",
    "        best_test_score = r2_score(ytest, pred_test)\n",
    "        best_random_state_test = i\n",
    "        \n",
    "print(best_train_score)\n",
    "print(best_test_score)\n",
    "print(best_random_state_test)"
   ]
  },
  {
   "cell_type": "code",
   "execution_count": 20,
   "id": "eaba8738",
   "metadata": {},
   "outputs": [],
   "source": [
    "xtrain,xtest,ytrain,ytest = train_test_split(x,y,test_size=.30, random_state=8)"
   ]
  },
  {
   "cell_type": "code",
   "execution_count": 21,
   "id": "194b6662",
   "metadata": {},
   "outputs": [
    {
     "name": "stdout",
     "output_type": "stream",
     "text": [
      "The mean squared error is:  6.949392281504162e-08\n"
     ]
    }
   ],
   "source": [
    "lr.fit(xtrain,ytrain)\n",
    "pred = lr.predict(xtest)\n",
    "print('The mean squared error is: ',mean_squared_error(ytest,pred))"
   ]
  },
  {
   "cell_type": "code",
   "execution_count": 22,
   "id": "86bbebae",
   "metadata": {},
   "outputs": [
    {
     "data": {
      "text/plain": [
       "array([-8.64064461e-07, -1.38083624e-05, -1.63827075e-04,  1.00011143e+00,\n",
       "        1.00001341e+00,  9.99697730e-01,  9.99556862e-01,  1.00014298e+00,\n",
       "        1.00023135e+00,  1.00005626e+00])"
      ]
     },
     "execution_count": 22,
     "metadata": {},
     "output_type": "execute_result"
    }
   ],
   "source": [
    "lr.coef_"
   ]
  },
  {
   "cell_type": "code",
   "execution_count": 23,
   "id": "f1443200",
   "metadata": {},
   "outputs": [
    {
     "data": {
      "text/plain": [
       "0.9999999318958256"
      ]
     },
     "execution_count": 23,
     "metadata": {},
     "output_type": "execute_result"
    }
   ],
   "source": [
    "lr.score(xtrain,ytrain)"
   ]
  },
  {
   "cell_type": "markdown",
   "id": "4f426d1d",
   "metadata": {},
   "source": [
    "#### Conclusion: The mean squared error is only 0.0000000694%, and the score is 99.99999% which means that the model is working well."
   ]
  },
  {
   "cell_type": "markdown",
   "id": "6bd2ab60",
   "metadata": {},
   "source": [
    "## Exporting model"
   ]
  },
  {
   "cell_type": "code",
   "execution_count": 27,
   "id": "59715dcf",
   "metadata": {},
   "outputs": [],
   "source": [
    "import pickle\n",
    "filename = 'happiness.pkl'\n",
    "pickle.dump(lr, open(filename, 'wb'))"
   ]
  },
  {
   "cell_type": "markdown",
   "id": "961e0505",
   "metadata": {},
   "source": [
    "loading it back"
   ]
  },
  {
   "cell_type": "code",
   "execution_count": 32,
   "id": "c2f7dc84",
   "metadata": {},
   "outputs": [
    {
     "data": {
      "text/plain": [
       "0.9999999522048741"
      ]
     },
     "execution_count": 32,
     "metadata": {},
     "output_type": "execute_result"
    }
   ],
   "source": [
    "model = pickle.load(open('happiness.pkl', 'rb'))\n",
    "model.fit(xtrain, ytrain)\n",
    "pred = model.predict(xtest)\n",
    "r2_score(ytest, pred)"
   ]
  },
  {
   "cell_type": "code",
   "execution_count": null,
   "id": "8d112c50",
   "metadata": {},
   "outputs": [],
   "source": []
  }
 ],
 "metadata": {
  "kernelspec": {
   "display_name": "Python 3 (ipykernel)",
   "language": "python",
   "name": "python3"
  },
  "language_info": {
   "codemirror_mode": {
    "name": "ipython",
    "version": 3
   },
   "file_extension": ".py",
   "mimetype": "text/x-python",
   "name": "python",
   "nbconvert_exporter": "python",
   "pygments_lexer": "ipython3",
   "version": "3.9.7"
  }
 },
 "nbformat": 4,
 "nbformat_minor": 5
}
